{
 "cells": [
  {
   "cell_type": "markdown",
   "id": "73d3c481",
   "metadata": {
    "slideshow": {
     "slide_type": "slide"
    }
   },
   "source": [
    "<div style=\"background-color : #F0F8FF; padding:20px\">\n",
    "<h3> Machine Learning with Python </h3>\n",
    "<h5>Syllabus & Schedule </h5>\n",
    "</div>"
   ]
  },
  {
   "cell_type": "markdown",
   "id": "50e17cd4",
   "metadata": {
    "slideshow": {
     "slide_type": "fragment"
    }
   },
   "source": [
    "<div style=\"background-color : #B0C4DE; padding: 20px\">\n",
    "    <h3> Week 1 </h3>\n",
    "</div>\n"
   ]
  },
  {
   "cell_type": "markdown",
   "id": "ef0155db",
   "metadata": {
    "slideshow": {
     "slide_type": "slide"
    }
   },
   "source": [
    " <div style=\"display: flex;background-color : #F5FFFA; padding:20px\">\n",
    "    <table style=\"width:100%\">\n",
    "        <tr>\n",
    "            <td style=\"text-align:left\">\n",
    "                 <h3> Day 1 - Demo </h3>\n",
    "                 <ul>\n",
    "                     <li> Join the Revolution</li>\n",
    "                     <li> R vs Python</li>\n",
    "                     <li> Machine Learning Demo</li>             \n",
    "                     <li> Traditional Programming vs ML</li>\n",
    "                     <li> Machine Learning Path</li>      \n",
    "                     <li> Course Requirements</li>\n",
    "                     <li> Beginner’s FAQ</li>                 \n",
    "                 </ul>\n",
    "            </td>\n",
    "            <td style=\"text-align:left\">\n",
    "                         <h3> Day 2 - Python Basics </h3>\n",
    "                 <ul>\n",
    "                     <li> Environment Setup</li>\n",
    "                     <ul>\n",
    "                         <li>Python Setup</li>\n",
    "                         <li>Hello world in Python</li>\n",
    "                         <li>Python IDE setup</li>                                  \n",
    "                     </ul>\n",
    "                 </ul>\n",
    "                 <ul>\n",
    "                     <li> Python Basics</li>\n",
    "                     <ul>\n",
    "                         <li>Variables</li>\n",
    "                         <li>Type Conversion</li>\n",
    "                         <li>Operators & Expressions</li>                 \n",
    "                         <li>Flow Control</li>                   \n",
    "                     </ul>\n",
    "                 </ul>         \n",
    "            </td>\n",
    "        </tr>\n",
    "    </table>\n",
    "</div>"
   ]
  },
  {
   "cell_type": "markdown",
   "id": "b71bef74",
   "metadata": {
    "slideshow": {
     "slide_type": "slide"
    }
   },
   "source": [
    "\n",
    "\n",
    " <div style=\"display: flex;background-color : #F5FFFA; padding:20px\">\n",
    "    <table style=\"width:100%\">\n",
    "        <tr>\n",
    "            <td style=\"text-align:left\">\n",
    "                 <h3> Day 3 - Loops </h3>\n",
    "                 <ul>\n",
    "                     <li> <code>for</code> loop</li>\n",
    "                     <li> <code>while</code> loop</li>\n",
    "                     <li> <code>for</code> vs <code>while</code> loop</li>             \n",
    "                     <li> Nested loops</li>\n",
    "                     <li> <code>for</code> - <code>else</code> syntax</li>               \n",
    "                 </ul>\n",
    "            </td>\n",
    "            <td style=\"text-align:left\">\n",
    "                 <h3> Day 4 - Strings and Functions </h3>\n",
    "             <ul>\n",
    "                 <li> Strings</li>\n",
    "                 <li> Built-in functions</li>\n",
    "                  <li> User-defined functions</li>\n",
    "                  <li> Number guessing game</li>\n",
    "             </ul>\n",
    "            </td>\n",
    "        </tr>\n",
    "    </table>\n",
    "</div>"
   ]
  },
  {
   "cell_type": "markdown",
   "id": "d7cca4ec",
   "metadata": {
    "slideshow": {
     "slide_type": "fragment"
    }
   },
   "source": [
    " <div style=\"display: flex;background-color : #F5FFFA; padding:20px\">\n",
    "     <div style=\"width: 350px;\"> \n",
    "         <h3> Day 5 - Doubts and Evaluation </h3>\n",
    "     </div>    \n",
    "</div>"
   ]
  },
  {
   "cell_type": "markdown",
   "id": "fc570408",
   "metadata": {
    "slideshow": {
     "slide_type": "slide"
    }
   },
   "source": [
    "<div style=\"background-color : #B0C4DE; padding: 20px\">\n",
    "    <h3> Week 2 </h3>\n",
    "</div>\n"
   ]
  },
  {
   "cell_type": "markdown",
   "id": "ae6d67ca",
   "metadata": {
    "slideshow": {
     "slide_type": "fragment"
    }
   },
   "source": [
    " <div style=\"display: flex;background-color : #F5FFFA; padding:20px\">\n",
    "    <table style=\"width:100%\">\n",
    "        <tr>\n",
    "            <td style=\"text-align:left\">\n",
    "                 <h3> Day 6 - Data Structures - Part 1 </h3>\n",
    "                 <ul>\n",
    "                     <li> Python Lists</li>\n",
    "                     <li> Python Dictionary</li>            \n",
    "                 </ul>\n",
    "            </td>\n",
    "            <td style=\"text-align:left\">\n",
    "                <h3> Day 7 - Data Structures - Part 2 </h3>\n",
    "                <ul>\n",
    "                     <li> Python Tuples</li>\n",
    "                     <li> Python Sets</li>            \n",
    "                 </ul>\n",
    "            </td>\n",
    "        </tr>\n",
    "    </table>\n",
    "</div>"
   ]
  },
  {
   "cell_type": "markdown",
   "id": "91cd822c",
   "metadata": {
    "slideshow": {
     "slide_type": "slide"
    }
   },
   "source": [
    " <div style=\"display: flex;background-color : #F5FFFA; padding:20px\">\n",
    "    <table style=\"width:100%\">\n",
    "        <tr>\n",
    "            <td style=\"text-align:left\">\n",
    "                 <h3> Day 8 - Object oriented Python </h3>\n",
    "                 <ul>\n",
    "                     <li> Your first Python class</li>\n",
    "                     <li> Classes vs Objects</li>      \n",
    "                     <li> Operator overloading </li>\n",
    "                     <li> Inheritance and Polymorphism</li>      \n",
    "                 </ul>\n",
    "            </td>\n",
    "            <td style=\"text-align:left\">\n",
    "                 <h3> Day 9 - I/O and Exceptions</h3>\n",
    "              <ul>\n",
    "                 <li> Input Processing</li>\n",
    "                  <li> Output Processing with <code>print</code> statement</li>     \n",
    "                <li> String interpolation with <code>f</code> strings</li>     \n",
    "                <li> String formatting with <code>format</code> function</li>     \n",
    "             </ul>\n",
    "            </td>\n",
    "        </tr>\n",
    "    </table>\n",
    "</div>"
   ]
  },
  {
   "cell_type": "markdown",
   "id": "78b85e04",
   "metadata": {
    "slideshow": {
     "slide_type": "fragment"
    }
   },
   "source": [
    " <div style=\"display: flex;background-color : #F5FFFA; padding:20px\">\n",
    "     <div style=\"width: 350px;\"> \n",
    "         <h3> Day 10 - Doubts and Evaluation </h3>\n",
    "     </div>\n",
    "</div>"
   ]
  },
  {
   "cell_type": "markdown",
   "id": "f43cf06b",
   "metadata": {
    "slideshow": {
     "slide_type": "slide"
    }
   },
   "source": [
    "<div style=\"background-color : #B0C4DE; padding: 20px\">\n",
    "    <h3> Week 3 </h3>\n",
    "</div>\n"
   ]
  },
  {
   "cell_type": "markdown",
   "id": "533ce278",
   "metadata": {
    "slideshow": {
     "slide_type": "fragment"
    }
   },
   "source": [
    " <div style=\"display: flex;background-color : #F5FFFA; padding:20px\">\n",
    "    <table style=\"width:100%\">\n",
    "        <tr>\n",
    "            <td style=\"text-align:left\">\n",
    "                 <h3> Day 11 - Standard Library </h3>\n",
    "                 <ul>\n",
    "                     <li> Date and Time</li>\n",
    "                     <li> Read and Write files</li>                         \n",
    "                     <li> Math library</li>\n",
    "                     <li> Statistics library</li>   \n",
    "                     <li> Random library</li>   \n",
    "                 </ul>\n",
    "            </td>\n",
    "            <td style=\"text-align:left\">\n",
    "                 <h3> Day 12 - Numpy - Part 1 </h3>\n",
    "                  <ul>\n",
    "                     <li> n-dimensional array</li>\n",
    "                     <li> Array Creation</li>       \n",
    "                      <ul>\n",
    "                          <li> from list, shape </li>\n",
    "                          <li> from arange, reshape, files </li>\n",
    "                      </ul>\n",
    "                      <li> Array operations</li>\n",
    "                      <ul>\n",
    "                          <li> Element-wise operations </li>\n",
    "                          <li> Aggregate operations </li>\n",
    "                      </ul>\n",
    "                 </ul>\n",
    "            </td>\n",
    "        </tr>\n",
    "    </table>\n",
    "</div>"
   ]
  },
  {
   "cell_type": "markdown",
   "id": "98aced3d",
   "metadata": {
    "slideshow": {
     "slide_type": "slide"
    }
   },
   "source": [
    "\n",
    "\n",
    " <div style=\"display: flex;background-color : #F5FFFA; padding:20px\">\n",
    "    <table style=\"width:100%\">\n",
    "        <tr>\n",
    "            <td style=\"text-align:left\">\n",
    "                 <h3> Day 13 - Numpy - Part 2 </h3>\n",
    "                 <ul>\n",
    "                     <li> Array Indexing and Slicing</li>\n",
    "                     <li> Array Manipulation</li>      \n",
    "                     <ul>\n",
    "                         <li> Append rows or columns </li>\n",
    "                         <li> Insert rows or columns </li>\n",
    "                         <li> Delete rows or columns </li>\n",
    "                     </ul>\n",
    "                     <li> Numpy Data types </li>     \n",
    "                 </ul>\n",
    "            </td>\n",
    "            <td style=\"text-align:left\">\n",
    "                     <h3> Day 14 - Pandas</h3>\n",
    "                  <ul>\n",
    "                     <li> Introduction to pandas</li>              \n",
    "                      <li> Dataframes</li>\n",
    "                      <ul> \n",
    "                          <li>Create/Display</li>   \n",
    "                          <li>Select data</li>    \n",
    "                          <li>Add/Delete rows</li>\n",
    "                          <li>Add/Delete columns</li>                  \n",
    "                          <li>Grouping data</li>\n",
    "                          <li>Merging</li>\n",
    "                      </ul>    \n",
    "                 </ul>\n",
    "            </td>\n",
    "        </tr>\n",
    "    </table>\n",
    "</div>\n"
   ]
  },
  {
   "cell_type": "markdown",
   "id": "afe5c5a1",
   "metadata": {
    "slideshow": {
     "slide_type": "fragment"
    }
   },
   "source": [
    " <div style=\"display: flex;background-color : #F5FFFA; padding:20px\">\n",
    "     <div style=\"width: 350px;\"> \n",
    "         <h3> Day 15 - Doubts and Evaluation </h3>\n",
    "     </div> \n",
    "</div>"
   ]
  },
  {
   "cell_type": "markdown",
   "id": "8f11b240",
   "metadata": {
    "slideshow": {
     "slide_type": "slide"
    }
   },
   "source": [
    "<div style=\"background-color : #B0C4DE; padding: 20px\">\n",
    "    <h3> Week 4 </h3>\n",
    "</div>\n"
   ]
  },
  {
   "cell_type": "markdown",
   "id": "0a25267d",
   "metadata": {
    "slideshow": {
     "slide_type": "slide"
    }
   },
   "source": [
    " <div style=\"display: flex;background-color : #F5FFFA; padding:20px\">\n",
    "    <table style=\"width:100%\">\n",
    "        <tr>\n",
    "            <td style=\"text-align:left\">\n",
    "                 <h3> Day 16 - Matplotlib </h3>\n",
    "                 <ul>\n",
    "                     <li> Introduction to Matplotlib </li>\n",
    "                     <li> Plot Object</li>\n",
    "                     <li> Bar plot </li>\n",
    "                     <li> More plots</li>      \n",
    "                     <ul>\n",
    "                         <li> Scatter plot </li>\n",
    "                         <li> Pie-plot </li>\n",
    "                         <li> Other plots </li>\n",
    "                         <li> Contour plots </li>\n",
    "                     </ul>\n",
    "                 </ul>\n",
    "            </td>\n",
    "            <td style=\"text-align:left\">\n",
    "             <h3> Day 17 - Math</h3>\n",
    "                 <h5>Linear Algebra</h5>\n",
    "                  <ul>\n",
    "                     <li> Introduction to Linear Algebra</li>              \n",
    "                      <li> dot product</li>\n",
    "                      <li> Miscellenous topics </li>\n",
    "                      <ul> \n",
    "                          <li>Linear Equations</li>   \n",
    "                          <li>Matrix Inverse</li>    \n",
    "                      </ul>  \n",
    "                 </ul>\n",
    "                 <h5>Probability and Statistics</h5>\n",
    "                 <ul>\n",
    "                      <li> Key terms in Probability and Statistics </li>\n",
    "                      <li> Define a distribution </li>\n",
    "                      <ul>\n",
    "                          <li> Central Tendency, Spread</li>\n",
    "                          <li> Skewness and Kurtosis </li>\n",
    "                      </ul>\n",
    "                      <li> Central Limit Theorem </li>\n",
    "                      <li> Correlation </li>\n",
    "                      <li> InterQuartile range or IQR </li>\n",
    "                 </ul>\n",
    "            </td>\n",
    "        </tr>\n",
    "    </table>\n",
    "</div>\n",
    "\n",
    "\n",
    "\n",
    "\n",
    "\n"
   ]
  },
  {
   "cell_type": "markdown",
   "id": "ccd0b51e",
   "metadata": {
    "slideshow": {
     "slide_type": "slide"
    }
   },
   "source": [
    " <div style=\"display: flex;background-color : #F5FFFA; padding:20px\">\n",
    "    <table style=\"width:100%\">\n",
    "        <tr>\n",
    "            <td style=\"text-align:left\">\n",
    "                 <h3> Day 18 - Regression </h3>\n",
    "                 <ul>\n",
    "                     <li> Linear Regression </li>\n",
    "                     <li> Multi-linear Regression</li>\n",
    "                     <li> Correlation </li>\n",
    "                     <li> Hypothesis Tests (p-value)</li>\n",
    "                     <li> key parameters </li>\n",
    "                     <ul>\n",
    "                         <li> r<sup>2</sup> </li>\n",
    "                         <li> r<sup>2</sup> adjusted </li>\n",
    "                         <li> RMSE </li>\n",
    "                     </ul>\n",
    "                     <li> Feature Selection </li>\n",
    "                     <li> Polynomial Regression </li>\n",
    "                     <li> Overfitting </li>\n",
    "                     <li> Assumptions </li>\n",
    "                 </ul>\n",
    "            </td>\n",
    "            <td style=\"text-align:left\">\n",
    "                     <h3> Day 19 - Classification</h3>\n",
    "                  <ul>\n",
    "                     <li> What is Classification</li>              \n",
    "                      <li> K - Nearest Neighbors (KNN)</li>\n",
    "                      <li> Confusion Matrix </li>\n",
    "                      <li> KNN Regression </li>\n",
    "                      <li> Feature Scaling </li>\n",
    "                      <li> Effect of Outliers </li>\n",
    "                      <li> Parameter Tuning </li>\n",
    "                      <li> Assumptions </li>\n",
    "                 </ul>\n",
    "            </td>\n",
    "        </tr>\n",
    "    </table>\n",
    "</div>\n",
    "\n",
    "\n",
    "\n",
    "\n",
    "\n"
   ]
  },
  {
   "cell_type": "markdown",
   "id": "89742f61",
   "metadata": {
    "slideshow": {
     "slide_type": "fragment"
    }
   },
   "source": [
    "  <div style=\"display: flex;background-color : #F5FFFA; padding:20px\">\n",
    "     <div style=\"width: 350px;\"> \n",
    "         <h3> Day 20 - Doubts and Evaluation </h3>\n",
    "     </div>\n",
    "</div>"
   ]
  },
  {
   "cell_type": "markdown",
   "id": "711e7d5a",
   "metadata": {
    "slideshow": {
     "slide_type": "slide"
    }
   },
   "source": [
    "<div style=\"background-color : #B0C4DE; padding: 20px\">\n",
    "    <h2> Week 5 </h2>\n",
    "</div>\n"
   ]
  },
  {
   "cell_type": "markdown",
   "id": "ed6183a4",
   "metadata": {
    "slideshow": {
     "slide_type": "fragment"
    }
   },
   "source": [
    " <div style=\"display: flex;background-color : #F5FFFA; padding:20px\">\n",
    "    <table style=\"width:100%\">\n",
    "        <tr>\n",
    "            <td style=\"text-align:left\">\n",
    "                 <h3> Day 21 - Machine Learning Lifecycle </h3>\n",
    "                 <ul>\n",
    "                     <li> Introduction to Machine Learning Lifecycle </li>\n",
    "                     <li> Data Ingestion</li> \n",
    "                     <ul>\n",
    "                         <li> Data Import </li>\n",
    "                         <li> Data Pre-processing </li>\n",
    "                         <li> Imputation of Missing values </li>\n",
    "                     </ul>\n",
    "                     <li> Data Modeling</li>      \n",
    "                     <ul>\n",
    "                         <li> Model Accuracy </li>\n",
    "                         <li> Model Validation </li>\n",
    "                     </ul>\n",
    "                 </ul>\n",
    "            </td>\n",
    "            <td style=\"text-align:left\">\n",
    "                 <h3> Day 22 - Logistic Regression</h3>\n",
    "              <ul>\n",
    "                 <li> Introduction to Logistic Regression</li>              \n",
    "                  <li> Math behind Logistic Regressio</li>\n",
    "                  <li> Implementation </li>\n",
    "                  <li> Optimization </li>\n",
    "                  <li> Evaluation </li>\n",
    "                  <ul>\n",
    "                      <li> ROC Curve</li>\n",
    "                      <li> Area under ROC </li>\n",
    "                  </ul>\n",
    "             </ul>\n",
    "            </td>\n",
    "        </tr>\n",
    "    </table>\n",
    "</div>\n",
    "\n",
    "\n",
    "\n",
    "\n",
    "\n"
   ]
  },
  {
   "cell_type": "markdown",
   "id": "c5e2c39d",
   "metadata": {
    "slideshow": {
     "slide_type": "slide"
    }
   },
   "source": [
    " <div style=\"display: flex;background-color : #F5FFFA; padding:20px\">\n",
    "    <table style=\"width:100%\">\n",
    "        <tr>\n",
    "            <td style=\"text-align:left\">\n",
    "         <h3> Day 23 - Naive Bayes </h3>\n",
    "         <ul>\n",
    "             <li> Introduction to Naive Bayes </li>\n",
    "             <li> Bayes theorem and Conditional Probability</li>\n",
    "             <li> Naive Bayes Theorem </li>\n",
    "             <li> Naive Bayes by hand</li>      \n",
    "             <ul>\n",
    "                 <li> Classify Fruits </li>\n",
    "             </ul>             \n",
    "             <li> Classify Messages as Spam or Ham</li>                 \n",
    "             <li> Naive Bayes on Continuous variables</li>              \n",
    "         </ul>\n",
    "            </td>\n",
    "            <td style=\"text-align:left\">\n",
    "          <h3> Day 24 - Support Vector Machine (SVM)</h3>\n",
    "          <ul>\n",
    "             <li> Introduction to SVM</li>              \n",
    "              <li> Support Vectors</li>\n",
    "              <li> Kernels </li>\n",
    "              <li> Hyperplane </li>\n",
    "              <li> Performance Tuning </li>\n",
    "              <ul> \n",
    "                  <li>Cost</li>   \n",
    "                  <li>Kernel</li>   \n",
    "                  <li> Gamma </li>\n",
    "              </ul>  \n",
    "              <li> SVM for Regression </li>\n",
    "           </ul>\n",
    "            </td>\n",
    "        </tr>\n",
    "    </table>\n",
    "</div>\n",
    "\n",
    "\n",
    "\n",
    "\n",
    "\n"
   ]
  },
  {
   "cell_type": "markdown",
   "id": "da44cf06",
   "metadata": {
    "slideshow": {
     "slide_type": "fragment"
    }
   },
   "source": [
    "  <div style=\"display: flex;background-color : #F5FFFA; padding:20px\">\n",
    "     <div style=\"width: 350px;\"> \n",
    "         <h3> Day 25 - Doubts and Evaluation </h3>\n",
    "     </div>\n",
    "</div>"
   ]
  },
  {
   "cell_type": "markdown",
   "id": "82e76283",
   "metadata": {
    "slideshow": {
     "slide_type": "slide"
    }
   },
   "source": [
    "<div style=\"background-color : #B0C4DE; padding: 20px\">\n",
    "    <h2> Week 6 </h2>\n",
    "</div>\n"
   ]
  },
  {
   "cell_type": "markdown",
   "id": "09ee27fb",
   "metadata": {
    "slideshow": {
     "slide_type": "fragment"
    }
   },
   "source": [
    "\n",
    "\n",
    " <div style=\"display: flex;background-color : #F5FFFA; padding:20px\">\n",
    "    <table style=\"width:100%\">\n",
    "        <tr>\n",
    "            <td style=\"text-align:left\">\n",
    "         <h3> Day 26 - Decision Trees </h3>\n",
    "         <ul>\n",
    "             <li> Introduction to Decision Trees </li>\n",
    "             <li> Implementation</li> \n",
    "             <li> Visualization </li>\n",
    "             <li> Gini index </li>\n",
    "             <li> Decision Trees for Regression </li>\n",
    "             <li> Overfitting </li>\n",
    "             <li> Pruning </li>\n",
    "             <ul>\n",
    "                 <li> Tree Depth </li>\n",
    "                 <li> Impurity </li>\n",
    "             </ul>\n",
    "         </ul>\n",
    "            </td>\n",
    "            <td style=\"text-align:left\">\n",
    "             <h3> Day 27 - Ensemble Methods</h3>\n",
    "          <ul>\n",
    "             <li> Introduction to Ensemble methods</li>              \n",
    "              <li> Bagging </li>\n",
    "              <li> Random Forest </li>\n",
    "              <li> Boosting </li>\n",
    "              <ul>\n",
    "                  <li> AdaBoost</li>\n",
    "                  <li> Gradient Boost </li>\n",
    "              </ul>\n",
    "         </ul>\n",
    "            </td>\n",
    "        </tr>\n",
    "    </table>\n",
    "</div>\n",
    "\n",
    "\n",
    "\n",
    "\n",
    "\n"
   ]
  },
  {
   "cell_type": "markdown",
   "id": "d9b4e759",
   "metadata": {
    "slideshow": {
     "slide_type": "slide"
    }
   },
   "source": [
    "\n",
    "\n",
    " <div style=\"display: flex;background-color : #F5FFFA; padding:20px\">\n",
    "    <table style=\"width:100%\">\n",
    "        <tr>\n",
    "            <td style=\"text-align:left\">\n",
    "         <h3> Day 28 - Clustering</h3>\n",
    "         <h5>Association Rule Learning and Dimensionality Reduction</h5>\n",
    "         <ul>\n",
    "             <li> Introduction to Clustering </li>\n",
    "             <li> K-means Clustering</li>\n",
    "             <li> Introduction to Association Rule Learning </li>\n",
    "             <li> Key Terms</li>      \n",
    "             <ul>\n",
    "                 <li> Support </li>\n",
    "                 <li> Confidence </li>\n",
    "                 <li> Lift </li>\n",
    "             </ul>             \n",
    "             <li> Apriori Algorithm</li>   \n",
    "             <li> Introduction to Dimensionality Reduction </li>\n",
    "         </ul>\n",
    "            </td>\n",
    "            <td style=\"text-align:left\">\n",
    "          <h3> Day 29 - SQL</h3>\n",
    "          <ul>\n",
    "             <li> Introduction to SQL</li>              \n",
    "              <li> Working with SQL</li>\n",
    "              <li> Data Loading </li>\n",
    "              <li> SELECT data </li>\n",
    "              <ul> \n",
    "                  <li>SELECT Statement</li>   \n",
    "                  <li>Aggregate functions</li>   \n",
    "                  <li> Table joins </li>\n",
    "              </ul>  \n",
    "           </ul>\n",
    "            </td>\n",
    "        </tr>\n",
    "    </table>\n",
    "</div>\n",
    "\n",
    "\n",
    "\n",
    "\n",
    "\n"
   ]
  },
  {
   "cell_type": "markdown",
   "id": "6bca7429",
   "metadata": {
    "slideshow": {
     "slide_type": "fragment"
    }
   },
   "source": [
    "  <div style=\"display: flex;background-color : #F5FFFA; padding:20px\">\n",
    "     <div style=\"width: 350px;\"> \n",
    "         <h3> Day 30 - Doubts and Evaluation </h3>\n",
    "     </div>\n",
    "</div>"
   ]
  },
  {
   "cell_type": "markdown",
   "id": "3deaa929",
   "metadata": {
    "slideshow": {
     "slide_type": "slide"
    }
   },
   "source": [
    "<div style=\"background-color : #B0C4DE; padding: 20px\">\n",
    "    <h2> Week 7 - Deep Learning </h2>\n",
    "</div>\n"
   ]
  },
  {
   "cell_type": "markdown",
   "id": "7ebcf3d8",
   "metadata": {
    "slideshow": {
     "slide_type": "fragment"
    }
   },
   "source": [
    "\n",
    "\n",
    "\n",
    " <div style=\"display: flex;background-color : #F5FFFA; padding:20px\">\n",
    "    <table style=\"width:100%\">\n",
    "        <tr>\n",
    "            <td style=\"text-align:left\">\n",
    "         <h3> Day 31 - Introduction to Deep Learning</h3>\n",
    "         <ul>\n",
    "             <li> Hello World in deep learning </li>    \n",
    "             <ul>\n",
    "                 <li> iris classification using Tensorflow</li>\n",
    "                 <li> MNIST handwritten digit classification </li>\n",
    "             </ul>             \n",
    "             <li> Neural Networks Basics</li>   \n",
    "         </ul>\n",
    "            </td>\n",
    "            <td style=\"text-align:left\">\n",
    "          <h3> Day 32 - Gradient Descent</h3>\n",
    "          <ul>\n",
    "              <li>Introduction to Gradient Descent</li> \n",
    "             <li> Math behind Gradient Descent</li>              \n",
    "              <li> Gradient Descent for Linear Regression</li>\n",
    "              <li> Stochastic Gradient Descent </li>\n",
    "              <li> Mini-batch Gradient Descent </li>              \n",
    "              <li> Gradient Descent for Logistic Regression </li>\n",
    "           </ul>\n",
    "            </td>\n",
    "        </tr>\n",
    "    </table>\n",
    "</div>\n",
    "\n",
    "\n",
    "\n",
    "\n",
    "\n"
   ]
  },
  {
   "cell_type": "markdown",
   "id": "d538620a",
   "metadata": {
    "slideshow": {
     "slide_type": "slide"
    }
   },
   "source": [
    " <div style=\"display: flex;background-color : #F5FFFA; padding:20px\">\n",
    "    <table style=\"width:100%\">\n",
    "        <tr>\n",
    "            <td style=\"text-align:left\">\n",
    "         <h3> Day 33 - Perceptron from Scratch</h3>\n",
    "         <ul>\n",
    "             <li> Linearly Separable data </li>               \n",
    "             <li> Activation function</li>\n",
    "             <li> Steps </li>\n",
    "             <ul>\n",
    "                 <li>Cost Function </li>\n",
    "                 <li> Partial Derivatives </li>\n",
    "                 <li> Update rules </li>\n",
    "                 <li>Forward Propagation </li>\n",
    "                 <li> Backward Propagation </li>\n",
    "                 <li> Predict Function </li>\n",
    "                 <li> Initialize weights and hyper-parameters</li>\n",
    "                 <li> Training </li>\n",
    "             </ul>\n",
    "             <li> Predict </li>\n",
    "             </ul>\n",
    "            </td>\n",
    "            <td style=\"text-align:left\">\n",
    "          <h3> Day 34 - Tensorflow</h3>\n",
    "          <ul>\n",
    "              <li>Introduction to Tensorflow</li> \n",
    "             <li> Basic Image Classification with Tensorflow</li>              \n",
    "              <li> Basic Text Classification with Tensorflow</li>\n",
    "           </ul>\n",
    "            </td>\n",
    "        </tr>\n",
    "    </table>\n",
    "</div>\n",
    "\n",
    "\n",
    "\n",
    "\n",
    "\n"
   ]
  },
  {
   "cell_type": "markdown",
   "id": "fd0cdd23",
   "metadata": {
    "slideshow": {
     "slide_type": "fragment"
    }
   },
   "source": [
    "  <div style=\"display: flex;background-color : #F5FFFA; padding:20px\">\n",
    "     <div style=\"width: 350px;\"> \n",
    "         <h3> Day 35 - Doubts and Evaluation </h3>\n",
    "     </div>\n",
    "</div>"
   ]
  },
  {
   "cell_type": "markdown",
   "id": "15bfaf68",
   "metadata": {
    "slideshow": {
     "slide_type": "slide"
    }
   },
   "source": [
    "<div style=\"background-color : #B0C4DE; padding: 20px\">\n",
    "    <h2> Week 8 - Capstone Project/s </h2>\n",
    "</div>\n"
   ]
  }
 ],
 "metadata": {
  "celltoolbar": "Slideshow",
  "kernelspec": {
   "display_name": "Python 3 (ipykernel)",
   "language": "python",
   "name": "python3"
  },
  "language_info": {
   "codemirror_mode": {
    "name": "ipython",
    "version": 3
   },
   "file_extension": ".py",
   "mimetype": "text/x-python",
   "name": "python",
   "nbconvert_exporter": "python",
   "pygments_lexer": "ipython3",
   "version": "3.9.7"
  }
 },
 "nbformat": 4,
 "nbformat_minor": 5
}
