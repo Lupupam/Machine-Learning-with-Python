{
 "cells": [
  {
   "cell_type": "markdown",
   "metadata": {},
   "source": [
    "<h1>Linear Algebra for Machine Learning</h1>"
   ]
  },
  {
   "cell_type": "markdown",
   "metadata": {},
   "source": [
    "<li> <b> <a href=\"#what-is-linear-algebra\">What is Linear Algebra ? </a> <b></li>\n",
    "<li> <b> <a href=\"#why-should-you-learn-linear-algebra\"> Why should you learn Linear Algebra ? </a> <b></li>   \n",
    "<li> <b> <a href=\"#our-approach-to-linear-algebra\"> Our Approach to Linear Algebra </a><b></li>   \n",
    "<li> <b> <a href=\"#linear-algebra-basics\"> Linear Algebra Basics </a><b></li>   \n",
    "    <ul> \n",
    "        <li>  <em> <a href=\"#vectors\"> Vectors </a> </em> </li>   \n",
    "        <li>  <em> <a href=\"#matrices\"> Matrices </a> </em></li>       \n",
    "        <li>  <em> <a href=\"#operations-on-vectors-and-matrices\"> Operations on Vectors & Matrices </a> </em> </li>     \n",
    "        <li>  <em> <a href=\"#dot-product\"> Dot Product </a></em></li>                   \n",
    "    </ul>\n"
   ]
  },
  {
   "cell_type": "markdown",
   "metadata": {},
   "source": [
    "<div id=\"what-is-linear-algebra\"/><h2>  What is Linear Algebra </h2>"
   ]
  },
  {
   "cell_type": "markdown",
   "metadata": {},
   "source": [
    "When you want to work with huge volumes of data that is similar in nature, Linear Algebra is helpful. Data Science & Machine Learning just happens to be some of the areas where we need to deal with high volumes of homogeneous data. However, these are not the only areas that use Linear Algebra. Digital Signal Processing, Computer Graphics, structural engineering are some of the other areas in engineering that use Linear Algebra very heavily. "
   ]
  },
  {
   "cell_type": "markdown",
   "metadata": {},
   "source": [
    "<div id=\"why-should-you-learn-linear-algebra\" /><h2> Why should you learn Linear Algebra </h2>"
   ]
  },
  {
   "cell_type": "markdown",
   "metadata": {},
   "source": [
    "Everybody starting off with Machine Learning should have atleast a fair idea of Linear Algebra. In Machine Learning, here are some of the areas where Linear Algebra is used. In addition, Linear Albegra is almost exclusively the run-time math engine behind Deep Learning. \n",
    "\n",
    "For starters, here are some uses cases where Linear Algebra is used in ML. \n",
    "\n",
    "<li> <b>Image Processing</b> </li>\n",
    "An Image is represented in the computer using a sequence of numbers. Each of these numbers in the sequence could represent the intensity of the pixel or the color of the pixel. So, just to represent this kind of data you need matrices. And any further processing of this data ( like transformations, summations etc ) require linear algebra. \n",
    "\n",
    "<li> <b> Linear Regression </b> </li>\n",
    "Linear regression is an ML technique used to fit (approximate) data points on a linear line/plane. For example, if you want to find out how the median price of a house is dependent on parameters like crime rate, pollution, tax rates etc, simple linear algebra techniques like matrix inverse, matrix transpose and dot product can solve the problem. \n",
    "\n",
    "<pre>\n",
    "     crim zn indus chas   nox    rm  age    dis rad tax ptratio      b lstat medv\n",
    "1 0.00632 18  2.31    0 0.538 6.575 65.2 4.0900   1 296    15.3 396.90  4.98 24.0\n",
    "2 0.02731  0  7.07    0 0.469 6.421 78.9 4.9671   2 242    17.8 396.90  9.14 21.6\n",
    "3 0.02729  0  7.07    0 0.469 7.185 61.1 4.9671   2 242    17.8 392.83  4.03 34.7\n",
    "4 0.03237  0  2.18    0 0.458 6.998 45.8 6.0622   3 222    18.7 394.63  2.94 33.4\n",
    "5 0.06905  0  2.18    0 0.458 7.147 54.2 6.0622   3 222    18.7 396.90  5.33 36.2\n",
    "6 0.02985  0  2.18    0 0.458 6.430 58.7 6.0622   3 222    18.7 394.12  5.21 28.7\n",
    "</pre>\n",
    "\n",
    "<li> <b> Language Processing </b> </li>\n",
    "Sparse matrices are extensively used in language processing to represent word count. With the sample along the x-axis and the word count across the y-axis, even for a small data set the size of the sparse matrix could get as big as 10000 x 10000. However, most of the matrix is just zeros ( and hence called sparse matrix ). So, some of the techniques from linear algebra are used to efficient work with these matrices to avoid space/time complexity that might otherwise result from these huge matrices. \n",
    "\n",
    "\n",
    "<img src=\"./pics/sparse_matrix.png\"/>\n",
    "\n",
    "There are many more examples, that we will see later like \n",
    "<li> Principal Component Analyzis ( PCA ) for dimensionality reduction of higher dimensional data</li>\n",
    "<li> Singular Value Decomposition ( SVD ) for processing sparse matrices in recommender systems and NLP</li>\n",
    "<li> One Hot Encoding for encoding categorical data to numeric data.</li>\n",
    "\n",
    "etc. Not to mention deep learning of course. \n"
   ]
  },
  {
   "cell_type": "markdown",
   "metadata": {},
   "source": [
    "<div id=\"our-approach-to-linear-algebra\"/><h2> Our approach to learn Linear Algebra </h2>"
   ]
  },
  {
   "cell_type": "markdown",
   "metadata": {},
   "source": [
    "Linear algebra is a very broad subject that has applications across a wide variety of science and engineering areas. It is generally taken as a formal course in atleast 1 semester to cover it generically. However, we will do a shallow learning of just enough Linear Algebra to cover only those topics that are necessary to understand and solve the particular ML problem. \n",
    "\n",
    "For example, we will not learn about SVD until we come to Naive Bayes or some other Language Processing Algorithms. Similarly, we will lean inverse and transpose of a matrix only when we solve linear regression problems. \n",
    "\n",
    "For now, we will just be learning the basics of Linear Algebra."
   ]
  },
  {
   "cell_type": "markdown",
   "metadata": {},
   "source": [
    "<div id=\"linear-algebra-basics\"/> <h2> Linear Algebra Basics </h2>"
   ]
  },
  {
   "cell_type": "markdown",
   "metadata": {},
   "source": [
    "We will cover the fundamental building blocks of linear algebra, which are vectors and matrices. Higher dimensional data structures like tensors are also important, but for now, we will do with just vectors and matrices."
   ]
  },
  {
   "cell_type": "markdown",
   "metadata": {},
   "source": [
    "<div id=\"vectors\"/> <h3> Vectors </h3>"
   ]
  },
  {
   "cell_type": "markdown",
   "metadata": {},
   "source": [
    "Before we understand a vector, we have to understand what a <em> scalar </em> is. Let's take a simple example. \n",
    "\n",
    "Say a bunch of students are taking home schooling and they are trying to decide which teacher to select. Each teacher has specific skillsets and have proven to boost the performance of students by a certain percentage. Let's take the simplest case here. A single student \"Ajay\" gets an average CGPA of 3.0 . And a teacher t1 can boost the performance by 20 % . \n",
    "\n",
    "What is the expected CGPA of Ajay, after getting coached from teacher 1 ?\n",
    "\n",
    "<img src=\"./pics/scalar-x-scalar.png\"/>\n",
    "\n",
    "That's right - 3.6 . It is a simple multiplication of 2 numbers. How do you program it ?"
   ]
  },
  {
   "cell_type": "code",
   "execution_count": 6,
   "metadata": {},
   "outputs": [
    {
     "data": {
      "text/plain": [
       "3.6"
      ]
     },
     "execution_count": 6,
     "metadata": {},
     "output_type": "execute_result"
    }
   ],
   "source": [
    "student_1 = 3.0\n",
    "teacher_1 = 1.2\n",
    "\n",
    "student_1 = student_1 * teacher_1\n",
    "round( student_1, 2 )"
   ]
  },
  {
   "cell_type": "markdown",
   "metadata": {},
   "source": [
    "Say, the student Ajay has 3 subjects - Math, Physics and Chemistry. What will be the individual performance boost to each of the subjects ?"
   ]
  },
  {
   "cell_type": "markdown",
   "metadata": {},
   "source": [
    "<img src=\"./pics/vector-x-scalar.png\"/>"
   ]
  },
  {
   "cell_type": "markdown",
   "metadata": {},
   "source": [
    "This seems simple enough as well. However, there is a concept called Broadcasting that is happening here. Although the multiplication process seems intuitive enough, we have to understand the way the multiplication is happening here."
   ]
  },
  {
   "cell_type": "code",
   "execution_count": null,
   "metadata": {},
   "outputs": [],
   "source": []
  },
  {
   "cell_type": "code",
   "execution_count": null,
   "metadata": {},
   "outputs": [],
   "source": [
    "import numpy as np\n",
    "\n",
    "students = np.array([  [0.9,0.7,0.6],\n",
    "                       [0.8,0.6,0.5],\n",
    "                       [0.7,0.6,0.8]])"
   ]
  },
  {
   "cell_type": "code",
   "execution_count": 17,
   "metadata": {},
   "outputs": [],
   "source": [
    "teachers = np.array( [ [0.6,0.8],\n",
    "                       [0.9,0.7],\n",
    "                       [0.7,0.9]])"
   ]
  },
  {
   "cell_type": "code",
   "execution_count": 18,
   "metadata": {},
   "outputs": [
    {
     "data": {
      "text/plain": [
       "array([[1.59, 1.75],\n",
       "       [1.37, 1.51],\n",
       "       [1.52, 1.7 ]])"
      ]
     },
     "execution_count": 18,
     "metadata": {},
     "output_type": "execute_result"
    }
   ],
   "source": [
    "scoring = students.dot(teachers)\n",
    "scoring"
   ]
  },
  {
   "cell_type": "code",
   "execution_count": 6,
   "metadata": {},
   "outputs": [
    {
     "data": {
      "text/plain": [
       "array([6.41, 6.39])"
      ]
     },
     "execution_count": 6,
     "metadata": {},
     "output_type": "execute_result"
    }
   ],
   "source": [
    "scoring.sum(axis=0)"
   ]
  },
  {
   "cell_type": "code",
   "execution_count": 22,
   "metadata": {},
   "outputs": [],
   "source": [
    "teacher1 = np.array( [1.2])"
   ]
  },
  {
   "cell_type": "code",
   "execution_count": 23,
   "metadata": {},
   "outputs": [
    {
     "data": {
      "text/plain": [
       "array([[1.08, 0.84, 0.72],\n",
       "       [0.96, 0.72, 0.6 ],\n",
       "       [0.84, 0.72, 0.96]])"
      ]
     },
     "execution_count": 23,
     "metadata": {},
     "output_type": "execute_result"
    }
   ],
   "source": [
    "boost = students * teacher1\n",
    "boost"
   ]
  },
  {
   "cell_type": "code",
   "execution_count": 24,
   "metadata": {},
   "outputs": [],
   "source": [
    "teacher_subject = np.array ( [1.2,1.3,1.1])"
   ]
  },
  {
   "cell_type": "code",
   "execution_count": 25,
   "metadata": {},
   "outputs": [
    {
     "data": {
      "text/plain": [
       "array([[1.08, 0.91, 0.66],\n",
       "       [0.96, 0.78, 0.55],\n",
       "       [0.84, 0.78, 0.88]])"
      ]
     },
     "execution_count": 25,
     "metadata": {},
     "output_type": "execute_result"
    }
   ],
   "source": [
    "boost = students * teacher_subject\n",
    "boost"
   ]
  },
  {
   "cell_type": "code",
   "execution_count": null,
   "metadata": {},
   "outputs": [],
   "source": []
  }
 ],
 "metadata": {
  "kernelspec": {
   "display_name": "Python 3",
   "language": "python",
   "name": "python3"
  },
  "language_info": {
   "codemirror_mode": {
    "name": "ipython",
    "version": 3
   },
   "file_extension": ".py",
   "mimetype": "text/x-python",
   "name": "python",
   "nbconvert_exporter": "python",
   "pygments_lexer": "ipython3",
   "version": "3.7.1"
  }
 },
 "nbformat": 4,
 "nbformat_minor": 2
}
