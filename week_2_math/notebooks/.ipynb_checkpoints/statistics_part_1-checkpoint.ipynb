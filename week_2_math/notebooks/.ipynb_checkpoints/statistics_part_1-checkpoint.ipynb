{
 "cells": [
  {
   "cell_type": "markdown",
   "metadata": {},
   "source": [
    "Copyright &copy; of Ajay Tech @ https://ajaytech.co"
   ]
  },
  {
   "cell_type": "markdown",
   "metadata": {},
   "source": [
    "<h1>Statistics for Machine Learning</h1>"
   ]
  },
  {
   "cell_type": "markdown",
   "metadata": {},
   "source": [
    "## Table of Contents\n",
    "- ### Intro\n",
    " - #### [What is Statistics](#What-is-Statistics) ?\n",
    " - #### [Why learn Statistics in Machine Learning](#Why-learn-Statistics-in-Machine-Learning) ?\n",
    " - #### [Our Approach to learning Statistics](#Our-Approach-to-learning-Statistics)\n",
    "- ### [Key Terms](#Key-Terms)\n",
    " - #### [Population vs Sample](#Population-vs-Sample)\n",
    " - #### [Variables](#Variables)\n",
    "   - ##### [Continous](#Continous)\n",
    "   - ##### [Categorical](#Categorical)\n",
    " - #### [Distribution](#Distribution)\n",
    "   - ##### [Visualize a Distribution](#Visualize-a-Distribution)\n",
    "- ### [Define a Distribution](#Define-a-Distribution)\n",
    " - #### [Central Tendency](#Central-Tendency) \n",
    "   - ##### [Mean](#Mean)\n",
    "   - ##### [Median](#Median)\n",
    "   - ##### [Mode](#Mode)   \n",
    " - #### [Spread](#Spread)\n",
    "   - ##### [Standard Deviation](#Standard-Deviation)      \n",
    "   - ##### [Variance](#Variance)\n",
    "   - ##### [What does Standard Deviation represent ?](#What-does-Standard-Deviation-represent)  \n",
    "     - ##### [How far from the mean](#How-far-from-the-mean)\n",
    "     - ##### [How spread out](#How-spread-out)\n",
    "     - ##### [Why 2 different metrics to meausure the spread](#Why-2-different-metrics-to-measure-spread)\n",
    " - #### [Skewness](#Skewness)\n",
    " - #### [Kurtosis](#Kurtosis)\n",
    "- ### [Branches of Statistics](#Branches-of-Statistics)\n",
    " - #### [Descriptive Statistics](#Descriptive-Statistics)\n",
    " - #### [Inferential Statistics](#Inferential-Statistics)"
   ]
  },
  {
   "cell_type": "markdown",
   "metadata": {},
   "source": [
    "## What is Statistics"
   ]
  },
  {
   "cell_type": "markdown",
   "metadata": {},
   "source": [
    "Statistics is probably _**THE MOST IMPORTANT**_ tool in the hands of Data Scientists and Machine Learning experts. In fact Machine Learning is referred to as _**Statistical Learning**_ by statisticians. Statistics started almost 3 centuries ago as a formal science and is a pretty broad subject. We are only interested in learning specific aspects of it as they relate to data science and machine learning. However, we have to understand that Machine Learning is an evolutionary field - statistics happens to be just one of the tools. Some tend to say that ML is just glorified statistics , it is not true. \n",
    "\n",
    "For example, if you look at some of the algorithms used in Machine Learning like K-Nearest Neighbour ( KNN ) the significance statistics ( atleast in it's classic sense ) is very minimal. "
   ]
  },
  {
   "cell_type": "markdown",
   "metadata": {},
   "source": [
    "## Why learn Statistics in Machine Learning"
   ]
  },
  {
   "cell_type": "markdown",
   "metadata": {},
   "source": [
    "Every phase of Machine Learning requires some level of statistics. It is beyond the scope at this point to discuss how specifically statistics can be used in ML. However, as we progress through the course, you will see that the **_underlying mathematics of most of ML is still Statistics_**. "
   ]
  },
  {
   "cell_type": "markdown",
   "metadata": {},
   "source": [
    "## Our Approach to learning Statistics"
   ]
  },
  {
   "cell_type": "markdown",
   "metadata": {},
   "source": [
    "You don't need a Ph.D in statistics to be a Data Scientist or ML expert. In fact, when it comes to deep learning, the significance of statistics drops even further. However, statistics still remains the most useful tool in most areas of ML. So, the way we learn statistics would be limited to just the fundamentals of statistical methods as they apply to Machine Learning. Also, we will learn the relevant statistical methods in an incremental fashion. And instead of learning the basic statistical methods as they are, we will keep our approach data oriented. This will provide the context under which we are learning specific techniques. "
   ]
  },
  {
   "cell_type": "code",
   "execution_count": null,
   "metadata": {},
   "outputs": [],
   "source": []
  },
  {
   "cell_type": "markdown",
   "metadata": {},
   "source": [
    "Broadly, there are two branches in statistics\n",
    "- Descriptive\n",
    "- Inferential\n",
    "\n",
    "Before we understand what each of these mean, let's understand a couple of terms. "
   ]
  },
  {
   "cell_type": "markdown",
   "metadata": {},
   "source": [
    "# Key Terms"
   ]
  },
  {
   "cell_type": "markdown",
   "metadata": {},
   "source": [
    "Before we even get to the basics of statistics, we have to understand a couple of key terms. \n",
    "\n",
    "- Population\n",
    "- Sample\n",
    "- Variables\n",
    "- Distribution"
   ]
  },
  {
   "cell_type": "markdown",
   "metadata": {},
   "source": [
    "#### Population vs Sample"
   ]
  },
  {
   "cell_type": "markdown",
   "metadata": {},
   "source": [
    "A population represents the entire data set. For example, if you have the entire data of all the grades in a particular class - that dataset is called the population. The word population can be confusing. It is natural for non-statisticians to refer to population as people or living beings. However, We are not talking about the people of the class, but we are just talking about the data points only. You could be referring to a dataset of median house prices in a county or the age of stars in a particular galaxy. As long as you refer to the entire dataset, it is called as **_Population_**\n",
    "\n",
    "If you take a small part out of it ( eithe randomly or sequentially or via other criteria ), it is called as a sample. For example, say Uber provides the rating data for all the drivers in New York City. Say there are 40,000 drivers. The entire dataset is referred to as the population. If you want to consider a particular part of the dataset , say a bunch of 10,000 drivers from it, it is called as a **_Sample_**. "
   ]
  },
  {
   "cell_type": "markdown",
   "metadata": {},
   "source": [
    "<img src=\"./pics/population-vs-sample.png\"/>"
   ]
  },
  {
   "cell_type": "markdown",
   "metadata": {},
   "source": [
    "In simple words\n",
    "\n",
    "**_Population_**  - The entire data set\n",
    "\n",
    "**_Sample_**      - A subset of the entire data set"
   ]
  },
  {
   "cell_type": "markdown",
   "metadata": {},
   "source": [
    "#### Variables"
   ]
  },
  {
   "cell_type": "markdown",
   "metadata": {},
   "source": [
    "In the Uber example above, there are 2 variables. \n",
    "- Driver\n",
    "- Rating\n"
   ]
  },
  {
   "cell_type": "markdown",
   "metadata": {},
   "source": [
    "There are 2 types of variables in general. "
   ]
  },
  {
   "cell_type": "markdown",
   "metadata": {},
   "source": [
    "##### Continous"
   ]
  },
  {
   "cell_type": "markdown",
   "metadata": {},
   "source": [
    "Continous variables are typically numbers ( integers or floats ). Point being, they are on a continuum. For example, ratings are a contious variable. A rating of 4.5 is better than 3.5 - you can compare one rating with another numerically."
   ]
  },
  {
   "cell_type": "markdown",
   "metadata": {},
   "source": [
    "##### Categorical"
   ]
  },
  {
   "cell_type": "markdown",
   "metadata": {},
   "source": [
    "On the other hand, if you had another variable say **_Gender_** . What kind of variable would that be ? It can only take 2 values - Male of Female. Since there are only a fixed set (categories ) of values it can take, these kind of variables are called categorical variables."
   ]
  },
  {
   "cell_type": "markdown",
   "metadata": {},
   "source": [
    "<img src=\"./pics/types_of_variables.png\"/>"
   ]
  },
  {
   "cell_type": "markdown",
   "metadata": {},
   "source": [
    "#### Distribution"
   ]
  },
  {
   "cell_type": "markdown",
   "metadata": {},
   "source": [
    "There are many ways to define a distribution. In layman's terms, a distribution is basically a data pattern. For example, think of a subway owner in downtown Chicago. Most of his customers are office goers. So, most of his business happens on weekdays. Mondays and Fridays are a bit less and business generally peaks on Wednesdays. Now, if you draw this pattern out with the actual number of customers (average) on each day of the week you would get a pattern like this. "
   ]
  },
  {
   "cell_type": "markdown",
   "metadata": {},
   "source": [
    "<img src=\"./pics/customer_pattern.png\"/>"
   ]
  },
  {
   "cell_type": "markdown",
   "metadata": {},
   "source": [
    "What is the point in understanding this pattern ? A pattern is like a blue-print. For example, \n",
    "- if you understand the pattern of subway sales in downtown Chicago, you can very well understand the pattern in downtown New York, LA, SFO or any major city. \n",
    "- if a particular subway in downtown Boston does not fit this pattern, then there is some thing wrong. So, deviation from a pattern is used to spot anamolies. "
   ]
  },
  {
   "cell_type": "markdown",
   "metadata": {},
   "source": [
    "Remember, this is just a pattern. The numbers need not match, but the pattern needs to. For example, look at the picture below - the average sales between New York and Chicago does not match, but the pattern does."
   ]
  },
  {
   "cell_type": "markdown",
   "metadata": {},
   "source": [
    "<img src=\"./pics/pattern_not_values.png\"/>"
   ]
  },
  {
   "cell_type": "markdown",
   "metadata": {},
   "source": [
    "##### Visualize a Distribution"
   ]
  },
  {
   "cell_type": "markdown",
   "metadata": {},
   "source": [
    "Now that we know what a distribution is, we have to define it's characteristics. Let's take the most well known distribution - **_Gaussian Distribution_** . Many datasets tend to follow a gaussian distribution. There are many names to it\n",
    "- Normal Distribution\n",
    "- Bell Curve\n",
    "\n",
    "Say a group of 400 people are applying for admission to a college and their GRE scores are as follows.  "
   ]
  },
  {
   "cell_type": "code",
   "execution_count": 4,
   "metadata": {},
   "outputs": [
    {
     "data": {
      "image/png": "[encoded data removed]",
      "text/plain": [
       "<Figure size 432x288 with 1 Axes>"
      ]
     },
     "metadata": {
      "needs_background": "light"
     },
     "output_type": "display_data"
    }
   ],
   "source": [
    "%matplotlib inline\n",
    "import matplotlib.pyplot as plt\n",
    "import numpy as np\n",
    "\n",
    "# Read the scores file\n",
    "scores = np.genfromtxt(\"../data/gre_scores.csv\",delimiter=\",\")\n",
    "\n",
    "# Plot the histogram\n",
    "plt.hist(scores,bins=30)\n",
    "plt.show()"
   ]
  },
  {
   "cell_type": "markdown",
   "metadata": {},
   "source": [
    "Although this does not look very smooth, essentially the distribution is very close to Gaussian distribution. We have taken the help of a package called matplotlib ( which we will explore later ) to plot this distribution. To understand the way we draw a histogram, let's look at how this plot was drawn. "
   ]
  },
  {
   "cell_type": "code",
   "execution_count": 8,
   "metadata": {},
   "outputs": [
    {
     "data": {
      "text/plain": [
       "(array([ 2.,  1.,  2.,  9., 11.,  8., 17., 10.,  8., 14., 19.,  6., 20.,\n",
       "        30., 14., 24., 21.,  9., 25., 24., 19., 24., 18.,  9., 14., 10.,\n",
       "         7.,  9.,  5., 11.]),\n",
       " array([290.        , 291.66666667, 293.33333333, 295.        ,\n",
       "        296.66666667, 298.33333333, 300.        , 301.66666667,\n",
       "        303.33333333, 305.        , 306.66666667, 308.33333333,\n",
       "        310.        , 311.66666667, 313.33333333, 315.        ,\n",
       "        316.66666667, 318.33333333, 320.        , 321.66666667,\n",
       "        323.33333333, 325.        , 326.66666667, 328.33333333,\n",
       "        330.        , 331.66666667, 333.33333333, 335.        ,\n",
       "        336.66666667, 338.33333333, 340.        ]),\n",
       " <a list of 30 Patch objects>)"
      ]
     },
     "execution_count": 8,
     "metadata": {},
     "output_type": "execute_result"
    },
    {
     "data": {
      "image/png": "[encoded data removed]",
      "text/plain": [
       "<Figure size 432x288 with 1 Axes>"
      ]
     },
     "metadata": {
      "needs_background": "light"
     },
     "output_type": "display_data"
    }
   ],
   "source": [
    "plt.hist(scores,bins=30)"
   ]
  },
  {
   "cell_type": "markdown",
   "metadata": {},
   "source": [
    "Ths first array represents the y-axis\n",
    "<pre>\n",
    "array([ 2.,  1.,  2.,  9., 11.,  8., 17., 10.,  8., 14., 19.,  6., 20.,\n",
    "        30., 14., 24., 21.,  9., 25., 24., 19., 24., 18.,  9., 14., 10.,\n",
    "         7.,  9.,  5., 11.]),\n",
    "</pre>\n",
    "\n",
    "and the second array represents the x-axis\n",
    "<pre>\n",
    "array([290.        , 291.66666667, 293.33333333, 295.        ,\n",
    "        296.66666667, 298.33333333, 300.        , 301.66666667,\n",
    "        303.33333333, 305.        , 306.66666667, 308.33333333,\n",
    "        310.        , 311.66666667, 313.33333333, 315.        ,\n",
    "        316.66666667, 318.33333333, 320.        , 321.66666667,\n",
    "        323.33333333, 325.        , 326.66666667, 328.33333333,\n",
    "        330.        , 331.66666667, 333.33333333, 335.        ,\n",
    "        336.66666667, 338.33333333, 340.        ]),\n",
    "</pre>"
   ]
  },
  {
   "cell_type": "markdown",
   "metadata": {},
   "source": [
    "What has been done here is to essentially divide the 400 scores into 30 bins (or buckets). The average value of each bin is what is shown on the x-axis. The frequency of occurance of the scores within the bin is what the y-axis represents. \n",
    "\n",
    "For example, \n",
    "- how many scores are there between 290 and 291.66 ?  - 2\n",
    "- how many between 291.66 and 293.33 ?  - 1\n",
    "- and so on. \n",
    "\n",
    "Once you plot all of them, you get a plot like shown above - It is also called a **_histogram_** . We will know more about histograms later. "
   ]
  },
  {
   "cell_type": "markdown",
   "metadata": {},
   "source": [
    "Some kinds of data is not Gaussian. A classic example is the US income. Just to make things simple, here is a sample picture of US income depending on education level. "
   ]
  },
  {
   "cell_type": "markdown",
   "metadata": {},
   "source": [
    "<img src=\"./pics/education_income.jpg\"/>\n",
    "Image taken from <a href=\"https://en.wikipedia.org/wiki/Household_income_in_the_United_States\">Wikipedia</a>"
   ]
  },
  {
   "cell_type": "markdown",
   "metadata": {},
   "source": [
    "As you can see clearly, this data is not gaussian by any measures. We will see more examples of different types of distribution later. "
   ]
  },
  {
   "cell_type": "markdown",
   "metadata": {},
   "source": [
    "# Define a Distribution"
   ]
  },
  {
   "cell_type": "markdown",
   "metadata": {},
   "source": [
    "## Central Tendency"
   ]
  },
  {
   "cell_type": "markdown",
   "metadata": {},
   "source": [
    "### Mean"
   ]
  },
  {
   "cell_type": "markdown",
   "metadata": {},
   "source": [
    "One of the most basic properties of a data set is it's mean. Mean is a measure of the **_Central Tendency_** of data. In layman terms, if you were to pick one point in a dataset that is representative of the entire dataset, it would be the mean. Also called \"average\" in common vocabulary, calculating the mean is really simple. Just add up all the values in a particular variable of a dataset and divide it by the total number of values in it. \n",
    "\n",
    "For example, if there are 5 Uber drivers with 5 different ratings, what is their mean ?"
   ]
  },
  {
   "cell_type": "markdown",
   "metadata": {},
   "source": [
    "<img src=\"./pics/mean.png\"/>"
   ]
  },
  {
   "cell_type": "markdown",
   "metadata": {},
   "source": [
    "Similarly, you can calculate the mean of all the 400 GRE scores we have loaded above using numpy's handy _mean ( )_ function "
   ]
  },
  {
   "cell_type": "code",
   "execution_count": 9,
   "metadata": {},
   "outputs": [
    {
     "data": {
      "text/plain": [
       "316.8075"
      ]
     },
     "execution_count": 9,
     "metadata": {},
     "output_type": "execute_result"
    }
   ],
   "source": [
    "mean = np.mean(scores)\n",
    "mean"
   ]
  },
  {
   "cell_type": "markdown",
   "metadata": {},
   "source": [
    "#### Median"
   ]
  },
  {
   "cell_type": "markdown",
   "metadata": {},
   "source": [
    "Mean does not always represent the _average_ of the data. For normal distributions it typically does. However, for many other data distributions, mean does not represent the _average_. For example, take the US income distribution data. As you can see the data is heavily skewed towards the end ( from the income vs education plot above ). Here is another dataset of income vs the number of households in the US. Since the number of housholds is huge, the data has been bucketed into income brackets for easy analysis. "
   ]
  },
  {
   "cell_type": "markdown",
   "metadata": {},
   "source": [
    "<pre>\n",
    "income_bracket\thouseholds\n",
    "10-15k\t        5700000\n",
    "15-20k\t        5620000\n",
    "20-25k\t        5930000\n",
    "25-30k\t        5500000\n",
    "30-35k\t        5780000\n",
    "35-40k\t        5340000\n",
    "40-45k\t        5380000\n",
    "45-50k\t        4730000\n",
    "50-60k\t        9210000\n",
    "60-75k\t       11900000\n",
    "75-100k\t      14700000\n",
    "100-125k\t     10300000\n",
    "125-150k\t      6360000\n",
    "150-200k\t      6920000\n",
    "200k-plus\t     7600000\n",
    "</pre>"
   ]
  },
  {
   "cell_type": "code",
   "execution_count": 2,
   "metadata": {},
   "outputs": [
    {
     "data": {
      "image/png": "[encoded data removed]",
      "text/plain": [
       "<Figure size 432x288 with 1 Axes>"
      ]
     },
     "metadata": {
      "needs_background": "light"
     },
     "output_type": "display_data"
    }
   ],
   "source": [
    "import matplotlib.pyplot as plt\n",
    "import pandas as pd\n",
    "\n",
    "income_data = pd.read_csv(\"../data/us_income_brackets.csv\")\n",
    "plt.bar(income_data[\"income_bracket\"], income_data[\"households\"])\n",
    "plt.show()\n",
    "\n"
   ]
  },
  {
   "cell_type": "markdown",
   "metadata": {},
   "source": [
    "As you can see from the picture above, the data is skewed. Now, let's calculate the mean and median and you will know the difference."
   ]
  },
  {
   "cell_type": "code",
   "execution_count": 25,
   "metadata": {},
   "outputs": [
    {
     "data": {
      "text/plain": [
       "income_bracket          0.0\n",
       "households        7398000.0\n",
       "dtype: float64"
      ]
     },
     "execution_count": 25,
     "metadata": {},
     "output_type": "execute_result"
    }
   ],
   "source": [
    "income_data[\"households\"] = pd.to_numeric(income_data[\"households\"])\n",
    "income_data.mean()"
   ]
  },
  {
   "cell_type": "code",
   "execution_count": 26,
   "metadata": {},
   "outputs": [
    {
     "data": {
      "text/plain": [
       "households    5930000.0\n",
       "dtype: float64"
      ]
     },
     "execution_count": 26,
     "metadata": {},
     "output_type": "execute_result"
    }
   ],
   "source": [
    "income_data.median()"
   ]
  },
  {
   "cell_type": "markdown",
   "metadata": {},
   "source": [
    "As you can see, there is a difference between the mean of the households ( 7.3 M ) vs the median of the households ( 5.9 M). In cases of distribution like this, a median is more _representative_ than the median. "
   ]
  },
  {
   "cell_type": "markdown",
   "metadata": {},
   "source": [
    "The way mode is calculated is also simple. Just order the values in increasing order and pick the middle element."
   ]
  },
  {
   "cell_type": "markdown",
   "metadata": {},
   "source": [
    "<img src=\"./pics/buildings-by-height.svg\"/>"
   ]
  },
  {
   "cell_type": "markdown",
   "metadata": {},
   "source": [
    "For example, in our case, take the households and arrange them in order."
   ]
  },
  {
   "cell_type": "code",
   "execution_count": 31,
   "metadata": {},
   "outputs": [
    {
     "data": {
      "text/plain": [
       "0      5700000\n",
       "1      5620000\n",
       "2      5930000\n",
       "3      5500000\n",
       "4      5780000\n",
       "5      5340000\n",
       "6      5380000\n",
       "7      4730000\n",
       "8      9210000\n",
       "9     11900000\n",
       "10    14700000\n",
       "11    10300000\n",
       "12     6360000\n",
       "13     6920000\n",
       "14     7600000\n",
       "Name: households, dtype: int64"
      ]
     },
     "execution_count": 31,
     "metadata": {},
     "output_type": "execute_result"
    }
   ],
   "source": [
    "households = income_data[\"households\"]\n",
    "households"
   ]
  },
  {
   "cell_type": "code",
   "execution_count": 34,
   "metadata": {},
   "outputs": [
    {
     "data": {
      "text/plain": [
       "7      4730000\n",
       "5      5340000\n",
       "6      5380000\n",
       "3      5500000\n",
       "1      5620000\n",
       "0      5700000\n",
       "4      5780000\n",
       "2      5930000\n",
       "12     6360000\n",
       "13     6920000\n",
       "14     7600000\n",
       "8      9210000\n",
       "11    10300000\n",
       "9     11900000\n",
       "10    14700000\n",
       "Name: households, dtype: int64"
      ]
     },
     "execution_count": 34,
     "metadata": {},
     "output_type": "execute_result"
    }
   ],
   "source": [
    "households.sort_values()"
   ]
  },
  {
   "cell_type": "markdown",
   "metadata": {},
   "source": [
    "There are 15 values and the middle value is the 8th object. So the median of the households is 5.93 M"
   ]
  },
  {
   "cell_type": "markdown",
   "metadata": {},
   "source": [
    "#### Mode"
   ]
  },
  {
   "cell_type": "markdown",
   "metadata": {},
   "source": [
    "Mode is just the highest value in the dataset. If the dataset follows a gaussian distribution, it is the peak of the histogram."
   ]
  },
  {
   "cell_type": "markdown",
   "metadata": {},
   "source": [
    "##### Mean vs Median vs Mode"
   ]
  },
  {
   "cell_type": "markdown",
   "metadata": {},
   "source": [
    "The reason why these terms exist is that, there is no one way to define the _Central Tendency_ of a dataset. It depends on the nature of the distribution that the dataset conforms to. For example, if the dataset is a normal distribution, then most of the time the mean, median and mode are pretty close together. The relationship is beautifully visualized in this wikipedia diagram. "
   ]
  },
  {
   "cell_type": "code",
   "execution_count": 36,
   "metadata": {},
   "outputs": [
    {
     "data": {
      "text/html": [
       "<div>\n",
       "<style scoped>\n",
       "    .dataframe tbody tr th:only-of-type {\n",
       "        vertical-align: middle;\n",
       "    }\n",
       "\n",
       "    .dataframe tbody tr th {\n",
       "        vertical-align: top;\n",
       "    }\n",
       "\n",
       "    .dataframe thead th {\n",
       "        text-align: right;\n",
       "    }\n",
       "</style>\n",
       "<table border=\"1\" class=\"dataframe\">\n",
       "  <thead>\n",
       "    <tr style=\"text-align: right;\">\n",
       "      <th></th>\n",
       "      <th>income_bracket</th>\n",
       "      <th>households</th>\n",
       "    </tr>\n",
       "  </thead>\n",
       "  <tbody>\n",
       "    <tr>\n",
       "      <th>0</th>\n",
       "      <td>10-15k</td>\n",
       "      <td>4730000</td>\n",
       "    </tr>\n",
       "    <tr>\n",
       "      <th>1</th>\n",
       "      <td>100-125k</td>\n",
       "      <td>5340000</td>\n",
       "    </tr>\n",
       "    <tr>\n",
       "      <th>2</th>\n",
       "      <td>125-150k</td>\n",
       "      <td>5380000</td>\n",
       "    </tr>\n",
       "    <tr>\n",
       "      <th>3</th>\n",
       "      <td>15-20k</td>\n",
       "      <td>5500000</td>\n",
       "    </tr>\n",
       "    <tr>\n",
       "      <th>4</th>\n",
       "      <td>150-200k</td>\n",
       "      <td>5620000</td>\n",
       "    </tr>\n",
       "    <tr>\n",
       "      <th>5</th>\n",
       "      <td>20-25k</td>\n",
       "      <td>5700000</td>\n",
       "    </tr>\n",
       "    <tr>\n",
       "      <th>6</th>\n",
       "      <td>200k-plus</td>\n",
       "      <td>5780000</td>\n",
       "    </tr>\n",
       "    <tr>\n",
       "      <th>7</th>\n",
       "      <td>25-30k</td>\n",
       "      <td>5930000</td>\n",
       "    </tr>\n",
       "    <tr>\n",
       "      <th>8</th>\n",
       "      <td>30-35k</td>\n",
       "      <td>6360000</td>\n",
       "    </tr>\n",
       "    <tr>\n",
       "      <th>9</th>\n",
       "      <td>35-40k</td>\n",
       "      <td>6920000</td>\n",
       "    </tr>\n",
       "    <tr>\n",
       "      <th>10</th>\n",
       "      <td>40-45k</td>\n",
       "      <td>7600000</td>\n",
       "    </tr>\n",
       "    <tr>\n",
       "      <th>11</th>\n",
       "      <td>45-50k</td>\n",
       "      <td>9210000</td>\n",
       "    </tr>\n",
       "    <tr>\n",
       "      <th>12</th>\n",
       "      <td>50-60k</td>\n",
       "      <td>10300000</td>\n",
       "    </tr>\n",
       "    <tr>\n",
       "      <th>13</th>\n",
       "      <td>60-75k</td>\n",
       "      <td>11900000</td>\n",
       "    </tr>\n",
       "    <tr>\n",
       "      <th>14</th>\n",
       "      <td>75-100k</td>\n",
       "      <td>14700000</td>\n",
       "    </tr>\n",
       "  </tbody>\n",
       "</table>\n",
       "</div>"
      ],
      "text/plain": [
       "   income_bracket  households\n",
       "0          10-15k     4730000\n",
       "1        100-125k     5340000\n",
       "2        125-150k     5380000\n",
       "3          15-20k     5500000\n",
       "4        150-200k     5620000\n",
       "5          20-25k     5700000\n",
       "6       200k-plus     5780000\n",
       "7          25-30k     5930000\n",
       "8          30-35k     6360000\n",
       "9          35-40k     6920000\n",
       "10         40-45k     7600000\n",
       "11         45-50k     9210000\n",
       "12         50-60k    10300000\n",
       "13         60-75k    11900000\n",
       "14        75-100k    14700000"
      ]
     },
     "execution_count": 36,
     "metadata": {},
     "output_type": "execute_result"
    }
   ],
   "source": [
    "income_data.mode()"
   ]
  },
  {
   "cell_type": "markdown",
   "metadata": {},
   "source": [
    "<img src=\"./pics/mean-median-mode.png\"/>"
   ]
  },
  {
   "cell_type": "markdown",
   "metadata": {},
   "source": [
    "For a normal distribution, the 3 parameters ( mean, median, mode ) are pretty close together. For a skewed distribution, they are pretty staggered."
   ]
  },
  {
   "cell_type": "markdown",
   "metadata": {},
   "source": [
    "## Spread"
   ]
  },
  {
   "cell_type": "markdown",
   "metadata": {},
   "source": [
    "### Standard Deviation"
   ]
  },
  {
   "cell_type": "markdown",
   "metadata": {},
   "source": [
    "While mean represents the \"Central\" or \"Average\" value of a dataset, variance represents how spread out the data is. For example, look at the 3 _histograms_ below. They represent histograms of GRE scores among 3 different groups."
   ]
  },
  {
   "cell_type": "markdown",
   "metadata": {},
   "source": [
    "<img src=\"./pics/variance_example.png\"/>"
   ]
  },
  {
   "cell_type": "code",
   "execution_count": 5,
   "metadata": {},
   "outputs": [
    {
     "data": {
      "image/png": "[encoded data removed]",
      "text/plain": [
       "<Figure size 432x288 with 3 Axes>"
      ]
     },
     "metadata": {
      "needs_background": "light"
     },
     "output_type": "display_data"
    }
   ],
   "source": [
    "import matplotlib.pyplot as plt\n",
    "import numpy as np\n",
    "\n",
    "# Read the scores file\n",
    "scores = np.genfromtxt(\"../data/gre_scores_3_sets.csv\",delimiter=\",\")\n",
    "\n",
    "f, (ax1, ax2,ax3) = plt.subplots(1, 3, sharey=True)\n",
    "ax1.set_xlim(200,400)\n",
    "ax1.hist(scores[:,0],bins=300)\n",
    "ax2.set_xlim(200,400)\n",
    "ax2.hist(scores[:,1],bins=300)\n",
    "ax3.set_xlim(200,400)\n",
    "ax3.hist(scores[:,2],bins=300)\n",
    "plt.show()"
   ]
  },
  {
   "cell_type": "markdown",
   "metadata": {},
   "source": [
    "All these 3 graphs represent 10K rows of GRE scores from 3 different groups. All 3 of them have the same mean - 300. However, they are different, right ? What I want you to focus on is the shape of the distribution, not the height. Specifically, look at the x-axis. In the first plot, the data is focussed, pretty much around the average(300) mark. In the second plot, it is a bit spread out ( hence the reduction in size ) and the third plot is pretty spread out. \n",
    "\n",
    "The green line represents the mean and the red line represents the **_Standard Deviation_** or σ ( represented by the Greek symbol sigma ). It is a measure of how spread out the distribution is. The more spread out the distribution is, the more flatter the bell curve is."
   ]
  },
  {
   "cell_type": "markdown",
   "metadata": {},
   "source": [
    "<img src=\"./pics/mean-vs-sd.png\"/>"
   ]
  },
  {
   "cell_type": "markdown",
   "metadata": {},
   "source": [
    "You can also think of _Standard Deviation_ as a measure of uncertianity in Data Science. Imagine a drug trail working on reducing blood pressure. Say, on an average 3 different trails produce an average reduction of 30 points. However, trail 1 has very low standard deviation. Obviously, you would want to go with the first drug - because the third drug is more uncertain about the result. "
   ]
  },
  {
   "cell_type": "code",
   "execution_count": 3,
   "metadata": {},
   "outputs": [
    {
     "data": {
      "image/png": "[encoded data removed]",
      "text/plain": [
       "<Figure size 432x288 with 3 Axes>"
      ]
     },
     "metadata": {
      "needs_background": "light"
     },
     "output_type": "display_data"
    }
   ],
   "source": [
    "import matplotlib.pyplot as plt\n",
    "import numpy as np\n",
    "\n",
    "# Read the scores file\n",
    "scores = np.genfromtxt(\"../data/gre_scores_3_sets.csv\",delimiter=\",\")\n",
    "\n",
    "f, (ax1, ax2,ax3) = plt.subplots(1, 3, sharey=True)\n",
    "ax1.set_xlim(200,400)\n",
    "ax1.axvline(x=305, ymin=0, ymax = 800, linewidth=2, color='r')\n",
    "ax1.axvline(x=300, ymin=0, ymax = 800, linewidth=2, color='g')\n",
    "ax1.hist(scores[:,0],bins=300)\n",
    "ax2.set_xlim(200,400)\n",
    "ax2.axvline(x=315, ymin=0, ymax = 800, linewidth=2, color='r')\n",
    "ax2.axvline(x=300, ymin=0, ymax = 800, linewidth=2, color='g')\n",
    "ax2.hist(scores[:,1],bins=300)\n",
    "ax3.set_xlim(200,400)\n",
    "ax3.axvline(x=330, ymin=0, ymax = 800, linewidth=2, color='r')\n",
    "ax3.axvline(x=300, ymin=0, ymax = 800, linewidth=2, color='g')\n",
    "ax3.hist(scores[:,2],bins=300)\n",
    "plt.show()"
   ]
  },
  {
   "cell_type": "markdown",
   "metadata": {},
   "source": [
    "Now that we have seen what standard deviation is visually, calculating it is just as easy in numpy. "
   ]
  },
  {
   "cell_type": "code",
   "execution_count": 9,
   "metadata": {},
   "outputs": [
    {
     "name": "stdout",
     "output_type": "stream",
     "text": [
      "[[296. 295. 293.]\n",
      " [301. 277. 324.]\n",
      " [299. 316. 311.]\n",
      " ...\n",
      " [299. 283. 286.]\n",
      " [301. 299. 272.]\n",
      " [298. 301. 285.]]\n"
     ]
    },
    {
     "data": {
      "text/plain": [
       "array([ 4.99548675, 15.01404265, 30.08496664])"
      ]
     },
     "execution_count": 9,
     "metadata": {},
     "output_type": "execute_result"
    }
   ],
   "source": [
    "print ( scores )\n",
    "np.std(scores,axis=0) # axis=0 to specify that we want standard deviation along columns."
   ]
  },
  {
   "cell_type": "markdown",
   "metadata": {},
   "source": [
    "### Variance"
   ]
  },
  {
   "cell_type": "markdown",
   "metadata": {},
   "source": [
    "**_Standard Deviation_** is actually a derivative of variance. So, variance is calculated first. However, to illustrate that variance or standard deviation represents spread on the plot, we have learnt _standard deviation_ first. However, we have to understand how variance is calculated, because this is the basis for calculating _standard deviation_ . \n",
    "\n",
    "Let's calculate variance of a small dataset in excel to understand the process better. \n",
    "\n",
    "[variance_calculation](../data/variance_calculation.xlsx)"
   ]
  },
  {
   "cell_type": "markdown",
   "metadata": {},
   "source": [
    "<img src=\"./pics/variance_calculation_excel.png\"/>"
   ]
  },
  {
   "cell_type": "markdown",
   "metadata": {},
   "source": [
    "You can use **numpy** or **pandas** to calculate variance. Continuing wiht our scores data above,"
   ]
  },
  {
   "cell_type": "code",
   "execution_count": 7,
   "metadata": {},
   "outputs": [
    {
     "name": "stdout",
     "output_type": "stream",
     "text": [
      "[[296. 295. 293.]\n",
      " [301. 277. 324.]\n",
      " [299. 316. 311.]\n",
      " ...\n",
      " [299. 283. 286.]\n",
      " [301. 299. 272.]\n",
      " [298. 301. 285.]]\n"
     ]
    },
    {
     "data": {
      "text/plain": [
       "array([ 24.95488791, 225.42147676, 905.10521756])"
      ]
     },
     "execution_count": 7,
     "metadata": {},
     "output_type": "execute_result"
    }
   ],
   "source": [
    "print(scores)\n",
    "np.var(scores,axis=0) ## axis=0 to specify that we want variance across the columns"
   ]
  },
  {
   "cell_type": "markdown",
   "metadata": {},
   "source": [
    "### What does Standard Deviation represent"
   ]
  },
  {
   "cell_type": "markdown",
   "metadata": {},
   "source": [
    "Now that we know the basic definitions of **_Variance_** and **_Standard Deviation_**, let's look at what it really represents."
   ]
  },
  {
   "cell_type": "markdown",
   "metadata": {},
   "source": [
    "#### How far from the mean"
   ]
  },
  {
   "cell_type": "markdown",
   "metadata": {},
   "source": [
    " Wikipedia has a nice picture to show this in the context of Gaussian distribution. "
   ]
  },
  {
   "cell_type": "markdown",
   "metadata": {},
   "source": [
    "<img src=\"./pics/what-does-standard-deviation-represent.png\"/>"
   ]
  },
  {
   "cell_type": "markdown",
   "metadata": {},
   "source": [
    "In a normal distribution, a single standard deviation represents roughly 34% of the values in the entire distribution. If you look at both the positive and negative deviation it is roughly 68% of the total values in the distribution. In the context of GRE scores, if your GRE score is 1 standard deviation away from the mean, you are essentially almost 68% off of the average score. That is not a bad thing for GRE score because you would not want an average score right ?  "
   ]
  },
  {
   "cell_type": "markdown",
   "metadata": {},
   "source": [
    "#### How spread out "
   ]
  },
  {
   "cell_type": "markdown",
   "metadata": {},
   "source": [
    "Another way to look at the _Standard Deviation_ is , how spread out the distribution is. Once again, there is a nice representation of this in Wikipedia. "
   ]
  },
  {
   "cell_type": "markdown",
   "metadata": {},
   "source": [
    "<img src=\"./pics/sd_more_less.png\"/>"
   ]
  },
  {
   "cell_type": "markdown",
   "metadata": {},
   "source": [
    "The more the _Standard Deviation_ , the more the distribution is spread out. "
   ]
  },
  {
   "cell_type": "markdown",
   "metadata": {},
   "source": [
    "#### Why 2 different metrics to measure spread"
   ]
  },
  {
   "cell_type": "markdown",
   "metadata": {},
   "source": [
    "Why are we using 2 different metircs (Variance & Standard Deviation) to measure the same parameter - spread ? \n",
    "\n",
    "For one, you can only calculate _Standard Deviation_ from _Mean. Also, **_Variance_** is used to measure how far the data is spread out, while **_Standard Deviation_** is used to measure how the data differs from its mean. However, since _Standard Deviation_ is in the same metric as the data, it is used more often than Variance. "
   ]
  },
  {
   "cell_type": "markdown",
   "metadata": {},
   "source": [
    "## Skewness"
   ]
  },
  {
   "cell_type": "markdown",
   "metadata": {},
   "source": [
    "Look at the picture below ( courtesy of Wikipedia )"
   ]
  },
  {
   "cell_type": "markdown",
   "metadata": {},
   "source": [
    "<img src=\"./pics/skew-positive-negative.png\" style=\"background-color:white;\" />"
   ]
  },
  {
   "cell_type": "markdown",
   "metadata": {},
   "source": [
    "These are distributions that are skewed ( either to the right or to the left ) - meaning they are asymmetric as compared to a standard distribution.  "
   ]
  },
  {
   "cell_type": "markdown",
   "metadata": {},
   "source": [
    "Skewness is a measure of that **asymmetry** . A very popular example of this data is the income data. The following picture shows us the income distribution of the US, but almost all countries follow a similar pattern. "
   ]
  },
  {
   "cell_type": "markdown",
   "metadata": {},
   "source": [
    "<img src=\"./pics/right-skewed-distribution.png\"/>"
   ]
  },
  {
   "cell_type": "markdown",
   "metadata": {},
   "source": [
    "This is an example of a right skewed distribution ( where the tail is more pronounced to the right ). Similarly, a left skewed distribution would be an opposite of this ( long tail to the left ). To measure the skewness of a distribution, pandas has a funcion called **skew ( )**. "
   ]
  },
  {
   "cell_type": "code",
   "execution_count": 7,
   "metadata": {},
   "outputs": [
    {
     "data": {
      "text/html": [
       "<div>\n",
       "<style scoped>\n",
       "    .dataframe tbody tr th:only-of-type {\n",
       "        vertical-align: middle;\n",
       "    }\n",
       "\n",
       "    .dataframe tbody tr th {\n",
       "        vertical-align: top;\n",
       "    }\n",
       "\n",
       "    .dataframe thead th {\n",
       "        text-align: right;\n",
       "    }\n",
       "</style>\n",
       "<table border=\"1\" class=\"dataframe\">\n",
       "  <thead>\n",
       "    <tr style=\"text-align: right;\">\n",
       "      <th></th>\n",
       "      <th>296</th>\n",
       "      <th>295</th>\n",
       "      <th>293</th>\n",
       "    </tr>\n",
       "  </thead>\n",
       "  <tbody>\n",
       "    <tr>\n",
       "      <th>0</th>\n",
       "      <td>301</td>\n",
       "      <td>277</td>\n",
       "      <td>324</td>\n",
       "    </tr>\n",
       "    <tr>\n",
       "      <th>1</th>\n",
       "      <td>299</td>\n",
       "      <td>316</td>\n",
       "      <td>311</td>\n",
       "    </tr>\n",
       "    <tr>\n",
       "      <th>2</th>\n",
       "      <td>296</td>\n",
       "      <td>275</td>\n",
       "      <td>353</td>\n",
       "    </tr>\n",
       "    <tr>\n",
       "      <th>3</th>\n",
       "      <td>299</td>\n",
       "      <td>309</td>\n",
       "      <td>281</td>\n",
       "    </tr>\n",
       "    <tr>\n",
       "      <th>4</th>\n",
       "      <td>302</td>\n",
       "      <td>285</td>\n",
       "      <td>298</td>\n",
       "    </tr>\n",
       "  </tbody>\n",
       "</table>\n",
       "</div>"
      ],
      "text/plain": [
       "   296  295  293\n",
       "0  301  277  324\n",
       "1  299  316  311\n",
       "2  296  275  353\n",
       "3  299  309  281\n",
       "4  302  285  298"
      ]
     },
     "execution_count": 7,
     "metadata": {},
     "output_type": "execute_result"
    }
   ],
   "source": [
    "import pandas as pd\n",
    "\n",
    "scores = pd.read_csv(\"../data/gre_scores_3_sets.csv\")\n",
    "scores.head()"
   ]
  },
  {
   "cell_type": "code",
   "execution_count": 8,
   "metadata": {},
   "outputs": [
    {
     "data": {
      "text/plain": [
       "296   -0.015089\n",
       "295   -0.042408\n",
       "293    0.037187\n",
       "dtype: float64"
      ]
     },
     "execution_count": 8,
     "metadata": {},
     "output_type": "execute_result"
    }
   ],
   "source": [
    "scores.skew()"
   ]
  },
  {
   "cell_type": "markdown",
   "metadata": {},
   "source": [
    "**skew ( )** calculates the skewness of all the numeric parameters in the dataframe. You could very well look at a specific column by specifying it like so. "
   ]
  },
  {
   "cell_type": "code",
   "execution_count": 10,
   "metadata": {},
   "outputs": [
    {
     "data": {
      "text/plain": [
       "-0.06381213242716723"
      ]
     },
     "execution_count": 10,
     "metadata": {},
     "output_type": "execute_result"
    }
   ],
   "source": [
    "scores.iloc[0,:].skew()"
   ]
  },
  {
   "cell_type": "markdown",
   "metadata": {},
   "source": [
    "## Kurtosis"
   ]
  },
  {
   "cell_type": "markdown",
   "metadata": {},
   "source": [
    "Quite simply, kurtosis is the sharpness of the peak in a probablity density function. For example, look at the following picture from wikipedia. "
   ]
  },
  {
   "cell_type": "markdown",
   "metadata": {},
   "source": [
    "<img src=\"./pics/kurtosis.png\"/>"
   ]
  },
  {
   "cell_type": "markdown",
   "metadata": {},
   "source": [
    "More the kurtosis, sharper the peak. Once again, pandas has a function called **kurtosis ( )** that measures the kurtosis of a dataset. "
   ]
  },
  {
   "cell_type": "code",
   "execution_count": 12,
   "metadata": {},
   "outputs": [
    {
     "data": {
      "text/plain": [
       "296   -0.011459\n",
       "295    0.002555\n",
       "293   -0.009964\n",
       "dtype: float64"
      ]
     },
     "execution_count": 12,
     "metadata": {},
     "output_type": "execute_result"
    }
   ],
   "source": [
    "scores.kurtosis()"
   ]
  },
  {
   "cell_type": "markdown",
   "metadata": {},
   "source": [
    "# Branches of Statistics"
   ]
  },
  {
   "cell_type": "markdown",
   "metadata": {},
   "source": [
    "## Descriptive Statistics"
   ]
  },
  {
   "cell_type": "markdown",
   "metadata": {},
   "source": [
    "When you are trying to describe or summarize data, the stats that you produce are typically called descriptive statistics. We have seen some examples of these\n",
    "- mean\n",
    "- standard deviation\n",
    "- skewness\n",
    "- kurtosis\n",
    "- defining the distribution ( for example as normal or not )\n",
    "etc\n",
    "\n",
    "These are all examples of descriptive statistics. Why use descriptive statistics ? Because raw number don't mean much. For example, when we looked at the GRE scores dataset above, human brain can't infer much about raw numbers as-is. However, summary stats and pictures mean much more as we have seen above. Many means could be used for describing data like pictures, summary statistics, tables etc. As long as your intent is to describe the data in a more meaningful way, it is called descriptive statistics. "
   ]
  },
  {
   "cell_type": "markdown",
   "metadata": {},
   "source": [
    "## Inferential Statistics"
   ]
  },
  {
   "cell_type": "markdown",
   "metadata": {},
   "source": [
    "If you wanted to describe the data of all the GRE scores in say India, is it possible ? Well, it might be possible if you were the authority that administers GRE score. However, if you didn't have access to the entire dataset, how can you make any kind of inferences about the entire set of GRE scores in India ? \n",
    "\n",
    "You start with a **Sample** - Say, you pull out samples from across some of the students who have taken the exam and you try to extrapolate the results across the entire scores dataset. \n",
    "\n",
    "When you take a small sample dataset (from a population) and try to infer the characteristics of the larger dataset (the entire population), it is called **Inferential Statistics**\n",
    "\n",
    "Let's talk about some more examples to understand this. "
   ]
  },
  {
   "cell_type": "markdown",
   "metadata": {},
   "source": [
    "**Example 1**\n",
    "Say you are a child psychologist trying to understand the behaviour of a particular diet on kids with a certain disorder. Obviously, you cannot test every kid in the country. So, you pick a sample - say 10 or 20 kids. To make the results more generic, you have to ensure that the kids are well representative of the entire population of kids that have that particular disorder. So, you would ensure that the kids are \n",
    "- from geographically diverse areas of the country\n",
    "- from all different ethnical or racial backgrounds\n",
    "- from all different age groups\n",
    "etc"
   ]
  },
  {
   "cell_type": "markdown",
   "metadata": {},
   "source": [
    "The key however is that you don't work with the entire population. You just work with a sample, and assume that this works with the rest of the population as well."
   ]
  }
 ],
 "metadata": {
  "kernelspec": {
   "display_name": "Python 3",
   "language": "python",
   "name": "python3"
  },
  "language_info": {
   "codemirror_mode": {
    "name": "ipython",
    "version": 3
   },
   "file_extension": ".py",
   "mimetype": "text/x-python",
   "name": "python",
   "nbconvert_exporter": "python",
   "pygments_lexer": "ipython3",
   "version": "3.7.2"
  }
 },
 "nbformat": 4,
 "nbformat_minor": 2
}
