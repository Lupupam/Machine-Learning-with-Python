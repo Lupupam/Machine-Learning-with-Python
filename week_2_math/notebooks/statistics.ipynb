{
 "cells": [
  {
   "cell_type": "markdown",
   "metadata": {},
   "source": [
    "Copyright &copy; of Ajay Tech @ https://ajaytech.co"
   ]
  },
  {
   "cell_type": "markdown",
   "metadata": {},
   "source": [
    "<h1>Statistics for Machine Learning</h1>"
   ]
  },
  {
   "cell_type": "markdown",
   "metadata": {},
   "source": [
    "## Table of Contents\n",
    "- ### Intro\n",
    " - #### [What is Statistics](#What-is-Statistics) ?\n",
    " - #### [Why learn Statistics in Machine Learning](#Why-learn-Statistics-in-Machine-Learning) ?\n",
    " - #### [Our Approach to learning Statistics](#Our-Approach-to-learning-Statistics)\n",
    "- ### [Key Terms](#Key-Terms)\n",
    " - #### [Population vs Sample](#Population-vs-Sample)\n",
    " - #### [Variables](#Variables)\n",
    "   - ##### [Continous](#Continous)\n",
    "   - ##### [Categorical](#Categorical)\n",
    " - #### [Distribution](#Distribution)\n",
    "   - ##### [Visualize a Distribution](#Visualize-a-Distribution)\n",
    "- ### [Define a Distribution](#Define-a-Distribution)\n",
    " - #### [Central Tendency](#Central-Tendency) \n",
    "   - ##### [Mean](#Mean)\n",
    "   - ##### [Median](#Median)\n",
    "   - ##### [Mode](#Mode)   \n",
    " - #### [Spread](#Spread)\n",
    "   - ##### [Standard Deviation](#Standard-Deviation)      \n",
    "   - ##### [Variance](#Variance)\n",
    "   - ##### [What does Standard Deviation represent ?](#What-does-Standard-Deviation-represent)  \n",
    "     - ##### [How far from the mean](#How-far-from-the-mean)\n",
    "     - ##### [How spread out](#How-spread-out)\n",
    "     - ##### [Why 2 different metrics to meausure the spread](#Why-2-different-metrics-to-measure-spread)\n",
    " - #### [Skewness](#Skewness)\n",
    " - #### [Kurtosis](#Kurtosis)\n",
    "- ### [Branches of Statistics](#Branches-of-Statistics)\n",
    " - #### [Descriptive Statistics](#Descriptive-Statistics)\n",
    " - #### [Inferential Statistics](#Inferential-Statistics)\n",
    "- ### [Central Limit Theorem](#Central-Limit-Theorem)\n",
    " - #### [Law of Large Numbers](#Law-of-Large-Numbers)"
   ]
  },
  {
   "cell_type": "markdown",
   "metadata": {},
   "source": [
    "## What is Statistics"
   ]
  },
  {
   "cell_type": "markdown",
   "metadata": {},
   "source": [
    "Statistics is probably _**THE MOST IMPORTANT**_ tool in the hands of Data Scientists and Machine Learning experts. In fact Machine Learning is referred to as _**Statistical Learning**_ by statisticians. Statistics started almost 3 centuries ago as a formal science and is a pretty broad subject. We are only interested in learning specific aspects of it as they relate to data science and machine learning. However, we have to understand that Machine Learning is an evolutionary field - statistics happens to be just one of the tools. Some tend to say that ML is just glorified statistics , it is not true. \n",
    "\n",
    "For example, if you look at some of the algorithms used in Machine Learning like K-Nearest Neighbour ( KNN ) the significance statistics ( atleast in it's classic sense ) is very minimal. "
   ]
  },
  {
   "cell_type": "markdown",
   "metadata": {},
   "source": [
    "## Why learn Statistics in Machine Learning"
   ]
  },
  {
   "cell_type": "markdown",
   "metadata": {},
   "source": [
    "Every phase of Machine Learning requires some level of statistics. It is beyond the scope at this point to discuss how specifically statistics can be used in ML. However, as we progress through the course, you will see that the **_underlying mathematics of most of ML is still Statistics_**. "
   ]
  },
  {
   "cell_type": "markdown",
   "metadata": {},
   "source": [
    "## Our Approach to learning Statistics"
   ]
  },
  {
   "cell_type": "markdown",
   "metadata": {},
   "source": [
    "You don't need a Ph.D in statistics to be a Data Scientist or ML expert. In fact, when it comes to deep learning, the significance of statistics drops even further. However, statistics still remains the most useful tool in most areas of ML. So, the way we learn statistics would be limited to just the fundamentals of statistical methods as they apply to Machine Learning. Also, we will learn the relevant statistical methods in an incremental fashion. And instead of learning the basic statistical methods as they are, we will keep our approach data oriented. This will provide the context under which we are learning specific techniques. "
   ]
  },
  {
   "cell_type": "code",
   "execution_count": null,
   "metadata": {},
   "outputs": [],
   "source": []
  },
  {
   "cell_type": "markdown",
   "metadata": {},
   "source": [
    "Broadly, there are two branches in statistics\n",
    "- Descriptive\n",
    "- Inferential\n",
    "\n",
    "Before we understand what each of these mean, let's understand a couple of terms. "
   ]
  },
  {
   "cell_type": "markdown",
   "metadata": {},
   "source": [
    "# Key Terms"
   ]
  },
  {
   "cell_type": "markdown",
   "metadata": {},
   "source": [
    "Before we even get to the basics of statistics, we have to understand a couple of key terms. \n",
    "\n",
    "- Population\n",
    "- Sample\n",
    "- Variables\n",
    "- Distribution"
   ]
  },
  {
   "cell_type": "markdown",
   "metadata": {},
   "source": [
    "#### Population vs Sample"
   ]
  },
  {
   "cell_type": "markdown",
   "metadata": {},
   "source": [
    "A population represents the entire data set. For example, if you have the entire data of all the grades in a particular class - that dataset is called the population. The word population can be confusing. It is natural for non-statisticians to refer to population as people or living beings. However, We are not talking about the people of the class, but we are just talking about the data points only. You could be referring to a dataset of median house prices in a county or the age of stars in a particular galaxy. As long as you refer to the entire dataset, it is called as **_Population_**\n",
    "\n",
    "If you take a small part out of it ( eithe randomly or sequentially or via other criteria ), it is called as a sample. For example, say Uber provides the rating data for all the drivers in New York City. Say there are 40,000 drivers. The entire dataset is referred to as the population. If you want to consider a particular part of the dataset , say a bunch of 10,000 drivers from it, it is called as a **_Sample_**. "
   ]
  },
  {
   "cell_type": "markdown",
   "metadata": {},
   "source": [
    "<img src=\"./pics/population-vs-sample.png\"/>"
   ]
  },
  {
   "cell_type": "markdown",
   "metadata": {},
   "source": [
    "In simple words\n",
    "\n",
    "**_Population_**  - The entire data set\n",
    "\n",
    "**_Sample_**      - A subset of the entire data set"
   ]
  },
  {
   "cell_type": "markdown",
   "metadata": {},
   "source": [
    "#### Variables"
   ]
  },
  {
   "cell_type": "markdown",
   "metadata": {},
   "source": [
    "In the Uber example above, there are 2 variables. \n",
    "- Driver\n",
    "- Rating\n"
   ]
  },
  {
   "cell_type": "markdown",
   "metadata": {},
   "source": [
    "There are 2 types of variables in general. "
   ]
  },
  {
   "cell_type": "markdown",
   "metadata": {},
   "source": [
    "##### Continous"
   ]
  },
  {
   "cell_type": "markdown",
   "metadata": {},
   "source": [
    "Continous variables are typically numbers ( integers or floats ). Point being, they are on a continuum. For example, ratings are a contious variable. A rating of 4.5 is better than 3.5 - you can compare one rating with another numerically."
   ]
  },
  {
   "cell_type": "markdown",
   "metadata": {},
   "source": [
    "##### Categorical"
   ]
  },
  {
   "cell_type": "markdown",
   "metadata": {},
   "source": [
    "On the other hand, if you had another variable say **_Gender_** . What kind of variable would that be ? It can only take 2 values - Male of Female. Since there are only a fixed set (categories ) of values it can take, these kind of variables are called categorical variables."
   ]
  },
  {
   "cell_type": "markdown",
   "metadata": {},
   "source": [
    "<img src=\"./pics/types_of_variables.png\"/>"
   ]
  },
  {
   "cell_type": "markdown",
   "metadata": {},
   "source": [
    "#### Distribution"
   ]
  },
  {
   "cell_type": "markdown",
   "metadata": {},
   "source": [
    "There are many ways to define a distribution. In layman's terms, a distribution is basically a data pattern. For example, think of a subway owner in downtown Chicago. Most of his customers are office goers. So, most of his business happens on weekdays. Mondays and Fridays are a bit less and business generally peaks on Wednesdays. Now, if you draw this pattern out with the actual number of customers (average) on each day of the week you would get a pattern like this. "
   ]
  },
  {
   "cell_type": "markdown",
   "metadata": {},
   "source": [
    "<img src=\"./pics/customer_pattern.png\"/>"
   ]
  },
  {
   "cell_type": "markdown",
   "metadata": {},
   "source": [
    "What is the point in understanding this pattern ? A pattern is like a blue-print. For example, \n",
    "- if you understand the pattern of subway sales in downtown Chicago, you can very well understand the pattern in downtown New York, LA, SFO or any major city. \n",
    "- if a particular subway in downtown Boston does not fit this pattern, then there is some thing wrong. So, deviation from a pattern is used to spot anamolies. "
   ]
  },
  {
   "cell_type": "markdown",
   "metadata": {},
   "source": [
    "Remember, this is just a pattern. The numbers need not match, but the pattern needs to. For example, look at the picture below - the average sales between New York and Chicago does not match, but the pattern does."
   ]
  },
  {
   "cell_type": "markdown",
   "metadata": {},
   "source": [
    "<img src=\"./pics/pattern_not_values.png\"/>"
   ]
  },
  {
   "cell_type": "markdown",
   "metadata": {},
   "source": [
    "##### Visualize a Distribution"
   ]
  },
  {
   "cell_type": "markdown",
   "metadata": {},
   "source": [
    "Now that we know what a distribution is, we have to define it's characteristics. Let's take the most well known distribution - **_Gaussian Distribution_** . Many datasets tend to follow a gaussian distribution. There are many names to it\n",
    "- Normal Distribution\n",
    "- Bell Curve\n",
    "\n",
    "Say a group of 400 people are applying for admission to a college and their GRE scores are as follows.  "
   ]
  },
  {
   "cell_type": "code",
   "execution_count": 4,
   "metadata": {},
   "outputs": [
    {
     "data": {
      "image/png": "[encoded data removed]",
      "text/plain": [
       "<Figure size 432x288 with 1 Axes>"
      ]
     },
     "metadata": {
      "needs_background": "light"
     },
     "output_type": "display_data"
    }
   ],
   "source": [
    "%matplotlib inline\n",
    "import matplotlib.pyplot as plt\n",
    "import numpy as np\n",
    "\n",
    "# Read the scores file\n",
    "scores = np.genfromtxt(\"../data/gre_scores.csv\",delimiter=\",\")\n",
    "\n",
    "# Plot the histogram\n",
    "plt.hist(scores,bins=30)\n",
    "plt.show()"
   ]
  },
  {
   "cell_type": "markdown",
   "metadata": {},
   "source": [
    "Although this does not look very smooth, essentially the distribution is very close to Gaussian distribution. We have taken the help of a package called matplotlib ( which we will explore later ) to plot this distribution. To understand the way we draw a histogram, let's look at how this plot was drawn. "
   ]
  },
  {
   "cell_type": "code",
   "execution_count": 8,
   "metadata": {},
   "outputs": [
    {
     "data": {
      "text/plain": [
       "(array([ 2.,  1.,  2.,  9., 11.,  8., 17., 10.,  8., 14., 19.,  6., 20.,\n",
       "        30., 14., 24., 21.,  9., 25., 24., 19., 24., 18.,  9., 14., 10.,\n",
       "         7.,  9.,  5., 11.]),\n",
       " array([290.        , 291.66666667, 293.33333333, 295.        ,\n",
       "        296.66666667, 298.33333333, 300.        , 301.66666667,\n",
       "        303.33333333, 305.        , 306.66666667, 308.33333333,\n",
       "        310.        , 311.66666667, 313.33333333, 315.        ,\n",
       "        316.66666667, 318.33333333, 320.        , 321.66666667,\n",
       "        323.33333333, 325.        , 326.66666667, 328.33333333,\n",
       "        330.        , 331.66666667, 333.33333333, 335.        ,\n",
       "        336.66666667, 338.33333333, 340.        ]),\n",
       " <a list of 30 Patch objects>)"
      ]
     },
     "execution_count": 8,
     "metadata": {},
     "output_type": "execute_result"
    },
    {
     "data": {
      "image/png": "[encoded data removed]",
      "text/plain": [
       "<Figure size 432x288 with 1 Axes>"
      ]
     },
     "metadata": {
      "needs_background": "light"
     },
     "output_type": "display_data"
    }
   ],
   "source": [
    "plt.hist(scores,bins=30)"
   ]
  },
  {
   "cell_type": "markdown",
   "metadata": {},
   "source": [
    "Ths first array represents the y-axis\n",
    "<pre>\n",
    "array([ 2.,  1.,  2.,  9., 11.,  8., 17., 10.,  8., 14., 19.,  6., 20.,\n",
    "        30., 14., 24., 21.,  9., 25., 24., 19., 24., 18.,  9., 14., 10.,\n",
    "         7.,  9.,  5., 11.]),\n",
    "</pre>\n",
    "\n",
    "and the second array represents the x-axis\n",
    "<pre>\n",
    "array([290.        , 291.66666667, 293.33333333, 295.        ,\n",
    "        296.66666667, 298.33333333, 300.        , 301.66666667,\n",
    "        303.33333333, 305.        , 306.66666667, 308.33333333,\n",
    "        310.        , 311.66666667, 313.33333333, 315.        ,\n",
    "        316.66666667, 318.33333333, 320.        , 321.66666667,\n",
    "        323.33333333, 325.        , 326.66666667, 328.33333333,\n",
    "        330.        , 331.66666667, 333.33333333, 335.        ,\n",
    "        336.66666667, 338.33333333, 340.        ]),\n",
    "</pre>"
   ]
  },
  {
   "cell_type": "markdown",
   "metadata": {},
   "source": [
    "What has been done here is to essentially divide the 400 scores into 30 bins (or buckets). The average value of each bin is what is shown on the x-axis. The frequency of occurance of the scores within the bin is what the y-axis represents. \n",
    "\n",
    "For example, \n",
    "- how many scores are there between 290 and 291.66 ?  - 2\n",
    "- how many between 291.66 and 293.33 ?  - 1\n",
    "- and so on. \n",
    "\n",
    "Once you plot all of them, you get a plot like shown above - It is also called a **_histogram_** . We will know more about histograms later. "
   ]
  },
  {
   "cell_type": "markdown",
   "metadata": {},
   "source": [
    "Some kinds of data is not Gaussian. A classic example is the US income. Just to make things simple, here is a sample picture of US income depending on education level. "
   ]
  },
  {
   "cell_type": "markdown",
   "metadata": {},
   "source": [
    "<img src=\"./pics/education_income.jpg\"/>\n",
    "Image taken from <a href=\"https://en.wikipedia.org/wiki/Household_income_in_the_United_States\">Wikipedia</a>"
   ]
  },
  {
   "cell_type": "markdown",
   "metadata": {},
   "source": [
    "As you can see clearly, this data is not gaussian by any measures. We will see more examples of different types of distribution later. "
   ]
  },
  {
   "cell_type": "markdown",
   "metadata": {},
   "source": [
    "# Define a Distribution"
   ]
  },
  {
   "cell_type": "markdown",
   "metadata": {},
   "source": [
    "## Central Tendency"
   ]
  },
  {
   "cell_type": "markdown",
   "metadata": {},
   "source": [
    "### Mean"
   ]
  },
  {
   "cell_type": "markdown",
   "metadata": {},
   "source": [
    "One of the most basic properties of a data set is it's mean. Mean is a measure of the **_Central Tendency_** of data. In layman terms, if you were to pick one point in a dataset that is representative of the entire dataset, it would be the mean. Also called \"average\" in common vocabulary, calculating the mean is really simple. Just add up all the values in a particular variable of a dataset and divide it by the total number of values in it. \n",
    "\n",
    "For example, if there are 5 Uber drivers with 5 different ratings, what is their mean ?"
   ]
  },
  {
   "cell_type": "markdown",
   "metadata": {},
   "source": [
    "<img src=\"./pics/mean.png\"/>"
   ]
  },
  {
   "cell_type": "markdown",
   "metadata": {},
   "source": [
    "Similarly, you can calculate the mean of all the 400 GRE scores we have loaded above using numpy's handy _mean ( )_ function "
   ]
  },
  {
   "cell_type": "code",
   "execution_count": 9,
   "metadata": {},
   "outputs": [
    {
     "data": {
      "text/plain": [
       "316.8075"
      ]
     },
     "execution_count": 9,
     "metadata": {},
     "output_type": "execute_result"
    }
   ],
   "source": [
    "mean = np.mean(scores)\n",
    "mean"
   ]
  },
  {
   "cell_type": "markdown",
   "metadata": {},
   "source": [
    "#### Median"
   ]
  },
  {
   "cell_type": "markdown",
   "metadata": {},
   "source": [
    "Mean does not always represent the _average_ of the data. For normal distributions it typically does. However, for many other data distributions, mean does not represent the _average_. For example, take the US income distribution data. As you can see the data is heavily skewed towards the end ( from the income vs education plot above ). Here is another dataset of income vs the number of households in the US. Since the number of housholds is huge, the data has been bucketed into income brackets for easy analysis. "
   ]
  },
  {
   "cell_type": "markdown",
   "metadata": {},
   "source": [
    "<pre>\n",
    "income_bracket\thouseholds\n",
    "10-15k\t        5700000\n",
    "15-20k\t        5620000\n",
    "20-25k\t        5930000\n",
    "25-30k\t        5500000\n",
    "30-35k\t        5780000\n",
    "35-40k\t        5340000\n",
    "40-45k\t        5380000\n",
    "45-50k\t        4730000\n",
    "50-60k\t        9210000\n",
    "60-75k\t       11900000\n",
    "75-100k\t      14700000\n",
    "100-125k\t     10300000\n",
    "125-150k\t      6360000\n",
    "150-200k\t      6920000\n",
    "200k-plus\t     7600000\n",
    "</pre>"
   ]
  },
  {
   "cell_type": "code",
   "execution_count": 2,
   "metadata": {},
   "outputs": [
    {
     "data": {
      "image/png": "[encoded data removed]",
      "text/plain": [
       "<Figure size 432x288 with 1 Axes>"
      ]
     },
     "metadata": {
      "needs_background": "light"
     },
     "output_type": "display_data"
    }
   ],
   "source": [
    "import matplotlib.pyplot as plt\n",
    "import pandas as pd\n",
    "\n",
    "income_data = pd.read_csv(\"../data/us_income_brackets.csv\")\n",
    "plt.bar(income_data[\"income_bracket\"], income_data[\"households\"])\n",
    "plt.show()\n",
    "\n"
   ]
  },
  {
   "cell_type": "markdown",
   "metadata": {},
   "source": [
    "As you can see from the picture above, the data is skewed. Now, let's calculate the mean and median and you will know the difference."
   ]
  },
  {
   "cell_type": "code",
   "execution_count": 25,
   "metadata": {},
   "outputs": [
    {
     "data": {
      "text/plain": [
       "income_bracket          0.0\n",
       "households        7398000.0\n",
       "dtype: float64"
      ]
     },
     "execution_count": 25,
     "metadata": {},
     "output_type": "execute_result"
    }
   ],
   "source": [
    "income_data[\"households\"] = pd.to_numeric(income_data[\"households\"])\n",
    "income_data.mean()"
   ]
  },
  {
   "cell_type": "code",
   "execution_count": 26,
   "metadata": {},
   "outputs": [
    {
     "data": {
      "text/plain": [
       "households    5930000.0\n",
       "dtype: float64"
      ]
     },
     "execution_count": 26,
     "metadata": {},
     "output_type": "execute_result"
    }
   ],
   "source": [
    "income_data.median()"
   ]
  },
  {
   "cell_type": "markdown",
   "metadata": {},
   "source": [
    "As you can see, there is a difference between the mean of the households ( 7.3 M ) vs the median of the households ( 5.9 M). In cases of distribution like this, a median is more _representative_ than the median. "
   ]
  },
  {
   "cell_type": "markdown",
   "metadata": {},
   "source": [
    "The way mode is calculated is also simple. Just order the values in increasing order and pick the middle element."
   ]
  },
  {
   "cell_type": "markdown",
   "metadata": {},
   "source": [
    "<img src=\"./pics/buildings-by-height.svg\"/>"
   ]
  },
  {
   "cell_type": "markdown",
   "metadata": {},
   "source": [
    "For example, in our case, take the households and arrange them in order."
   ]
  },
  {
   "cell_type": "code",
   "execution_count": 31,
   "metadata": {},
   "outputs": [
    {
     "data": {
      "text/plain": [
       "0      5700000\n",
       "1      5620000\n",
       "2      5930000\n",
       "3      5500000\n",
       "4      5780000\n",
       "5      5340000\n",
       "6      5380000\n",
       "7      4730000\n",
       "8      9210000\n",
       "9     11900000\n",
       "10    14700000\n",
       "11    10300000\n",
       "12     6360000\n",
       "13     6920000\n",
       "14     7600000\n",
       "Name: households, dtype: int64"
      ]
     },
     "execution_count": 31,
     "metadata": {},
     "output_type": "execute_result"
    }
   ],
   "source": [
    "households = income_data[\"households\"]\n",
    "households"
   ]
  },
  {
   "cell_type": "code",
   "execution_count": 34,
   "metadata": {},
   "outputs": [
    {
     "data": {
      "text/plain": [
       "7      4730000\n",
       "5      5340000\n",
       "6      5380000\n",
       "3      5500000\n",
       "1      5620000\n",
       "0      5700000\n",
       "4      5780000\n",
       "2      5930000\n",
       "12     6360000\n",
       "13     6920000\n",
       "14     7600000\n",
       "8      9210000\n",
       "11    10300000\n",
       "9     11900000\n",
       "10    14700000\n",
       "Name: households, dtype: int64"
      ]
     },
     "execution_count": 34,
     "metadata": {},
     "output_type": "execute_result"
    }
   ],
   "source": [
    "households.sort_values()"
   ]
  },
  {
   "cell_type": "markdown",
   "metadata": {},
   "source": [
    "There are 15 values and the middle value is the 8th object. So the median of the households is 5.93 M"
   ]
  },
  {
   "cell_type": "markdown",
   "metadata": {},
   "source": [
    "#### Mode"
   ]
  },
  {
   "cell_type": "markdown",
   "metadata": {},
   "source": [
    "Mode is just the highest value in the dataset. If the dataset follows a gaussian distribution, it is the peak of the histogram."
   ]
  },
  {
   "cell_type": "markdown",
   "metadata": {},
   "source": [
    "##### Mean vs Median vs Mode"
   ]
  },
  {
   "cell_type": "markdown",
   "metadata": {},
   "source": [
    "The reason why these terms exist is that, there is no one way to define the _Central Tendency_ of a dataset. It depends on the nature of the distribution that the dataset conforms to. For example, if the dataset is a normal distribution, then most of the time the mean, median and mode are pretty close together. The relationship is beautifully visualized in this wikipedia diagram. "
   ]
  },
  {
   "cell_type": "code",
   "execution_count": 36,
   "metadata": {},
   "outputs": [
    {
     "data": {
      "text/html": [
       "<div>\n",
       "<style scoped>\n",
       "    .dataframe tbody tr th:only-of-type {\n",
       "        vertical-align: middle;\n",
       "    }\n",
       "\n",
       "    .dataframe tbody tr th {\n",
       "        vertical-align: top;\n",
       "    }\n",
       "\n",
       "    .dataframe thead th {\n",
       "        text-align: right;\n",
       "    }\n",
       "</style>\n",
       "<table border=\"1\" class=\"dataframe\">\n",
       "  <thead>\n",
       "    <tr style=\"text-align: right;\">\n",
       "      <th></th>\n",
       "      <th>income_bracket</th>\n",
       "      <th>households</th>\n",
       "    </tr>\n",
       "  </thead>\n",
       "  <tbody>\n",
       "    <tr>\n",
       "      <th>0</th>\n",
       "      <td>10-15k</td>\n",
       "      <td>4730000</td>\n",
       "    </tr>\n",
       "    <tr>\n",
       "      <th>1</th>\n",
       "      <td>100-125k</td>\n",
       "      <td>5340000</td>\n",
       "    </tr>\n",
       "    <tr>\n",
       "      <th>2</th>\n",
       "      <td>125-150k</td>\n",
       "      <td>5380000</td>\n",
       "    </tr>\n",
       "    <tr>\n",
       "      <th>3</th>\n",
       "      <td>15-20k</td>\n",
       "      <td>5500000</td>\n",
       "    </tr>\n",
       "    <tr>\n",
       "      <th>4</th>\n",
       "      <td>150-200k</td>\n",
       "      <td>5620000</td>\n",
       "    </tr>\n",
       "    <tr>\n",
       "      <th>5</th>\n",
       "      <td>20-25k</td>\n",
       "      <td>5700000</td>\n",
       "    </tr>\n",
       "    <tr>\n",
       "      <th>6</th>\n",
       "      <td>200k-plus</td>\n",
       "      <td>5780000</td>\n",
       "    </tr>\n",
       "    <tr>\n",
       "      <th>7</th>\n",
       "      <td>25-30k</td>\n",
       "      <td>5930000</td>\n",
       "    </tr>\n",
       "    <tr>\n",
       "      <th>8</th>\n",
       "      <td>30-35k</td>\n",
       "      <td>6360000</td>\n",
       "    </tr>\n",
       "    <tr>\n",
       "      <th>9</th>\n",
       "      <td>35-40k</td>\n",
       "      <td>6920000</td>\n",
       "    </tr>\n",
       "    <tr>\n",
       "      <th>10</th>\n",
       "      <td>40-45k</td>\n",
       "      <td>7600000</td>\n",
       "    </tr>\n",
       "    <tr>\n",
       "      <th>11</th>\n",
       "      <td>45-50k</td>\n",
       "      <td>9210000</td>\n",
       "    </tr>\n",
       "    <tr>\n",
       "      <th>12</th>\n",
       "      <td>50-60k</td>\n",
       "      <td>10300000</td>\n",
       "    </tr>\n",
       "    <tr>\n",
       "      <th>13</th>\n",
       "      <td>60-75k</td>\n",
       "      <td>11900000</td>\n",
       "    </tr>\n",
       "    <tr>\n",
       "      <th>14</th>\n",
       "      <td>75-100k</td>\n",
       "      <td>14700000</td>\n",
       "    </tr>\n",
       "  </tbody>\n",
       "</table>\n",
       "</div>"
      ],
      "text/plain": [
       "   income_bracket  households\n",
       "0          10-15k     4730000\n",
       "1        100-125k     5340000\n",
       "2        125-150k     5380000\n",
       "3          15-20k     5500000\n",
       "4        150-200k     5620000\n",
       "5          20-25k     5700000\n",
       "6       200k-plus     5780000\n",
       "7          25-30k     5930000\n",
       "8          30-35k     6360000\n",
       "9          35-40k     6920000\n",
       "10         40-45k     7600000\n",
       "11         45-50k     9210000\n",
       "12         50-60k    10300000\n",
       "13         60-75k    11900000\n",
       "14        75-100k    14700000"
      ]
     },
     "execution_count": 36,
     "metadata": {},
     "output_type": "execute_result"
    }
   ],
   "source": [
    "income_data.mode()"
   ]
  },
  {
   "cell_type": "markdown",
   "metadata": {},
   "source": [
    "<img src=\"./pics/mean-median-mode.png\"/>"
   ]
  },
  {
   "cell_type": "markdown",
   "metadata": {},
   "source": [
    "For a normal distribution, the 3 parameters ( mean, median, mode ) are pretty close together. For a skewed distribution, they are pretty staggered."
   ]
  },
  {
   "cell_type": "markdown",
   "metadata": {},
   "source": [
    "## Spread"
   ]
  },
  {
   "cell_type": "markdown",
   "metadata": {},
   "source": [
    "### Standard Deviation"
   ]
  },
  {
   "cell_type": "markdown",
   "metadata": {},
   "source": [
    "While mean represents the \"Central\" or \"Average\" value of a dataset, variance represents how spread out the data is. For example, look at the 3 _histograms_ below. They represent histograms of GRE scores among 3 different groups."
   ]
  },
  {
   "cell_type": "markdown",
   "metadata": {},
   "source": [
    "<img src=\"./pics/variance_example.png\"/>"
   ]
  },
  {
   "cell_type": "code",
   "execution_count": 5,
   "metadata": {},
   "outputs": [
    {
     "data": {
      "image/png": "[encoded data removed]",
      "text/plain": [
       "<Figure size 432x288 with 3 Axes>"
      ]
     },
     "metadata": {
      "needs_background": "light"
     },
     "output_type": "display_data"
    }
   ],
   "source": [
    "import matplotlib.pyplot as plt\n",
    "import numpy as np\n",
    "\n",
    "# Read the scores file\n",
    "scores = np.genfromtxt(\"../data/gre_scores_3_sets.csv\",delimiter=\",\")\n",
    "\n",
    "f, (ax1, ax2,ax3) = plt.subplots(1, 3, sharey=True)\n",
    "ax1.set_xlim(200,400)\n",
    "ax1.hist(scores[:,0],bins=300)\n",
    "ax2.set_xlim(200,400)\n",
    "ax2.hist(scores[:,1],bins=300)\n",
    "ax3.set_xlim(200,400)\n",
    "ax3.hist(scores[:,2],bins=300)\n",
    "plt.show()"
   ]
  },
  {
   "cell_type": "markdown",
   "metadata": {},
   "source": [
    "All these 3 graphs represent 10K rows of GRE scores from 3 different groups. All 3 of them have the same mean - 300. However, they are different, right ? What I want you to focus on is the shape of the distribution, not the height. Specifically, look at the x-axis. In the first plot, the data is focussed, pretty much around the average(300) mark. In the second plot, it is a bit spread out ( hence the reduction in size ) and the third plot is pretty spread out. \n",
    "\n",
    "The green line represents the mean and the red line represents the **_Standard Deviation_** or σ ( represented by the Greek symbol sigma ). It is a measure of how spread out the distribution is. The more spread out the distribution is, the more flatter the bell curve is."
   ]
  },
  {
   "cell_type": "markdown",
   "metadata": {},
   "source": [
    "<img src=\"./pics/mean-vs-sd.png\"/>"
   ]
  },
  {
   "cell_type": "markdown",
   "metadata": {},
   "source": [
    "You can also think of _Standard Deviation_ as a measure of uncertianity in Data Science. Imagine a drug trail working on reducing blood pressure. Say, on an average 3 different trails produce an average reduction of 30 points. However, trail 1 has very low standard deviation. Obviously, you would want to go with the first drug - because the third drug is more uncertain about the result. "
   ]
  },
  {
   "cell_type": "code",
   "execution_count": 3,
   "metadata": {},
   "outputs": [
    {
     "data": {
      "image/png": "[encoded data removed]",
      "text/plain": [
       "<Figure size 432x288 with 3 Axes>"
      ]
     },
     "metadata": {
      "needs_background": "light"
     },
     "output_type": "display_data"
    }
   ],
   "source": [
    "import matplotlib.pyplot as plt\n",
    "import numpy as np\n",
    "\n",
    "# Read the scores file\n",
    "scores = np.genfromtxt(\"../data/gre_scores_3_sets.csv\",delimiter=\",\")\n",
    "\n",
    "f, (ax1, ax2,ax3) = plt.subplots(1, 3, sharey=True)\n",
    "ax1.set_xlim(200,400)\n",
    "ax1.axvline(x=305, ymin=0, ymax = 800, linewidth=2, color='r')\n",
    "ax1.axvline(x=300, ymin=0, ymax = 800, linewidth=2, color='g')\n",
    "ax1.hist(scores[:,0],bins=300)\n",
    "ax2.set_xlim(200,400)\n",
    "ax2.axvline(x=315, ymin=0, ymax = 800, linewidth=2, color='r')\n",
    "ax2.axvline(x=300, ymin=0, ymax = 800, linewidth=2, color='g')\n",
    "ax2.hist(scores[:,1],bins=300)\n",
    "ax3.set_xlim(200,400)\n",
    "ax3.axvline(x=330, ymin=0, ymax = 800, linewidth=2, color='r')\n",
    "ax3.axvline(x=300, ymin=0, ymax = 800, linewidth=2, color='g')\n",
    "ax3.hist(scores[:,2],bins=300)\n",
    "plt.show()"
   ]
  },
  {
   "cell_type": "markdown",
   "metadata": {},
   "source": [
    "Now that we have seen what standard deviation is visually, calculating it is just as easy in numpy. "
   ]
  },
  {
   "cell_type": "code",
   "execution_count": 9,
   "metadata": {},
   "outputs": [
    {
     "name": "stdout",
     "output_type": "stream",
     "text": [
      "[[296. 295. 293.]\n",
      " [301. 277. 324.]\n",
      " [299. 316. 311.]\n",
      " ...\n",
      " [299. 283. 286.]\n",
      " [301. 299. 272.]\n",
      " [298. 301. 285.]]\n"
     ]
    },
    {
     "data": {
      "text/plain": [
       "array([ 4.99548675, 15.01404265, 30.08496664])"
      ]
     },
     "execution_count": 9,
     "metadata": {},
     "output_type": "execute_result"
    }
   ],
   "source": [
    "print ( scores )\n",
    "np.std(scores,axis=0) # axis=0 to specify that we want standard deviation along columns."
   ]
  },
  {
   "cell_type": "markdown",
   "metadata": {},
   "source": [
    "### Variance"
   ]
  },
  {
   "cell_type": "markdown",
   "metadata": {},
   "source": [
    "**_Standard Deviation_** is actually a derivative of variance. So, variance is calculated first. However, to illustrate that variance or standard deviation represents spread on the plot, we have learnt _standard deviation_ first. However, we have to understand how variance is calculated, because this is the basis for calculating _standard deviation_ . \n",
    "\n",
    "Let's calculate variance of a small dataset in excel to understand the process better. \n",
    "\n",
    "[variance_calculation](../data/variance_calculation.xlsx)"
   ]
  },
  {
   "cell_type": "markdown",
   "metadata": {},
   "source": [
    "<img src=\"./pics/variance_calculation_excel.png\"/>"
   ]
  },
  {
   "cell_type": "markdown",
   "metadata": {},
   "source": [
    "You can use **numpy** or **pandas** to calculate variance. Continuing wiht our scores data above,"
   ]
  },
  {
   "cell_type": "code",
   "execution_count": 7,
   "metadata": {},
   "outputs": [
    {
     "name": "stdout",
     "output_type": "stream",
     "text": [
      "[[296. 295. 293.]\n",
      " [301. 277. 324.]\n",
      " [299. 316. 311.]\n",
      " ...\n",
      " [299. 283. 286.]\n",
      " [301. 299. 272.]\n",
      " [298. 301. 285.]]\n"
     ]
    },
    {
     "data": {
      "text/plain": [
       "array([ 24.95488791, 225.42147676, 905.10521756])"
      ]
     },
     "execution_count": 7,
     "metadata": {},
     "output_type": "execute_result"
    }
   ],
   "source": [
    "print(scores)\n",
    "np.var(scores,axis=0) ## axis=0 to specify that we want variance across the columns"
   ]
  },
  {
   "cell_type": "markdown",
   "metadata": {},
   "source": [
    "### What does Standard Deviation represent"
   ]
  },
  {
   "cell_type": "markdown",
   "metadata": {},
   "source": [
    "Now that we know the basic definitions of **_Variance_** and **_Standard Deviation_**, let's look at what it really represents."
   ]
  },
  {
   "cell_type": "markdown",
   "metadata": {},
   "source": [
    "#### How far from the mean"
   ]
  },
  {
   "cell_type": "markdown",
   "metadata": {},
   "source": [
    " Wikipedia has a nice picture to show this in the context of Gaussian distribution. "
   ]
  },
  {
   "cell_type": "markdown",
   "metadata": {},
   "source": [
    "<img src=\"./pics/what-does-standard-deviation-represent.png\"/>"
   ]
  },
  {
   "cell_type": "markdown",
   "metadata": {},
   "source": [
    "In a normal distribution, a single standard deviation represents roughly 34% of the values in the entire distribution. If you look at both the positive and negative deviation it is roughly 68% of the total values in the distribution. In the context of GRE scores, if your GRE score is 1 standard deviation away from the mean, you are essentially almost 68% off of the average score. That is not a bad thing for GRE score because you would not want an average score right ?  "
   ]
  },
  {
   "cell_type": "markdown",
   "metadata": {},
   "source": [
    "#### How spread out "
   ]
  },
  {
   "cell_type": "markdown",
   "metadata": {},
   "source": [
    "Another way to look at the _Standard Deviation_ is , how spread out the distribution is. Once again, there is a nice representation of this in Wikipedia. "
   ]
  },
  {
   "cell_type": "markdown",
   "metadata": {},
   "source": [
    "<img src=\"./pics/sd_more_less.png\"/>"
   ]
  },
  {
   "cell_type": "markdown",
   "metadata": {},
   "source": [
    "The more the _Standard Deviation_ , the more the distribution is spread out. "
   ]
  },
  {
   "cell_type": "markdown",
   "metadata": {},
   "source": [
    "#### Why 2 different metrics to measure spread"
   ]
  },
  {
   "cell_type": "markdown",
   "metadata": {},
   "source": [
    "Why are we using 2 different metircs (Variance & Standard Deviation) to measure the same parameter - spread ? \n",
    "\n",
    "For one, you can only calculate _Standard Deviation_ from _Mean. Also, **_Variance_** is used to measure how far the data is spread out, while **_Standard Deviation_** is used to measure how the data differs from its mean. However, since _Standard Deviation_ is in the same metric as the data, it is used more often than Variance. "
   ]
  },
  {
   "cell_type": "markdown",
   "metadata": {},
   "source": [
    "## Skewness"
   ]
  },
  {
   "cell_type": "markdown",
   "metadata": {},
   "source": [
    "Look at the picture below ( courtesy of Wikipedia )"
   ]
  },
  {
   "cell_type": "markdown",
   "metadata": {},
   "source": [
    "<img src=\"./pics/skew-positive-negative.png\" style=\"background-color:white;\" />"
   ]
  },
  {
   "cell_type": "markdown",
   "metadata": {},
   "source": [
    "These are distributions that are skewed ( either to the right or to the left ) - meaning they are asymmetric as compared to a standard distribution.  "
   ]
  },
  {
   "cell_type": "markdown",
   "metadata": {},
   "source": [
    "Skewness is a measure of that **asymmetry** . A very popular example of this data is the income data. The following picture shows us the income distribution of the US, but almost all countries follow a similar pattern. "
   ]
  },
  {
   "cell_type": "markdown",
   "metadata": {},
   "source": [
    "<img src=\"./pics/right-skewed-distribution.png\"/>"
   ]
  },
  {
   "cell_type": "markdown",
   "metadata": {},
   "source": [
    "This is an example of a right skewed distribution ( where the tail is more pronounced to the right ). Similarly, a left skewed distribution would be an opposite of this ( long tail to the left ). To measure the skewness of a distribution, pandas has a funcion called **skew ( )**. "
   ]
  },
  {
   "cell_type": "code",
   "execution_count": 7,
   "metadata": {},
   "outputs": [
    {
     "data": {
      "text/html": [
       "<div>\n",
       "<style scoped>\n",
       "    .dataframe tbody tr th:only-of-type {\n",
       "        vertical-align: middle;\n",
       "    }\n",
       "\n",
       "    .dataframe tbody tr th {\n",
       "        vertical-align: top;\n",
       "    }\n",
       "\n",
       "    .dataframe thead th {\n",
       "        text-align: right;\n",
       "    }\n",
       "</style>\n",
       "<table border=\"1\" class=\"dataframe\">\n",
       "  <thead>\n",
       "    <tr style=\"text-align: right;\">\n",
       "      <th></th>\n",
       "      <th>296</th>\n",
       "      <th>295</th>\n",
       "      <th>293</th>\n",
       "    </tr>\n",
       "  </thead>\n",
       "  <tbody>\n",
       "    <tr>\n",
       "      <th>0</th>\n",
       "      <td>301</td>\n",
       "      <td>277</td>\n",
       "      <td>324</td>\n",
       "    </tr>\n",
       "    <tr>\n",
       "      <th>1</th>\n",
       "      <td>299</td>\n",
       "      <td>316</td>\n",
       "      <td>311</td>\n",
       "    </tr>\n",
       "    <tr>\n",
       "      <th>2</th>\n",
       "      <td>296</td>\n",
       "      <td>275</td>\n",
       "      <td>353</td>\n",
       "    </tr>\n",
       "    <tr>\n",
       "      <th>3</th>\n",
       "      <td>299</td>\n",
       "      <td>309</td>\n",
       "      <td>281</td>\n",
       "    </tr>\n",
       "    <tr>\n",
       "      <th>4</th>\n",
       "      <td>302</td>\n",
       "      <td>285</td>\n",
       "      <td>298</td>\n",
       "    </tr>\n",
       "  </tbody>\n",
       "</table>\n",
       "</div>"
      ],
      "text/plain": [
       "   296  295  293\n",
       "0  301  277  324\n",
       "1  299  316  311\n",
       "2  296  275  353\n",
       "3  299  309  281\n",
       "4  302  285  298"
      ]
     },
     "execution_count": 7,
     "metadata": {},
     "output_type": "execute_result"
    }
   ],
   "source": [
    "import pandas as pd\n",
    "\n",
    "scores = pd.read_csv(\"../data/gre_scores_3_sets.csv\")\n",
    "scores.head()"
   ]
  },
  {
   "cell_type": "code",
   "execution_count": 8,
   "metadata": {},
   "outputs": [
    {
     "data": {
      "text/plain": [
       "296   -0.015089\n",
       "295   -0.042408\n",
       "293    0.037187\n",
       "dtype: float64"
      ]
     },
     "execution_count": 8,
     "metadata": {},
     "output_type": "execute_result"
    }
   ],
   "source": [
    "scores.skew()"
   ]
  },
  {
   "cell_type": "markdown",
   "metadata": {},
   "source": [
    "**skew ( )** calculates the skewness of all the numeric parameters in the dataframe. You could very well look at a specific column by specifying it like so. "
   ]
  },
  {
   "cell_type": "code",
   "execution_count": 10,
   "metadata": {},
   "outputs": [
    {
     "data": {
      "text/plain": [
       "-0.06381213242716723"
      ]
     },
     "execution_count": 10,
     "metadata": {},
     "output_type": "execute_result"
    }
   ],
   "source": [
    "scores.iloc[0,:].skew()"
   ]
  },
  {
   "cell_type": "markdown",
   "metadata": {},
   "source": [
    "## Kurtosis"
   ]
  },
  {
   "cell_type": "markdown",
   "metadata": {},
   "source": [
    "Quite simply, kurtosis is the sharpness of the peak in a probablity density function. For example, look at the following picture from wikipedia. "
   ]
  },
  {
   "cell_type": "markdown",
   "metadata": {},
   "source": [
    "<img src=\"./pics/kurtosis.png\"/>"
   ]
  },
  {
   "cell_type": "markdown",
   "metadata": {},
   "source": [
    "More the kurtosis, sharper the peak. Once again, pandas has a function called **kurtosis ( )** that measures the kurtosis of a dataset. "
   ]
  },
  {
   "cell_type": "code",
   "execution_count": 12,
   "metadata": {},
   "outputs": [
    {
     "data": {
      "text/plain": [
       "296   -0.011459\n",
       "295    0.002555\n",
       "293   -0.009964\n",
       "dtype: float64"
      ]
     },
     "execution_count": 12,
     "metadata": {},
     "output_type": "execute_result"
    }
   ],
   "source": [
    "scores.kurtosis()"
   ]
  },
  {
   "cell_type": "markdown",
   "metadata": {},
   "source": [
    "# Branches of Statistics"
   ]
  },
  {
   "cell_type": "markdown",
   "metadata": {},
   "source": [
    "## Descriptive Statistics"
   ]
  },
  {
   "cell_type": "markdown",
   "metadata": {},
   "source": [
    "When you are trying to describe or summarize data, the stats that you produce are typically called descriptive statistics. We have seen some examples of these\n",
    "- mean\n",
    "- standard deviation\n",
    "- skewness\n",
    "- kurtosis\n",
    "- defining the distribution ( for example as normal or not )\n",
    "etc\n",
    "\n",
    "These are all examples of descriptive statistics. Why use descriptive statistics ? Because raw number don't mean much. For example, when we looked at the GRE scores dataset above, human brain can't infer much about raw numbers as-is. However, summary stats and pictures mean much more as we have seen above. Many means could be used for describing data like pictures, summary statistics, tables etc. As long as your intent is to describe the data in a more meaningful way, it is called descriptive statistics. "
   ]
  },
  {
   "cell_type": "markdown",
   "metadata": {},
   "source": [
    "## Inferential Statistics"
   ]
  },
  {
   "cell_type": "markdown",
   "metadata": {},
   "source": [
    "If you wanted to describe the data of all the GRE scores in say India, is it possible ? Well, it might be possible if you were the authority that administers GRE score. However, if you didn't have access to the entire dataset, how can you make any kind of inferences about the entire set of GRE scores in India ? \n",
    "\n",
    "You start with a **Sample** - Say, you pull out samples from across some of the students who have taken the exam and you try to extrapolate the results across the entire scores dataset. \n",
    "\n",
    "When you take a small sample dataset (from a population) and try to infer the characteristics of the larger dataset (the entire population), it is called **Inferential Statistics**\n",
    "\n",
    "Let's talk about some more examples to understand this. "
   ]
  },
  {
   "cell_type": "markdown",
   "metadata": {},
   "source": [
    "**Example 1**\n",
    "Say you are a child psychologist trying to understand the behaviour of a particular diet on kids with a certain disorder. Obviously, you cannot test every kid in the country. So, you pick a sample - say 10 or 20 kids. To make the results more generic, you have to ensure that the kids are well representative of the entire population of kids that have that particular disorder. So, you would ensure that the kids are \n",
    "- from geographically diverse areas of the country\n",
    "- from all different ethnical or racial backgrounds\n",
    "- from all different age groups\n",
    "etc"
   ]
  },
  {
   "cell_type": "markdown",
   "metadata": {},
   "source": [
    "The key however is that you don't work with the entire population. You just work with a sample, and assume that this works with the rest of the population as well."
   ]
  },
  {
   "cell_type": "markdown",
   "metadata": {},
   "source": [
    "**Example 2** Say you are a scientist at a drug company, trying to develop a drug for a certain type of disease. Once again, you cannot test every patient in the country. So, you enlist some patients and start trials on them. Some of them might have an effect and some might not. You cannot draw a solid conclusion from this. You switch the drug and start your trials again. This time let's say all of them showed postive results. "
   ]
  },
  {
   "cell_type": "markdown",
   "metadata": {},
   "source": [
    "Now, that does not necessarily mean that the drug will work on the generic population. You would have to expand your trial - say"
   ]
  },
  {
   "cell_type": "markdown",
   "metadata": {},
   "source": [
    "- start multiple trials with different groups of patients - to ensure the drug works on the generic population also.\n",
    "- start trials on placebo groups"
   ]
  },
  {
   "cell_type": "markdown",
   "metadata": {},
   "source": [
    "the point being, you have to make the sample selection as exhaustive as possible. "
   ]
  },
  {
   "cell_type": "markdown",
   "metadata": {},
   "source": [
    "## Central Limit Theorem"
   ]
  },
  {
   "cell_type": "markdown",
   "metadata": {},
   "source": [
    "That brings us to one of the most important theorem in statistics - **Central Limit Theorem** . But before we explore this, it is better to understand another important theorem called the ** Law of Large Numbers** . "
   ]
  },
  {
   "cell_type": "markdown",
   "metadata": {},
   "source": [
    "### Law of Large Numbers"
   ]
  },
  {
   "cell_type": "markdown",
   "metadata": {},
   "source": [
    "It is a pretty simple law and pretty intuitive as well. In simple words, **_larger the sample size, more accurate the result would be_** . "
   ]
  },
  {
   "cell_type": "markdown",
   "metadata": {},
   "source": [
    "Sounds intuitive enough, isn't it ? the more observations you take, the more closer your results would be to the ideal result. For example, we know that a fair coin has an equal change of a head and a tail - that is the ideal result."
   ]
  },
  {
   "cell_type": "markdown",
   "metadata": {},
   "source": [
    "Or take this example - A bunch of circles and squares. "
   ]
  },
  {
   "cell_type": "markdown",
   "metadata": {},
   "source": [
    "<img src=\"./pics/population-and-sample.png\"/>"
   ]
  },
  {
   "cell_type": "markdown",
   "metadata": {},
   "source": [
    "The more the sample size, the more is it a better representative of the population itself. "
   ]
  },
  {
   "cell_type": "markdown",
   "metadata": {},
   "source": [
    "<img src=\"./pics/population-and-sample-size.png\"/>"
   ]
  },
  {
   "cell_type": "code",
   "execution_count": 4,
   "metadata": {},
   "outputs": [
    {
     "data": {
      "text/plain": [
       "array([ 3.06062032e-01,  1.04088799e+00,  5.14306124e-01,  6.38524762e-01,\n",
       "        7.25485984e-01, -1.48318646e+00,  1.19129695e+00, -1.74364566e+00,\n",
       "       -6.89389492e-02, -1.23128097e-01, -6.81777511e-01,  1.74685073e-01,\n",
       "        5.58645894e-01, -4.29575009e-03,  1.01127804e+00, -6.28565656e-01,\n",
       "        1.40600633e+00, -4.88553541e-01, -1.01357230e+00,  1.07590296e+00,\n",
       "        5.34894443e-01,  4.35057425e-01,  3.62929096e-01,  1.63475538e+00,\n",
       "       -9.39179895e-02, -7.74470075e-01,  2.21518507e-01,  1.55215326e-01,\n",
       "       -2.58378270e-01, -6.64277596e-01, -3.86310947e-01, -4.03207843e-01,\n",
       "       -7.86533338e-01, -4.81281649e-01,  6.84336747e-01, -2.52622194e+00,\n",
       "       -8.53671923e-01, -1.28964676e+00, -1.39710121e+00, -6.58343591e-01,\n",
       "        3.34313661e-01,  2.21602345e+00, -2.05764475e+00, -5.04664848e-01,\n",
       "        1.60206924e-01,  7.77355552e-01, -1.26665876e+00,  2.77745931e-01,\n",
       "        1.52552692e+00,  1.22959731e+00,  1.76564019e-03,  1.00635568e+00,\n",
       "        5.92063897e-02, -3.73587044e-01, -5.69933221e-01,  1.05492838e+00,\n",
       "        2.16332508e+00, -9.63853459e-01, -5.25546961e-01, -1.54920423e+00,\n",
       "        7.77625138e-01, -5.56475558e-01,  4.55769655e-01, -1.53657767e-01,\n",
       "        1.69744391e-01, -6.44120042e-01,  4.07923477e-01,  2.06644762e-01,\n",
       "        8.77987831e-01, -2.99415356e-01, -9.78905998e-01,  9.13693986e-02,\n",
       "        8.22794533e-01,  3.44264037e-01,  2.35582430e-01, -8.58765164e-01,\n",
       "       -1.13616163e-01, -4.77214093e-01,  7.32440139e-01,  1.90925208e+00,\n",
       "        8.46865672e-01, -3.16087064e-01,  1.59831556e+00,  3.28830454e-01,\n",
       "        7.53416123e-01,  6.45159756e-01, -3.04884233e-01,  3.63706418e-01,\n",
       "        5.99420133e-01,  4.05907815e-01,  1.73293588e+00,  2.43900927e+00,\n",
       "       -3.97895968e-01, -3.52450965e-01,  1.47855337e+00, -3.82409885e-01,\n",
       "        4.06026160e-03,  1.87243873e-01,  9.69307958e-01, -1.22964850e+00,\n",
       "       -1.09929413e+00, -1.20208447e+00, -2.72931092e-01, -1.93394592e-01,\n",
       "        4.38400372e-01, -2.58755281e-01,  2.10420652e-01, -5.30953090e-02,\n",
       "        1.11610309e+00, -7.44494164e-01, -1.23622563e+00, -5.66099346e-01,\n",
       "       -2.33456053e-01,  2.59499516e-01, -5.87757393e-01,  2.12559047e+00,\n",
       "        6.95659932e-01,  1.82364422e+00,  6.36202424e-01,  1.42505182e+00,\n",
       "       -4.27471103e-01, -3.65094625e-01, -1.09848776e+00,  1.68535967e+00,\n",
       "       -6.83905934e-01, -1.00156180e+00, -1.06044386e+00, -9.63538220e-01,\n",
       "        3.60269914e-01, -5.41407484e-01, -3.02513953e-01,  1.13713233e+00,\n",
       "        1.00949630e+00,  5.78729264e-01, -1.13733736e+00,  2.02549994e-01,\n",
       "       -5.19225959e-01,  1.00047717e+00,  3.16031384e-01, -8.07913815e-01,\n",
       "        8.93579534e-01, -8.81569726e-01, -8.97374144e-01,  1.03236407e+00,\n",
       "       -1.10306841e+00,  1.90322059e+00,  7.48342543e-01, -9.28480882e-01,\n",
       "       -2.95130726e+00,  6.15097882e-01, -3.98144848e-01,  1.28673562e+00,\n",
       "       -2.74512320e-02, -3.27220854e-01, -5.34397491e-01,  3.75422689e-01,\n",
       "       -8.37517816e-01,  2.84304964e-01, -1.05233353e+00,  1.09556885e-01,\n",
       "        1.68966223e+00, -4.38275907e-01,  1.63106471e-01, -8.36836647e-01,\n",
       "        1.69384705e+00, -9.44387909e-01, -2.19263514e+00,  2.50907265e+00,\n",
       "        9.22875584e-01, -3.41874627e-01, -1.44537636e+00,  1.06468152e+00,\n",
       "       -8.19597403e-02, -1.47985682e+00,  1.96545586e+00,  4.99525982e-01,\n",
       "        8.31036442e-01, -1.04092754e-01, -7.47446528e-01,  9.41952649e-02,\n",
       "        3.28187176e+00, -1.32625689e+00,  2.23770180e-01,  1.53242127e-01,\n",
       "        1.87979091e+00, -2.56715732e-01,  9.25564901e-01,  6.12594766e-01,\n",
       "       -2.47381690e+00,  1.53749216e-01,  1.78498994e+00, -1.64039630e-01,\n",
       "        4.78371616e-01,  1.07365514e+00, -8.75959326e-01, -6.39467366e-02,\n",
       "        1.70377952e+00,  2.31648758e+00, -1.23352775e+00, -8.85442808e-01,\n",
       "       -1.11196861e+00,  9.74633009e-01, -2.62043813e-02, -3.59158985e-01,\n",
       "        1.19673903e+00,  1.26989309e+00,  8.86211256e-01, -1.06537843e+00,\n",
       "       -1.01260376e+00, -1.69946079e+00, -7.07303486e-01, -1.87664951e+00,\n",
       "       -2.58270750e-01,  1.06489586e+00,  2.82193013e+00,  4.03702619e-01,\n",
       "       -8.76033895e-01,  1.36120754e+00,  1.79982090e+00,  3.72395395e-01,\n",
       "       -8.02223877e-01, -5.29934742e-02,  5.96634854e-01, -3.32555761e-01,\n",
       "        9.08582625e-02,  1.35186574e-01,  2.23944993e+00,  2.63647885e-01,\n",
       "        2.20420269e-01, -1.72111772e+00, -2.32595608e-01,  6.76830848e-01,\n",
       "        1.56435038e+00, -3.15152460e-01,  9.95683822e-01,  9.50642582e-02,\n",
       "        1.58445693e+00,  5.39318036e-01, -1.63738755e-01, -1.93050517e+00,\n",
       "        7.62329415e-01, -1.21635705e-01,  1.65601111e-01, -3.56370773e-01,\n",
       "        6.38138328e-02,  1.29395044e+00, -7.53535409e-01,  2.17068913e-01,\n",
       "        6.30592111e-01,  1.17414210e-01, -3.25981955e-01, -1.13676789e+00,\n",
       "       -1.72550673e+00,  6.79129136e-01, -8.00111860e-01,  6.07310658e-01,\n",
       "       -1.95917554e-01, -2.57641392e-02,  3.04190505e-01,  5.09390795e-01,\n",
       "        4.38186785e-01, -1.21359634e+00,  6.37983187e-02,  1.60692790e+00,\n",
       "       -6.11899266e-02, -7.13034910e-01, -4.14185713e-01, -2.79897870e-01,\n",
       "        4.52706330e-02,  4.32198913e-01,  7.46314749e-01,  1.82733632e+00,\n",
       "       -1.03445413e+00,  1.53565944e-01, -5.57580702e-01,  9.09528003e-01,\n",
       "        1.03932733e-01,  9.05465586e-01,  1.26005540e+00, -7.10965624e-02,\n",
       "        1.80092791e+00,  1.32765008e+00, -9.60409243e-02, -1.35825307e-01,\n",
       "        3.55989065e-01, -1.58179765e+00,  4.06122817e-01, -9.46874737e-01,\n",
       "       -1.65562281e-03,  8.97281785e-01,  8.59439573e-01, -1.19808671e+00,\n",
       "       -1.64779556e-01,  1.19516534e+00, -5.54937037e-01,  7.49344143e-01,\n",
       "        9.50199155e-01,  2.35775169e-01,  1.04544478e+00, -3.09600537e-01,\n",
       "        1.08924553e+00, -5.57264538e-01, -1.15199752e-01, -3.71318695e-01,\n",
       "       -6.82703243e-01, -1.01638100e+00,  1.43192710e-01,  8.78942319e-01,\n",
       "       -1.75385383e+00,  2.59520747e-01,  1.74957422e-01, -1.64659865e+00,\n",
       "       -1.67450884e-01,  5.19561781e-01,  8.50299221e-01,  7.74254302e-01,\n",
       "        2.04926650e-01,  1.06711373e+00, -1.61075385e+00,  4.67000403e-01,\n",
       "       -1.90524268e-01, -1.86663762e+00, -1.44986786e-01,  3.85703168e-01,\n",
       "        2.80784571e-01, -2.05939263e+00, -2.38853726e-01,  1.38492932e+00,\n",
       "        8.23867145e-01, -1.40396225e+00,  4.05593542e-01, -4.74621056e-01,\n",
       "        1.61172122e+00, -1.00860422e+00, -1.75113852e+00,  2.08259385e+00,\n",
       "       -2.12443362e+00,  1.09164339e+00, -1.08423924e-01,  4.75733547e-01,\n",
       "       -1.03349003e+00,  6.40096421e-01, -8.40282669e-01, -8.07033370e-01,\n",
       "        5.14781069e-01, -1.14603202e+00, -1.59707324e+00, -5.86225177e-01,\n",
       "       -2.07498081e+00,  1.50661592e+00, -1.93535612e+00,  9.63803989e-01,\n",
       "        9.10837976e-01, -2.85664673e-01, -1.24932877e+00, -1.19061692e-02,\n",
       "        1.30633345e-01, -1.54798622e+00, -2.05223784e-01,  1.99157950e+00,\n",
       "        8.60236112e-01, -6.14997970e-01,  1.04987295e-01, -4.25114319e-01,\n",
       "        6.83534338e-02,  1.08281858e+00, -8.95348900e-01,  7.19262781e-01,\n",
       "        1.73503957e+00, -1.13808874e-01,  9.30059381e-01, -4.63904635e-01,\n",
       "       -1.06495577e+00, -6.75833872e-01, -4.02485405e-01,  3.06510382e-01,\n",
       "        1.60789345e+00, -2.34213474e-01,  1.67863989e+00, -1.45353498e+00,\n",
       "        2.58748721e-01, -1.84460991e+00,  9.10636207e-01, -5.81610095e-01,\n",
       "        1.35217102e+00,  2.06779741e+00,  6.70080351e-02,  1.85227071e+00,\n",
       "       -7.31900538e-01,  8.59430147e-01,  1.09809291e+00,  8.95649699e-01,\n",
       "       -1.09749891e+00, -2.85368263e-01,  1.16416571e-01,  9.42208214e-01,\n",
       "        6.97029847e-01, -1.37213782e+00, -1.71800355e+00,  2.69498360e-01,\n",
       "       -8.64511260e-01,  3.37493355e-01,  3.34705479e-02, -1.12455266e+00,\n",
       "        7.66997586e-01,  4.57154016e-01, -1.24269102e-01,  4.39453774e-01,\n",
       "       -1.85337630e-02,  7.77360437e-03,  6.60215091e-01,  5.06044984e-01,\n",
       "        5.55194062e-01,  8.49844917e-01, -6.95249333e-01,  8.39480487e-01,\n",
       "        1.07359569e-01,  6.81792233e-01,  6.73350492e-01,  7.12294933e-01,\n",
       "        7.97506575e-01, -1.97865928e+00, -1.02921413e+00, -5.97944360e-01,\n",
       "       -5.35954414e-02, -8.86175632e-01, -9.16995737e-01,  3.00304120e-01,\n",
       "       -1.27337577e+00,  4.40279999e-01,  4.98691184e-01, -1.97916064e+00,\n",
       "       -6.73194488e-01,  6.07200930e-01, -2.81371693e-01, -1.15217099e+00,\n",
       "        4.85554585e-01, -4.61723532e-01,  1.97623480e-01,  6.42452207e-01,\n",
       "        3.85962526e-01,  6.65491138e-01,  2.63009115e-01,  5.80852216e-01,\n",
       "        7.63887425e-01,  1.53119521e+00, -7.81599697e-01, -4.78933712e-01,\n",
       "       -1.76550362e+00, -5.77543886e-01, -5.69771261e-01, -2.98788347e-01,\n",
       "        9.64035283e-01, -4.70797608e-01,  5.87292020e-02, -7.93065670e-01,\n",
       "        1.59803325e-01,  1.16890995e+00,  2.28566574e+00, -4.94481663e-01,\n",
       "       -7.45886277e-01, -8.11382054e-01, -7.14554910e-02, -1.27332029e+00,\n",
       "        1.73131232e-02,  1.88246644e+00,  6.03466424e-01,  1.48723211e+00,\n",
       "       -1.01305212e+00, -9.50235666e-02, -2.47494403e+00,  3.81108969e-01,\n",
       "       -1.10194853e+00,  1.04052411e+00, -6.67336682e-02, -2.69590974e-03,\n",
       "       -5.68777084e-01,  1.39298809e-02,  4.90212319e-01, -2.21444731e-01,\n",
       "        1.52009470e+00,  4.57212951e-01,  4.47999131e-01, -1.06442259e+00,\n",
       "       -5.18139434e-01, -3.30618874e-01,  5.94212792e-01, -9.59398137e-01,\n",
       "        1.38961779e+00, -2.60086150e-01,  1.16598108e+00,  5.33691907e-01,\n",
       "       -6.75225551e-01, -3.60561455e-01, -1.04529351e+00, -2.97795239e-01,\n",
       "       -4.79926794e-01, -2.15229935e-01,  1.13182444e+00,  1.60423759e+00,\n",
       "       -2.55759537e-01,  1.21398336e+00,  2.86640851e-01, -2.04676360e-02,\n",
       "        3.41829495e-02, -7.91353950e-01,  2.16062702e+00,  7.95047363e-01,\n",
       "       -6.60100526e-01, -8.81131843e-01, -5.21383413e-01, -5.11521433e-01,\n",
       "        8.84847486e-01,  1.24984853e+00,  1.46704330e-01, -8.48326557e-03,\n",
       "       -9.32485618e-03,  3.30548052e+00, -3.32941444e-01,  2.60307935e-02,\n",
       "        3.25103297e-02, -2.00379700e+00, -3.32013002e-01,  5.30787058e-01,\n",
       "        1.84307554e+00,  1.31357855e-01, -9.97072919e-01, -5.06186884e-01,\n",
       "        1.83872497e+00,  1.61014136e+00, -3.07225143e-01,  4.36996604e-02,\n",
       "        6.86903326e-01,  3.91095764e-01, -1.52715253e+00, -1.19640372e+00,\n",
       "       -1.02895703e+00, -2.00528219e+00, -1.10572562e+00, -1.30779144e-01,\n",
       "       -7.42751131e-01,  8.77561014e-01,  1.22121985e-01,  7.93731071e-01,\n",
       "        4.21058640e-01, -2.27899465e-01,  3.60092121e-01,  1.09494069e+00,\n",
       "        1.01415339e+00,  1.24401267e-02, -8.59588919e-01, -1.53839799e+00,\n",
       "        3.24955709e-01, -4.07652990e-02,  1.83567343e+00,  1.29039116e+00,\n",
       "       -7.60111110e-01,  4.82834040e-01,  1.40182803e+00,  1.15188929e-01,\n",
       "       -1.51626432e+00,  1.26352608e-01, -4.35847063e-01,  2.01746885e+00,\n",
       "       -1.79853072e+00, -5.39982944e-01,  1.12851065e+00,  2.35999836e+00,\n",
       "       -2.09626365e-01, -1.49130567e+00, -2.08450693e-01, -6.66418338e-01,\n",
       "        6.61270682e-01, -1.14586151e+00, -4.87825949e-01, -4.25582218e-01,\n",
       "       -8.40979037e-01,  1.82493383e-01,  1.74907079e-01,  9.30864671e-01,\n",
       "       -6.41825332e-01,  1.24854827e+00,  1.14376628e+00,  1.94994188e-01,\n",
       "       -5.69480396e-01, -1.46682974e+00, -1.37865277e+00, -8.92631231e-01,\n",
       "        2.07110536e+00, -1.63058966e+00, -4.15897434e-01, -1.14123550e-01,\n",
       "        1.18701329e+00,  4.61794790e-02, -7.04361679e-02,  9.81800957e-01,\n",
       "       -1.75365234e-01, -1.56061275e+00, -6.59963411e-01, -8.49549402e-02,\n",
       "        4.38961846e-01,  2.13224484e-01, -1.05410015e+00,  1.36378592e+00,\n",
       "        3.33753703e-01, -1.47286552e+00, -1.37070987e+00, -1.07882940e+00,\n",
       "        2.01392749e-01, -2.81063531e-01, -4.72146802e-01,  1.30995994e-01,\n",
       "        5.10275456e-01,  5.85919151e-01, -6.33923711e-02, -1.13766785e+00,\n",
       "        1.19662360e+00, -6.36729671e-01, -3.35509142e-01, -1.14175197e-01,\n",
       "        6.53160446e-02, -7.51801296e-02,  2.19146062e-01,  6.62546255e-03,\n",
       "       -2.06339850e+00,  4.72526527e-01,  1.11555267e+00, -1.71977518e-01,\n",
       "       -4.87375845e-01,  7.49423362e-01, -6.74973833e-01, -2.56481870e-01,\n",
       "        4.28051159e-01,  1.87609887e-02,  1.67347036e+00, -1.25161096e-01,\n",
       "        4.53466522e-01, -9.01013245e-01,  5.23640717e-01, -1.10730903e+00,\n",
       "       -4.95879000e-01,  4.65193410e-01, -4.97315198e-01, -2.93717670e-01,\n",
       "       -5.05934365e-01,  1.06840125e+00,  2.25774334e-01, -5.16493369e-01,\n",
       "       -5.28094710e-01,  7.82221488e-01,  2.58931847e+00,  4.47915944e-01,\n",
       "        1.18571609e+00, -1.16985854e+00,  1.44978796e+00,  2.24799084e+00,\n",
       "        6.14647729e-01, -6.57864107e-01, -1.27895947e+00,  2.02388017e+00,\n",
       "        2.11849340e+00,  4.88590505e-01,  9.66872208e-01,  3.64144900e-02,\n",
       "       -1.70797345e+00,  6.87506770e-01,  2.11094623e+00, -8.55030960e-01,\n",
       "       -1.24845241e+00,  5.38126803e-01, -4.08428068e-01, -7.60283069e-01,\n",
       "        8.09960125e-01,  2.61703769e+00,  7.18244491e-02,  1.21381209e+00,\n",
       "        1.51728983e-02,  2.52934186e-01,  1.53090931e+00, -1.40023735e+00,\n",
       "       -7.74800600e-01, -1.13776786e+00,  4.86042075e-02,  1.66007475e-01,\n",
       "       -2.96255422e-01,  1.24738081e+00,  2.44301392e+00, -5.53492788e-01,\n",
       "       -8.06148441e-02, -7.32787537e-01,  1.03503784e+00, -9.23603019e-01,\n",
       "       -1.37699310e+00, -1.54306976e+00, -2.42436279e-01, -1.63458889e+00,\n",
       "        8.15876374e-02,  8.00587654e-01,  8.89013050e-02, -8.65696871e-01,\n",
       "        2.73992283e-01,  1.65613399e-01, -1.15022298e+00, -1.98684529e+00,\n",
       "        1.84006593e+00, -1.38248702e+00, -5.45145887e-01,  1.53773999e+00,\n",
       "       -1.25395616e+00, -1.12645877e+00, -1.58315466e+00,  4.85352236e-01,\n",
       "        2.55267450e+00,  1.37214595e-01,  3.05932525e+00, -1.79887947e-01,\n",
       "       -9.44406038e-01, -1.79049858e+00, -1.42607712e+00, -3.67481145e-01,\n",
       "       -7.00485046e-02,  1.47501629e+00,  9.06610632e-02, -2.75037829e-01,\n",
       "       -4.44986848e-01,  7.67474377e-01,  1.00959281e-01,  5.45709899e-01,\n",
       "        1.00840779e+00, -1.07620956e+00,  9.33303864e-02, -1.64175192e+00,\n",
       "        1.73616913e+00,  1.43593247e+00, -4.83776444e-01, -2.03958218e-01,\n",
       "        5.07231982e-01,  2.32986324e-01,  6.41169954e-01,  8.89730220e-01,\n",
       "        1.67271329e+00,  1.14548779e+00, -4.89636727e-02,  1.16571181e+00,\n",
       "       -2.35947732e-01, -1.83917935e+00, -2.99079693e-01,  9.81856347e-01,\n",
       "       -6.44686990e-01, -4.41883999e-01, -1.16005401e+00,  2.02596648e+00,\n",
       "       -6.67112042e-02,  1.07259536e-01,  8.13832799e-01,  1.65600834e+00,\n",
       "        2.90672425e-01, -5.67833410e-01, -8.71437503e-01,  2.10190855e-01,\n",
       "        4.93926391e-01, -1.71666523e-01,  4.52251879e-01,  1.48305923e+00,\n",
       "       -1.14990111e+00,  4.97239294e-02, -8.67175531e-01,  1.95900066e-01,\n",
       "       -2.61954832e-01,  3.41724316e-01,  6.75776049e-01,  1.24363156e+00,\n",
       "        6.06926803e-01, -6.08180894e-01, -6.13592214e-01,  6.91232426e-01,\n",
       "        7.55073490e-02, -4.44504037e-01, -3.89470111e-01, -3.40437734e-02,\n",
       "       -3.87784401e-01, -1.01233854e-01,  3.19434714e-01, -6.73573746e-01,\n",
       "       -1.11411642e+00, -7.32161831e-02, -8.83572344e-01,  9.04803968e-03,\n",
       "       -2.97437654e-01, -1.13709269e-01, -3.90657107e-01, -1.18622475e+00,\n",
       "        1.16297110e+00,  1.26917448e+00,  5.98309476e-01,  2.98743181e-01,\n",
       "        1.80753939e-01, -8.85222821e-01,  7.26139490e-01, -3.77349999e-01,\n",
       "       -1.65436130e+00, -4.17234376e-01,  8.66004455e-01, -1.52342676e-01,\n",
       "       -3.14534260e-01, -1.65733166e+00, -1.65383330e+00, -1.71466801e+00,\n",
       "        7.05466036e-01,  3.51536215e-01, -1.43453056e+00,  3.13688851e-01,\n",
       "       -9.79493844e-01,  1.29503775e-01, -1.97831923e+00,  9.50943489e-01,\n",
       "       -4.74646256e-02,  4.40450973e-01, -7.70040984e-01, -9.80129492e-01,\n",
       "        7.30759050e-01, -1.01912000e+00, -7.29448832e-01, -1.27733187e+00,\n",
       "        4.36627868e-01,  1.01747371e+00, -1.46671607e+00, -3.14208829e-01,\n",
       "        3.60598307e-01,  1.71997143e+00, -3.17691568e-01,  3.05610356e-01,\n",
       "        8.03255046e-01,  1.63695659e-01, -4.30876963e-01, -8.81484903e-01,\n",
       "       -1.53145240e-01,  4.94101418e-01, -1.05096869e+00,  2.33902853e-01,\n",
       "        6.25121617e-01, -1.11573278e+00, -1.26897507e+00,  3.15420078e-01,\n",
       "        5.86845092e-01,  3.91793286e-01, -1.70384576e+00, -3.89414322e-01,\n",
       "        1.46129935e+00,  3.41224996e-01,  7.21952507e-01,  3.68721128e-01,\n",
       "        1.21336265e+00,  2.86377681e-01, -1.01666615e+00,  7.29814799e-01,\n",
       "       -8.91211016e-01, -1.26325926e+00,  5.25374516e-01, -1.80124225e+00,\n",
       "        1.27910594e-01,  2.65416803e-04, -1.67692070e-01, -2.67937623e-01,\n",
       "        3.23931241e-01,  2.27947618e-01,  2.19015463e+00,  9.59965297e-01,\n",
       "        1.53651545e+00,  7.05924404e-01,  9.81880140e-01, -1.55415603e-01,\n",
       "       -3.27419875e-01,  5.41924129e-02,  7.49014085e-01,  1.82179510e-01,\n",
       "        8.56967388e-01, -7.80444361e-01,  2.85942930e-01, -5.09569628e-02,\n",
       "       -2.88797203e-01, -4.66486850e-01, -1.70642854e+00, -4.53670049e-02,\n",
       "       -3.63374567e-01,  3.37012871e-01, -9.79854275e-01, -6.23787645e-01,\n",
       "       -4.05724695e-01,  7.78824977e-01,  5.69395944e-01,  3.75523822e-01,\n",
       "       -3.71258381e-01, -8.47670214e-01,  5.03232153e-01, -6.94771458e-02,\n",
       "       -1.24038045e+00, -1.34864248e+00, -1.53957379e+00,  9.76483392e-01,\n",
       "        4.61238358e-01, -1.32520221e+00,  1.52763675e-02, -1.16078931e-01,\n",
       "        2.27810659e+00, -1.19507674e+00, -4.69451444e-01, -6.58304480e-01,\n",
       "        1.22332170e+00,  5.98366043e-01,  2.91325678e-01,  1.09138667e+00,\n",
       "       -1.71069504e-02, -1.41900084e+00, -7.23269961e-02, -4.75937232e-01,\n",
       "        1.56214985e+00, -1.38939155e+00, -9.81879616e-01, -1.87809192e+00,\n",
       "       -2.05646960e-01, -2.75382829e-01, -9.05970975e-01,  1.29848660e+00,\n",
       "        1.11259485e+00,  2.49173223e-01, -1.08071918e+00,  1.75358235e-01,\n",
       "        5.52443566e-01, -2.31709799e-01, -6.41991199e-01,  7.73149294e-01,\n",
       "        5.41466733e-01,  5.17388632e-02, -1.36149383e+00,  9.42415485e-01,\n",
       "       -1.78942655e+00,  1.71341458e-01,  2.45006160e-01,  6.56815909e-01,\n",
       "       -1.65770813e-01, -8.16900390e-01, -1.00052921e+00, -3.58998839e-01,\n",
       "       -8.95452197e-02, -1.10767475e+00, -1.13268213e+00,  9.42098740e-01,\n",
       "       -1.06321261e+00,  9.61411501e-01,  2.96285366e-02,  2.23262898e+00,\n",
       "       -1.76299982e-01, -1.52874051e+00,  4.74331872e-01,  4.53016160e-01,\n",
       "       -1.10273770e+00, -1.18842254e+00, -1.11268881e+00,  7.81682592e-01,\n",
       "       -1.19442824e-01,  1.01001482e+00,  3.60485487e-01, -2.76984341e-01,\n",
       "        4.22710094e-01,  9.95265469e-01,  1.85860836e+00,  7.80873877e-01,\n",
       "       -7.52215309e-01,  1.24144542e+00,  1.05533754e+00,  1.25384618e+00,\n",
       "        7.90147609e-01, -8.29476209e-01,  7.96718619e-02,  6.37556461e-01,\n",
       "       -3.66195212e-01, -5.28903260e-02, -1.42616663e-01,  5.06527042e-01,\n",
       "       -1.23270727e-01,  1.59165277e+00, -5.42432351e-01,  4.91874617e-01,\n",
       "        5.21336583e-01, -2.25959505e+00,  3.37363715e-01,  1.04271967e+00,\n",
       "        9.82577077e-01, -2.60914015e+00,  2.03797429e-01,  1.78556907e-01,\n",
       "        7.39827296e-01,  2.76369049e-01, -7.50569159e-02,  1.33389275e+00,\n",
       "        2.39018185e-01, -9.07371309e-01,  1.74465630e+00,  9.55235439e-01])"
      ]
     },
     "execution_count": 4,
     "metadata": {},
     "output_type": "execute_result"
    }
   ],
   "source": [
    "import numpy as np\n",
    "\n",
    "# population size\n",
    "p_size = 1000\n",
    "\n",
    "# sample size\n",
    "s_size = 10\n",
    "\n",
    "# Generate a random population\n",
    "population = np.random.randn(p_size)\n",
    "population\n"
   ]
  },
  {
   "cell_type": "code",
   "execution_count": 5,
   "metadata": {},
   "outputs": [
    {
     "data": {
      "text/plain": [
       "0.0375967463932297"
      ]
     },
     "execution_count": 5,
     "metadata": {},
     "output_type": "execute_result"
    }
   ],
   "source": [
    "np.mean(population)"
   ]
  },
  {
   "cell_type": "code",
   "execution_count": 9,
   "metadata": {},
   "outputs": [
    {
     "data": {
      "text/plain": [
       "(array([ 1.,  0.,  1.,  3.,  0.,  1.,  2., 10.,  7., 15., 12., 16., 17.,\n",
       "        17., 35., 31., 36., 27., 31., 45., 46., 50., 48., 58., 56., 49.,\n",
       "        43., 55., 35., 42., 30., 36., 26., 24., 10., 14., 15., 12., 12.,\n",
       "         5.,  8.,  7.,  2.,  4.,  2.,  0.,  1.,  0.,  1.,  2.]),\n",
       " array([-2.95130726, -2.82617151, -2.70103575, -2.57589999, -2.45076424,\n",
       "        -2.32562848, -2.20049273, -2.07535697, -1.95022122, -1.82508546,\n",
       "        -1.69994971, -1.57481395, -1.44967819, -1.32454244, -1.19940668,\n",
       "        -1.07427093, -0.94913517, -0.82399942, -0.69886366, -0.5737279 ,\n",
       "        -0.44859215, -0.32345639, -0.19832064, -0.07318488,  0.05195087,\n",
       "         0.17708663,  0.30222239,  0.42735814,  0.5524939 ,  0.67762965,\n",
       "         0.80276541,  0.92790116,  1.05303692,  1.17817268,  1.30330843,\n",
       "         1.42844419,  1.55357994,  1.6787157 ,  1.80385145,  1.92898721,\n",
       "         2.05412296,  2.17925872,  2.30439448,  2.42953023,  2.55466599,\n",
       "         2.67980174,  2.8049375 ,  2.93007325,  3.05520901,  3.18034477,\n",
       "         3.30548052]),\n",
       " <a list of 50 Patch objects>)"
      ]
     },
     "execution_count": 9,
     "metadata": {},
     "output_type": "execute_result"
    },
    {
     "data": {
      "image/png": "[encoded data removed]",
      "text/plain": [
       "<Figure size 432x288 with 1 Axes>"
      ]
     },
     "metadata": {
      "needs_background": "light"
     },
     "output_type": "display_data"
    }
   ],
   "source": [
    "import matplotlib.pyplot as plt\n",
    "%matplotlib inline\n",
    "\n",
    "plt.hist(population,bins=50)"
   ]
  },
  {
   "cell_type": "markdown",
   "metadata": {},
   "source": [
    "This more or less represents a decent gaussian distribution with mean of 0 (0.03759). Now, let's draw samples from this population. "
   ]
  },
  {
   "cell_type": "code",
   "execution_count": 12,
   "metadata": {},
   "outputs": [
    {
     "data": {
      "text/plain": [
       "0.2746352091713792"
      ]
     },
     "execution_count": 12,
     "metadata": {},
     "output_type": "execute_result"
    }
   ],
   "source": [
    "sample = np.random.choice(population,s_size,replace=False)\n",
    "np.mean(sample)"
   ]
  },
  {
   "cell_type": "code",
   "execution_count": 14,
   "metadata": {},
   "outputs": [
    {
     "data": {
      "text/plain": [
       "-0.15866852660180053"
      ]
     },
     "execution_count": 14,
     "metadata": {},
     "output_type": "execute_result"
    }
   ],
   "source": [
    "s_size = 25\n",
    "sample = np.random.choice(population,s_size,replace=False)\n",
    "np.mean(sample)"
   ]
  },
  {
   "cell_type": "code",
   "execution_count": 15,
   "metadata": {},
   "outputs": [
    {
     "data": {
      "text/plain": [
       "0.10483477943669493"
      ]
     },
     "execution_count": 15,
     "metadata": {},
     "output_type": "execute_result"
    }
   ],
   "source": [
    "s_size = 50\n",
    "sample = np.random.choice(population,s_size,replace=False)\n",
    "np.mean(sample)"
   ]
  },
  {
   "cell_type": "markdown",
   "metadata": {},
   "source": [
    "See, as the sample size increases, the properties of the sample get closer and closer to the original population. This is the **law of large numbers**. We can infact plot the accuracy of mean as the sample size increases. "
   ]
  },
  {
   "cell_type": "code",
   "execution_count": 18,
   "metadata": {},
   "outputs": [
    {
     "data": {
      "text/plain": [
       "[<matplotlib.lines.Line2D at 0xc778db0>]"
      ]
     },
     "execution_count": 18,
     "metadata": {},
     "output_type": "execute_result"
    },
    {
     "data": {
      "image/png": "[encoded data removed]",
      "text/plain": [
       "<Figure size 432x288 with 1 Axes>"
      ]
     },
     "metadata": {
      "needs_background": "light"
     },
     "output_type": "display_data"
    }
   ],
   "source": [
    "# Let's define an array to hold the different sample mean's for different sizes.\n",
    "means = []\n",
    "\n",
    "for size in range(p_size) :\n",
    "    sample = np.random.choice(population,size,replace=False)\n",
    "    mean   = np.mean(sample)\n",
    "    means.append(mean)\n",
    "\n",
    "plt.plot(means)"
   ]
  },
  {
   "cell_type": "markdown",
   "metadata": {},
   "source": [
    "See, as the sample size increases ( towards the right ), the mean of the sample gets more and more accurate. "
   ]
  },
  {
   "cell_type": "markdown",
   "metadata": {},
   "source": [
    "### Significance of Law of Large Numbers"
   ]
  },
  {
   "cell_type": "markdown",
   "metadata": {},
   "source": [
    "The key take away for us is that when you sample a population, go for the biggest sample size possible. Of course there are other parameters to be considered when taking a sample like it being\n",
    "- representative of the entire population\n",
    "- diverse\n",
    "- consistent\n",
    "etc"
   ]
  },
  {
   "cell_type": "markdown",
   "metadata": {},
   "source": [
    "Later on, when we start preparing training and test datasets, we will understand how important random numbers are in picking up samples from a population. "
   ]
  },
  {
   "cell_type": "markdown",
   "metadata": {},
   "source": [
    "## Central Limit Theorem"
   ]
  },
  {
   "cell_type": "markdown",
   "metadata": {},
   "source": [
    "Sometimes people get confused between the **Law of Large Numbers** and **Central Limit Theorem** . There is very distinct difference between them. Let's explore the Central Limit Theorem now. "
   ]
  },
  {
   "cell_type": "markdown",
   "metadata": {},
   "source": [
    "We have seen some normal distributions so far ( also called Gaussian distribution ). However, not all distributions are Gaussian (just remember the bell curve). So, how can we apply the principles of statistical methods (that show good results with normal distributions) to these other distributions ? "
   ]
  },
  {
   "cell_type": "markdown",
   "metadata": {},
   "source": [
    "That's precisely where the _Central Limit Theorem_ comes in. Say for example, we have a large distribution, and we draw a bunch of samples from them. We know from the _Law of Large Numbers_ , that as the sample size increases, it resembles the properties of the population much more closely. "
   ]
  },
  {
   "cell_type": "markdown",
   "metadata": {},
   "source": [
    "What if, we take a whole bunch of random samples from the population, say of the same size. How do they fare ? "
   ]
  },
  {
   "cell_type": "markdown",
   "metadata": {},
   "source": [
    "For example, say, there is a large sample of coin tosses ( with heads or Tails as outcomes ), if we take a bunch of samples ( say of size 10 ) repeatedly, do they form a pattern ? The _Central Limit Theorem_ says it does - it forms a normal distribution. That is actually surprising but true. "
   ]
  },
  {
   "cell_type": "markdown",
   "metadata": {},
   "source": [
    "Let's see it in action. "
   ]
  },
  {
   "cell_type": "code",
   "execution_count": 19,
   "metadata": {},
   "outputs": [
    {
     "data": {
      "text/plain": [
       "-0.025421597275081576"
      ]
     },
     "execution_count": 19,
     "metadata": {},
     "output_type": "execute_result"
    }
   ],
   "source": [
    "import numpy as np\n",
    "\n",
    "# population size\n",
    "p_size = 1000\n",
    "\n",
    "# sample size\n",
    "s_size = 10\n",
    "\n",
    "# Generate a random population\n",
    "population = np.random.randn(p_size)\n",
    "np.mean(population)"
   ]
  },
  {
   "cell_type": "markdown",
   "metadata": {},
   "source": [
    "Now that we know the mean, let's start pulling a bunch of random samples, and see how their mean's fare. "
   ]
  },
  {
   "cell_type": "code",
   "execution_count": 22,
   "metadata": {},
   "outputs": [
    {
     "data": {
      "text/plain": [
       "(array([ 1.,  0.,  0.,  1.,  2.,  0.,  1.,  2.,  5.,  7.,  4., 11., 12.,\n",
       "        16., 16., 27., 26., 40., 40., 43., 35., 46., 54., 68., 44., 64.,\n",
       "        45., 53., 47., 55., 37., 23., 28., 30., 24., 15., 15., 10., 19.,\n",
       "         9.,  6.,  3.,  6.,  6.,  1.,  0.,  1.,  1.,  0.,  1.]),\n",
       " array([-1.14203098, -1.09789265, -1.05375433, -1.009616  , -0.96547767,\n",
       "        -0.92133934, -0.87720101, -0.83306268, -0.78892435, -0.74478602,\n",
       "        -0.7006477 , -0.65650937, -0.61237104, -0.56823271, -0.52409438,\n",
       "        -0.47995605, -0.43581772, -0.39167939, -0.34754107, -0.30340274,\n",
       "        -0.25926441, -0.21512608, -0.17098775, -0.12684942, -0.08271109,\n",
       "        -0.03857277,  0.00556556,  0.04970389,  0.09384222,  0.13798055,\n",
       "         0.18211888,  0.22625721,  0.27039554,  0.31453386,  0.35867219,\n",
       "         0.40281052,  0.44694885,  0.49108718,  0.53522551,  0.57936384,\n",
       "         0.62350217,  0.66764049,  0.71177882,  0.75591715,  0.80005548,\n",
       "         0.84419381,  0.88833214,  0.93247047,  0.97660879,  1.02074712,\n",
       "         1.06488545]),\n",
       " <a list of 50 Patch objects>)"
      ]
     },
     "execution_count": 22,
     "metadata": {},
     "output_type": "execute_result"
    },
    {
     "data": {
      "image/png": "[encoded data removed]",
      "text/plain": [
       "<Figure size 432x288 with 1 Axes>"
      ]
     },
     "metadata": {
      "needs_background": "light"
     },
     "output_type": "display_data"
    }
   ],
   "source": [
    "# Let's define an array to hold the different sample mean's for different samples.\n",
    "means = []\n",
    "\n",
    "# Say the sample size is always a constant of 10\n",
    "s_size3 = 10\n",
    "\n",
    "# This time, we are not changing the sample size, but we just take a whole bunch of samples\n",
    "\n",
    "sample_count = 1000\n",
    "\n",
    "for count in range(sample_count) :\n",
    "    sample = np.random.choice(population,s_size,replace=False)\n",
    "    mean   = np.mean(sample)\n",
    "    means.append(mean)\n",
    "\n",
    "# Now, plot a histogram\n",
    "plt.hist(means,bins=50)"
   ]
  },
  {
   "cell_type": "markdown",
   "metadata": {},
   "source": [
    "See, thats a histogram that closely resembles a gaussian curve. That is what the **Central Limit Theorem** says. Well of course, there are some assumptions as usual like\n",
    "- All the samples should be equally random\n",
    "- None of the subsequent samples should be dependent on the previous samples"
   ]
  },
  {
   "cell_type": "markdown",
   "metadata": {},
   "source": [
    "#### Significance of Central Limit Theorem"
   ]
  },
  {
   "cell_type": "markdown",
   "metadata": {},
   "source": [
    "Not all distributions are normal. We would have to work with varied distributions in real life. However, thanks to _Central Limit Theorem_ ,we  know that the distribution of the samples taken is always normal. "
   ]
  },
  {
   "cell_type": "code",
   "execution_count": null,
   "metadata": {},
   "outputs": [],
   "source": []
  }
 ],
 "metadata": {
  "kernelspec": {
   "display_name": "Python 3",
   "language": "python",
   "name": "python3"
  },
  "language_info": {
   "codemirror_mode": {
    "name": "ipython",
    "version": 3
   },
   "file_extension": ".py",
   "mimetype": "text/x-python",
   "name": "python",
   "nbconvert_exporter": "python",
   "pygments_lexer": "ipython3",
   "version": "3.7.1"
  }
 },
 "nbformat": 4,
 "nbformat_minor": 2
}
