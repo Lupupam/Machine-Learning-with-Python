{
 "cells": [
  {
   "cell_type": "markdown",
   "metadata": {},
   "source": [
    "<img src=\"./pics/ajay-tech-logo.png\"/> <hr>\n",
    "This notebook is &copy; of Ajay Tech @ https://ajaytech.co. You can find the online version of this notebook at <a href=\"https://ajaytech.co/knn-python\">KNN Classification in Python</a>"
   ]
  },
  {
   "cell_type": "markdown",
   "metadata": {},
   "source": [
    "# Contents"
   ]
  },
  {
   "cell_type": "markdown",
   "metadata": {},
   "source": [
    "- [What is Classification](#What-is-Classification)\n",
    "- [How does KNN work](#How-does-KNN-work)\n",
    "- [Math behind KNN](#Math-behind-KNN)\n",
    "  - [Iris dataset](#Iris-dataset)\n",
    "- [KNN by hand](#KNN-by-hand)\n",
    "- [KNN in Python](#KNN-in-Python)\n",
    "  - [Confusion Matrix](#Confusion-Matrix)\n",
    "  - [Visualizing Classification Results](#Visualizing-Classification-Results)\n",
    "- [KNN for Regression](#KNN-for-Regression)\n",
    "- [Feature Scaling](#Feature-Scaling)\n",
    "- [Effect of Outliers](#Effect-of-Outliers)\n",
    "  - [What is an Outlier](#What-is-an-Outlier)\n",
    "- [Parameter Tuning](#Parameter-Tuning)\n",
    "- [KNN Properties](#KNN-Properties)\n",
    "  - [Non Parametric](#Non-Parametric)\n",
    "  - [Lazy Learning](#Lazy-Learning)\n",
    "  - [Bias Variance](#Bias-Variance)\n",
    "- [Handle Categorical Values in KNN](#Handle-Categorical-Values-in-KNN)\n",
    "- [KNN Assumptions](#KNN-Assumptions)\n",
    "\n"
   ]
  },
  {
   "cell_type": "markdown",
   "metadata": {},
   "source": [
    "## What is Classification"
   ]
  },
  {
   "cell_type": "markdown",
   "metadata": {},
   "source": [
    "Imagine a city like this. It has urban areas in the middle ( downtown, mid-town ) and sub-urban areas on the outskirts.\n",
    "\n"
   ]
  },
  {
   "cell_type": "markdown",
   "metadata": {},
   "source": [
    "<img src=\"./pics/urban_sub-urban.png\"/>"
   ]
  },
  {
   "cell_type": "markdown",
   "metadata": {},
   "source": [
    "Each of the dwellings ( houses, businesses ) has a GPS location."
   ]
  },
  {
   "cell_type": "markdown",
   "metadata": {},
   "source": [
    "<img src=\"./pics/gps_location_knn.png\"/>"
   ]
  },
  {
   "cell_type": "markdown",
   "metadata": {},
   "source": [
    "Given the co-ordinates of a place, can you figure out if the place is urban or sub-urban ? What a stupid question you might be asking yourself. Why would you ever need to know it ? If a dwelling is urban or sub-urban is something you can know just by looking at it. We have taken this scenario just to make things simple. You can very well imagine more complicated scenarios like terrain mapping an alien planet or mapping friendly neighborhoods vs hostile in a war zone etc. In all these cases, visual clues might not be good enough."
   ]
  },
  {
   "cell_type": "markdown",
   "metadata": {},
   "source": [
    "As with any Machine Learning algorithm, we need data points to start with. We need a bunch of data points clearly marked as urban or sub-urban so that we can train the algorithm first.\n",
    "\n"
   ]
  },
  {
   "cell_type": "markdown",
   "metadata": {},
   "source": [
    "<img src=\"./pics/data_points_sub-urban_urban.png\"/>"
   ]
  },
  {
   "cell_type": "markdown",
   "metadata": {},
   "source": [
    "We list the data points in a grid like so.\n",
    "\n"
   ]
  },
  {
   "cell_type": "markdown",
   "metadata": {},
   "source": [
    "<img src=\"./pics/data_points.png\"/>"
   ]
  },
  {
   "cell_type": "markdown",
   "metadata": {},
   "source": [
    "Once we have the data, our task is to train the algorithm so that any arbitrary point can now be classified as either urban or rub-urban just based on the data location. This is an example of classification.\n",
    "\n"
   ]
  },
  {
   "cell_type": "markdown",
   "metadata": {},
   "source": [
    "<img src=\"./pics/arbitrary_data_point_knn.png\"/>"
   ]
  },
  {
   "cell_type": "markdown",
   "metadata": {},
   "source": [
    "We can take a similar example, but instead of classifying the result as either urban or sub-urban, we could be predicting a value - say the value of a house or a piece of real estate.\n",
    "\n"
   ]
  },
  {
   "cell_type": "markdown",
   "metadata": {},
   "source": [
    "<img src=\"./pics/regression_knn.png\"/>"
   ]
  },
  {
   "cell_type": "markdown",
   "metadata": {},
   "source": [
    "Point being, we can use KNN for both classification as well as regression. Enough said, let's check out how KNN works.\n",
    "\n"
   ]
  },
  {
   "cell_type": "markdown",
   "metadata": {},
   "source": [
    "## How does KNN work"
   ]
  },
  {
   "cell_type": "markdown",
   "metadata": {},
   "source": [
    "Let's go back to the same urban/sub-urban problem. What we have is a list of data points - specifically GPS co-ordinates ( latitude and longitude ).\n",
    "\n"
   ]
  },
  {
   "cell_type": "markdown",
   "metadata": {},
   "source": [
    "<img src=\"./pics/latitude_longitude.png\"/>"
   ]
  },
  {
   "cell_type": "markdown",
   "metadata": {},
   "source": [
    "Each of these data points have been classified properly in the training data set. Now, given a new point ( GPS location ), what our algorithm has to do is to classify it as urban or sub-urban.\n",
    "\n"
   ]
  },
  {
   "cell_type": "markdown",
   "metadata": {},
   "source": [
    "<img src=\"./pics/urban_or_sub_urban.png\"/>"
   ]
  },
  {
   "cell_type": "markdown",
   "metadata": {},
   "source": [
    "How does KNN do it ? It is based on calculating the distances to the closest points. These closes points are what KNN refers to as neighbors.\n",
    "\n"
   ]
  },
  {
   "cell_type": "markdown",
   "metadata": {},
   "source": [
    "For example, if we calculate the distance between the new point and all other known locations ( training data ) and sort the distance in increasing order,\n",
    "\n"
   ]
  },
  {
   "cell_type": "markdown",
   "metadata": {},
   "source": [
    "<img src=\"./pics/knn_sorted_by_distance.png\"/>"
   ]
  },
  {
   "cell_type": "markdown",
   "metadata": {},
   "source": [
    "We see that the top 4 closest points are green ( sub-urban ) and the 5th closest point is yellow ( urban ). So, since the majority of the top 5 closest points is sub-urban, in all probability the new data point is sub-urban as well. Let's check out the math behind the calculation of distances.\n",
    "\n"
   ]
  },
  {
   "cell_type": "markdown",
   "metadata": {},
   "source": [
    "## Math behind KNN"
   ]
  },
  {
   "cell_type": "markdown",
   "metadata": {},
   "source": [
    "Here is a simple formula ( Euclidean distance ) for calculating the distance between 2 points in a 2-D space.\n",
    "\n"
   ]
  },
  {
   "cell_type": "markdown",
   "metadata": {},
   "source": [
    "<img src=\"./pics/euclidean_distance_between_points.png\"/>"
   ]
  },
  {
   "cell_type": "markdown",
   "metadata": {},
   "source": [
    "By definition, you can extend the same to 3-D space as shown below.\n",
    "\n"
   ]
  },
  {
   "cell_type": "markdown",
   "metadata": {},
   "source": [
    "<img src=\"./pics/euclidean_distance_3-d-space-knn.png\"/>"
   ]
  },
  {
   "cell_type": "markdown",
   "metadata": {},
   "source": [
    "Euclidean is the most popular formula to measure distance between 2 points in n-dimensional space. However, there are other types of measurement as well.\n",
    "\n"
   ]
  },
  {
   "cell_type": "markdown",
   "metadata": {},
   "source": [
    "<img src=\"./pics/distances_euclidean_manhattan_minowski_hamming.png\"/>"
   ]
  },
  {
   "cell_type": "markdown",
   "metadata": {},
   "source": [
    "Once the distances are calculated, all we have to do is to sort the distances in increasing order and take the first \"k\" points. That is where K-NN gets its name from - \"k\" nearest neighbors. If the majority of these \"k\" nearest points belong to a particular category, you classify the new data point as belonging to that particular category.\n",
    "\n"
   ]
  },
  {
   "cell_type": "markdown",
   "metadata": {},
   "source": [
    "### Iris dataset"
   ]
  },
  {
   "cell_type": "markdown",
   "metadata": {},
   "source": [
    "A classic dataset that is used to teach classification is the iris dataset. Ronald Fisher, a scientist gathered the sepal and petal lengths of a species of flowers related to Iris category. The dataset comprises of 50 entries each for the 3 species\n",
    "- setosa\n",
    "- versicolor\n",
    "- virginica"
   ]
  },
  {
   "cell_type": "markdown",
   "metadata": {},
   "source": [
    "<img src=\"./pics/iris-setosa.jpg\"/> <img src=\"./pics/iris-versicolor.jpg\"/> <img src=\"./pics/iris-virginica.jpg\"/>"
   ]
  },
  {
   "cell_type": "markdown",
   "metadata": {},
   "source": [
    "The data has 4 features\n",
    "- Sepal Length\n",
    "- Sepal Width\n",
    "- Petal Length\n",
    "- Petal Width\n",
    "\n",
    "and a target \n",
    "\n",
    "- Species of flower"
   ]
  },
  {
   "cell_type": "markdown",
   "metadata": {},
   "source": [
    "<img src=\"./pics/petal-sepal.png\"/>"
   ]
  },
  {
   "cell_type": "markdown",
   "metadata": {},
   "source": [
    "Let's get the dataset first. "
   ]
  },
  {
   "cell_type": "code",
   "execution_count": 58,
   "metadata": {},
   "outputs": [],
   "source": [
    "from sklearn import datasets\n",
    "\n",
    "iris = datasets.load_iris()"
   ]
  },
  {
   "cell_type": "markdown",
   "metadata": {},
   "source": [
    "Display the first few rows. "
   ]
  },
  {
   "cell_type": "code",
   "execution_count": 60,
   "metadata": {},
   "outputs": [
    {
     "data": {
      "text/plain": [
       "array([[5.1, 3.5, 1.4, 0.2],\n",
       "       [4.9, 3. , 1.4, 0.2],\n",
       "       [4.7, 3.2, 1.3, 0.2],\n",
       "       [4.6, 3.1, 1.5, 0.2],\n",
       "       [5. , 3.6, 1.4, 0.2]])"
      ]
     },
     "execution_count": 60,
     "metadata": {},
     "output_type": "execute_result"
    }
   ],
   "source": [
    "iris.data[0:5,:]"
   ]
  },
  {
   "cell_type": "markdown",
   "metadata": {},
   "source": [
    "Check the feature names"
   ]
  },
  {
   "cell_type": "code",
   "execution_count": 11,
   "metadata": {},
   "outputs": [
    {
     "data": {
      "text/plain": [
       "['sepal length (cm)',\n",
       " 'sepal width (cm)',\n",
       " 'petal length (cm)',\n",
       " 'petal width (cm)']"
      ]
     },
     "execution_count": 11,
     "metadata": {},
     "output_type": "execute_result"
    }
   ],
   "source": [
    "iris.feature_names"
   ]
  },
  {
   "cell_type": "markdown",
   "metadata": {},
   "source": [
    "and the target data. "
   ]
  },
  {
   "cell_type": "code",
   "execution_count": 12,
   "metadata": {},
   "outputs": [
    {
     "data": {
      "text/plain": [
       "array([0, 0, 0, 0, 0, 0, 0, 0, 0, 0, 0, 0, 0, 0, 0, 0, 0, 0, 0, 0, 0, 0,\n",
       "       0, 0, 0, 0, 0, 0, 0, 0, 0, 0, 0, 0, 0, 0, 0, 0, 0, 0, 0, 0, 0, 0,\n",
       "       0, 0, 0, 0, 0, 0, 1, 1, 1, 1, 1, 1, 1, 1, 1, 1, 1, 1, 1, 1, 1, 1,\n",
       "       1, 1, 1, 1, 1, 1, 1, 1, 1, 1, 1, 1, 1, 1, 1, 1, 1, 1, 1, 1, 1, 1,\n",
       "       1, 1, 1, 1, 1, 1, 1, 1, 1, 1, 1, 1, 2, 2, 2, 2, 2, 2, 2, 2, 2, 2,\n",
       "       2, 2, 2, 2, 2, 2, 2, 2, 2, 2, 2, 2, 2, 2, 2, 2, 2, 2, 2, 2, 2, 2,\n",
       "       2, 2, 2, 2, 2, 2, 2, 2, 2, 2, 2, 2, 2, 2, 2, 2, 2, 2])"
      ]
     },
     "execution_count": 12,
     "metadata": {},
     "output_type": "execute_result"
    }
   ],
   "source": [
    "iris.target"
   ]
  },
  {
   "cell_type": "markdown",
   "metadata": {},
   "source": [
    "What do these values mean ? The DESCR attribute should shows us all the necessary metadata. "
   ]
  },
  {
   "cell_type": "code",
   "execution_count": 15,
   "metadata": {},
   "outputs": [
    {
     "name": "stdout",
     "output_type": "stream",
     "text": [
      ".. _iris_dataset:\n",
      "\n",
      "Iris plants dataset\n",
      "--------------------\n",
      "\n",
      "**Data Set Characteristics:**\n",
      "\n",
      "    :Number of Instances: 150 (50 in each of three classes)\n",
      "    :Number of Attributes: 4 numeric, predictive attributes and the class\n",
      "    :Attribute Information:\n",
      "        - sepal length in cm\n",
      "        - sepal width in cm\n",
      "        - petal length in cm\n",
      "        - petal width in cm\n",
      "        - class:\n",
      "                - Iris-Setosa\n",
      "                - Iris-Versicolour\n",
      "                - Iris-Virginica\n",
      "                \n",
      "    :Summary Statistics:\n",
      "\n",
      "    ============== ==== ==== ======= ===== ====================\n",
      "                    Min  Max   Mean    SD   Class Correlation\n",
      "    ============== ==== ==== ======= ===== ====================\n",
      "    sepal length:   4.3  7.9   5.84   0.83    0.7826\n",
      "    sepal width:    2.0  4.4   3.05   0.43   -0.4194\n",
      "    petal length:   1.0  6.9   3.76   1.76    0.9490  (high!)\n",
      "    petal width:    0.1  2.5   1.20   0.76    0.9565  (high!)\n",
      "    ============== ==== ==== ======= ===== ====================\n",
      "\n",
      "    :Missing Attribute Values: None\n",
      "    :Class Distribution: 33.3% for each of 3 classes.\n",
      "    :Creator: R.A. Fisher\n",
      "    :Donor: Michael Marshall (MARSHALL%PLU@io.arc.nasa.gov)\n",
      "    :Date: July, 1988\n",
      "\n",
      "The famous Iris database, first used by Sir R.A. Fisher. The dataset is taken\n",
      "from Fisher's paper. Note that it's the same as in R, but not as in the UCI\n",
      "Machine Learning Repository, which has two wrong data points.\n",
      "\n",
      "This is perhaps the best known database to be found in the\n",
      "pattern recognition literature.  Fisher's paper is a classic in the field and\n",
      "is referenced frequently to this day.  (See Duda & Hart, for example.)  The\n",
      "data set contains 3 classes of 50 instances each, where each class refers to a\n",
      "type of iris plant.  One class is linearly separable from the other 2; the\n",
      "latter are NOT linearly separable from each other.\n",
      "\n",
      ".. topic:: References\n",
      "\n",
      "   - Fisher, R.A. \"The use of multiple measurements in taxonomic problems\"\n",
      "     Annual Eugenics, 7, Part II, 179-188 (1936); also in \"Contributions to\n",
      "     Mathematical Statistics\" (John Wiley, NY, 1950).\n",
      "   - Duda, R.O., & Hart, P.E. (1973) Pattern Classification and Scene Analysis.\n",
      "     (Q327.D83) John Wiley & Sons.  ISBN 0-471-22361-1.  See page 218.\n",
      "   - Dasarathy, B.V. (1980) \"Nosing Around the Neighborhood: A New System\n",
      "     Structure and Classification Rule for Recognition in Partially Exposed\n",
      "     Environments\".  IEEE Transactions on Pattern Analysis and Machine\n",
      "     Intelligence, Vol. PAMI-2, No. 1, 67-71.\n",
      "   - Gates, G.W. (1972) \"The Reduced Nearest Neighbor Rule\".  IEEE Transactions\n",
      "     on Information Theory, May 1972, 431-433.\n",
      "   - See also: 1988 MLC Proceedings, 54-64.  Cheeseman et al\"s AUTOCLASS II\n",
      "     conceptual clustering system finds 3 classes in the data.\n",
      "   - Many, many more ...\n"
     ]
    }
   ],
   "source": [
    "print ( iris.DESCR )"
   ]
  },
  {
   "cell_type": "markdown",
   "metadata": {},
   "source": [
    "## Exploratory Data Analysis"
   ]
  },
  {
   "cell_type": "markdown",
   "metadata": {},
   "source": [
    "Before we start to do understand KNN better, let's explore the data visually ( just a bit )"
   ]
  },
  {
   "cell_type": "markdown",
   "metadata": {},
   "source": [
    "**Scatter Plot** - Shows visually how the target is distributed vis-a-vis the predictors. For classification problems, start looking at clusters of data in the scatter plot. More clustering means, a better chance of classification. Try it with different combination of features. "
   ]
  },
  {
   "cell_type": "code",
   "execution_count": 82,
   "metadata": {},
   "outputs": [
    {
     "data": {
      "text/plain": [
       "Text(0, 0.5, 'sepal width (cm)')"
      ]
     },
     "execution_count": 82,
     "metadata": {},
     "output_type": "execute_result"
    },
    {
     "data": {
      "image/png": "[encoded data removed]",
      "text/plain": [
       "<Figure size 432x288 with 1 Axes>"
      ]
     },
     "metadata": {
      "needs_background": "light"
     },
     "output_type": "display_data"
    }
   ],
   "source": [
    "\n",
    "scatter = plt.scatter(iris.data[:,0], iris.data[:, 1], c=iris.target)\n",
    "\n",
    "plt.xlabel(iris.feature_names[0])\n",
    "plt.ylabel(iris.feature_names[1])\n"
   ]
  },
  {
   "cell_type": "code",
   "execution_count": 65,
   "metadata": {},
   "outputs": [
    {
     "data": {
      "text/plain": [
       "Text(0, 0.5, 'petal width (cm)')"
      ]
     },
     "execution_count": 65,
     "metadata": {},
     "output_type": "execute_result"
    },
    {
     "data": {
      "image/png": "[encoded data removed]",
      "text/plain": [
       "<Figure size 432x288 with 1 Axes>"
      ]
     },
     "metadata": {
      "needs_background": "light"
     },
     "output_type": "display_data"
    }
   ],
   "source": [
    "\n",
    "scatter = plt.scatter(iris.data[:,2], iris.data[:, 3], c=iris.target)\n",
    "\n",
    "plt.xlabel(iris.feature_names[2])\n",
    "plt.ylabel(iris.feature_names[3])"
   ]
  },
  {
   "cell_type": "markdown",
   "metadata": {},
   "source": [
    "There are many more plots that can give a better understanding of the data, but for now, let's get back to KNN. "
   ]
  },
  {
   "cell_type": "markdown",
   "metadata": {},
   "source": [
    "## KNN by hand"
   ]
  },
  {
   "cell_type": "markdown",
   "metadata": {},
   "source": [
    "Before we do KNN in Python, it is a good idea to try to do this distance calculation by hand in excel. This will give us a good idea on what is going on behind the hood. Let's do it on the iris data set as it is a good example of a categorical response variable.\n",
    "\n"
   ]
  },
  {
   "cell_type": "markdown",
   "metadata": {},
   "source": [
    "**Step 1** : Load the iris dataset from sklearn's datasets class\n",
    "\n"
   ]
  },
  {
   "cell_type": "code",
   "execution_count": 64,
   "metadata": {},
   "outputs": [],
   "source": [
    "from sklearn import datasets\n",
    "\n",
    "iris = datasets.load_iris()"
   ]
  },
  {
   "cell_type": "markdown",
   "metadata": {},
   "source": [
    "**Step 2** : Write out the iris file to excel\n",
    "\n"
   ]
  },
  {
   "cell_type": "code",
   "execution_count": 35,
   "metadata": {},
   "outputs": [],
   "source": [
    "import numpy as np\n",
    "\n",
    "# Prepare the target dataset by concatenating data and target\n",
    "data = np.concatenate((iris.data,iris.target.reshape(-1,1)),axis=1)\n",
    "\n",
    "# write out the data as a csv\n",
    "np.savetxt(\"../data/iris.csv\", data, \n",
    "                                  fmt=\"%1.2f\",\n",
    "                                  delimiter = \",\", \n",
    "                                  header=\"Sepal Length,Sepal Width, Petal Length, Petal Width, Species\")"
   ]
  },
  {
   "cell_type": "markdown",
   "metadata": {},
   "source": [
    "You can find the excel used to calculate the distances by hand using simple formulas below.  \n",
    "\n",
    "<a href=\"https://ajaytech.co/wp-content/uploads/2019/05/iris_calculation.xlsx\"> <img src=\"./pics/excel_icon.png\"/> </a>"
   ]
  },
  {
   "cell_type": "markdown",
   "metadata": {},
   "source": [
    "<img src=\"./pics/iris-file.png\"/>"
   ]
  },
  {
   "cell_type": "markdown",
   "metadata": {},
   "source": [
    "<img src=\"./pics/excel_formula_to_calculate_knn_distances.png\"/>"
   ]
  },
  {
   "cell_type": "markdown",
   "metadata": {},
   "source": [
    "Once you do the ranking, all you have to do is pick the top 5 or 10 ( closest ) and the species that most of these top entries belong to is the one that the test entry should belong to.\n",
    "\n"
   ]
  },
  {
   "cell_type": "markdown",
   "metadata": {},
   "source": [
    "## KNN in Python"
   ]
  },
  {
   "cell_type": "code",
   "execution_count": 25,
   "metadata": {},
   "outputs": [],
   "source": [
    "from sklearn import datasets\n",
    "from sklearn.neighbors import KNeighborsClassifier\n",
    "\n",
    "\n",
    "iris = datasets.load_iris()\n",
    "\n",
    "model_knn = KNeighborsClassifier(n_neighbors=3).fit(iris.data,iris.target)"
   ]
  },
  {
   "cell_type": "markdown",
   "metadata": {},
   "source": [
    "Pick the say the first row from the iris dataset, say and it should be of species \"Setosa\""
   ]
  },
  {
   "cell_type": "markdown",
   "metadata": {},
   "source": [
    "<img src=\"./pics/first_row.png\"/>\n"
   ]
  },
  {
   "cell_type": "markdown",
   "metadata": {},
   "source": [
    "Verify it by predicting using the KNN model. "
   ]
  },
  {
   "cell_type": "code",
   "execution_count": 45,
   "metadata": {},
   "outputs": [
    {
     "data": {
      "text/plain": [
       "array([0])"
      ]
     },
     "execution_count": 45,
     "metadata": {},
     "output_type": "execute_result"
    }
   ],
   "source": [
    "test = np.array([5.1,3.5,1.4,0.2]).reshape(-1,4)\n",
    "model_knn.predict(test)"
   ]
  },
  {
   "cell_type": "markdown",
   "metadata": {},
   "source": [
    "Let's pick up another row , say the 52nd row. "
   ]
  },
  {
   "cell_type": "markdown",
   "metadata": {},
   "source": [
    "<img src=\"./pics/52-row.png\"/>"
   ]
  },
  {
   "cell_type": "markdown",
   "metadata": {},
   "source": [
    "This one should be a **Versicolor** species. "
   ]
  },
  {
   "cell_type": "code",
   "execution_count": 49,
   "metadata": {},
   "outputs": [
    {
     "data": {
      "text/plain": [
       "array([1])"
      ]
     },
     "execution_count": 49,
     "metadata": {},
     "output_type": "execute_result"
    }
   ],
   "source": [
    "# Say the first row from the iris dataset, say\n",
    "test = np.array([7.0,3.2,4.7,1.4]).reshape(-1,4)\n",
    "model_knn.predict(test)"
   ]
  },
  {
   "cell_type": "markdown",
   "metadata": {},
   "source": [
    "Looks accurate, right ? "
   ]
  },
  {
   "cell_type": "markdown",
   "metadata": {},
   "source": [
    "Let's split up the data into training and test datasets and check the accuracy of prediction. "
   ]
  },
  {
   "cell_type": "code",
   "execution_count": 50,
   "metadata": {},
   "outputs": [
    {
     "name": "stdout",
     "output_type": "stream",
     "text": [
      "X_train size (120, 4)\n",
      "X_test size (30, 4)\n",
      "y_train size (120,)\n",
      "y_train size (30,)\n"
     ]
    }
   ],
   "source": [
    "from sklearn.model_selection import train_test_split\n",
    "\n",
    "X_train, X_test, y_train, y_test = train_test_split(iris.data, iris.target, test_size=0.2)\n",
    "\n",
    "print ( \"X_train size\", X_train.shape)\n",
    "print ( \"X_test size\", X_test.shape)\n",
    "print ( \"y_train size\", y_train.shape)\n",
    "print ( \"y_train size\", y_test.shape)"
   ]
  },
  {
   "cell_type": "markdown",
   "metadata": {},
   "source": [
    "Let's now create the model with the training data. "
   ]
  },
  {
   "cell_type": "code",
   "execution_count": 52,
   "metadata": {},
   "outputs": [],
   "source": [
    "model_knn = KNeighborsClassifier(n_neighbors=3).fit(X_train,y_train)"
   ]
  },
  {
   "cell_type": "markdown",
   "metadata": {},
   "source": [
    "And let's predict the model with the test data. "
   ]
  },
  {
   "cell_type": "code",
   "execution_count": 54,
   "metadata": {},
   "outputs": [],
   "source": [
    "y_pred = model_knn.predict(X_test)"
   ]
  },
  {
   "cell_type": "markdown",
   "metadata": {},
   "source": [
    "## Confusion Matrix"
   ]
  },
  {
   "cell_type": "markdown",
   "metadata": {},
   "source": [
    "In Linear Regressin, we have seen how to check the accuracy of prediction using **r<sup>2</sup>**. That was for continous target variables. In the case of the iris dataset, the target is a categorical variable. So, **r<sup>2</sup>** does not apply here. A simple way to check the accuracy of a classification is via a confusion matrix. "
   ]
  },
  {
   "cell_type": "code",
   "execution_count": 62,
   "metadata": {},
   "outputs": [
    {
     "name": "stdout",
     "output_type": "stream",
     "text": [
      "[[11  0  0]\n",
      " [ 0  9  2]\n",
      " [ 0  0  8]]\n"
     ]
    }
   ],
   "source": [
    "from sklearn.metrics import confusion_matrix\n",
    "\n",
    "cm = confusion_matrix(y_test, y_pred)\n",
    "print ( cm )"
   ]
  },
  {
   "cell_type": "markdown",
   "metadata": {},
   "source": [
    "To plot the confusion matrix, you would have to download the following code from sklearn. "
   ]
  },
  {
   "cell_type": "code",
   "execution_count": 69,
   "metadata": {},
   "outputs": [
    {
     "name": "stdout",
     "output_type": "stream",
     "text": [
      "Confusion matrix, without normalization\n",
      "[[11  0  0]\n",
      " [ 0  9  2]\n",
      " [ 0  0  8]]\n",
      "Normalized confusion matrix\n",
      "[[1.   0.   0.  ]\n",
      " [0.   0.82 0.18]\n",
      " [0.   0.   1.  ]]\n"
     ]
    },
    {
     "data": {
      "image/png": "[encoded data removed]",
      "text/plain": [
       "<Figure size 432x288 with 2 Axes>"
      ]
     },
     "metadata": {
      "needs_background": "light"
     },
     "output_type": "display_data"
    },
    {
     "data": {
      "image/png": "[encoded data removed]",
      "text/plain": [
       "<Figure size 432x288 with 2 Axes>"
      ]
     },
     "metadata": {
      "needs_background": "light"
     },
     "output_type": "display_data"
    }
   ],
   "source": [
    "from sklearn.utils.multiclass import unique_labels\n",
    "\n",
    "def plot_confusion_matrix(y_true, y_pred, classes,\n",
    "                          normalize=False,\n",
    "                          title=None,\n",
    "                          cmap=plt.cm.Blues):\n",
    "    \"\"\"\n",
    "    This function prints and plots the confusion matrix.\n",
    "    Normalization can be applied by setting `normalize=True`.\n",
    "    \"\"\"\n",
    "    if not title:\n",
    "        if normalize:\n",
    "            title = 'Normalized confusion matrix'\n",
    "        else:\n",
    "            title = 'Confusion matrix, without normalization'\n",
    "\n",
    "    # Compute confusion matrix\n",
    "    cm = confusion_matrix(y_true, y_pred)\n",
    "    # Only use the labels that appear in the data\n",
    "    classes = classes[unique_labels(y_true, y_pred)]\n",
    "    if normalize:\n",
    "        cm = cm.astype('float') / cm.sum(axis=1)[:, np.newaxis]\n",
    "        print(\"Normalized confusion matrix\")\n",
    "    else:\n",
    "        print('Confusion matrix, without normalization')\n",
    "\n",
    "    print(cm)\n",
    "\n",
    "    fig, ax = plt.subplots()\n",
    "    im = ax.imshow(cm, interpolation='nearest', cmap=cmap)\n",
    "    ax.figure.colorbar(im, ax=ax)\n",
    "    # We want to show all ticks...\n",
    "    ax.set(xticks=np.arange(cm.shape[1]),\n",
    "           yticks=np.arange(cm.shape[0]),\n",
    "           # ... and label them with the respective list entries\n",
    "           xticklabels=classes, yticklabels=classes,\n",
    "           title=title,\n",
    "           ylabel='True label',\n",
    "           xlabel='Predicted label')\n",
    "\n",
    "    # Rotate the tick labels and set their alignment.\n",
    "    plt.setp(ax.get_xticklabels(), rotation=45, ha=\"right\",\n",
    "             rotation_mode=\"anchor\")\n",
    "\n",
    "    # Loop over data dimensions and create text annotations.\n",
    "    fmt = '.2f' if normalize else 'd'\n",
    "    thresh = cm.max() / 2.\n",
    "    for i in range(cm.shape[0]):\n",
    "        for j in range(cm.shape[1]):\n",
    "            ax.text(j, i, format(cm[i, j], fmt),\n",
    "                    ha=\"center\", va=\"center\",\n",
    "                    color=\"white\" if cm[i, j] > thresh else \"black\")\n",
    "    fig.tight_layout()\n",
    "    return ax\n",
    "\n",
    "\n",
    "np.set_printoptions(precision=2)\n",
    "\n",
    "# Plot non-normalized confusion matrix\n",
    "plot_confusion_matrix(y_test, y_pred, normalize    = False,\n",
    "                      classes = iris.target_names , \n",
    "                      title='Confusion matrix, without normalization')\n",
    "\n",
    "# Plot normalized confusion matrix\n",
    "plot_confusion_matrix(y_test, y_pred, classes= iris.target_names , normalize=True,\n",
    "                      title='Normalized confusion matrix')\n",
    "\n",
    "plt.show()"
   ]
  },
  {
   "cell_type": "markdown",
   "metadata": {},
   "source": [
    "To get the _average_ accuracy across all the categories, use the **score** method of **KNeighborsClassifier** class."
   ]
  },
  {
   "cell_type": "code",
   "execution_count": 56,
   "metadata": {},
   "outputs": [
    {
     "data": {
      "text/plain": [
       "0.9333333333333333"
      ]
     },
     "execution_count": 56,
     "metadata": {},
     "output_type": "execute_result"
    }
   ],
   "source": [
    "model_knn.score(X_test,y_test)"
   ]
  },
  {
   "cell_type": "markdown",
   "metadata": {},
   "source": [
    "It is essentially an implementation of sklearn's **accuracy_score** that can be used for calculating average score of predicted vs real values of _categorical_ data. "
   ]
  },
  {
   "cell_type": "code",
   "execution_count": 58,
   "metadata": {},
   "outputs": [
    {
     "data": {
      "text/plain": [
       "0.9333333333333333"
      ]
     },
     "execution_count": 58,
     "metadata": {},
     "output_type": "execute_result"
    }
   ],
   "source": [
    "from sklearn.metrics import accuracy_score\n",
    "\n",
    "accuracy_score(y_test,y_pred)"
   ]
  },
  {
   "cell_type": "code",
   "execution_count": 61,
   "metadata": {},
   "outputs": [
    {
     "data": {
      "text/plain": [
       "<matplotlib.image.AxesImage at 0x12197d70>"
      ]
     },
     "execution_count": 61,
     "metadata": {},
     "output_type": "execute_result"
    },
    {
     "data": {
      "image/png": "[encoded data removed]",
      "text/plain": [
       "<Figure size 288x288 with 1 Axes>"
      ]
     },
     "metadata": {
      "needs_background": "light"
     },
     "output_type": "display_data"
    }
   ],
   "source": [
    "import matplotlib.pyplot as plt\n",
    "%matplotlib inline\n",
    "\n",
    "plt.matshow(cm)"
   ]
  },
  {
   "cell_type": "markdown",
   "metadata": {},
   "source": [
    "## Visualizing Classification Results"
   ]
  },
  {
   "cell_type": "markdown",
   "metadata": {},
   "source": [
    "Visualizing classification results is not straight forwardfor the simple reason that it is not all that used. However, since we are just learning classification, it would make sense to visualize the results. Unfortunately, there are no standard plots available - so we would have to build something on our own. There are 4 steps to this\n",
    "\n",
    "- **Step 1** - Model the Classifier\n",
    "- **Step 2** - Use NumPy's meshgrid to generate grid co-ordinates\n",
    "- **Step 3** - Use the classifier to predict all the grid co-ordinates and plot them as a scatter plot. \n",
    "- **step 4** - Finally, scatter plot the actual data points over Step 3's scatter plot. \n",
    "\n",
    "**Note** - _If you are learning classification for the first time, feel free to skip to the results and don't worry about the steps_. "
   ]
  },
  {
   "cell_type": "markdown",
   "metadata": {},
   "source": [
    "**Step 1** - Model the Classifier"
   ]
  },
  {
   "cell_type": "code",
   "execution_count": 56,
   "metadata": {},
   "outputs": [],
   "source": [
    "from sklearn import datasets\n",
    "from sklearn.neighbors import KNeighborsClassifier\n",
    "\n",
    "\n",
    "iris = datasets.load_iris()\n",
    "\n",
    "model_knn = KNeighborsClassifier(n_neighbors=20).fit(iris.data[:,[0,1]],iris.target)"
   ]
  },
  {
   "cell_type": "markdown",
   "metadata": {},
   "source": [
    "**Step 2** - Use NumPy's meshgrid to generate grid co-ordinates"
   ]
  },
  {
   "cell_type": "code",
   "execution_count": 57,
   "metadata": {},
   "outputs": [],
   "source": [
    "x_min = iris.data[:,0].max()\n",
    "x_max = iris.data[:,0].min()\n",
    "\n",
    "y_min = iris.data[:,1].max()\n",
    "y_max = iris.data[:,1].min()"
   ]
  },
  {
   "cell_type": "code",
   "execution_count": 58,
   "metadata": {},
   "outputs": [],
   "source": [
    "import numpy as np\n",
    "\n",
    "x = np.linspace(x_min,x_max,1000)\n",
    "y = np.linspace(y_min,y_max,1000)"
   ]
  },
  {
   "cell_type": "code",
   "execution_count": 59,
   "metadata": {},
   "outputs": [],
   "source": [
    "xx,yy = np.meshgrid(x,y)"
   ]
  },
  {
   "cell_type": "code",
   "execution_count": 69,
   "metadata": {},
   "outputs": [],
   "source": [
    "grid_data =  np.column_stack((xx.reshape(-1,1),yy.reshape(-1,1)))"
   ]
  },
  {
   "cell_type": "markdown",
   "metadata": {},
   "source": [
    "**Step 3** - Use the classifier to predict all the grid co-ordinates and plot them as a scatter plot. "
   ]
  },
  {
   "cell_type": "code",
   "execution_count": 70,
   "metadata": {},
   "outputs": [],
   "source": [
    "z = model_knn.predict(grid_data)"
   ]
  },
  {
   "cell_type": "code",
   "execution_count": 72,
   "metadata": {},
   "outputs": [],
   "source": [
    "z = z.reshape(xx.shape)"
   ]
  },
  {
   "cell_type": "code",
   "execution_count": 73,
   "metadata": {},
   "outputs": [
    {
     "data": {
      "text/plain": [
       "(1000, 1000)"
      ]
     },
     "execution_count": 73,
     "metadata": {},
     "output_type": "execute_result"
    }
   ],
   "source": [
    "z.shape"
   ]
  },
  {
   "cell_type": "code",
   "execution_count": 64,
   "metadata": {},
   "outputs": [
    {
     "data": {
      "text/plain": [
       "array([[2, 2, 2, ..., 0, 0, 0],\n",
       "       [2, 2, 2, ..., 0, 0, 0],\n",
       "       [2, 2, 2, ..., 0, 0, 0],\n",
       "       ...,\n",
       "       [2, 2, 2, ..., 0, 0, 0],\n",
       "       [2, 2, 2, ..., 0, 0, 0],\n",
       "       [2, 2, 2, ..., 0, 0, 0]])"
      ]
     },
     "execution_count": 64,
     "metadata": {},
     "output_type": "execute_result"
    }
   ],
   "source": [
    "z"
   ]
  },
  {
   "cell_type": "markdown",
   "metadata": {},
   "source": [
    "**step 4** - Finally, scatter plot the actual data points over Step 3's scatter plot. "
   ]
  },
  {
   "cell_type": "code",
   "execution_count": 75,
   "metadata": {},
   "outputs": [
    {
     "data": {
      "text/plain": [
       "Text(0, 0.5, 'Sepal Width')"
      ]
     },
     "execution_count": 75,
     "metadata": {},
     "output_type": "execute_result"
    },
    {
     "data": {
      "image/png": "[encoded data removed]",
      "text/plain": [
       "<Figure size 432x288 with 1 Axes>"
      ]
     },
     "metadata": {
      "needs_background": "light"
     },
     "output_type": "display_data"
    }
   ],
   "source": [
    "import matplotlib.pyplot as plt\n",
    "%matplotlib inline\n",
    "plt.contourf(xx,yy,z,alpha=0.1)\n",
    "plt.scatter(iris.data[:,0],iris.data[:,1],c=iris.target)\n",
    "plt.xlabel(\"Sepal Length\")\n",
    "plt.ylabel(\"Sepal Width\")"
   ]
  },
  {
   "cell_type": "markdown",
   "metadata": {},
   "source": [
    "Eachof the colors (purple,green,yellow) represent the three different species ( \"Setosa\", \"Versicolor\", \"Virginica\" ). As you can see, there is some overlap between **Versicolor** and **Virginica** , while **Setosa** is a straight forward case. "
   ]
  },
  {
   "cell_type": "markdown",
   "metadata": {},
   "source": [
    "## KNN for Regression"
   ]
  },
  {
   "cell_type": "markdown",
   "metadata": {},
   "source": [
    "Although KNN is an algorithm best known for classification problems, we can very well use it for regression. In classification, we chose the majority class in the **\"k\"** nearest neighbors. In regression we chose the average of the **\"k\"** nearest neighbors.\n",
    "\n"
   ]
  },
  {
   "cell_type": "markdown",
   "metadata": {},
   "source": [
    "<img src=\"./pics/averaging_nearest_neighbours.png\"/>"
   ]
  },
  {
   "cell_type": "markdown",
   "metadata": {},
   "source": [
    "Doing this in Python is just as easy. You just have to use a different function for regression. Since the response variable in iris is a categorical variable, let's use another dataset - Boston Housing that has a continuous variable for the response variable.\n",
    "\n"
   ]
  },
  {
   "cell_type": "markdown",
   "metadata": {},
   "source": [
    "**Step 1 - Get the Boston Housing dataset**"
   ]
  },
  {
   "cell_type": "code",
   "execution_count": 3,
   "metadata": {},
   "outputs": [],
   "source": [
    "from sklearn import datasets\n",
    "\n",
    "boston = datasets.load_boston()"
   ]
  },
  {
   "cell_type": "markdown",
   "metadata": {},
   "source": [
    "**Step 2 - Split the data into training and test data**"
   ]
  },
  {
   "cell_type": "code",
   "execution_count": 6,
   "metadata": {},
   "outputs": [
    {
     "name": "stdout",
     "output_type": "stream",
     "text": [
      "X_train size (404, 13)\n",
      "X_test size (102, 13)\n",
      "y_train size (404,)\n",
      "y_train size (102,)\n"
     ]
    }
   ],
   "source": [
    "from sklearn.model_selection import train_test_split\n",
    "\n",
    "X_train, X_test, y_train, y_test = train_test_split(boston.data, boston.target, test_size=0.2)\n",
    "\n",
    "print ( \"X_train size\", X_train.shape)\n",
    "print ( \"X_test size\", X_test.shape)\n",
    "print ( \"y_train size\", y_train.shape)\n",
    "print ( \"y_train size\", y_test.shape)"
   ]
  },
  {
   "cell_type": "markdown",
   "metadata": {},
   "source": [
    "**Step 3 - Model the data using KNeighborsRegressor Class**"
   ]
  },
  {
   "cell_type": "code",
   "execution_count": 10,
   "metadata": {},
   "outputs": [
    {
     "data": {
      "text/plain": [
       "KNeighborsRegressor(algorithm='auto', leaf_size=30, metric='minkowski',\n",
       "          metric_params=None, n_jobs=None, n_neighbors=3, p=2,\n",
       "          weights='uniform')"
      ]
     },
     "execution_count": 10,
     "metadata": {},
     "output_type": "execute_result"
    }
   ],
   "source": [
    "from sklearn.neighbors import KNeighborsRegressor\n",
    "\n",
    "model = KNeighborsRegressor(n_neighbors=3)\n",
    "model.fit(X_train, y_train) "
   ]
  },
  {
   "cell_type": "markdown",
   "metadata": {},
   "source": [
    "**Step 4 - Predict the Median House Prices based on the model**"
   ]
  },
  {
   "cell_type": "code",
   "execution_count": 13,
   "metadata": {},
   "outputs": [],
   "source": [
    "y_pred = model.predict(X_test)"
   ]
  },
  {
   "cell_type": "markdown",
   "metadata": {},
   "source": [
    "**Step 5 - Check the accuracy of prediction**"
   ]
  },
  {
   "cell_type": "code",
   "execution_count": 15,
   "metadata": {},
   "outputs": [
    {
     "name": "stdout",
     "output_type": "stream",
     "text": [
      "0.48813113665058205\n"
     ]
    }
   ],
   "source": [
    "r2_score = model.score(X_test, y_test)\n",
    "print (r2_score)"
   ]
  },
  {
   "cell_type": "markdown",
   "metadata": {},
   "source": [
    "If you want to check the prediction visually, you can use a scatter plot. The more scattered the points are from the 45<sup>0</sup> line, the more in accurate it is. "
   ]
  },
  {
   "cell_type": "code",
   "execution_count": 17,
   "metadata": {},
   "outputs": [
    {
     "data": {
      "text/plain": [
       "<matplotlib.collections.PathCollection at 0xf423330>"
      ]
     },
     "execution_count": 17,
     "metadata": {},
     "output_type": "execute_result"
    },
    {
     "data": {
      "image/png": "[encoded data removed]",
      "text/plain": [
       "<Figure size 432x288 with 1 Axes>"
      ]
     },
     "metadata": {
      "needs_background": "light"
     },
     "output_type": "display_data"
    }
   ],
   "source": [
    "import matplotlib.pyplot as plt\n",
    "%matplotlib inline\n",
    "\n",
    "plt.scatter(y_test,y_pred)"
   ]
  },
  {
   "cell_type": "markdown",
   "metadata": {},
   "source": [
    "We have used all the predictors in the Boston Housing data to predict the house value. We haven't used feature selection at all. That is a bad idea and thats why you get such a bad R<sup>2</sup> score. But that's ok for now . We just want do see that,"
   ]
  },
  {
   "cell_type": "markdown",
   "metadata": {},
   "source": [
    "> KNN can do **Regression** as well."
   ]
  },
  {
   "cell_type": "markdown",
   "metadata": {},
   "source": [
    "and not just **Classification**."
   ]
  },
  {
   "cell_type": "markdown",
   "metadata": {},
   "source": [
    "## Feature Scaling"
   ]
  },
  {
   "cell_type": "markdown",
   "metadata": {},
   "source": [
    "Feature scaling is always an important parameter in most machine learning algorithms - and so it is with KNN as well. We can very well illustrate this with the iris dataset.\n",
    "\n"
   ]
  },
  {
   "cell_type": "code",
   "execution_count": 42,
   "metadata": {},
   "outputs": [
    {
     "data": {
      "text/plain": [
       "array([[5.1, 3.5, 1.4, 0.2],\n",
       "       [4.9, 3. , 1.4, 0.2],\n",
       "       [4.7, 3.2, 1.3, 0.2],\n",
       "       [4.6, 3.1, 1.5, 0.2],\n",
       "       [5. , 3.6, 1.4, 0.2]])"
      ]
     },
     "execution_count": 42,
     "metadata": {},
     "output_type": "execute_result"
    }
   ],
   "source": [
    "from sklearn import datasets\n",
    "\n",
    "iris = datasets.load_iris()\n",
    "iris.data[0:5,:]"
   ]
  },
  {
   "cell_type": "markdown",
   "metadata": {},
   "source": [
    "If you look at the iris dataset, all the lengths ( sepal, petal ) are in centimeter. Say, we convert one of the predictors ( say Sepal Length - the first column ) to millimeters ( mm ). How would it affect the accuracy ?\n",
    "\n"
   ]
  },
  {
   "cell_type": "code",
   "execution_count": 49,
   "metadata": {},
   "outputs": [
    {
     "data": {
      "text/plain": [
       "array([[51. ,  3.5,  1.4,  0.2],\n",
       "       [49. ,  3. ,  1.4,  0.2],\n",
       "       [47. ,  3.2,  1.3,  0.2],\n",
       "       [46. ,  3.1,  1.5,  0.2],\n",
       "       [50. ,  3.6,  1.4,  0.2]])"
      ]
     },
     "execution_count": 49,
     "metadata": {},
     "output_type": "execute_result"
    }
   ],
   "source": [
    "import numpy as np\n",
    "\n",
    "iris_unscaled = np.copy(iris.data)\n",
    "iris_unscaled[:,0] = iris_unscaled[:,0] * 10\n",
    "\n",
    "iris_unscaled[0:5,:]"
   ]
  },
  {
   "cell_type": "markdown",
   "metadata": {},
   "source": [
    "Let's fit the model again and see if the accuracy of prediction is affected this time with unscaled data. "
   ]
  },
  {
   "cell_type": "code",
   "execution_count": 50,
   "metadata": {},
   "outputs": [],
   "source": [
    "from sklearn.neighbors import KNeighborsClassifier\n",
    "\n",
    "model_knn_unscaled = KNeighborsClassifier(n_neighbors=3).fit(iris_unscaled,iris.target)"
   ]
  },
  {
   "cell_type": "code",
   "execution_count": 130,
   "metadata": {},
   "outputs": [
    {
     "data": {
      "text/plain": [
       "0.92"
      ]
     },
     "execution_count": 130,
     "metadata": {},
     "output_type": "execute_result"
    }
   ],
   "source": [
    "model_knn_unscaled.score(iris_unscaled,iris.target)"
   ]
  },
  {
   "cell_type": "code",
   "execution_count": 52,
   "metadata": {},
   "outputs": [
    {
     "data": {
      "text/plain": [
       "0.96"
      ]
     },
     "execution_count": 52,
     "metadata": {},
     "output_type": "execute_result"
    }
   ],
   "source": [
    "from sklearn.neighbors import KNeighborsClassifier\n",
    "\n",
    "model_knn_scaled = KNeighborsClassifier(n_neighbors=3).fit(iris.data,iris.target)\n",
    "model_knn_scaled.score(iris.data,iris.target)"
   ]
  },
  {
   "cell_type": "markdown",
   "metadata": {},
   "source": [
    "<table>\n",
    "<tr> <td><b>Model</b> </td> <td><b> Score</b> </td> </tr>\n",
    "<tr> <td><b>Scaled Model</b> </td> <td> 0.96 </td> </tr>\n",
    "<tr> <td><b>Un-scaled Model</b> </td> <td> 0.92 </td> </tr>\n",
    "\n",
    "</table>"
   ]
  },
  {
   "cell_type": "markdown",
   "metadata": {},
   "source": [
    "It is too small a dataset to really predict if there has been a difference due to the wrong scaling of the features, but nevertheless it will give you an idea on how the accuracy can differ due to feature scaling.\n",
    "\n"
   ]
  },
  {
   "cell_type": "markdown",
   "metadata": {},
   "source": [
    "> Since KNN is based on distances between data points, always make sure that the data is scaled properly. \n"
   ]
  },
  {
   "cell_type": "markdown",
   "metadata": {},
   "source": [
    "**Quiz**"
   ]
  },
  {
   "cell_type": "markdown",
   "metadata": {},
   "source": [
    "**Question** - Does changing the scale from mm ( x 10 ) to micro meter ( x 100 ) of the first column ( Sepal Length ) affect the score further ? "
   ]
  },
  {
   "cell_type": "markdown",
   "metadata": {},
   "source": [
    "- True\n",
    "- False"
   ]
  },
  {
   "cell_type": "markdown",
   "metadata": {},
   "source": [
    "## Effect of Outliers"
   ]
  },
  {
   "cell_type": "markdown",
   "metadata": {},
   "source": [
    "Just like most ML algorithms, outliers affect the fit of the data greatly - and so is it with KNN. Let's inject some outliers into the iris dataset and see if the results are affected. One good plot to detect outliers is the box and whisker plot. Know more about Boxplots in Python if needed. "
   ]
  },
  {
   "cell_type": "code",
   "execution_count": 108,
   "metadata": {},
   "outputs": [
    {
     "data": {
      "text/plain": [
       "{'whiskers': [<matplotlib.lines.Line2D at 0x121b38b0>,\n",
       "  <matplotlib.lines.Line2D at 0x121b38f0>],\n",
       " 'caps': [<matplotlib.lines.Line2D at 0x121b3b50>,\n",
       "  <matplotlib.lines.Line2D at 0x121b3fd0>],\n",
       " 'boxes': [<matplotlib.lines.Line2D at 0x121b3630>],\n",
       " 'medians': [<matplotlib.lines.Line2D at 0x121bb270>],\n",
       " 'fliers': [<matplotlib.lines.Line2D at 0x121bb2b0>],\n",
       " 'means': []}"
      ]
     },
     "execution_count": 108,
     "metadata": {},
     "output_type": "execute_result"
    },
    {
     "data": {
      "image/png": "[encoded data removed]",
      "text/plain": [
       "<Figure size 432x288 with 1 Axes>"
      ]
     },
     "metadata": {
      "needs_background": "light"
     },
     "output_type": "display_data"
    }
   ],
   "source": [
    "plt.boxplot(iris.data[:,0])"
   ]
  },
  {
   "cell_type": "code",
   "execution_count": 111,
   "metadata": {},
   "outputs": [
    {
     "data": {
      "text/plain": [
       "array([4.3, 3.5, 1.4, 0.2])"
      ]
     },
     "execution_count": 111,
     "metadata": {},
     "output_type": "execute_result"
    }
   ],
   "source": [
    "iris_data_new = iris.data.copy()\n",
    "iris_data_new[0,:]"
   ]
  },
  {
   "cell_type": "code",
   "execution_count": 122,
   "metadata": {},
   "outputs": [],
   "source": [
    "iris_data_new[[1,20,40,60,80,100,120,140],:] = iris_data_new[[1,20,40,60,80,100,120,140],:] * 50"
   ]
  },
  {
   "cell_type": "code",
   "execution_count": 126,
   "metadata": {},
   "outputs": [
    {
     "data": {
      "text/plain": [
       "array([[  4.3,   3.5,   1.4,   0.2],\n",
       "       [220. , 150. ,  70. ,  10. ],\n",
       "       [  4.4,   3.2,   1.3,   0.2],\n",
       "       [  4.4,   3.1,   1.5,   0.2],\n",
       "       [  4.5,   3.6,   1.4,   0.2],\n",
       "       [  4.6,   3.9,   1.7,   0.4],\n",
       "       [  4.6,   3.4,   1.4,   0.3],\n",
       "       [  4.6,   3.4,   1.5,   0.2],\n",
       "       [  4.6,   2.9,   1.4,   0.2],\n",
       "       [  4.7,   3.1,   1.5,   0.1],\n",
       "       [  4.7,   3.7,   1.5,   0.2],\n",
       "       [  4.8,   3.4,   1.6,   0.2],\n",
       "       [  4.8,   3. ,   1.4,   0.1],\n",
       "       [  4.8,   3. ,   1.1,   0.1],\n",
       "       [  4.8,   4. ,   1.2,   0.2],\n",
       "       [  4.8,   4.4,   1.5,   0.4],\n",
       "       [  4.9,   3.9,   1.3,   0.4],\n",
       "       [  4.9,   3.5,   1.4,   0.3],\n",
       "       [  4.9,   3.8,   1.7,   0.3],\n",
       "       [  4.9,   3.8,   1.5,   0.3],\n",
       "       [245. , 170. ,  85. ,  10. ],\n",
       "       [  4.9,   3.7,   1.5,   0.4],\n",
       "       [  5. ,   3.6,   1. ,   0.2],\n",
       "       [  5. ,   3.3,   1.7,   0.5],\n",
       "       [  5. ,   3.4,   1.9,   0.2],\n",
       "       [  5. ,   3. ,   1.6,   0.2],\n",
       "       [  5. ,   3.4,   1.6,   0.4],\n",
       "       [  5. ,   3.5,   1.5,   0.2],\n",
       "       [  5. ,   3.4,   1.4,   0.2],\n",
       "       [  5. ,   3.2,   1.6,   0.2],\n",
       "       [  5. ,   3.1,   1.6,   0.2],\n",
       "       [  5. ,   3.4,   1.5,   0.4],\n",
       "       [  5.1,   4.1,   1.5,   0.1],\n",
       "       [  5.1,   4.2,   1.4,   0.2],\n",
       "       [  5.1,   3.1,   1.5,   0.2],\n",
       "       [  5.1,   3.2,   1.2,   0.2],\n",
       "       [  5.1,   3.5,   1.3,   0.2],\n",
       "       [  5.1,   3.6,   1.4,   0.1],\n",
       "       [  5.1,   3. ,   1.3,   0.2],\n",
       "       [  5.1,   3.4,   1.5,   0.2],\n",
       "       [255. , 175. ,  65. ,  15. ],\n",
       "       [  5.2,   2.3,   1.3,   0.3],\n",
       "       [  5.2,   3.2,   1.3,   0.2],\n",
       "       [  5.2,   3.5,   1.6,   0.6],\n",
       "       [  5.2,   3.8,   1.9,   0.4],\n",
       "       [  5.3,   3. ,   1.4,   0.3],\n",
       "       [  5.4,   3.8,   1.6,   0.2],\n",
       "       [  5.4,   3.2,   1.4,   0.2],\n",
       "       [  5.4,   3.7,   1.5,   0.2],\n",
       "       [  5.4,   3.3,   1.4,   0.2],\n",
       "       [  5.4,   3.2,   4.7,   1.4],\n",
       "       [  5.4,   3.2,   4.5,   1.5],\n",
       "       [  5.5,   3.1,   4.9,   1.5],\n",
       "       [  5.5,   2.3,   4. ,   1.3],\n",
       "       [  5.5,   2.8,   4.6,   1.5],\n",
       "       [  5.5,   2.8,   4.5,   1.3],\n",
       "       [  5.5,   3.3,   4.7,   1.6],\n",
       "       [  5.5,   2.4,   3.3,   1. ],\n",
       "       [  5.5,   2.9,   4.6,   1.3],\n",
       "       [  5.6,   2.7,   3.9,   1.4],\n",
       "       [280. , 100. , 175. ,  50. ],\n",
       "       [  5.6,   3. ,   4.2,   1.5],\n",
       "       [  5.6,   2.2,   4. ,   1. ],\n",
       "       [  5.6,   2.9,   4.7,   1.4],\n",
       "       [  5.6,   2.9,   3.6,   1.3],\n",
       "       [  5.7,   3.1,   4.4,   1.4],\n",
       "       [  5.7,   3. ,   4.5,   1.5],\n",
       "       [  5.7,   2.7,   4.1,   1. ],\n",
       "       [  5.7,   2.2,   4.5,   1.5],\n",
       "       [  5.7,   2.5,   3.9,   1.1],\n",
       "       [  5.7,   3.2,   4.8,   1.8],\n",
       "       [  5.7,   2.8,   4. ,   1.3],\n",
       "       [  5.7,   2.5,   4.9,   1.5],\n",
       "       [  5.8,   2.8,   4.7,   1.2],\n",
       "       [  5.8,   2.9,   4.3,   1.3],\n",
       "       [  5.8,   3. ,   4.4,   1.4],\n",
       "       [  5.8,   2.8,   4.8,   1.4],\n",
       "       [  5.8,   3. ,   5. ,   1.7],\n",
       "       [  5.8,   2.9,   4.5,   1.5],\n",
       "       [  5.8,   2.6,   3.5,   1. ],\n",
       "       [295. , 120. , 190. ,  55. ],\n",
       "       [  5.9,   2.4,   3.7,   1. ],\n",
       "       [  5.9,   2.7,   3.9,   1.2],\n",
       "       [  6. ,   2.7,   5.1,   1.6],\n",
       "       [  6. ,   3. ,   4.5,   1.5],\n",
       "       [  6. ,   3.4,   4.5,   1.6],\n",
       "       [  6. ,   3.1,   4.7,   1.5],\n",
       "       [  6. ,   2.3,   4.4,   1.3],\n",
       "       [  6. ,   3. ,   4.1,   1.3],\n",
       "       [  6.1,   2.5,   4. ,   1.3],\n",
       "       [  6.1,   2.6,   4.4,   1.2],\n",
       "       [  6.1,   3. ,   4.6,   1.4],\n",
       "       [  6.1,   2.6,   4. ,   1.2],\n",
       "       [  6.1,   2.3,   3.3,   1. ],\n",
       "       [  6.1,   2.7,   4.2,   1.3],\n",
       "       [  6.2,   3. ,   4.2,   1.2],\n",
       "       [  6.2,   2.9,   4.2,   1.3],\n",
       "       [  6.2,   2.9,   4.3,   1.3],\n",
       "       [  6.2,   2.5,   3. ,   1.1],\n",
       "       [  6.3,   2.8,   4.1,   1.3],\n",
       "       [315. , 165. , 300. , 125. ],\n",
       "       [  6.3,   2.7,   5.1,   1.9],\n",
       "       [  6.3,   3. ,   5.9,   2.1],\n",
       "       [  6.3,   2.9,   5.6,   1.8],\n",
       "       [  6.3,   3. ,   5.8,   2.2],\n",
       "       [  6.3,   3. ,   6.6,   2.1],\n",
       "       [  6.3,   2.5,   4.5,   1.7],\n",
       "       [  6.3,   2.9,   6.3,   1.8],\n",
       "       [  6.4,   2.5,   5.8,   1.8],\n",
       "       [  6.4,   3.6,   6.1,   2.5],\n",
       "       [  6.4,   3.2,   5.1,   2. ],\n",
       "       [  6.4,   2.7,   5.3,   1.9],\n",
       "       [  6.4,   3. ,   5.5,   2.1],\n",
       "       [  6.4,   2.5,   5. ,   2. ],\n",
       "       [  6.4,   2.8,   5.1,   2.4],\n",
       "       [  6.5,   3.2,   5.3,   2.3],\n",
       "       [  6.5,   3. ,   5.5,   1.8],\n",
       "       [  6.5,   3.8,   6.7,   2.2],\n",
       "       [  6.5,   2.6,   6.9,   2.3],\n",
       "       [  6.5,   2.2,   5. ,   1.5],\n",
       "       [330. , 160. , 285. , 115. ],\n",
       "       [  6.6,   2.8,   4.9,   2. ],\n",
       "       [  6.7,   2.8,   6.7,   2. ],\n",
       "       [  6.7,   2.7,   4.9,   1.8],\n",
       "       [  6.7,   3.3,   5.7,   2.1],\n",
       "       [  6.7,   3.2,   6. ,   1.8],\n",
       "       [  6.7,   2.8,   4.8,   1.8],\n",
       "       [  6.7,   3. ,   4.9,   1.8],\n",
       "       [  6.7,   2.8,   5.6,   2.1],\n",
       "       [  6.7,   3. ,   5.8,   1.6],\n",
       "       [  6.8,   2.8,   6.1,   1.9],\n",
       "       [  6.8,   3.8,   6.4,   2. ],\n",
       "       [  6.8,   2.8,   5.6,   2.2],\n",
       "       [  6.9,   2.8,   5.1,   1.5],\n",
       "       [  6.9,   2.6,   5.6,   1.4],\n",
       "       [  6.9,   3. ,   6.1,   2.3],\n",
       "       [  6.9,   3.4,   5.6,   2.4],\n",
       "       [  7. ,   3.1,   5.5,   1.8],\n",
       "       [  7.1,   3. ,   4.8,   1.8],\n",
       "       [  7.2,   3.1,   5.4,   2.1],\n",
       "       [360. , 155. , 280. , 120. ],\n",
       "       [  7.2,   3.1,   5.1,   2.3],\n",
       "       [  7.3,   2.7,   5.1,   1.9],\n",
       "       [  7.4,   3.2,   5.9,   2.3],\n",
       "       [  7.6,   3.3,   5.7,   2.5],\n",
       "       [  7.7,   3. ,   5.2,   2.3],\n",
       "       [  7.7,   2.5,   5. ,   1.9],\n",
       "       [  7.7,   3. ,   5.2,   2. ],\n",
       "       [  7.7,   3.4,   5.4,   2.3],\n",
       "       [  7.9,   3. ,   5.1,   1.8]])"
      ]
     },
     "execution_count": 126,
     "metadata": {},
     "output_type": "execute_result"
    }
   ],
   "source": [
    "np.set_printoptions(precision=1, suppress=True, linewidth=250)\n",
    "\n",
    "iris_data_new"
   ]
  },
  {
   "cell_type": "code",
   "execution_count": 132,
   "metadata": {},
   "outputs": [],
   "source": [
    "from sklearn.neighbors import KNeighborsClassifier\n",
    "\n",
    "model_knn_outliers = KNeighborsClassifier(n_neighbors=3).fit(iris_data_new,iris.target)\n",
    "model_knn_outliers.score(iris_data_new,iris.target)\n",
    "\n",
    "y_pred = model_knn_outliers.predict(iris_data_new)"
   ]
  },
  {
   "cell_type": "code",
   "execution_count": 133,
   "metadata": {},
   "outputs": [
    {
     "name": "stdout",
     "output_type": "stream",
     "text": [
      "[[50  0  0]\n",
      " [ 0 50  0]\n",
      " [ 0  1 49]]\n"
     ]
    }
   ],
   "source": [
    "from sklearn.metrics import confusion_matrix\n",
    "\n",
    "cm = confusion_matrix(iris.target, y_pred)\n",
    "print ( cm )"
   ]
  },
  {
   "cell_type": "markdown",
   "metadata": {},
   "source": [
    "## Parameter Tuning"
   ]
  },
  {
   "cell_type": "markdown",
   "metadata": {},
   "source": [
    "What is the ideal value of **k** (_n_neighbors_) in K Nearest neighbors ? Should it be 3 or 10 or 15 ?"
   ]
  },
  {
   "cell_type": "markdown",
   "metadata": {},
   "source": [
    "<pre>\n",
    "model = KNeighborsRegressor(n_neighbors=3)\n",
    "</pre>"
   ]
  },
  {
   "cell_type": "markdown",
   "metadata": {},
   "source": [
    "We don't have to just pick an arbitrary \"k\" value - We can do cross validation for different K values and pick the right one. Make sure you have the caret package installed.\n",
    "\n"
   ]
  },
  {
   "cell_type": "code",
   "execution_count": 90,
   "metadata": {},
   "outputs": [
    {
     "name": "stdout",
     "output_type": "stream",
     "text": [
      "[1.         1.         0.88888889 1.         1.         1.\n",
      " 0.77777778 0.88888889 1.         1.         1.         0.83333333\n",
      " 1.         1.         1.         1.         1.         1.\n",
      " 1.         1.        ]\n",
      "Average score with k = 3 is  0.9694444444444444\n"
     ]
    }
   ],
   "source": [
    "from sklearn.model_selection import cross_val_score\n",
    "from sklearn.neighbors import KNeighborsClassifier\n",
    "import sklearn.datasets\n",
    "\n",
    "iris = datasets.load_iris()\n",
    "knn = KNeighborsClassifier(n_neighbors=3)\n",
    "scores = cross_val_score(knn, iris.data, iris.target, cv=20, scoring='accuracy')\n",
    "print(scores)\n",
    "print(\"Average score with k = 3 is \",scores.mean())"
   ]
  },
  {
   "cell_type": "code",
   "execution_count": 98,
   "metadata": {},
   "outputs": [
    {
     "name": "stdout",
     "output_type": "stream",
     "text": [
      "k =  1  | score =  0.961111111111111\n",
      "k =  2  | score =  0.9444444444444444\n",
      "k =  3  | score =  0.9694444444444444\n",
      "k =  4  | score =  0.9694444444444444\n",
      "k =  5  | score =  0.975\n",
      "k =  6  | score =  0.975\n",
      "k =  7  | score =  0.9694444444444444\n",
      "k =  8  | score =  0.9777777777777779\n",
      "k =  9  | score =  0.9722222222222221\n",
      "k =  10  | score =  0.9722222222222221\n",
      "k =  11  | score =  0.9722222222222221\n",
      "k =  12  | score =  0.9666666666666668\n",
      "k =  13  | score =  0.9694444444444444\n",
      "k =  14  | score =  0.9722222222222221\n",
      "k =  15  | score =  0.975\n",
      "k =  16  | score =  0.9666666666666668\n",
      "k =  17  | score =  0.9722222222222221\n",
      "k =  18  | score =  0.9722222222222221\n",
      "k =  19  | score =  0.9805555555555555\n",
      "k =  20  | score =  0.9805555555555555\n",
      "k =  21  | score =  0.975\n",
      "k =  22  | score =  0.9666666666666668\n",
      "k =  23  | score =  0.9666666666666668\n",
      "k =  24  | score =  0.9722222222222221\n",
      "k =  25  | score =  0.961111111111111\n",
      "k =  26  | score =  0.9666666666666668\n",
      "k =  27  | score =  0.961111111111111\n",
      "k =  28  | score =  0.95\n",
      "k =  29  | score =  0.9555555555555555\n",
      "k =  30  | score =  0.9555555555555555\n",
      "k =  31  | score =  0.9555555555555555\n",
      "k =  32  | score =  0.9555555555555555\n",
      "k =  33  | score =  0.9555555555555555\n",
      "k =  34  | score =  0.9472222222222222\n",
      "k =  35  | score =  0.961111111111111\n",
      "k =  36  | score =  0.9472222222222222\n",
      "k =  37  | score =  0.9472222222222222\n",
      "k =  38  | score =  0.9472222222222222\n",
      "k =  39  | score =  0.9472222222222222\n",
      "k =  40  | score =  0.95\n",
      "k =  41  | score =  0.95\n",
      "k =  42  | score =  0.95\n",
      "k =  43  | score =  0.9555555555555555\n",
      "k =  44  | score =  0.95\n",
      "k =  45  | score =  0.9555555555555555\n",
      "k =  46  | score =  0.9444444444444444\n",
      "k =  47  | score =  0.9388888888888889\n",
      "k =  48  | score =  0.9277777777777778\n",
      "k =  49  | score =  0.9388888888888889\n"
     ]
    }
   ],
   "source": [
    "k_values = range(1,50)\n",
    "\n",
    "knn_scores = []\n",
    "\n",
    "for k in k_values:\n",
    "    knn = KNeighborsClassifier(n_neighbors=k)\n",
    "    scores = cross_val_score(knn, iris.data, iris.target, cv=20, scoring='accuracy')\n",
    "    knn_scores.append(scores.mean())\n",
    "\n",
    "for i in k_values :\n",
    "    print ( \"k = \",i,\" | score = \",knn_scores[i-1])"
   ]
  },
  {
   "cell_type": "code",
   "execution_count": 101,
   "metadata": {},
   "outputs": [
    {
     "data": {
      "text/plain": [
       "[<matplotlib.lines.Line2D at 0x199be930>]"
      ]
     },
     "execution_count": 101,
     "metadata": {},
     "output_type": "execute_result"
    },
    {
     "data": {
      "image/png": "[encoded data removed]",
      "text/plain": [
       "<Figure size 432x288 with 1 Axes>"
      ]
     },
     "metadata": {
      "needs_background": "light"
     },
     "output_type": "display_data"
    }
   ],
   "source": [
    "import matplotlib.pyplot as plt\n",
    "%matplotlib inline\n",
    "\n",
    "plt.plot(k_values,knn_scores)"
   ]
  },
  {
   "cell_type": "markdown",
   "metadata": {},
   "source": [
    "## KNN is Non Parametric"
   ]
  },
  {
   "cell_type": "markdown",
   "metadata": {},
   "source": [
    "KNN is a non-parametric algorithm - For example, compare KNN with linear regression or Naive Bayes which are parametric.\n",
    "\n"
   ]
  },
  {
   "cell_type": "markdown",
   "metadata": {},
   "source": [
    "<img src=\"./pics/no-parameters-in-knn.png\"/>"
   ]
  },
  {
   "cell_type": "markdown",
   "metadata": {},
   "source": [
    "So, with KNN, there are\n",
    "- No parameters to learn\n",
    "- No assumptions about the underlying data model"
   ]
  },
  {
   "cell_type": "markdown",
   "metadata": {},
   "source": [
    "> In KNN, the **Data is the model** "
   ]
  },
  {
   "cell_type": "markdown",
   "metadata": {},
   "source": [
    "## KNN is a lazy learning Algorithm"
   ]
  },
  {
   "cell_type": "markdown",
   "metadata": {},
   "source": [
    "There is _no learning_ in KNN. All the predictions happen at _run-time_ without any prior work - In other words, no prior modeling is required.\n",
    "\n"
   ]
  },
  {
   "cell_type": "markdown",
   "metadata": {},
   "source": [
    "<img src=\"./pics/knn-lazy-learning.png\"/>"
   ]
  },
  {
   "cell_type": "markdown",
   "metadata": {},
   "source": [
    "## KNN - Bias - variance\n"
   ]
  },
  {
   "cell_type": "markdown",
   "metadata": {},
   "source": [
    "Bias variance in KNN is dependent on the only hyper parameter - **k**. As __K__ increases the bias increases and variance decreases ( and vice-versa ).\n",
    "\n"
   ]
  },
  {
   "cell_type": "markdown",
   "metadata": {},
   "source": [
    "<img src=\"./pics/knn-bias-variance.png\"/>"
   ]
  },
  {
   "cell_type": "markdown",
   "metadata": {},
   "source": [
    "## How to handle Categorical data in KNN"
   ]
  },
  {
   "cell_type": "markdown",
   "metadata": {},
   "source": [
    "Can KNN handle categorical data ? yes, theoretically it can by using the standard techniques to convert numeric data to categorical data. You can use any of the following methods to handle categorical data in KNN.\n",
    "\n"
   ]
  },
  {
   "cell_type": "markdown",
   "metadata": {},
   "source": [
    "- One hot encoding\n",
    "- Combine levels\n",
    "- String as factors"
   ]
  },
  {
   "cell_type": "markdown",
   "metadata": {},
   "source": [
    "## KNN Data Assumptions\n"
   ]
  },
  {
   "cell_type": "markdown",
   "metadata": {},
   "source": [
    "Does KNN need data in a particular way ? Most models have some kind of restrictions on how the data should be - For example,\n",
    "\n",
    "- Naive Bayes assumes that the predictors are independent.\n",
    "- Linear Regression has many assumptions - like multi-variate normality, multi-collinearity etc.\n",
    "\n",
    "The beauty of KNN is that there are no data assumptions at all. The data doesn't have to distributed a certain way, nor are correlations among predictors an issue."
   ]
  },
  {
   "cell_type": "markdown",
   "metadata": {},
   "source": [
    "> KNN does not have any assumptions on the underlying data"
   ]
  },
  {
   "cell_type": "code",
   "execution_count": null,
   "metadata": {},
   "outputs": [],
   "source": []
  }
 ],
 "metadata": {
  "kernelspec": {
   "display_name": "Python 3",
   "language": "python",
   "name": "python3"
  },
  "language_info": {
   "codemirror_mode": {
    "name": "ipython",
    "version": 3
   },
   "file_extension": ".py",
   "mimetype": "text/x-python",
   "name": "python",
   "nbconvert_exporter": "python",
   "pygments_lexer": "ipython3",
   "version": "3.7.3"
  }
 },
 "nbformat": 4,
 "nbformat_minor": 2
}
