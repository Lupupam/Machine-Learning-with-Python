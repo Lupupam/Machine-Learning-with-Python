{
 "cells": [
  {
   "cell_type": "markdown",
   "metadata": {},
   "source": [
    "Notebook is copyright &copy; of <a href=\"https://ajaytech.co\">Ajay Tech</a>"
   ]
  },
  {
   "cell_type": "markdown",
   "metadata": {},
   "source": [
    "# Decision Trees"
   ]
  },
  {
   "cell_type": "markdown",
   "metadata": {},
   "source": [
    "## Contents"
   ]
  },
  {
   "cell_type": "markdown",
   "metadata": {},
   "source": [
    "- What are Decision trees\n",
    "- Implementation\n",
    "- Visualization\n",
    "- Gini Index\n",
    "- Decision Trees for Regression\n",
    "- Overfitting\n",
    "- Pruning - Solution to Overfitting\n",
    "    - Tree Depth\n",
    "    - Impurity"
   ]
  },
  {
   "cell_type": "markdown",
   "metadata": {},
   "source": [
    "### What are Decision Trees"
   ]
  },
  {
   "cell_type": "markdown",
   "metadata": {},
   "source": [
    "Let me take you back to the number guessing game that we have played on day 1 of the course. It is a simple game where the computer chooses a random number between 1 and 100 and you have to guess the number. After each guess, the program helps you by telling if your guess is higher or lower than the chosen number. Say the number chosen is 60. Let's visualize this."
   ]
  },
  {
   "cell_type": "markdown",
   "metadata": {},
   "source": [
    "<img src=\"./pics/number-guessing-game-visual.png\"/>"
   ]
  },
  {
   "cell_type": "markdown",
   "metadata": {},
   "source": [
    "Basically, it is a series of decisions based on the clue you get from the program. For lack of a better intelligence, we just predict the middle number on either side ( higher or lower ). We can think of the same process using a decision tree."
   ]
  },
  {
   "cell_type": "markdown",
   "metadata": {},
   "source": [
    "<img src=\"./pics/decision-tree-guessing-game.png\"/>"
   ]
  },
  {
   "cell_type": "markdown",
   "metadata": {},
   "source": [
    "A decision tree is essentially a series of decisions that are based on the data you are working with. For example, if you are guessing a number between 1 and 1000, the decision tree would have been much bigger. In this case, the guesses (cuts in the number line) are exactly in the middle - for lack of a better guessing method. However, a real decision tree makes a much more informed decision. Once again, let me show this with a simple example. "
   ]
  },
  {
   "cell_type": "markdown",
   "metadata": {},
   "source": [
    "Take an apple that is rotten somewhere at the side. "
   ]
  },
  {
   "cell_type": "markdown",
   "metadata": {},
   "source": [
    "<img src=\"./pics/decision-tree-rotten-apple.png\"/>"
   ]
  },
  {
   "cell_type": "markdown",
   "metadata": {},
   "source": [
    "Our goal is to find a series of cuts that maximises the fresh apple portion (and minimizes the rotten portion) with the least possible cuts. How would you do it ?"
   ]
  },
  {
   "cell_type": "markdown",
   "metadata": {},
   "source": [
    "<img src=\"./pics/decision-trees-apple-cuts.png\"/>"
   ]
  },
  {
   "cell_type": "markdown",
   "metadata": {},
   "source": [
    "Something like this - The criteria you would be using to make the cuts is based on the maximum area(volume) that you can carve off that is not rotten. "
   ]
  },
  {
   "cell_type": "markdown",
   "metadata": {},
   "source": [
    "Decision trees also work the same way. For example, let's take the iris dataset. To make things simple, let's just focus on \n",
    "- setosa and versicolor\n",
    "- sepal length and sepal width."
   ]
  },
  {
   "cell_type": "markdown",
   "metadata": {},
   "source": [
    "<img src=\"./pics/iris-setosa-versicolor.png\"/>"
   ]
  },
  {
   "cell_type": "markdown",
   "metadata": {},
   "source": [
    "If you are asked to carve out one species from another using just horizontal and vertical lines, how would you do it ? It's not an easy job to do it efficiently. Probably, we would do it something like this. \n"
   ]
  },
  {
   "cell_type": "markdown",
   "metadata": {},
   "source": [
    "<img src=\"./pics/iris-manual-decision-tree.png\"/>"
   ]
  },
  {
   "cell_type": "markdown",
   "metadata": {},
   "source": [
    "What were we basing our decisions (cut-off points) on ? Visually, we were essentially eye-balling to minimize the mix of species(or maximize the grouping of a single species) in such a way that more of a specific species fell on one side than the other. "
   ]
  },
  {
   "cell_type": "markdown",
   "metadata": {},
   "source": [
    "Decision tree algorithms do just this - except that they use a bit of math to do the same. Scikit learn provides two cost functions for this\n",
    "- Gini Index ( default )\n",
    "- Entropy\n",
    "\n",
    "We will start with the basic implementation and then we will focus on understand Gini Index in a bit more detail."
   ]
  },
  {
   "cell_type": "markdown",
   "metadata": {},
   "source": [
    "### Implementation"
   ]
  },
  {
   "cell_type": "code",
   "execution_count": 1,
   "metadata": {},
   "outputs": [],
   "source": [
    "from sklearn import datasets\n",
    "\n",
    "iris        = datasets.load_iris()\n",
    "iris_sepal_data   = iris.data[0:100,0:2]\n",
    "iris_sepal_target = iris.target[0:100]"
   ]
  },
  {
   "cell_type": "code",
   "execution_count": 2,
   "metadata": {},
   "outputs": [],
   "source": [
    "from sklearn import tree\n",
    "\n",
    "classifier = tree.DecisionTreeClassifier()\n",
    "model      = classifier.fit(iris_sepal_data, iris_sepal_target)"
   ]
  },
  {
   "cell_type": "code",
   "execution_count": 3,
   "metadata": {},
   "outputs": [],
   "source": [
    "y_predict = model.predict(iris_sepal_data)"
   ]
  },
  {
   "cell_type": "code",
   "execution_count": 4,
   "metadata": {},
   "outputs": [
    {
     "name": "stdout",
     "output_type": "stream",
     "text": [
      "confusion matrix = \n",
      " [[50  0]\n",
      " [ 0 50]]\n",
      "accuracy score =  1.0\n"
     ]
    }
   ],
   "source": [
    "from sklearn.metrics import confusion_matrix\n",
    "from sklearn.metrics import accuracy_score\n",
    "\n",
    "print ( \"confusion matrix = \\n\" , confusion_matrix(iris_sepal_target, y_predict) )\n",
    "print ( \"accuracy score = \",accuracy_score(iris_sepal_target,y_predict) )"
   ]
  },
  {
   "cell_type": "markdown",
   "metadata": {},
   "source": [
    "### Visualization"
   ]
  },
  {
   "cell_type": "markdown",
   "metadata": {},
   "source": [
    "One of the biggest advantages of Decision Trees is that the whole process is very intuitive to humans. It is more or less like a white-box ( as opposed to other methods like Neural Nets that are like blackboxes - We just can't make sense of the weights and layers ).  A useful method to understand Decision Trees is to visualize them. To do that, we have to install the graphviz package. Let's do that first."
   ]
  },
  {
   "cell_type": "markdown",
   "metadata": {},
   "source": [
    "Install <a href=\"https://graphviz.gitlab.io/download/\">graphviz package on your Windows or Mac Machine </a> and add it to the path if necessary. Here are the links to download the software.\n",
    "\n",
    "- <a href=\"https://graphviz.gitlab.io/_pages/Download/Download_windows.html\">Graphviz on Windows</a>\n",
    "- <a href=\"https://formulae.brew.sh/formula/graphviz#default\"> Graphviz on Mac using Homebrew </a>"
   ]
  },
  {
   "cell_type": "code",
   "execution_count": 80,
   "metadata": {},
   "outputs": [
    {
     "data": {
      "image/svg+xml": [
       "<?xml version=\"1.0\" encoding=\"UTF-8\" standalone=\"no\"?>\r\n",
       "<!DOCTYPE svg PUBLIC \"-//W3C//DTD SVG 1.1//EN\"\r\n",
       " \"http://www.w3.org/Graphics/SVG/1.1/DTD/svg11.dtd\">\r\n",
       "<!-- Generated by graphviz version 2.38.0 (20140413.2041)\r\n",
       " -->\r\n",
       "<!-- Title: Tree Pages: 1 -->\r\n",
       "<svg width=\"633pt\" height=\"433pt\"\r\n",
       " viewBox=\"0.00 0.00 633.00 433.00\" xmlns=\"http://www.w3.org/2000/svg\" xmlns:xlink=\"http://www.w3.org/1999/xlink\">\r\n",
       "<g id=\"graph0\" class=\"graph\" transform=\"scale(1 1) rotate(0) translate(4 429)\">\r\n",
       "<title>Tree</title>\r\n",
       "<polygon fill=\"white\" stroke=\"none\" points=\"-4,4 -4,-429 629,-429 629,4 -4,4\"/>\r\n",
       "<!-- 0 -->\r\n",
       "<g id=\"node1\" class=\"node\"><title>0</title>\r\n",
       "<path fill=\"#399de5\" fill-opacity=\"0.078431\" stroke=\"black\" d=\"M428.5,-425C428.5,-425 283.5,-425 283.5,-425 277.5,-425 271.5,-419 271.5,-413 271.5,-413 271.5,-354 271.5,-354 271.5,-348 277.5,-342 283.5,-342 283.5,-342 428.5,-342 428.5,-342 434.5,-342 440.5,-348 440.5,-354 440.5,-354 440.5,-413 440.5,-413 440.5,-419 434.5,-425 428.5,-425\"/>\r\n",
       "<text text-anchor=\"start\" x=\"279.5\" y=\"-409.8\" font-family=\"Helvetica,sans-Serif\" font-size=\"14.00\">sepal length (cm) ≤ 5.45</text>\r\n",
       "<text text-anchor=\"start\" x=\"318.5\" y=\"-394.8\" font-family=\"Helvetica,sans-Serif\" font-size=\"14.00\">gini = 0.499</text>\r\n",
       "<text text-anchor=\"start\" x=\"312.5\" y=\"-379.8\" font-family=\"Helvetica,sans-Serif\" font-size=\"14.00\">samples = 75</text>\r\n",
       "<text text-anchor=\"start\" x=\"307.5\" y=\"-364.8\" font-family=\"Helvetica,sans-Serif\" font-size=\"14.00\">value = [36, 39]</text>\r\n",
       "<text text-anchor=\"start\" x=\"300.5\" y=\"-349.8\" font-family=\"Helvetica,sans-Serif\" font-size=\"14.00\">class = versicolor</text>\r\n",
       "</g>\r\n",
       "<!-- 1 -->\r\n",
       "<g id=\"node2\" class=\"node\"><title>1</title>\r\n",
       "<path fill=\"#e58139\" fill-opacity=\"0.913725\" stroke=\"black\" d=\"M333.5,-306C333.5,-306 202.5,-306 202.5,-306 196.5,-306 190.5,-300 190.5,-294 190.5,-294 190.5,-235 190.5,-235 190.5,-229 196.5,-223 202.5,-223 202.5,-223 333.5,-223 333.5,-223 339.5,-223 345.5,-229 345.5,-235 345.5,-235 345.5,-294 345.5,-294 345.5,-300 339.5,-306 333.5,-306\"/>\r\n",
       "<text text-anchor=\"start\" x=\"198.5\" y=\"-290.8\" font-family=\"Helvetica,sans-Serif\" font-size=\"14.00\">sepal width (cm) ≤ 2.8</text>\r\n",
       "<text text-anchor=\"start\" x=\"230.5\" y=\"-275.8\" font-family=\"Helvetica,sans-Serif\" font-size=\"14.00\">gini = 0.149</text>\r\n",
       "<text text-anchor=\"start\" x=\"224.5\" y=\"-260.8\" font-family=\"Helvetica,sans-Serif\" font-size=\"14.00\">samples = 37</text>\r\n",
       "<text text-anchor=\"start\" x=\"223.5\" y=\"-245.8\" font-family=\"Helvetica,sans-Serif\" font-size=\"14.00\">value = [34, 3]</text>\r\n",
       "<text text-anchor=\"start\" x=\"222\" y=\"-230.8\" font-family=\"Helvetica,sans-Serif\" font-size=\"14.00\">class = setosa</text>\r\n",
       "</g>\r\n",
       "<!-- 0&#45;&gt;1 -->\r\n",
       "<g id=\"edge1\" class=\"edge\"><title>0&#45;&gt;1</title>\r\n",
       "<path fill=\"none\" stroke=\"black\" d=\"M325.469,-341.907C318.711,-332.923 311.485,-323.315 304.516,-314.05\"/>\r\n",
       "<polygon fill=\"black\" stroke=\"black\" points=\"307.285,-311.909 298.477,-306.021 301.691,-316.116 307.285,-311.909\"/>\r\n",
       "<text text-anchor=\"middle\" x=\"294.975\" y=\"-327.074\" font-family=\"Helvetica,sans-Serif\" font-size=\"14.00\">True</text>\r\n",
       "</g>\r\n",
       "<!-- 6 -->\r\n",
       "<g id=\"node7\" class=\"node\"><title>6</title>\r\n",
       "<path fill=\"#399de5\" fill-opacity=\"0.945098\" stroke=\"black\" d=\"M514.5,-306C514.5,-306 375.5,-306 375.5,-306 369.5,-306 363.5,-300 363.5,-294 363.5,-294 363.5,-235 363.5,-235 363.5,-229 369.5,-223 375.5,-223 375.5,-223 514.5,-223 514.5,-223 520.5,-223 526.5,-229 526.5,-235 526.5,-235 526.5,-294 526.5,-294 526.5,-300 520.5,-306 514.5,-306\"/>\r\n",
       "<text text-anchor=\"start\" x=\"371.5\" y=\"-290.8\" font-family=\"Helvetica,sans-Serif\" font-size=\"14.00\">sepal width (cm) ≤ 3.45</text>\r\n",
       "<text text-anchor=\"start\" x=\"416\" y=\"-275.8\" font-family=\"Helvetica,sans-Serif\" font-size=\"14.00\">gini = 0.1</text>\r\n",
       "<text text-anchor=\"start\" x=\"401.5\" y=\"-260.8\" font-family=\"Helvetica,sans-Serif\" font-size=\"14.00\">samples = 38</text>\r\n",
       "<text text-anchor=\"start\" x=\"400.5\" y=\"-245.8\" font-family=\"Helvetica,sans-Serif\" font-size=\"14.00\">value = [2, 36]</text>\r\n",
       "<text text-anchor=\"start\" x=\"389.5\" y=\"-230.8\" font-family=\"Helvetica,sans-Serif\" font-size=\"14.00\">class = versicolor</text>\r\n",
       "</g>\r\n",
       "<!-- 0&#45;&gt;6 -->\r\n",
       "<g id=\"edge6\" class=\"edge\"><title>0&#45;&gt;6</title>\r\n",
       "<path fill=\"none\" stroke=\"black\" d=\"M386.878,-341.907C393.712,-332.923 401.021,-323.315 408.069,-314.05\"/>\r\n",
       "<polygon fill=\"black\" stroke=\"black\" points=\"410.908,-316.099 414.176,-306.021 405.336,-311.861 410.908,-316.099\"/>\r\n",
       "<text text-anchor=\"middle\" x=\"417.544\" y=\"-327.093\" font-family=\"Helvetica,sans-Serif\" font-size=\"14.00\">False</text>\r\n",
       "</g>\r\n",
       "<!-- 2 -->\r\n",
       "<g id=\"node3\" class=\"node\"><title>2</title>\r\n",
       "<path fill=\"#399de5\" fill-opacity=\"0.666667\" stroke=\"black\" d=\"M194.5,-187C194.5,-187 49.5,-187 49.5,-187 43.5,-187 37.5,-181 37.5,-175 37.5,-175 37.5,-116 37.5,-116 37.5,-110 43.5,-104 49.5,-104 49.5,-104 194.5,-104 194.5,-104 200.5,-104 206.5,-110 206.5,-116 206.5,-116 206.5,-175 206.5,-175 206.5,-181 200.5,-187 194.5,-187\"/>\r\n",
       "<text text-anchor=\"start\" x=\"45.5\" y=\"-171.8\" font-family=\"Helvetica,sans-Serif\" font-size=\"14.00\">sepal length (cm) ≤ 4.75</text>\r\n",
       "<text text-anchor=\"start\" x=\"84.5\" y=\"-156.8\" font-family=\"Helvetica,sans-Serif\" font-size=\"14.00\">gini = 0.375</text>\r\n",
       "<text text-anchor=\"start\" x=\"82.5\" y=\"-141.8\" font-family=\"Helvetica,sans-Serif\" font-size=\"14.00\">samples = 4</text>\r\n",
       "<text text-anchor=\"start\" x=\"81.5\" y=\"-126.8\" font-family=\"Helvetica,sans-Serif\" font-size=\"14.00\">value = [1, 3]</text>\r\n",
       "<text text-anchor=\"start\" x=\"66.5\" y=\"-111.8\" font-family=\"Helvetica,sans-Serif\" font-size=\"14.00\">class = versicolor</text>\r\n",
       "</g>\r\n",
       "<!-- 1&#45;&gt;2 -->\r\n",
       "<g id=\"edge2\" class=\"edge\"><title>1&#45;&gt;2</title>\r\n",
       "<path fill=\"none\" stroke=\"black\" d=\"M217.346,-222.907C205.455,-213.379 192.689,-203.148 180.487,-193.37\"/>\r\n",
       "<polygon fill=\"black\" stroke=\"black\" points=\"182.557,-190.543 172.564,-187.021 178.179,-196.006 182.557,-190.543\"/>\r\n",
       "</g>\r\n",
       "<!-- 5 -->\r\n",
       "<g id=\"node6\" class=\"node\"><title>5</title>\r\n",
       "<path fill=\"#e58139\" stroke=\"black\" d=\"M321,-179.5C321,-179.5 237,-179.5 237,-179.5 231,-179.5 225,-173.5 225,-167.5 225,-167.5 225,-123.5 225,-123.5 225,-117.5 231,-111.5 237,-111.5 237,-111.5 321,-111.5 321,-111.5 327,-111.5 333,-117.5 333,-123.5 333,-123.5 333,-167.5 333,-167.5 333,-173.5 327,-179.5 321,-179.5\"/>\r\n",
       "<text text-anchor=\"start\" x=\"250\" y=\"-164.3\" font-family=\"Helvetica,sans-Serif\" font-size=\"14.00\">gini = 0.0</text>\r\n",
       "<text text-anchor=\"start\" x=\"235.5\" y=\"-149.3\" font-family=\"Helvetica,sans-Serif\" font-size=\"14.00\">samples = 33</text>\r\n",
       "<text text-anchor=\"start\" x=\"234.5\" y=\"-134.3\" font-family=\"Helvetica,sans-Serif\" font-size=\"14.00\">value = [33, 0]</text>\r\n",
       "<text text-anchor=\"start\" x=\"233\" y=\"-119.3\" font-family=\"Helvetica,sans-Serif\" font-size=\"14.00\">class = setosa</text>\r\n",
       "</g>\r\n",
       "<!-- 1&#45;&gt;5 -->\r\n",
       "<g id=\"edge5\" class=\"edge\"><title>1&#45;&gt;5</title>\r\n",
       "<path fill=\"none\" stroke=\"black\" d=\"M271.816,-222.907C272.823,-212.204 273.912,-200.615 274.931,-189.776\"/>\r\n",
       "<polygon fill=\"black\" stroke=\"black\" points=\"278.43,-189.951 275.882,-179.667 271.461,-189.295 278.43,-189.951\"/>\r\n",
       "</g>\r\n",
       "<!-- 3 -->\r\n",
       "<g id=\"node4\" class=\"node\"><title>3</title>\r\n",
       "<path fill=\"#e58139\" stroke=\"black\" d=\"M96,-68C96,-68 12,-68 12,-68 6,-68 0,-62 0,-56 0,-56 0,-12 0,-12 0,-6 6,-0 12,-0 12,-0 96,-0 96,-0 102,-0 108,-6 108,-12 108,-12 108,-56 108,-56 108,-62 102,-68 96,-68\"/>\r\n",
       "<text text-anchor=\"start\" x=\"25\" y=\"-52.8\" font-family=\"Helvetica,sans-Serif\" font-size=\"14.00\">gini = 0.0</text>\r\n",
       "<text text-anchor=\"start\" x=\"14.5\" y=\"-37.8\" font-family=\"Helvetica,sans-Serif\" font-size=\"14.00\">samples = 1</text>\r\n",
       "<text text-anchor=\"start\" x=\"13.5\" y=\"-22.8\" font-family=\"Helvetica,sans-Serif\" font-size=\"14.00\">value = [1, 0]</text>\r\n",
       "<text text-anchor=\"start\" x=\"8\" y=\"-7.8\" font-family=\"Helvetica,sans-Serif\" font-size=\"14.00\">class = setosa</text>\r\n",
       "</g>\r\n",
       "<!-- 2&#45;&gt;3 -->\r\n",
       "<g id=\"edge3\" class=\"edge\"><title>2&#45;&gt;3</title>\r\n",
       "<path fill=\"none\" stroke=\"black\" d=\"M96.6793,-103.726C91.2418,-94.9703 85.4869,-85.7032 80.0232,-76.9051\"/>\r\n",
       "<polygon fill=\"black\" stroke=\"black\" points=\"82.9281,-74.9484 74.6792,-68.2996 76.9815,-78.6413 82.9281,-74.9484\"/>\r\n",
       "</g>\r\n",
       "<!-- 4 -->\r\n",
       "<g id=\"node5\" class=\"node\"><title>4</title>\r\n",
       "<path fill=\"#399de5\" stroke=\"black\" d=\"M241.5,-68C241.5,-68 138.5,-68 138.5,-68 132.5,-68 126.5,-62 126.5,-56 126.5,-56 126.5,-12 126.5,-12 126.5,-6 132.5,-0 138.5,-0 138.5,-0 241.5,-0 241.5,-0 247.5,-0 253.5,-6 253.5,-12 253.5,-12 253.5,-56 253.5,-56 253.5,-62 247.5,-68 241.5,-68\"/>\r\n",
       "<text text-anchor=\"start\" x=\"161\" y=\"-52.8\" font-family=\"Helvetica,sans-Serif\" font-size=\"14.00\">gini = 0.0</text>\r\n",
       "<text text-anchor=\"start\" x=\"150.5\" y=\"-37.8\" font-family=\"Helvetica,sans-Serif\" font-size=\"14.00\">samples = 3</text>\r\n",
       "<text text-anchor=\"start\" x=\"149.5\" y=\"-22.8\" font-family=\"Helvetica,sans-Serif\" font-size=\"14.00\">value = [0, 3]</text>\r\n",
       "<text text-anchor=\"start\" x=\"134.5\" y=\"-7.8\" font-family=\"Helvetica,sans-Serif\" font-size=\"14.00\">class = versicolor</text>\r\n",
       "</g>\r\n",
       "<!-- 2&#45;&gt;4 -->\r\n",
       "<g id=\"edge4\" class=\"edge\"><title>2&#45;&gt;4</title>\r\n",
       "<path fill=\"none\" stroke=\"black\" d=\"M147.321,-103.726C152.758,-94.9703 158.513,-85.7032 163.977,-76.9051\"/>\r\n",
       "<polygon fill=\"black\" stroke=\"black\" points=\"167.019,-78.6413 169.321,-68.2996 161.072,-74.9484 167.019,-78.6413\"/>\r\n",
       "</g>\r\n",
       "<!-- 7 -->\r\n",
       "<g id=\"node8\" class=\"node\"><title>7</title>\r\n",
       "<path fill=\"#399de5\" stroke=\"black\" d=\"M486.5,-179.5C486.5,-179.5 383.5,-179.5 383.5,-179.5 377.5,-179.5 371.5,-173.5 371.5,-167.5 371.5,-167.5 371.5,-123.5 371.5,-123.5 371.5,-117.5 377.5,-111.5 383.5,-111.5 383.5,-111.5 486.5,-111.5 486.5,-111.5 492.5,-111.5 498.5,-117.5 498.5,-123.5 498.5,-123.5 498.5,-167.5 498.5,-167.5 498.5,-173.5 492.5,-179.5 486.5,-179.5\"/>\r\n",
       "<text text-anchor=\"start\" x=\"406\" y=\"-164.3\" font-family=\"Helvetica,sans-Serif\" font-size=\"14.00\">gini = 0.0</text>\r\n",
       "<text text-anchor=\"start\" x=\"391.5\" y=\"-149.3\" font-family=\"Helvetica,sans-Serif\" font-size=\"14.00\">samples = 36</text>\r\n",
       "<text text-anchor=\"start\" x=\"390.5\" y=\"-134.3\" font-family=\"Helvetica,sans-Serif\" font-size=\"14.00\">value = [0, 36]</text>\r\n",
       "<text text-anchor=\"start\" x=\"379.5\" y=\"-119.3\" font-family=\"Helvetica,sans-Serif\" font-size=\"14.00\">class = versicolor</text>\r\n",
       "</g>\r\n",
       "<!-- 6&#45;&gt;7 -->\r\n",
       "<g id=\"edge7\" class=\"edge\"><title>6&#45;&gt;7</title>\r\n",
       "<path fill=\"none\" stroke=\"black\" d=\"M441.531,-222.907C440.616,-212.204 439.625,-200.615 438.699,-189.776\"/>\r\n",
       "<polygon fill=\"black\" stroke=\"black\" points=\"442.174,-189.333 437.835,-179.667 435.199,-189.929 442.174,-189.333\"/>\r\n",
       "</g>\r\n",
       "<!-- 8 -->\r\n",
       "<g id=\"node9\" class=\"node\"><title>8</title>\r\n",
       "<path fill=\"#e58139\" stroke=\"black\" d=\"M613,-179.5C613,-179.5 529,-179.5 529,-179.5 523,-179.5 517,-173.5 517,-167.5 517,-167.5 517,-123.5 517,-123.5 517,-117.5 523,-111.5 529,-111.5 529,-111.5 613,-111.5 613,-111.5 619,-111.5 625,-117.5 625,-123.5 625,-123.5 625,-167.5 625,-167.5 625,-173.5 619,-179.5 613,-179.5\"/>\r\n",
       "<text text-anchor=\"start\" x=\"542\" y=\"-164.3\" font-family=\"Helvetica,sans-Serif\" font-size=\"14.00\">gini = 0.0</text>\r\n",
       "<text text-anchor=\"start\" x=\"531.5\" y=\"-149.3\" font-family=\"Helvetica,sans-Serif\" font-size=\"14.00\">samples = 2</text>\r\n",
       "<text text-anchor=\"start\" x=\"530.5\" y=\"-134.3\" font-family=\"Helvetica,sans-Serif\" font-size=\"14.00\">value = [2, 0]</text>\r\n",
       "<text text-anchor=\"start\" x=\"525\" y=\"-119.3\" font-family=\"Helvetica,sans-Serif\" font-size=\"14.00\">class = setosa</text>\r\n",
       "</g>\r\n",
       "<!-- 6&#45;&gt;8 -->\r\n",
       "<g id=\"edge8\" class=\"edge\"><title>6&#45;&gt;8</title>\r\n",
       "<path fill=\"none\" stroke=\"black\" d=\"M488.715,-222.907C501.311,-211.211 515.046,-198.457 527.622,-186.78\"/>\r\n",
       "<polygon fill=\"black\" stroke=\"black\" points=\"530.335,-189.036 535.282,-179.667 525.572,-183.907 530.335,-189.036\"/>\r\n",
       "</g>\r\n",
       "</g>\r\n",
       "</svg>\r\n"
      ],
      "text/plain": [
       "<graphviz.files.Source at 0x187d7950>"
      ]
     },
     "execution_count": 80,
     "metadata": {},
     "output_type": "execute_result"
    }
   ],
   "source": [
    "import graphviz\n",
    "\n",
    "# export the dot data file into a variable\n",
    "dot_data = tree.export_graphviz(classifier, out_file=None,\n",
    "                                feature_names=iris.feature_names[0:2],  \n",
    "                                class_names=iris.target_names[0:2],  \n",
    "                                filled=True, rounded=True,  \n",
    "                                special_characters=True) \n",
    "\n",
    "# create the graph\n",
    "graph = graphviz.Source(dot_data) \n",
    "\n",
    "# and display the graph\n",
    "graph"
   ]
  },
  {
   "cell_type": "markdown",
   "metadata": {},
   "source": [
    "There we go - graphviz has created the graph of how the decision tree algorithm has actually solved the problem - step by step. "
   ]
  },
  {
   "cell_type": "markdown",
   "metadata": {},
   "source": [
    "### Gini Index"
   ]
  },
  {
   "cell_type": "markdown",
   "metadata": {},
   "source": [
    "Let's analyze how the Decision Tree algorith has made these decisions. First, let's create a scatter plot of our data."
   ]
  },
  {
   "cell_type": "code",
   "execution_count": 61,
   "metadata": {},
   "outputs": [
    {
     "data": {
      "text/plain": [
       "Text(0, 0.5, 'Sepal Width')"
      ]
     },
     "execution_count": 61,
     "metadata": {},
     "output_type": "execute_result"
    },
    {
     "data": {
      "image/png": "[encoded data removed]",
      "text/plain": [
       "<Figure size 432x288 with 1 Axes>"
      ]
     },
     "metadata": {
      "needs_background": "light"
     },
     "output_type": "display_data"
    }
   ],
   "source": [
    "import matplotlib.pyplot as plt\n",
    "%matplotlib inline\n",
    "\n",
    "plt.scatter(iris_sepal_data[0:50,0],iris_sepal_data[0:50,1], color=\"red\",alpha=0.5,label=\"setosa\")\n",
    "plt.scatter(iris_sepal_data[50:100,0],iris_sepal_data[50:100,1], color=\"green\",alpha=0.5,label=\"versicolor\")\n",
    "plt.legend()\n",
    "plt.xlabel(\"Sepal Length\")\n",
    "plt.ylabel(\"Sepal Width\")\n",
    "# plt.axvline(6.0,color=\"red\",linewidth=5,alpha=0.5)\n",
    "# plt.axhline(2.8,color=\"red\",linewidth=4,alpha=0.5)\n",
    "# plt.axvline(5.35,color=\"red\",linewidth=3,alpha=0.5)\n",
    "# plt.axhline(3.2,color=\"red\",linewidth=2,alpha=0.5)"
   ]
  },
  {
   "cell_type": "markdown",
   "metadata": {},
   "source": [
    "The key parameters used by Decision Tree are either of the following\n",
    "\n",
    "- gini index\n",
    "- entropy\n",
    "\n",
    "By default DecisionTreeClassifier uses the gini index to calculate the cut-offs. Let's focus on the gini index cost function."
   ]
  },
  {
   "cell_type": "markdown",
   "metadata": {},
   "source": [
    "Let's look at the first cut , "
   ]
  },
  {
   "cell_type": "markdown",
   "metadata": {},
   "source": [
    "<pre>\n",
    "sepal length (cm) < = 5.45\n",
    "</pre>"
   ]
  },
  {
   "cell_type": "markdown",
   "metadata": {},
   "source": [
    "Let's do some calculations by hand. It will give us a better understanding of what is going on under the hood."
   ]
  },
  {
   "cell_type": "markdown",
   "metadata": {},
   "source": [
    "Formula to calculate Gini index is"
   ]
  },
  {
   "cell_type": "markdown",
   "metadata": {},
   "source": [
    "# $ gini = 1 - \\sum_{i} p_i^2 $"
   ]
  },
  {
   "cell_type": "markdown",
   "metadata": {},
   "source": [
    "where p<sub>i</sub> is the probability of occurance of the i'th class. In our case, we have just 2 classes.\n",
    "- setosa\n",
    "- versicolor"
   ]
  },
  {
   "cell_type": "markdown",
   "metadata": {},
   "source": [
    "<img src=\"./pics/decision-tree-first-cut.png\"/>"
   ]
  },
  {
   "cell_type": "markdown",
   "metadata": {},
   "source": [
    "The above visual demonstrates how the calculations have been done."
   ]
  },
  {
   "cell_type": "markdown",
   "metadata": {},
   "source": [
    "Initial gini index."
   ]
  },
  {
   "cell_type": "markdown",
   "metadata": {},
   "source": [
    "### $ 1 - \\frac{50}{100}^2 - \\frac{50}{100}^2  = 0.5 $"
   ]
  },
  {
   "cell_type": "markdown",
   "metadata": {},
   "source": [
    "Gini indices after the first cut has been made."
   ]
  },
  {
   "cell_type": "markdown",
   "metadata": {},
   "source": [
    "### $ 1 - \\frac{45}{51}^2 - \\frac{6}{51}^2  = 0.208 $"
   ]
  },
  {
   "cell_type": "markdown",
   "metadata": {},
   "source": [
    "### $ 1 - \\frac{5}{49}^2 - \\frac{44}{49}^2  = 0.183 $"
   ]
  },
  {
   "cell_type": "markdown",
   "metadata": {},
   "source": [
    "so, gini index after the split is\n",
    "<pre>\n",
    "0.208 + 0.183 = 0.391\n",
    "</pre>\n",
    "\n",
    "which is less than the original gini index that we started with - 0.5"
   ]
  },
  {
   "cell_type": "markdown",
   "metadata": {},
   "source": [
    "Now, the question arises, why did the first cut happen at sepal length <= 5.45 ?  Why not at 6.0 ? To understand this, let's actually make a cut at sepal length <= 6.0 and re-calculate the gini indices."
   ]
  },
  {
   "cell_type": "markdown",
   "metadata": {},
   "source": [
    "- **Identify the target counts by class**"
   ]
  },
  {
   "cell_type": "code",
   "execution_count": 52,
   "metadata": {},
   "outputs": [
    {
     "data": {
      "text/plain": [
       "array([0, 0, 0, 0, 0, 0, 0, 0, 0, 0, 0, 0, 0, 0, 0, 0, 0, 0, 0, 0, 0, 0,\n",
       "       0, 0, 0, 0, 0, 0, 0, 0, 0, 0, 0, 0, 0, 0, 0, 0, 0, 0, 0, 0, 0, 0,\n",
       "       0, 0, 0, 0, 0, 0, 1, 1, 1, 1, 1, 1, 1, 1, 1, 1, 1, 1, 1, 1, 1, 1,\n",
       "       1, 1, 1, 1, 1, 1, 1, 1, 1, 1, 1, 1, 1, 1])"
      ]
     },
     "execution_count": 52,
     "metadata": {},
     "output_type": "execute_result"
    }
   ],
   "source": [
    "iris_sepal_target[iris_sepal_data[:,0] <=6.0]"
   ]
  },
  {
   "cell_type": "code",
   "execution_count": 60,
   "metadata": {},
   "outputs": [
    {
     "data": {
      "text/plain": [
       "(array([0, 1]), array([50, 30]))"
      ]
     },
     "execution_count": 60,
     "metadata": {},
     "output_type": "execute_result"
    }
   ],
   "source": [
    "import numpy as np\n",
    "\n",
    "np.unique(iris_sepal_target[iris_sepal_data[:,0] <=6.0], \n",
    "          return_counts = True)"
   ]
  },
  {
   "cell_type": "markdown",
   "metadata": {},
   "source": [
    "- **Calculate the Gini Index**"
   ]
  },
  {
   "cell_type": "markdown",
   "metadata": {},
   "source": [
    "### $ 1 - \\frac{50}{80}^2 - \\frac{30}{80}^2  = 0.468 $"
   ]
  },
  {
   "cell_type": "markdown",
   "metadata": {},
   "source": [
    "<img src=\"./pics/decision-tree-arbitrary-cut.png\"/>"
   ]
  },
  {
   "cell_type": "markdown",
   "metadata": {},
   "source": [
    "The gini index at the new cut-off sepal length <= 6.0 is 0.468. It is not much different from where we initially started (0.5). By now, you should be able to understand the reasons behind the classifier's decision points."
   ]
  },
  {
   "cell_type": "markdown",
   "metadata": {},
   "source": [
    "#### Challenge"
   ]
  },
  {
   "cell_type": "markdown",
   "metadata": {},
   "source": [
    "Try to calculate the gini index by hand(like above) when the sepal width <=2.75"
   ]
  },
  {
   "cell_type": "markdown",
   "metadata": {},
   "source": [
    "Here is a visual of how decision tree algorithm has eventually solved the problem. "
   ]
  },
  {
   "cell_type": "markdown",
   "metadata": {},
   "source": [
    "<img src=\"./pics/decision-tree-solves-iris.png\"/>"
   ]
  },
  {
   "cell_type": "markdown",
   "metadata": {},
   "source": [
    "Now that we understand how decision trees work, let's try and predict some data. Let's first split our data into train/test datasets."
   ]
  },
  {
   "cell_type": "code",
   "execution_count": 75,
   "metadata": {},
   "outputs": [],
   "source": [
    "from sklearn.model_selection import train_test_split\n",
    "\n",
    "X_train, X_test, y_train, y_test = train_test_split (iris_sepal_data, iris_sepal_target)"
   ]
  },
  {
   "cell_type": "code",
   "execution_count": 76,
   "metadata": {},
   "outputs": [],
   "source": [
    "from sklearn import tree\n",
    "\n",
    "classifier = tree.DecisionTreeClassifier()\n",
    "model      = classifier.fit(X_train, y_train)"
   ]
  },
  {
   "cell_type": "code",
   "execution_count": 77,
   "metadata": {},
   "outputs": [],
   "source": [
    "y_predict = model.predict(X_test)"
   ]
  },
  {
   "cell_type": "code",
   "execution_count": 78,
   "metadata": {},
   "outputs": [
    {
     "name": "stdout",
     "output_type": "stream",
     "text": [
      "confusion matrix = \n",
      " [[14  0]\n",
      " [ 1 10]]\n",
      "accuracy score =  0.96\n"
     ]
    }
   ],
   "source": [
    "from sklearn.metrics import confusion_matrix\n",
    "from sklearn.metrics import accuracy_score\n",
    "\n",
    "print ( \"confusion matrix = \\n\" , confusion_matrix(y_test, y_predict) )\n",
    "print ( \"accuracy score = \",accuracy_score(y_test,y_predict) )"
   ]
  },
  {
   "cell_type": "markdown",
   "metadata": {},
   "source": [
    "Thats an accuracy score of 88%. Pretty decent. "
   ]
  },
  {
   "cell_type": "markdown",
   "metadata": {},
   "source": [
    "### Decision Trees for Regression"
   ]
  },
  {
   "cell_type": "markdown",
   "metadata": {},
   "source": [
    "Although decision trees are mostly used for classification problems, you can use them for regression as well."
   ]
  },
  {
   "cell_type": "markdown",
   "metadata": {},
   "source": [
    "Let's try to fit the Boston Housing dataset with decision trees. Just to make things simple, let's just use the LSTAT predictor to predict the target."
   ]
  },
  {
   "cell_type": "code",
   "execution_count": 48,
   "metadata": {},
   "outputs": [],
   "source": [
    "from sklearn import datasets\n",
    "from sklearn.model_selection import train_test_split\n",
    "\n",
    "boston        = datasets.load_boston()\n",
    "#LSTAT is the 12th feature\n",
    "# Use boston.feature_names to list all the features\n",
    "boston_data   = boston.data[:,12] \n",
    "\n",
    "boston_target = boston.target\n",
    "\n",
    "# Split the data into train/test datasets\n",
    "X_train, X_test, y_train, y_test = train_test_split(boston_data, boston_target, test_size=0.2, random_state=0)"
   ]
  },
  {
   "cell_type": "code",
   "execution_count": 49,
   "metadata": {},
   "outputs": [],
   "source": [
    "from sklearn.tree import DecisionTreeRegressor\n",
    "\n",
    "regressor = DecisionTreeRegressor(random_state=0)\n",
    "model     = regressor.fit(X_train.reshape(-1,1),y_train)\n",
    "\n",
    "y_predict = regressor.predict(X_test.reshape(-1,1))"
   ]
  },
  {
   "cell_type": "code",
   "execution_count": 50,
   "metadata": {},
   "outputs": [
    {
     "data": {
      "text/plain": [
       "0.42164272169877925"
      ]
     },
     "execution_count": 50,
     "metadata": {},
     "output_type": "execute_result"
    }
   ],
   "source": [
    "# Use the in-built \"score\" function of the regressor to calculate the R-squared\n",
    "model.score(X_test.reshape(-1,1),y_test)"
   ]
  },
  {
   "cell_type": "markdown",
   "metadata": {},
   "source": [
    "Let's plot the predictions on top of the data to visually see how well the prediction does in comparision to the actual data."
   ]
  },
  {
   "cell_type": "code",
   "execution_count": 51,
   "metadata": {},
   "outputs": [
    {
     "data": {
      "text/plain": [
       "<matplotlib.legend.Legend at 0xec53b90>"
      ]
     },
     "execution_count": 51,
     "metadata": {},
     "output_type": "execute_result"
    },
    {
     "data": {
      "image/png": "[encoded data removed]",
      "text/plain": [
       "<Figure size 432x288 with 1 Axes>"
      ]
     },
     "metadata": {
      "needs_background": "light"
     },
     "output_type": "display_data"
    }
   ],
   "source": [
    "import matplotlib.pyplot as plt\n",
    "%matplotlib inline\n",
    "\n",
    "plt.scatter(X_test,y_test,alpha=0.5, label = \"actual\")\n",
    "plt.scatter(X_test,y_predict,label=\"predicted\")\n",
    "plt.legend()"
   ]
  },
  {
   "cell_type": "markdown",
   "metadata": {},
   "source": [
    "Just for fun, let's compare the **r-square** score of the decision tree regressor against linear regression."
   ]
  },
  {
   "cell_type": "code",
   "execution_count": 53,
   "metadata": {},
   "outputs": [
    {
     "data": {
      "text/plain": [
       "0.43095672846187605"
      ]
     },
     "execution_count": 53,
     "metadata": {},
     "output_type": "execute_result"
    }
   ],
   "source": [
    "from sklearn.linear_model import LinearRegression\n",
    "\n",
    "model   = LinearRegression().fit(X_train.reshape(-1,1),y_train)\n",
    "model.score(X_test.reshape(-1,1),y_test)"
   ]
  },
  {
   "cell_type": "markdown",
   "metadata": {},
   "source": [
    "**R<sup>2</sup> score - Model**\n",
    "- 0.42 - Decision Tree Regressor\n",
    "- 0.43 - Linear Regressor"
   ]
  },
  {
   "cell_type": "markdown",
   "metadata": {},
   "source": [
    "Not too far off - right ?"
   ]
  },
  {
   "cell_type": "markdown",
   "metadata": {},
   "source": [
    "### Overfitting"
   ]
  },
  {
   "cell_type": "markdown",
   "metadata": {},
   "source": [
    "One of the main drawbacks of Decision Trees is _overfitting_. We can very well observe that the model fits the training data 100%, but when it comes to test data, there would be a huge variation. Such a large variation is something that you do NOT observe in other models - say linear regression. Let's try and fit the iris data again (this time with all the 3 species)."
   ]
  },
  {
   "cell_type": "code",
   "execution_count": 1,
   "metadata": {},
   "outputs": [],
   "source": [
    "from sklearn import datasets\n",
    "\n",
    "dataset        = datasets.load_iris()"
   ]
  },
  {
   "cell_type": "code",
   "execution_count": 2,
   "metadata": {},
   "outputs": [],
   "source": [
    "from sklearn.model_selection import train_test_split\n",
    "from sklearn import tree\n",
    "\n",
    "test_score     = []\n",
    "train_score = []\n",
    "\n",
    "for i in range(1,100) :\n",
    "    X_train, X_test, y_train, y_test = train_test_split (dataset.data, dataset.target)\n",
    "\n",
    "    classifier = tree.DecisionTreeClassifier()\n",
    "    model      = classifier.fit(X_train, y_train)\n",
    "    \n",
    "    test_score.append(model.score(X_test,y_test))\n",
    "    train_score.append(model.score(X_train,y_train))"
   ]
  },
  {
   "cell_type": "code",
   "execution_count": 3,
   "metadata": {},
   "outputs": [
    {
     "data": {
      "text/plain": [
       "<matplotlib.collections.PathCollection at 0x127023f0>"
      ]
     },
     "execution_count": 3,
     "metadata": {},
     "output_type": "execute_result"
    },
    {
     "data": {
      "image/png": "[encoded data removed]",
      "text/plain": [
       "<Figure size 432x288 with 1 Axes>"
      ]
     },
     "metadata": {
      "needs_background": "light"
     },
     "output_type": "display_data"
    }
   ],
   "source": [
    "import matplotlib.pyplot as plt\n",
    "%matplotlib inline\n",
    "\n",
    "plt.scatter(list(range(1,100)), train_score)\n",
    "plt.scatter(list(range(1,100)), test_score)"
   ]
  },
  {
   "cell_type": "markdown",
   "metadata": {},
   "source": [
    "As you can see, the training data is always a 100% fit while the test data varies all over. In this case, the model is not all that complicated - so the variation is not all that huge. However, if the data is huge and there are many borderline cases, the variation could be difficult to explain for the model. Essentially, the model is learning all the noise in the data and so is not able to predict the test data well."
   ]
  },
  {
   "cell_type": "markdown",
   "metadata": {},
   "source": [
    "#### Pruning - Solution to Overfitting"
   ]
  },
  {
   "cell_type": "markdown",
   "metadata": {},
   "source": [
    "Overfitting is basically a problem where the model tries to fit all of the training data. Since there are many borderline cases, it is not practical to fit all the data points for any ML model. In order to avoid this, we have to prune (cut off some of it's branches) the tree to make it an a better fit for the training data - rather than a 100% fit. There are 2 ways to prune a tree.\n",
    "\n",
    "- **Pre-Pruning** - Prune the decision tree while it is being created.\n",
    "- **Post-Pruning** - Prune the decision tree after the entire tree has been created.\n",
    "\n",
    "Scikit Learn only supports **Pre-Pruning** at the moment. So, we will only focus on that."
   ]
  },
  {
   "cell_type": "markdown",
   "metadata": {},
   "source": [
    "#### Tree Depth"
   ]
  },
  {
   "cell_type": "code",
   "execution_count": 4,
   "metadata": {},
   "outputs": [
    {
     "data": {
      "image/svg+xml": [
       "<?xml version=\"1.0\" encoding=\"UTF-8\" standalone=\"no\"?>\r\n",
       "<!DOCTYPE svg PUBLIC \"-//W3C//DTD SVG 1.1//EN\"\r\n",
       " \"http://www.w3.org/Graphics/SVG/1.1/DTD/svg11.dtd\">\r\n",
       "<!-- Generated by graphviz version 2.38.0 (20140413.2041)\r\n",
       " -->\r\n",
       "<!-- Title: Tree Pages: 1 -->\r\n",
       "<svg width=\"842pt\" height=\"552pt\"\r\n",
       " viewBox=\"0.00 0.00 842.00 552.00\" xmlns=\"http://www.w3.org/2000/svg\" xmlns:xlink=\"http://www.w3.org/1999/xlink\">\r\n",
       "<g id=\"graph0\" class=\"graph\" transform=\"scale(1 1) rotate(0) translate(4 548)\">\r\n",
       "<title>Tree</title>\r\n",
       "<polygon fill=\"white\" stroke=\"none\" points=\"-4,4 -4,-548 838,-548 838,4 -4,4\"/>\r\n",
       "<!-- 0 -->\r\n",
       "<g id=\"node1\" class=\"node\"><title>0</title>\r\n",
       "<path fill=\"#8139e5\" fill-opacity=\"0.011765\" stroke=\"black\" d=\"M503,-544C503,-544 362,-544 362,-544 356,-544 350,-538 350,-532 350,-532 350,-473 350,-473 350,-467 356,-461 362,-461 362,-461 503,-461 503,-461 509,-461 515,-467 515,-473 515,-473 515,-532 515,-532 515,-538 509,-544 503,-544\"/>\r\n",
       "<text text-anchor=\"start\" x=\"358\" y=\"-528.8\" font-family=\"Helvetica,sans-Serif\" font-size=\"14.00\">petal length (cm) ≤ 2.45</text>\r\n",
       "<text text-anchor=\"start\" x=\"395\" y=\"-513.8\" font-family=\"Helvetica,sans-Serif\" font-size=\"14.00\">gini = 0.667</text>\r\n",
       "<text text-anchor=\"start\" x=\"385\" y=\"-498.8\" font-family=\"Helvetica,sans-Serif\" font-size=\"14.00\">samples = 112</text>\r\n",
       "<text text-anchor=\"start\" x=\"372\" y=\"-483.8\" font-family=\"Helvetica,sans-Serif\" font-size=\"14.00\">value = [37, 37, 38]</text>\r\n",
       "<text text-anchor=\"start\" x=\"382.5\" y=\"-468.8\" font-family=\"Helvetica,sans-Serif\" font-size=\"14.00\">class = virginica</text>\r\n",
       "</g>\r\n",
       "<!-- 1 -->\r\n",
       "<g id=\"node2\" class=\"node\"><title>1</title>\r\n",
       "<path fill=\"#e58139\" stroke=\"black\" d=\"M402,-417.5C402,-417.5 305,-417.5 305,-417.5 299,-417.5 293,-411.5 293,-405.5 293,-405.5 293,-361.5 293,-361.5 293,-355.5 299,-349.5 305,-349.5 305,-349.5 402,-349.5 402,-349.5 408,-349.5 414,-355.5 414,-361.5 414,-361.5 414,-405.5 414,-405.5 414,-411.5 408,-417.5 402,-417.5\"/>\r\n",
       "<text text-anchor=\"start\" x=\"324.5\" y=\"-402.3\" font-family=\"Helvetica,sans-Serif\" font-size=\"14.00\">gini = 0.0</text>\r\n",
       "<text text-anchor=\"start\" x=\"310\" y=\"-387.3\" font-family=\"Helvetica,sans-Serif\" font-size=\"14.00\">samples = 37</text>\r\n",
       "<text text-anchor=\"start\" x=\"301\" y=\"-372.3\" font-family=\"Helvetica,sans-Serif\" font-size=\"14.00\">value = [37, 0, 0]</text>\r\n",
       "<text text-anchor=\"start\" x=\"307.5\" y=\"-357.3\" font-family=\"Helvetica,sans-Serif\" font-size=\"14.00\">class = setosa</text>\r\n",
       "</g>\r\n",
       "<!-- 0&#45;&gt;1 -->\r\n",
       "<g id=\"edge1\" class=\"edge\"><title>0&#45;&gt;1</title>\r\n",
       "<path fill=\"none\" stroke=\"black\" d=\"M405.091,-460.907C397.492,-449.652 389.231,-437.418 381.593,-426.106\"/>\r\n",
       "<polygon fill=\"black\" stroke=\"black\" points=\"384.391,-423.996 375.895,-417.667 378.59,-427.913 384.391,-423.996\"/>\r\n",
       "<text text-anchor=\"middle\" x=\"371.136\" y=\"-438.51\" font-family=\"Helvetica,sans-Serif\" font-size=\"14.00\">True</text>\r\n",
       "</g>\r\n",
       "<!-- 2 -->\r\n",
       "<g id=\"node3\" class=\"node\"><title>2</title>\r\n",
       "<path fill=\"#8139e5\" fill-opacity=\"0.027451\" stroke=\"black\" d=\"M579,-425C579,-425 444,-425 444,-425 438,-425 432,-419 432,-413 432,-413 432,-354 432,-354 432,-348 438,-342 444,-342 444,-342 579,-342 579,-342 585,-342 591,-348 591,-354 591,-354 591,-413 591,-413 591,-419 585,-425 579,-425\"/>\r\n",
       "<text text-anchor=\"start\" x=\"440\" y=\"-409.8\" font-family=\"Helvetica,sans-Serif\" font-size=\"14.00\">petal width (cm) ≤ 1.75</text>\r\n",
       "<text text-anchor=\"start\" x=\"482.5\" y=\"-394.8\" font-family=\"Helvetica,sans-Serif\" font-size=\"14.00\">gini = 0.5</text>\r\n",
       "<text text-anchor=\"start\" x=\"468\" y=\"-379.8\" font-family=\"Helvetica,sans-Serif\" font-size=\"14.00\">samples = 75</text>\r\n",
       "<text text-anchor=\"start\" x=\"455\" y=\"-364.8\" font-family=\"Helvetica,sans-Serif\" font-size=\"14.00\">value = [0, 37, 38]</text>\r\n",
       "<text text-anchor=\"start\" x=\"461.5\" y=\"-349.8\" font-family=\"Helvetica,sans-Serif\" font-size=\"14.00\">class = virginica</text>\r\n",
       "</g>\r\n",
       "<!-- 0&#45;&gt;2 -->\r\n",
       "<g id=\"edge2\" class=\"edge\"><title>0&#45;&gt;2</title>\r\n",
       "<path fill=\"none\" stroke=\"black\" d=\"M459.909,-460.907C465.914,-452.014 472.331,-442.509 478.529,-433.331\"/>\r\n",
       "<polygon fill=\"black\" stroke=\"black\" points=\"481.444,-435.267 484.14,-425.021 475.643,-431.35 481.444,-435.267\"/>\r\n",
       "<text text-anchor=\"middle\" x=\"488.898\" y=\"-445.864\" font-family=\"Helvetica,sans-Serif\" font-size=\"14.00\">False</text>\r\n",
       "</g>\r\n",
       "<!-- 3 -->\r\n",
       "<g id=\"node4\" class=\"node\"><title>3</title>\r\n",
       "<path fill=\"#39e581\" fill-opacity=\"0.917647\" stroke=\"black\" d=\"M476,-306C476,-306 335,-306 335,-306 329,-306 323,-300 323,-294 323,-294 323,-235 323,-235 323,-229 329,-223 335,-223 335,-223 476,-223 476,-223 482,-223 488,-229 488,-235 488,-235 488,-294 488,-294 488,-300 482,-306 476,-306\"/>\r\n",
       "<text text-anchor=\"start\" x=\"331\" y=\"-290.8\" font-family=\"Helvetica,sans-Serif\" font-size=\"14.00\">petal length (cm) ≤ 4.95</text>\r\n",
       "<text text-anchor=\"start\" x=\"368\" y=\"-275.8\" font-family=\"Helvetica,sans-Serif\" font-size=\"14.00\">gini = 0.142</text>\r\n",
       "<text text-anchor=\"start\" x=\"362\" y=\"-260.8\" font-family=\"Helvetica,sans-Serif\" font-size=\"14.00\">samples = 39</text>\r\n",
       "<text text-anchor=\"start\" x=\"353\" y=\"-245.8\" font-family=\"Helvetica,sans-Serif\" font-size=\"14.00\">value = [0, 36, 3]</text>\r\n",
       "<text text-anchor=\"start\" x=\"350\" y=\"-230.8\" font-family=\"Helvetica,sans-Serif\" font-size=\"14.00\">class = versicolor</text>\r\n",
       "</g>\r\n",
       "<!-- 2&#45;&gt;3 -->\r\n",
       "<g id=\"edge3\" class=\"edge\"><title>2&#45;&gt;3</title>\r\n",
       "<path fill=\"none\" stroke=\"black\" d=\"M474.724,-341.907C466.42,-332.742 457.528,-322.927 448.977,-313.489\"/>\r\n",
       "<polygon fill=\"black\" stroke=\"black\" points=\"451.519,-311.082 442.211,-306.021 446.331,-315.782 451.519,-311.082\"/>\r\n",
       "</g>\r\n",
       "<!-- 10 -->\r\n",
       "<g id=\"node11\" class=\"node\"><title>10</title>\r\n",
       "<path fill=\"#8139e5\" fill-opacity=\"0.972549\" stroke=\"black\" d=\"M688,-306C688,-306 547,-306 547,-306 541,-306 535,-300 535,-294 535,-294 535,-235 535,-235 535,-229 541,-223 547,-223 547,-223 688,-223 688,-223 694,-223 700,-229 700,-235 700,-235 700,-294 700,-294 700,-300 694,-306 688,-306\"/>\r\n",
       "<text text-anchor=\"start\" x=\"543\" y=\"-290.8\" font-family=\"Helvetica,sans-Serif\" font-size=\"14.00\">petal length (cm) ≤ 4.85</text>\r\n",
       "<text text-anchor=\"start\" x=\"580\" y=\"-275.8\" font-family=\"Helvetica,sans-Serif\" font-size=\"14.00\">gini = 0.054</text>\r\n",
       "<text text-anchor=\"start\" x=\"574\" y=\"-260.8\" font-family=\"Helvetica,sans-Serif\" font-size=\"14.00\">samples = 36</text>\r\n",
       "<text text-anchor=\"start\" x=\"565\" y=\"-245.8\" font-family=\"Helvetica,sans-Serif\" font-size=\"14.00\">value = [0, 1, 35]</text>\r\n",
       "<text text-anchor=\"start\" x=\"567.5\" y=\"-230.8\" font-family=\"Helvetica,sans-Serif\" font-size=\"14.00\">class = virginica</text>\r\n",
       "</g>\r\n",
       "<!-- 2&#45;&gt;10 -->\r\n",
       "<g id=\"edge10\" class=\"edge\"><title>2&#45;&gt;10</title>\r\n",
       "<path fill=\"none\" stroke=\"black\" d=\"M548.276,-341.907C556.58,-332.742 565.472,-322.927 574.023,-313.489\"/>\r\n",
       "<polygon fill=\"black\" stroke=\"black\" points=\"576.669,-315.782 580.789,-306.021 571.481,-311.082 576.669,-315.782\"/>\r\n",
       "</g>\r\n",
       "<!-- 4 -->\r\n",
       "<g id=\"node5\" class=\"node\"><title>4</title>\r\n",
       "<path fill=\"#39e581\" fill-opacity=\"0.972549\" stroke=\"black\" d=\"M271,-187C271,-187 136,-187 136,-187 130,-187 124,-181 124,-175 124,-175 124,-116 124,-116 124,-110 130,-104 136,-104 136,-104 271,-104 271,-104 277,-104 283,-110 283,-116 283,-116 283,-175 283,-175 283,-181 277,-187 271,-187\"/>\r\n",
       "<text text-anchor=\"start\" x=\"132\" y=\"-171.8\" font-family=\"Helvetica,sans-Serif\" font-size=\"14.00\">petal width (cm) ≤ 1.65</text>\r\n",
       "<text text-anchor=\"start\" x=\"166\" y=\"-156.8\" font-family=\"Helvetica,sans-Serif\" font-size=\"14.00\">gini = 0.054</text>\r\n",
       "<text text-anchor=\"start\" x=\"160\" y=\"-141.8\" font-family=\"Helvetica,sans-Serif\" font-size=\"14.00\">samples = 36</text>\r\n",
       "<text text-anchor=\"start\" x=\"151\" y=\"-126.8\" font-family=\"Helvetica,sans-Serif\" font-size=\"14.00\">value = [0, 35, 1]</text>\r\n",
       "<text text-anchor=\"start\" x=\"148\" y=\"-111.8\" font-family=\"Helvetica,sans-Serif\" font-size=\"14.00\">class = versicolor</text>\r\n",
       "</g>\r\n",
       "<!-- 3&#45;&gt;4 -->\r\n",
       "<g id=\"edge4\" class=\"edge\"><title>3&#45;&gt;4</title>\r\n",
       "<path fill=\"none\" stroke=\"black\" d=\"M335.417,-222.907C318.339,-213.016 299.955,-202.368 282.494,-192.254\"/>\r\n",
       "<polygon fill=\"black\" stroke=\"black\" points=\"283.867,-189.004 273.459,-187.021 280.358,-195.062 283.867,-189.004\"/>\r\n",
       "</g>\r\n",
       "<!-- 7 -->\r\n",
       "<g id=\"node8\" class=\"node\"><title>7</title>\r\n",
       "<path fill=\"#8139e5\" fill-opacity=\"0.498039\" stroke=\"black\" d=\"M469,-187C469,-187 342,-187 342,-187 336,-187 330,-181 330,-175 330,-175 330,-116 330,-116 330,-110 336,-104 342,-104 342,-104 469,-104 469,-104 475,-104 481,-110 481,-116 481,-116 481,-175 481,-175 481,-181 475,-187 469,-187\"/>\r\n",
       "<text text-anchor=\"start\" x=\"338\" y=\"-171.8\" font-family=\"Helvetica,sans-Serif\" font-size=\"14.00\">petal width (cm) ≤ 1.6</text>\r\n",
       "<text text-anchor=\"start\" x=\"368\" y=\"-156.8\" font-family=\"Helvetica,sans-Serif\" font-size=\"14.00\">gini = 0.444</text>\r\n",
       "<text text-anchor=\"start\" x=\"366\" y=\"-141.8\" font-family=\"Helvetica,sans-Serif\" font-size=\"14.00\">samples = 3</text>\r\n",
       "<text text-anchor=\"start\" x=\"357\" y=\"-126.8\" font-family=\"Helvetica,sans-Serif\" font-size=\"14.00\">value = [0, 1, 2]</text>\r\n",
       "<text text-anchor=\"start\" x=\"355.5\" y=\"-111.8\" font-family=\"Helvetica,sans-Serif\" font-size=\"14.00\">class = virginica</text>\r\n",
       "</g>\r\n",
       "<!-- 3&#45;&gt;7 -->\r\n",
       "<g id=\"edge7\" class=\"edge\"><title>3&#45;&gt;7</title>\r\n",
       "<path fill=\"none\" stroke=\"black\" d=\"M405.5,-222.907C405.5,-214.649 405.5,-205.864 405.5,-197.302\"/>\r\n",
       "<polygon fill=\"black\" stroke=\"black\" points=\"409,-197.021 405.5,-187.021 402,-197.021 409,-197.021\"/>\r\n",
       "</g>\r\n",
       "<!-- 5 -->\r\n",
       "<g id=\"node6\" class=\"node\"><title>5</title>\r\n",
       "<path fill=\"#39e581\" stroke=\"black\" d=\"M115,-68C115,-68 12,-68 12,-68 6,-68 -7.10543e-015,-62 -7.10543e-015,-56 -7.10543e-015,-56 -7.10543e-015,-12 -7.10543e-015,-12 -7.10543e-015,-6 6,-0 12,-0 12,-0 115,-0 115,-0 121,-0 127,-6 127,-12 127,-12 127,-56 127,-56 127,-62 121,-68 115,-68\"/>\r\n",
       "<text text-anchor=\"start\" x=\"34.5\" y=\"-52.8\" font-family=\"Helvetica,sans-Serif\" font-size=\"14.00\">gini = 0.0</text>\r\n",
       "<text text-anchor=\"start\" x=\"20\" y=\"-37.8\" font-family=\"Helvetica,sans-Serif\" font-size=\"14.00\">samples = 35</text>\r\n",
       "<text text-anchor=\"start\" x=\"11\" y=\"-22.8\" font-family=\"Helvetica,sans-Serif\" font-size=\"14.00\">value = [0, 35, 0]</text>\r\n",
       "<text text-anchor=\"start\" x=\"8\" y=\"-7.8\" font-family=\"Helvetica,sans-Serif\" font-size=\"14.00\">class = versicolor</text>\r\n",
       "</g>\r\n",
       "<!-- 4&#45;&gt;5 -->\r\n",
       "<g id=\"edge5\" class=\"edge\"><title>4&#45;&gt;5</title>\r\n",
       "<path fill=\"none\" stroke=\"black\" d=\"M151.369,-103.726C139.241,-94.2406 126.347,-84.1551 114.278,-74.7159\"/>\r\n",
       "<polygon fill=\"black\" stroke=\"black\" points=\"116.108,-71.7035 106.075,-68.2996 111.795,-77.2173 116.108,-71.7035\"/>\r\n",
       "</g>\r\n",
       "<!-- 6 -->\r\n",
       "<g id=\"node7\" class=\"node\"><title>6</title>\r\n",
       "<path fill=\"#8139e5\" stroke=\"black\" d=\"M249.5,-68C249.5,-68 157.5,-68 157.5,-68 151.5,-68 145.5,-62 145.5,-56 145.5,-56 145.5,-12 145.5,-12 145.5,-6 151.5,-0 157.5,-0 157.5,-0 249.5,-0 249.5,-0 255.5,-0 261.5,-6 261.5,-12 261.5,-12 261.5,-56 261.5,-56 261.5,-62 255.5,-68 249.5,-68\"/>\r\n",
       "<text text-anchor=\"start\" x=\"174.5\" y=\"-52.8\" font-family=\"Helvetica,sans-Serif\" font-size=\"14.00\">gini = 0.0</text>\r\n",
       "<text text-anchor=\"start\" x=\"164\" y=\"-37.8\" font-family=\"Helvetica,sans-Serif\" font-size=\"14.00\">samples = 1</text>\r\n",
       "<text text-anchor=\"start\" x=\"155\" y=\"-22.8\" font-family=\"Helvetica,sans-Serif\" font-size=\"14.00\">value = [0, 0, 1]</text>\r\n",
       "<text text-anchor=\"start\" x=\"153.5\" y=\"-7.8\" font-family=\"Helvetica,sans-Serif\" font-size=\"14.00\">class = virginica</text>\r\n",
       "</g>\r\n",
       "<!-- 4&#45;&gt;6 -->\r\n",
       "<g id=\"edge6\" class=\"edge\"><title>4&#45;&gt;6</title>\r\n",
       "<path fill=\"none\" stroke=\"black\" d=\"M203.5,-103.726C203.5,-95.5175 203.5,-86.8595 203.5,-78.56\"/>\r\n",
       "<polygon fill=\"black\" stroke=\"black\" points=\"207,-78.2996 203.5,-68.2996 200,-78.2996 207,-78.2996\"/>\r\n",
       "</g>\r\n",
       "<!-- 8 -->\r\n",
       "<g id=\"node9\" class=\"node\"><title>8</title>\r\n",
       "<path fill=\"#8139e5\" stroke=\"black\" d=\"M383.5,-68C383.5,-68 291.5,-68 291.5,-68 285.5,-68 279.5,-62 279.5,-56 279.5,-56 279.5,-12 279.5,-12 279.5,-6 285.5,-0 291.5,-0 291.5,-0 383.5,-0 383.5,-0 389.5,-0 395.5,-6 395.5,-12 395.5,-12 395.5,-56 395.5,-56 395.5,-62 389.5,-68 383.5,-68\"/>\r\n",
       "<text text-anchor=\"start\" x=\"308.5\" y=\"-52.8\" font-family=\"Helvetica,sans-Serif\" font-size=\"14.00\">gini = 0.0</text>\r\n",
       "<text text-anchor=\"start\" x=\"298\" y=\"-37.8\" font-family=\"Helvetica,sans-Serif\" font-size=\"14.00\">samples = 2</text>\r\n",
       "<text text-anchor=\"start\" x=\"289\" y=\"-22.8\" font-family=\"Helvetica,sans-Serif\" font-size=\"14.00\">value = [0, 0, 2]</text>\r\n",
       "<text text-anchor=\"start\" x=\"287.5\" y=\"-7.8\" font-family=\"Helvetica,sans-Serif\" font-size=\"14.00\">class = virginica</text>\r\n",
       "</g>\r\n",
       "<!-- 7&#45;&gt;8 -->\r\n",
       "<g id=\"edge8\" class=\"edge\"><title>7&#45;&gt;8</title>\r\n",
       "<path fill=\"none\" stroke=\"black\" d=\"M380.179,-103.726C374.742,-94.9703 368.987,-85.7032 363.523,-76.9051\"/>\r\n",
       "<polygon fill=\"black\" stroke=\"black\" points=\"366.428,-74.9484 358.179,-68.2996 360.481,-78.6413 366.428,-74.9484\"/>\r\n",
       "</g>\r\n",
       "<!-- 9 -->\r\n",
       "<g id=\"node10\" class=\"node\"><title>9</title>\r\n",
       "<path fill=\"#39e581\" stroke=\"black\" d=\"M529,-68C529,-68 426,-68 426,-68 420,-68 414,-62 414,-56 414,-56 414,-12 414,-12 414,-6 420,-0 426,-0 426,-0 529,-0 529,-0 535,-0 541,-6 541,-12 541,-12 541,-56 541,-56 541,-62 535,-68 529,-68\"/>\r\n",
       "<text text-anchor=\"start\" x=\"448.5\" y=\"-52.8\" font-family=\"Helvetica,sans-Serif\" font-size=\"14.00\">gini = 0.0</text>\r\n",
       "<text text-anchor=\"start\" x=\"438\" y=\"-37.8\" font-family=\"Helvetica,sans-Serif\" font-size=\"14.00\">samples = 1</text>\r\n",
       "<text text-anchor=\"start\" x=\"429\" y=\"-22.8\" font-family=\"Helvetica,sans-Serif\" font-size=\"14.00\">value = [0, 1, 0]</text>\r\n",
       "<text text-anchor=\"start\" x=\"422\" y=\"-7.8\" font-family=\"Helvetica,sans-Serif\" font-size=\"14.00\">class = versicolor</text>\r\n",
       "</g>\r\n",
       "<!-- 7&#45;&gt;9 -->\r\n",
       "<g id=\"edge9\" class=\"edge\"><title>7&#45;&gt;9</title>\r\n",
       "<path fill=\"none\" stroke=\"black\" d=\"M432.31,-103.726C438.068,-94.9703 444.161,-85.7032 449.946,-76.9051\"/>\r\n",
       "<polygon fill=\"black\" stroke=\"black\" points=\"453.035,-78.5781 455.604,-68.2996 447.186,-74.7322 453.035,-78.5781\"/>\r\n",
       "</g>\r\n",
       "<!-- 11 -->\r\n",
       "<g id=\"node12\" class=\"node\"><title>11</title>\r\n",
       "<path fill=\"none\" stroke=\"black\" d=\"M683,-187C683,-187 552,-187 552,-187 546,-187 540,-181 540,-175 540,-175 540,-116 540,-116 540,-110 546,-104 552,-104 552,-104 683,-104 683,-104 689,-104 695,-110 695,-116 695,-116 695,-175 695,-175 695,-181 689,-187 683,-187\"/>\r\n",
       "<text text-anchor=\"start\" x=\"548\" y=\"-171.8\" font-family=\"Helvetica,sans-Serif\" font-size=\"14.00\">sepal width (cm) ≤ 3.1</text>\r\n",
       "<text text-anchor=\"start\" x=\"588.5\" y=\"-156.8\" font-family=\"Helvetica,sans-Serif\" font-size=\"14.00\">gini = 0.5</text>\r\n",
       "<text text-anchor=\"start\" x=\"578\" y=\"-141.8\" font-family=\"Helvetica,sans-Serif\" font-size=\"14.00\">samples = 2</text>\r\n",
       "<text text-anchor=\"start\" x=\"569\" y=\"-126.8\" font-family=\"Helvetica,sans-Serif\" font-size=\"14.00\">value = [0, 1, 1]</text>\r\n",
       "<text text-anchor=\"start\" x=\"562\" y=\"-111.8\" font-family=\"Helvetica,sans-Serif\" font-size=\"14.00\">class = versicolor</text>\r\n",
       "</g>\r\n",
       "<!-- 10&#45;&gt;11 -->\r\n",
       "<g id=\"edge11\" class=\"edge\"><title>10&#45;&gt;11</title>\r\n",
       "<path fill=\"none\" stroke=\"black\" d=\"M617.5,-222.907C617.5,-214.649 617.5,-205.864 617.5,-197.302\"/>\r\n",
       "<polygon fill=\"black\" stroke=\"black\" points=\"621,-197.021 617.5,-187.021 614,-197.021 621,-197.021\"/>\r\n",
       "</g>\r\n",
       "<!-- 14 -->\r\n",
       "<g id=\"node15\" class=\"node\"><title>14</title>\r\n",
       "<path fill=\"#8139e5\" stroke=\"black\" d=\"M822,-179.5C822,-179.5 725,-179.5 725,-179.5 719,-179.5 713,-173.5 713,-167.5 713,-167.5 713,-123.5 713,-123.5 713,-117.5 719,-111.5 725,-111.5 725,-111.5 822,-111.5 822,-111.5 828,-111.5 834,-117.5 834,-123.5 834,-123.5 834,-167.5 834,-167.5 834,-173.5 828,-179.5 822,-179.5\"/>\r\n",
       "<text text-anchor=\"start\" x=\"744.5\" y=\"-164.3\" font-family=\"Helvetica,sans-Serif\" font-size=\"14.00\">gini = 0.0</text>\r\n",
       "<text text-anchor=\"start\" x=\"730\" y=\"-149.3\" font-family=\"Helvetica,sans-Serif\" font-size=\"14.00\">samples = 34</text>\r\n",
       "<text text-anchor=\"start\" x=\"721\" y=\"-134.3\" font-family=\"Helvetica,sans-Serif\" font-size=\"14.00\">value = [0, 0, 34]</text>\r\n",
       "<text text-anchor=\"start\" x=\"723.5\" y=\"-119.3\" font-family=\"Helvetica,sans-Serif\" font-size=\"14.00\">class = virginica</text>\r\n",
       "</g>\r\n",
       "<!-- 10&#45;&gt;14 -->\r\n",
       "<g id=\"edge14\" class=\"edge\"><title>10&#45;&gt;14</title>\r\n",
       "<path fill=\"none\" stroke=\"black\" d=\"M671.623,-222.907C687.66,-210.88 705.187,-197.735 721.112,-185.791\"/>\r\n",
       "<polygon fill=\"black\" stroke=\"black\" points=\"723.377,-188.467 729.277,-179.667 719.177,-182.867 723.377,-188.467\"/>\r\n",
       "</g>\r\n",
       "<!-- 12 -->\r\n",
       "<g id=\"node13\" class=\"node\"><title>12</title>\r\n",
       "<path fill=\"#8139e5\" stroke=\"black\" d=\"M663.5,-68C663.5,-68 571.5,-68 571.5,-68 565.5,-68 559.5,-62 559.5,-56 559.5,-56 559.5,-12 559.5,-12 559.5,-6 565.5,-0 571.5,-0 571.5,-0 663.5,-0 663.5,-0 669.5,-0 675.5,-6 675.5,-12 675.5,-12 675.5,-56 675.5,-56 675.5,-62 669.5,-68 663.5,-68\"/>\r\n",
       "<text text-anchor=\"start\" x=\"588.5\" y=\"-52.8\" font-family=\"Helvetica,sans-Serif\" font-size=\"14.00\">gini = 0.0</text>\r\n",
       "<text text-anchor=\"start\" x=\"578\" y=\"-37.8\" font-family=\"Helvetica,sans-Serif\" font-size=\"14.00\">samples = 1</text>\r\n",
       "<text text-anchor=\"start\" x=\"569\" y=\"-22.8\" font-family=\"Helvetica,sans-Serif\" font-size=\"14.00\">value = [0, 0, 1]</text>\r\n",
       "<text text-anchor=\"start\" x=\"567.5\" y=\"-7.8\" font-family=\"Helvetica,sans-Serif\" font-size=\"14.00\">class = virginica</text>\r\n",
       "</g>\r\n",
       "<!-- 11&#45;&gt;12 -->\r\n",
       "<g id=\"edge12\" class=\"edge\"><title>11&#45;&gt;12</title>\r\n",
       "<path fill=\"none\" stroke=\"black\" d=\"M617.5,-103.726C617.5,-95.5175 617.5,-86.8595 617.5,-78.56\"/>\r\n",
       "<polygon fill=\"black\" stroke=\"black\" points=\"621,-78.2996 617.5,-68.2996 614,-78.2996 621,-78.2996\"/>\r\n",
       "</g>\r\n",
       "<!-- 13 -->\r\n",
       "<g id=\"node14\" class=\"node\"><title>13</title>\r\n",
       "<path fill=\"#39e581\" stroke=\"black\" d=\"M809,-68C809,-68 706,-68 706,-68 700,-68 694,-62 694,-56 694,-56 694,-12 694,-12 694,-6 700,-0 706,-0 706,-0 809,-0 809,-0 815,-0 821,-6 821,-12 821,-12 821,-56 821,-56 821,-62 815,-68 809,-68\"/>\r\n",
       "<text text-anchor=\"start\" x=\"728.5\" y=\"-52.8\" font-family=\"Helvetica,sans-Serif\" font-size=\"14.00\">gini = 0.0</text>\r\n",
       "<text text-anchor=\"start\" x=\"718\" y=\"-37.8\" font-family=\"Helvetica,sans-Serif\" font-size=\"14.00\">samples = 1</text>\r\n",
       "<text text-anchor=\"start\" x=\"709\" y=\"-22.8\" font-family=\"Helvetica,sans-Serif\" font-size=\"14.00\">value = [0, 1, 0]</text>\r\n",
       "<text text-anchor=\"start\" x=\"702\" y=\"-7.8\" font-family=\"Helvetica,sans-Serif\" font-size=\"14.00\">class = versicolor</text>\r\n",
       "</g>\r\n",
       "<!-- 11&#45;&gt;13 -->\r\n",
       "<g id=\"edge13\" class=\"edge\"><title>11&#45;&gt;13</title>\r\n",
       "<path fill=\"none\" stroke=\"black\" d=\"M669.631,-103.726C681.759,-94.2406 694.653,-84.1551 706.722,-74.7159\"/>\r\n",
       "<polygon fill=\"black\" stroke=\"black\" points=\"709.205,-77.2173 714.925,-68.2996 704.892,-71.7035 709.205,-77.2173\"/>\r\n",
       "</g>\r\n",
       "</g>\r\n",
       "</svg>\r\n"
      ],
      "text/plain": [
       "<graphviz.files.Source at 0x1274d830>"
      ]
     },
     "execution_count": 4,
     "metadata": {},
     "output_type": "execute_result"
    }
   ],
   "source": [
    "import graphviz\n",
    "\n",
    "# export the dot data file into a variable\n",
    "dot_data = tree.export_graphviz(classifier, out_file=None,\n",
    "                                feature_names=dataset.feature_names,  \n",
    "                                class_names=dataset.target_names,  \n",
    "                                filled=True, rounded=True,  \n",
    "                                special_characters=True) \n",
    "\n",
    "# create the graph\n",
    "graph = graphviz.Source(dot_data) \n",
    "\n",
    "# and display the graph\n",
    "graph"
   ]
  },
  {
   "cell_type": "markdown",
   "metadata": {},
   "source": [
    "<img src=\"./pics/iris-decision-tree.png\">"
   ]
  },
  {
   "cell_type": "markdown",
   "metadata": {},
   "source": [
    "In this decision tree, after a tree depth of 3, there is no real value addition. It's basically nitpicking at the small numbers - and that's exactly what is leading to overfitting. What is we can restrict the tree to just 3 levels of depth ? "
   ]
  },
  {
   "cell_type": "markdown",
   "metadata": {},
   "source": [
    "<img src=\"./pics/iris-decision-tree-overfitting.png\"/>"
   ]
  },
  {
   "cell_type": "markdown",
   "metadata": {},
   "source": [
    "The _DecisionTreeClassifier_ has a parameter called **max_depth**. Set it to 3."
   ]
  },
  {
   "cell_type": "markdown",
   "metadata": {},
   "source": [
    "<img src=\"./pics/decision-tree-max-depth.png\"/>"
   ]
  },
  {
   "cell_type": "markdown",
   "metadata": {},
   "source": [
    "Now, let's run the same test and see how different the training and the test data looks."
   ]
  },
  {
   "cell_type": "code",
   "execution_count": 7,
   "metadata": {},
   "outputs": [],
   "source": [
    "from sklearn.model_selection import train_test_split\n",
    "from sklearn import tree\n",
    "\n",
    "test_score     = []\n",
    "train_score = []\n",
    "\n",
    "for i in range(1,100) :\n",
    "    X_train, X_test, y_train, y_test = train_test_split (dataset.data, dataset.target)\n",
    "\n",
    "    classifier = tree.DecisionTreeClassifier(max_depth = 3)\n",
    "    model      = classifier.fit(X_train, y_train)\n",
    "\n",
    "    test_score.append(model.score(X_test,y_test))\n",
    "    train_score.append(model.score(X_train,y_train))"
   ]
  },
  {
   "cell_type": "code",
   "execution_count": 8,
   "metadata": {},
   "outputs": [
    {
     "data": {
      "text/plain": [
       "<matplotlib.collections.PathCollection at 0xe724cd0>"
      ]
     },
     "execution_count": 8,
     "metadata": {},
     "output_type": "execute_result"
    },
    {
     "data": {
      "image/png": "[encoded data removed]",
      "text/plain": [
       "<Figure size 432x288 with 1 Axes>"
      ]
     },
     "metadata": {
      "needs_background": "light"
     },
     "output_type": "display_data"
    }
   ],
   "source": [
    "import matplotlib.pyplot as plt\n",
    "%matplotlib inline\n",
    "\n",
    "plt.scatter(list(range(1,100)), train_score)\n",
    "plt.scatter(list(range(1,100)), test_score)"
   ]
  },
  {
   "cell_type": "markdown",
   "metadata": {},
   "source": [
    "<img src=\"./pics/decision-tree-max-depth-comparision.png\"/>"
   ]
  },
  {
   "cell_type": "markdown",
   "metadata": {},
   "source": [
    "**Optimum Tree Depth**"
   ]
  },
  {
   "cell_type": "markdown",
   "metadata": {},
   "source": [
    "In the previous case, we just randomly cut-off the tree at a depth of 3 levels. Typically, for simple trees, looking at a tree you would be able to tell roughly at what depth the predictive power starts to wear off. If you have a complex tree though, you might want to systematically determine this. You can draw a curve and find out where exactly the accuracy of the test data starts to wear off. "
   ]
  },
  {
   "cell_type": "code",
   "execution_count": null,
   "metadata": {},
   "outputs": [],
   "source": [
    "from sklearn.model_selection import train_test_split\n",
    "from sklearn import tree\n",
    "\n",
    "X_train, X_test, y_train, y_test = train_test_split (wine.data, wine.target)\n",
    "\n",
    "training_score = []\n",
    "test_score     = []\n",
    "\n",
    "for i in range(1,20) :\n",
    "    classifier = tree.DecisionTreeClassifier(max_depth=i)\n",
    "    model      = classifier.fit(X_train, y_train)\n",
    "    training_score.append(model.score(X_train,y_train) )\n",
    "    test_score.append(model.score(X_test,y_test) )"
   ]
  },
  {
   "cell_type": "code",
   "execution_count": 135,
   "metadata": {},
   "outputs": [
    {
     "data": {
      "text/plain": [
       "<matplotlib.legend.Legend at 0x12358430>"
      ]
     },
     "execution_count": 135,
     "metadata": {},
     "output_type": "execute_result"
    },
    {
     "data": {
      "image/png": "[encoded data removed]",
      "text/plain": [
       "<Figure size 432x288 with 1 Axes>"
      ]
     },
     "metadata": {
      "needs_background": "light"
     },
     "output_type": "display_data"
    }
   ],
   "source": [
    "import matplotlib.pyplot as plt\n",
    "%matplotlib inline\n",
    "\n",
    "plt.scatter(list(range(1,20)), training_score, label=\"training scores\")\n",
    "plt.scatter(list(range(1,20)), test_score,label=\"test scores\")\n",
    "plt.legend()"
   ]
  },
  {
   "cell_type": "markdown",
   "metadata": {},
   "source": [
    "Roughly at around a depth of 3, the test scores start to drop off. "
   ]
  },
  {
   "cell_type": "code",
   "execution_count": 151,
   "metadata": {},
   "outputs": [],
   "source": [
    "from sklearn.model_selection import train_test_split\n",
    "from sklearn import tree\n",
    "\n",
    "X_train, X_test, y_train, y_test = train_test_split (wine.data, wine.target)\n",
    "\n",
    "training_score = []\n",
    "test_score     = []\n",
    "\n",
    "for i in range(5,50) :\n",
    "    classifier = tree.DecisionTreeClassifier(min_samples_split=i)\n",
    "    model      = classifier.fit(X_train, y_train)\n",
    "    training_score.append(model.score(X_train,y_train) )\n",
    "    test_score.append(model.score(X_test,y_test) )"
   ]
  },
  {
   "cell_type": "code",
   "execution_count": 152,
   "metadata": {},
   "outputs": [
    {
     "data": {
      "text/plain": [
       "<matplotlib.legend.Legend at 0x12577f90>"
      ]
     },
     "execution_count": 152,
     "metadata": {},
     "output_type": "execute_result"
    },
    {
     "data": {
      "image/png": "[encoded data removed]",
      "text/plain": [
       "<Figure size 432x288 with 1 Axes>"
      ]
     },
     "metadata": {
      "needs_background": "light"
     },
     "output_type": "display_data"
    }
   ],
   "source": [
    "import matplotlib.pyplot as plt\n",
    "%matplotlib inline\n",
    "\n",
    "plt.scatter(list(range(5,50)), training_score, label=\"training scores\")\n",
    "plt.scatter(list(range(5,50)), test_score,label=\"test scores\")\n",
    "plt.legend()"
   ]
  },
  {
   "cell_type": "code",
   "execution_count": 113,
   "metadata": {},
   "outputs": [
    {
     "data": {
      "image/svg+xml": [
       "<?xml version=\"1.0\" encoding=\"UTF-8\" standalone=\"no\"?>\r\n",
       "<!DOCTYPE svg PUBLIC \"-//W3C//DTD SVG 1.1//EN\"\r\n",
       " \"http://www.w3.org/Graphics/SVG/1.1/DTD/svg11.dtd\">\r\n",
       "<!-- Generated by graphviz version 2.38.0 (20140413.2041)\r\n",
       " -->\r\n",
       "<!-- Title: Tree Pages: 1 -->\r\n",
       "<svg width=\"1073pt\" height=\"433pt\"\r\n",
       " viewBox=\"0.00 0.00 1073.00 433.00\" xmlns=\"http://www.w3.org/2000/svg\" xmlns:xlink=\"http://www.w3.org/1999/xlink\">\r\n",
       "<g id=\"graph0\" class=\"graph\" transform=\"scale(1 1) rotate(0) translate(4 429)\">\r\n",
       "<title>Tree</title>\r\n",
       "<polygon fill=\"white\" stroke=\"none\" points=\"-4,4 -4,-429 1069,-429 1069,4 -4,4\"/>\r\n",
       "<!-- 0 -->\r\n",
       "<g id=\"node1\" class=\"node\"><title>0</title>\r\n",
       "<path fill=\"#399de5\" fill-opacity=\"0.392157\" stroke=\"black\" d=\"M602,-425C602,-425 425,-425 425,-425 419,-425 413,-419 413,-413 413,-413 413,-354 413,-354 413,-348 419,-342 425,-342 425,-342 602,-342 602,-342 608,-342 614,-348 614,-354 614,-354 614,-413 614,-413 614,-419 608,-425 602,-425\"/>\r\n",
       "<text text-anchor=\"start\" x=\"421\" y=\"-409.8\" font-family=\"Helvetica,sans-Serif\" font-size=\"14.00\">worst concave points ≤ 0.142</text>\r\n",
       "<text text-anchor=\"start\" x=\"480\" y=\"-394.8\" font-family=\"Helvetica,sans-Serif\" font-size=\"14.00\">gini = 0.47</text>\r\n",
       "<text text-anchor=\"start\" x=\"466\" y=\"-379.8\" font-family=\"Helvetica,sans-Serif\" font-size=\"14.00\">samples = 426</text>\r\n",
       "<text text-anchor=\"start\" x=\"456.5\" y=\"-364.8\" font-family=\"Helvetica,sans-Serif\" font-size=\"14.00\">value = [161, 265]</text>\r\n",
       "<text text-anchor=\"start\" x=\"467.5\" y=\"-349.8\" font-family=\"Helvetica,sans-Serif\" font-size=\"14.00\">class = benign</text>\r\n",
       "</g>\r\n",
       "<!-- 1 -->\r\n",
       "<g id=\"node2\" class=\"node\"><title>1</title>\r\n",
       "<path fill=\"#399de5\" fill-opacity=\"0.901961\" stroke=\"black\" d=\"M485.5,-306C485.5,-306 357.5,-306 357.5,-306 351.5,-306 345.5,-300 345.5,-294 345.5,-294 345.5,-235 345.5,-235 345.5,-229 351.5,-223 357.5,-223 357.5,-223 485.5,-223 485.5,-223 491.5,-223 497.5,-229 497.5,-235 497.5,-235 497.5,-294 497.5,-294 497.5,-300 491.5,-306 485.5,-306\"/>\r\n",
       "<text text-anchor=\"start\" x=\"353.5\" y=\"-290.8\" font-family=\"Helvetica,sans-Serif\" font-size=\"14.00\">worst radius ≤ 16.805</text>\r\n",
       "<text text-anchor=\"start\" x=\"384\" y=\"-275.8\" font-family=\"Helvetica,sans-Serif\" font-size=\"14.00\">gini = 0.161</text>\r\n",
       "<text text-anchor=\"start\" x=\"374\" y=\"-260.8\" font-family=\"Helvetica,sans-Serif\" font-size=\"14.00\">samples = 284</text>\r\n",
       "<text text-anchor=\"start\" x=\"368.5\" y=\"-245.8\" font-family=\"Helvetica,sans-Serif\" font-size=\"14.00\">value = [25, 259]</text>\r\n",
       "<text text-anchor=\"start\" x=\"375.5\" y=\"-230.8\" font-family=\"Helvetica,sans-Serif\" font-size=\"14.00\">class = benign</text>\r\n",
       "</g>\r\n",
       "<!-- 0&#45;&gt;1 -->\r\n",
       "<g id=\"edge1\" class=\"edge\"><title>0&#45;&gt;1</title>\r\n",
       "<path fill=\"none\" stroke=\"black\" d=\"M481.581,-341.907C474.516,-332.923 466.961,-323.315 459.676,-314.05\"/>\r\n",
       "<polygon fill=\"black\" stroke=\"black\" points=\"462.295,-311.718 453.363,-306.021 456.792,-316.045 462.295,-311.718\"/>\r\n",
       "<text text-anchor=\"middle\" x=\"450.393\" y=\"-327.144\" font-family=\"Helvetica,sans-Serif\" font-size=\"14.00\">True</text>\r\n",
       "</g>\r\n",
       "<!-- 8 -->\r\n",
       "<g id=\"node9\" class=\"node\"><title>8</title>\r\n",
       "<path fill=\"#e58139\" fill-opacity=\"0.956863\" stroke=\"black\" d=\"M663.5,-306C663.5,-306 549.5,-306 549.5,-306 543.5,-306 537.5,-300 537.5,-294 537.5,-294 537.5,-235 537.5,-235 537.5,-229 543.5,-223 549.5,-223 549.5,-223 663.5,-223 663.5,-223 669.5,-223 675.5,-229 675.5,-235 675.5,-235 675.5,-294 675.5,-294 675.5,-300 669.5,-306 663.5,-306\"/>\r\n",
       "<text text-anchor=\"start\" x=\"545.5\" y=\"-290.8\" font-family=\"Helvetica,sans-Serif\" font-size=\"14.00\">area error ≤ 18.335</text>\r\n",
       "<text text-anchor=\"start\" x=\"569\" y=\"-275.8\" font-family=\"Helvetica,sans-Serif\" font-size=\"14.00\">gini = 0.081</text>\r\n",
       "<text text-anchor=\"start\" x=\"559\" y=\"-260.8\" font-family=\"Helvetica,sans-Serif\" font-size=\"14.00\">samples = 142</text>\r\n",
       "<text text-anchor=\"start\" x=\"558\" y=\"-245.8\" font-family=\"Helvetica,sans-Serif\" font-size=\"14.00\">value = [136, 6]</text>\r\n",
       "<text text-anchor=\"start\" x=\"552\" y=\"-230.8\" font-family=\"Helvetica,sans-Serif\" font-size=\"14.00\">class = malignant</text>\r\n",
       "</g>\r\n",
       "<!-- 0&#45;&gt;8 -->\r\n",
       "<g id=\"edge8\" class=\"edge\"><title>0&#45;&gt;8</title>\r\n",
       "<path fill=\"none\" stroke=\"black\" d=\"M545.766,-341.907C552.907,-332.923 560.544,-323.315 567.909,-314.05\"/>\r\n",
       "<polygon fill=\"black\" stroke=\"black\" points=\"570.809,-316.027 574.291,-306.021 565.329,-311.671 570.809,-316.027\"/>\r\n",
       "<text text-anchor=\"middle\" x=\"577.13\" y=\"-327.159\" font-family=\"Helvetica,sans-Serif\" font-size=\"14.00\">False</text>\r\n",
       "</g>\r\n",
       "<!-- 2 -->\r\n",
       "<g id=\"node3\" class=\"node\"><title>2</title>\r\n",
       "<path fill=\"#399de5\" fill-opacity=\"0.972549\" stroke=\"black\" d=\"M274,-187C274,-187 97,-187 97,-187 91,-187 85,-181 85,-175 85,-175 85,-116 85,-116 85,-110 91,-104 97,-104 97,-104 274,-104 274,-104 280,-104 286,-110 286,-116 286,-116 286,-175 286,-175 286,-181 280,-187 274,-187\"/>\r\n",
       "<text text-anchor=\"start\" x=\"93\" y=\"-171.8\" font-family=\"Helvetica,sans-Serif\" font-size=\"14.00\">worst concave points ≤ 0.136</text>\r\n",
       "<text text-anchor=\"start\" x=\"148\" y=\"-156.8\" font-family=\"Helvetica,sans-Serif\" font-size=\"14.00\">gini = 0.053</text>\r\n",
       "<text text-anchor=\"start\" x=\"138\" y=\"-141.8\" font-family=\"Helvetica,sans-Serif\" font-size=\"14.00\">samples = 259</text>\r\n",
       "<text text-anchor=\"start\" x=\"137\" y=\"-126.8\" font-family=\"Helvetica,sans-Serif\" font-size=\"14.00\">value = [7, 252]</text>\r\n",
       "<text text-anchor=\"start\" x=\"139.5\" y=\"-111.8\" font-family=\"Helvetica,sans-Serif\" font-size=\"14.00\">class = benign</text>\r\n",
       "</g>\r\n",
       "<!-- 1&#45;&gt;2 -->\r\n",
       "<g id=\"edge2\" class=\"edge\"><title>1&#45;&gt;2</title>\r\n",
       "<path fill=\"none\" stroke=\"black\" d=\"M345.203,-225.675C323.209,-214.771 298.997,-202.767 276.219,-191.475\"/>\r\n",
       "<polygon fill=\"black\" stroke=\"black\" points=\"277.746,-188.326 267.232,-187.02 274.637,-194.597 277.746,-188.326\"/>\r\n",
       "</g>\r\n",
       "<!-- 5 -->\r\n",
       "<g id=\"node6\" class=\"node\"><title>5</title>\r\n",
       "<path fill=\"#e58139\" fill-opacity=\"0.611765\" stroke=\"black\" d=\"M484,-187C484,-187 359,-187 359,-187 353,-187 347,-181 347,-175 347,-175 347,-116 347,-116 347,-110 353,-104 359,-104 359,-104 484,-104 484,-104 490,-104 496,-110 496,-116 496,-116 496,-175 496,-175 496,-181 490,-187 484,-187\"/>\r\n",
       "<text text-anchor=\"start\" x=\"355\" y=\"-171.8\" font-family=\"Helvetica,sans-Serif\" font-size=\"14.00\">worst texture ≤ 21.94</text>\r\n",
       "<text text-anchor=\"start\" x=\"384\" y=\"-156.8\" font-family=\"Helvetica,sans-Serif\" font-size=\"14.00\">gini = 0.403</text>\r\n",
       "<text text-anchor=\"start\" x=\"378\" y=\"-141.8\" font-family=\"Helvetica,sans-Serif\" font-size=\"14.00\">samples = 25</text>\r\n",
       "<text text-anchor=\"start\" x=\"377\" y=\"-126.8\" font-family=\"Helvetica,sans-Serif\" font-size=\"14.00\">value = [18, 7]</text>\r\n",
       "<text text-anchor=\"start\" x=\"367\" y=\"-111.8\" font-family=\"Helvetica,sans-Serif\" font-size=\"14.00\">class = malignant</text>\r\n",
       "</g>\r\n",
       "<!-- 1&#45;&gt;5 -->\r\n",
       "<g id=\"edge5\" class=\"edge\"><title>1&#45;&gt;5</title>\r\n",
       "<path fill=\"none\" stroke=\"black\" d=\"M421.5,-222.907C421.5,-214.649 421.5,-205.864 421.5,-197.302\"/>\r\n",
       "<polygon fill=\"black\" stroke=\"black\" points=\"425,-197.021 421.5,-187.021 418,-197.021 425,-197.021\"/>\r\n",
       "</g>\r\n",
       "<!-- 3 -->\r\n",
       "<g id=\"node4\" class=\"node\"><title>3</title>\r\n",
       "<path fill=\"#399de5\" fill-opacity=\"0.988235\" stroke=\"black\" d=\"M101,-68C101,-68 12,-68 12,-68 6,-68 0,-62 0,-56 0,-56 0,-12 0,-12 0,-6 6,-0 12,-0 12,-0 101,-0 101,-0 107,-0 113,-6 113,-12 113,-12 113,-56 113,-56 113,-62 107,-68 101,-68\"/>\r\n",
       "<text text-anchor=\"start\" x=\"19\" y=\"-52.8\" font-family=\"Helvetica,sans-Serif\" font-size=\"14.00\">gini = 0.024</text>\r\n",
       "<text text-anchor=\"start\" x=\"9\" y=\"-37.8\" font-family=\"Helvetica,sans-Serif\" font-size=\"14.00\">samples = 250</text>\r\n",
       "<text text-anchor=\"start\" x=\"8\" y=\"-22.8\" font-family=\"Helvetica,sans-Serif\" font-size=\"14.00\">value = [3, 247]</text>\r\n",
       "<text text-anchor=\"start\" x=\"10.5\" y=\"-7.8\" font-family=\"Helvetica,sans-Serif\" font-size=\"14.00\">class = benign</text>\r\n",
       "</g>\r\n",
       "<!-- 2&#45;&gt;3 -->\r\n",
       "<g id=\"edge3\" class=\"edge\"><title>2&#45;&gt;3</title>\r\n",
       "<path fill=\"none\" stroke=\"black\" d=\"M137.465,-103.726C126.398,-94.3318 114.637,-84.349 103.61,-74.9883\"/>\r\n",
       "<polygon fill=\"black\" stroke=\"black\" points=\"105.618,-72.1026 95.7297,-68.2996 101.088,-77.4393 105.618,-72.1026\"/>\r\n",
       "</g>\r\n",
       "<!-- 4 -->\r\n",
       "<g id=\"node5\" class=\"node\"><title>4</title>\r\n",
       "<path fill=\"#399de5\" fill-opacity=\"0.200000\" stroke=\"black\" d=\"M227.5,-68C227.5,-68 143.5,-68 143.5,-68 137.5,-68 131.5,-62 131.5,-56 131.5,-56 131.5,-12 131.5,-12 131.5,-6 137.5,-0 143.5,-0 143.5,-0 227.5,-0 227.5,-0 233.5,-0 239.5,-6 239.5,-12 239.5,-12 239.5,-56 239.5,-56 239.5,-62 233.5,-68 227.5,-68\"/>\r\n",
       "<text text-anchor=\"start\" x=\"148\" y=\"-52.8\" font-family=\"Helvetica,sans-Serif\" font-size=\"14.00\">gini = 0.494</text>\r\n",
       "<text text-anchor=\"start\" x=\"146\" y=\"-37.8\" font-family=\"Helvetica,sans-Serif\" font-size=\"14.00\">samples = 9</text>\r\n",
       "<text text-anchor=\"start\" x=\"145\" y=\"-22.8\" font-family=\"Helvetica,sans-Serif\" font-size=\"14.00\">value = [4, 5]</text>\r\n",
       "<text text-anchor=\"start\" x=\"139.5\" y=\"-7.8\" font-family=\"Helvetica,sans-Serif\" font-size=\"14.00\">class = benign</text>\r\n",
       "</g>\r\n",
       "<!-- 2&#45;&gt;4 -->\r\n",
       "<g id=\"edge4\" class=\"edge\"><title>2&#45;&gt;4</title>\r\n",
       "<path fill=\"none\" stroke=\"black\" d=\"M185.5,-103.726C185.5,-95.5175 185.5,-86.8595 185.5,-78.56\"/>\r\n",
       "<polygon fill=\"black\" stroke=\"black\" points=\"189,-78.2996 185.5,-68.2996 182,-78.2996 189,-78.2996\"/>\r\n",
       "</g>\r\n",
       "<!-- 6 -->\r\n",
       "<g id=\"node7\" class=\"node\"><title>6</title>\r\n",
       "<path fill=\"#399de5\" stroke=\"black\" d=\"M353.5,-68C353.5,-68 269.5,-68 269.5,-68 263.5,-68 257.5,-62 257.5,-56 257.5,-56 257.5,-12 257.5,-12 257.5,-6 263.5,-0 269.5,-0 269.5,-0 353.5,-0 353.5,-0 359.5,-0 365.5,-6 365.5,-12 365.5,-12 365.5,-56 365.5,-56 365.5,-62 359.5,-68 353.5,-68\"/>\r\n",
       "<text text-anchor=\"start\" x=\"282.5\" y=\"-52.8\" font-family=\"Helvetica,sans-Serif\" font-size=\"14.00\">gini = 0.0</text>\r\n",
       "<text text-anchor=\"start\" x=\"272\" y=\"-37.8\" font-family=\"Helvetica,sans-Serif\" font-size=\"14.00\">samples = 6</text>\r\n",
       "<text text-anchor=\"start\" x=\"271\" y=\"-22.8\" font-family=\"Helvetica,sans-Serif\" font-size=\"14.00\">value = [0, 6]</text>\r\n",
       "<text text-anchor=\"start\" x=\"265.5\" y=\"-7.8\" font-family=\"Helvetica,sans-Serif\" font-size=\"14.00\">class = benign</text>\r\n",
       "</g>\r\n",
       "<!-- 5&#45;&gt;6 -->\r\n",
       "<g id=\"edge6\" class=\"edge\"><title>5&#45;&gt;6</title>\r\n",
       "<path fill=\"none\" stroke=\"black\" d=\"M380.54,-103.726C371.286,-94.5142 361.464,-84.7364 352.219,-75.5343\"/>\r\n",
       "<polygon fill=\"black\" stroke=\"black\" points=\"354.508,-72.8741 344.952,-68.2996 349.57,-77.8351 354.508,-72.8741\"/>\r\n",
       "</g>\r\n",
       "<!-- 7 -->\r\n",
       "<g id=\"node8\" class=\"node\"><title>7</title>\r\n",
       "<path fill=\"#e58139\" fill-opacity=\"0.945098\" stroke=\"black\" d=\"M497,-68C497,-68 396,-68 396,-68 390,-68 384,-62 384,-56 384,-56 384,-12 384,-12 384,-6 390,-0 396,-0 396,-0 497,-0 497,-0 503,-0 509,-6 509,-12 509,-12 509,-56 509,-56 509,-62 503,-68 497,-68\"/>\r\n",
       "<text text-anchor=\"start\" x=\"417.5\" y=\"-52.8\" font-family=\"Helvetica,sans-Serif\" font-size=\"14.00\">gini = 0.1</text>\r\n",
       "<text text-anchor=\"start\" x=\"403\" y=\"-37.8\" font-family=\"Helvetica,sans-Serif\" font-size=\"14.00\">samples = 19</text>\r\n",
       "<text text-anchor=\"start\" x=\"402\" y=\"-22.8\" font-family=\"Helvetica,sans-Serif\" font-size=\"14.00\">value = [18, 1]</text>\r\n",
       "<text text-anchor=\"start\" x=\"392\" y=\"-7.8\" font-family=\"Helvetica,sans-Serif\" font-size=\"14.00\">class = malignant</text>\r\n",
       "</g>\r\n",
       "<!-- 5&#45;&gt;7 -->\r\n",
       "<g id=\"edge7\" class=\"edge\"><title>5&#45;&gt;7</title>\r\n",
       "<path fill=\"none\" stroke=\"black\" d=\"M430.809,-103.726C432.704,-95.4263 434.704,-86.6671 436.618,-78.2834\"/>\r\n",
       "<polygon fill=\"black\" stroke=\"black\" points=\"440.084,-78.8278 438.897,-68.2996 433.259,-77.2697 440.084,-78.8278\"/>\r\n",
       "</g>\r\n",
       "<!-- 9 -->\r\n",
       "<g id=\"node10\" class=\"node\"><title>9</title>\r\n",
       "<path fill=\"#399de5\" fill-opacity=\"0.400000\" stroke=\"black\" d=\"M669,-187C669,-187 544,-187 544,-187 538,-187 532,-181 532,-175 532,-175 532,-116 532,-116 532,-110 538,-104 544,-104 544,-104 669,-104 669,-104 675,-104 681,-110 681,-116 681,-116 681,-175 681,-175 681,-181 675,-187 669,-187\"/>\r\n",
       "<text text-anchor=\"start\" x=\"540\" y=\"-171.8\" font-family=\"Helvetica,sans-Serif\" font-size=\"14.00\">worst texture ≤ 28.38</text>\r\n",
       "<text text-anchor=\"start\" x=\"569\" y=\"-156.8\" font-family=\"Helvetica,sans-Serif\" font-size=\"14.00\">gini = 0.469</text>\r\n",
       "<text text-anchor=\"start\" x=\"567\" y=\"-141.8\" font-family=\"Helvetica,sans-Serif\" font-size=\"14.00\">samples = 8</text>\r\n",
       "<text text-anchor=\"start\" x=\"566\" y=\"-126.8\" font-family=\"Helvetica,sans-Serif\" font-size=\"14.00\">value = [3, 5]</text>\r\n",
       "<text text-anchor=\"start\" x=\"560.5\" y=\"-111.8\" font-family=\"Helvetica,sans-Serif\" font-size=\"14.00\">class = benign</text>\r\n",
       "</g>\r\n",
       "<!-- 8&#45;&gt;9 -->\r\n",
       "<g id=\"edge9\" class=\"edge\"><title>8&#45;&gt;9</title>\r\n",
       "<path fill=\"none\" stroke=\"black\" d=\"M606.5,-222.907C606.5,-214.649 606.5,-205.864 606.5,-197.302\"/>\r\n",
       "<polygon fill=\"black\" stroke=\"black\" points=\"610,-197.021 606.5,-187.021 603,-197.021 610,-197.021\"/>\r\n",
       "</g>\r\n",
       "<!-- 12 -->\r\n",
       "<g id=\"node13\" class=\"node\"><title>12</title>\r\n",
       "<path fill=\"#e58139\" fill-opacity=\"0.992157\" stroke=\"black\" d=\"M930.5,-187C930.5,-187 788.5,-187 788.5,-187 782.5,-187 776.5,-181 776.5,-175 776.5,-175 776.5,-116 776.5,-116 776.5,-110 782.5,-104 788.5,-104 788.5,-104 930.5,-104 930.5,-104 936.5,-104 942.5,-110 942.5,-116 942.5,-116 942.5,-175 942.5,-175 942.5,-181 936.5,-187 930.5,-187\"/>\r\n",
       "<text text-anchor=\"start\" x=\"784.5\" y=\"-171.8\" font-family=\"Helvetica,sans-Serif\" font-size=\"14.00\">mean concavity ≤ 0.086</text>\r\n",
       "<text text-anchor=\"start\" x=\"822\" y=\"-156.8\" font-family=\"Helvetica,sans-Serif\" font-size=\"14.00\">gini = 0.015</text>\r\n",
       "<text text-anchor=\"start\" x=\"812\" y=\"-141.8\" font-family=\"Helvetica,sans-Serif\" font-size=\"14.00\">samples = 134</text>\r\n",
       "<text text-anchor=\"start\" x=\"811\" y=\"-126.8\" font-family=\"Helvetica,sans-Serif\" font-size=\"14.00\">value = [133, 1]</text>\r\n",
       "<text text-anchor=\"start\" x=\"805\" y=\"-111.8\" font-family=\"Helvetica,sans-Serif\" font-size=\"14.00\">class = malignant</text>\r\n",
       "</g>\r\n",
       "<!-- 8&#45;&gt;12 -->\r\n",
       "<g id=\"edge12\" class=\"edge\"><title>8&#45;&gt;12</title>\r\n",
       "<path fill=\"none\" stroke=\"black\" d=\"M675.633,-231.529C703.742,-218.53 736.646,-203.314 766.788,-189.375\"/>\r\n",
       "<polygon fill=\"black\" stroke=\"black\" points=\"768.438,-192.468 776.045,-185.094 765.499,-186.115 768.438,-192.468\"/>\r\n",
       "</g>\r\n",
       "<!-- 10 -->\r\n",
       "<g id=\"node11\" class=\"node\"><title>10</title>\r\n",
       "<path fill=\"#399de5\" stroke=\"black\" d=\"M623.5,-68C623.5,-68 539.5,-68 539.5,-68 533.5,-68 527.5,-62 527.5,-56 527.5,-56 527.5,-12 527.5,-12 527.5,-6 533.5,-0 539.5,-0 539.5,-0 623.5,-0 623.5,-0 629.5,-0 635.5,-6 635.5,-12 635.5,-12 635.5,-56 635.5,-56 635.5,-62 629.5,-68 623.5,-68\"/>\r\n",
       "<text text-anchor=\"start\" x=\"552.5\" y=\"-52.8\" font-family=\"Helvetica,sans-Serif\" font-size=\"14.00\">gini = 0.0</text>\r\n",
       "<text text-anchor=\"start\" x=\"542\" y=\"-37.8\" font-family=\"Helvetica,sans-Serif\" font-size=\"14.00\">samples = 5</text>\r\n",
       "<text text-anchor=\"start\" x=\"541\" y=\"-22.8\" font-family=\"Helvetica,sans-Serif\" font-size=\"14.00\">value = [0, 5]</text>\r\n",
       "<text text-anchor=\"start\" x=\"535.5\" y=\"-7.8\" font-family=\"Helvetica,sans-Serif\" font-size=\"14.00\">class = benign</text>\r\n",
       "</g>\r\n",
       "<!-- 9&#45;&gt;10 -->\r\n",
       "<g id=\"edge10\" class=\"edge\"><title>9&#45;&gt;10</title>\r\n",
       "<path fill=\"none\" stroke=\"black\" d=\"M597.191,-103.726C595.296,-95.4263 593.296,-86.6671 591.382,-78.2834\"/>\r\n",
       "<polygon fill=\"black\" stroke=\"black\" points=\"594.741,-77.2697 589.103,-68.2996 587.916,-78.8278 594.741,-77.2697\"/>\r\n",
       "</g>\r\n",
       "<!-- 11 -->\r\n",
       "<g id=\"node12\" class=\"node\"><title>11</title>\r\n",
       "<path fill=\"#e58139\" stroke=\"black\" d=\"M767,-68C767,-68 666,-68 666,-68 660,-68 654,-62 654,-56 654,-56 654,-12 654,-12 654,-6 660,-0 666,-0 666,-0 767,-0 767,-0 773,-0 779,-6 779,-12 779,-12 779,-56 779,-56 779,-62 773,-68 767,-68\"/>\r\n",
       "<text text-anchor=\"start\" x=\"687.5\" y=\"-52.8\" font-family=\"Helvetica,sans-Serif\" font-size=\"14.00\">gini = 0.0</text>\r\n",
       "<text text-anchor=\"start\" x=\"677\" y=\"-37.8\" font-family=\"Helvetica,sans-Serif\" font-size=\"14.00\">samples = 3</text>\r\n",
       "<text text-anchor=\"start\" x=\"676\" y=\"-22.8\" font-family=\"Helvetica,sans-Serif\" font-size=\"14.00\">value = [3, 0]</text>\r\n",
       "<text text-anchor=\"start\" x=\"662\" y=\"-7.8\" font-family=\"Helvetica,sans-Serif\" font-size=\"14.00\">class = malignant</text>\r\n",
       "</g>\r\n",
       "<!-- 9&#45;&gt;11 -->\r\n",
       "<g id=\"edge11\" class=\"edge\"><title>9&#45;&gt;11</title>\r\n",
       "<path fill=\"none\" stroke=\"black\" d=\"M647.46,-103.726C656.714,-94.5142 666.536,-84.7364 675.781,-75.5343\"/>\r\n",
       "<polygon fill=\"black\" stroke=\"black\" points=\"678.43,-77.8351 683.048,-68.2996 673.492,-72.8741 678.43,-77.8351\"/>\r\n",
       "</g>\r\n",
       "<!-- 13 -->\r\n",
       "<g id=\"node14\" class=\"node\"><title>13</title>\r\n",
       "<path fill=\"#e58139\" fill-opacity=\"0.666667\" stroke=\"black\" d=\"M910,-68C910,-68 809,-68 809,-68 803,-68 797,-62 797,-56 797,-56 797,-12 797,-12 797,-6 803,-0 809,-0 809,-0 910,-0 910,-0 916,-0 922,-6 922,-12 922,-12 922,-56 922,-56 922,-62 916,-68 910,-68\"/>\r\n",
       "<text text-anchor=\"start\" x=\"822\" y=\"-52.8\" font-family=\"Helvetica,sans-Serif\" font-size=\"14.00\">gini = 0.375</text>\r\n",
       "<text text-anchor=\"start\" x=\"820\" y=\"-37.8\" font-family=\"Helvetica,sans-Serif\" font-size=\"14.00\">samples = 4</text>\r\n",
       "<text text-anchor=\"start\" x=\"819\" y=\"-22.8\" font-family=\"Helvetica,sans-Serif\" font-size=\"14.00\">value = [3, 1]</text>\r\n",
       "<text text-anchor=\"start\" x=\"805\" y=\"-7.8\" font-family=\"Helvetica,sans-Serif\" font-size=\"14.00\">class = malignant</text>\r\n",
       "</g>\r\n",
       "<!-- 12&#45;&gt;13 -->\r\n",
       "<g id=\"edge13\" class=\"edge\"><title>12&#45;&gt;13</title>\r\n",
       "<path fill=\"none\" stroke=\"black\" d=\"M859.5,-103.726C859.5,-95.5175 859.5,-86.8595 859.5,-78.56\"/>\r\n",
       "<polygon fill=\"black\" stroke=\"black\" points=\"863,-78.2996 859.5,-68.2996 856,-78.2996 863,-78.2996\"/>\r\n",
       "</g>\r\n",
       "<!-- 14 -->\r\n",
       "<g id=\"node15\" class=\"node\"><title>14</title>\r\n",
       "<path fill=\"#e58139\" stroke=\"black\" d=\"M1053,-68C1053,-68 952,-68 952,-68 946,-68 940,-62 940,-56 940,-56 940,-12 940,-12 940,-6 946,-0 952,-0 952,-0 1053,-0 1053,-0 1059,-0 1065,-6 1065,-12 1065,-12 1065,-56 1065,-56 1065,-62 1059,-68 1053,-68\"/>\r\n",
       "<text text-anchor=\"start\" x=\"973.5\" y=\"-52.8\" font-family=\"Helvetica,sans-Serif\" font-size=\"14.00\">gini = 0.0</text>\r\n",
       "<text text-anchor=\"start\" x=\"955\" y=\"-37.8\" font-family=\"Helvetica,sans-Serif\" font-size=\"14.00\">samples = 130</text>\r\n",
       "<text text-anchor=\"start\" x=\"954\" y=\"-22.8\" font-family=\"Helvetica,sans-Serif\" font-size=\"14.00\">value = [130, 0]</text>\r\n",
       "<text text-anchor=\"start\" x=\"948\" y=\"-7.8\" font-family=\"Helvetica,sans-Serif\" font-size=\"14.00\">class = malignant</text>\r\n",
       "</g>\r\n",
       "<!-- 12&#45;&gt;14 -->\r\n",
       "<g id=\"edge14\" class=\"edge\"><title>12&#45;&gt;14</title>\r\n",
       "<path fill=\"none\" stroke=\"black\" d=\"M912.748,-103.726C925.255,-94.1494 938.56,-83.9611 950.989,-74.4438\"/>\r\n",
       "<polygon fill=\"black\" stroke=\"black\" points=\"953.201,-77.1582 959.013,-68.2996 948.945,-71.6004 953.201,-77.1582\"/>\r\n",
       "</g>\r\n",
       "</g>\r\n",
       "</svg>\r\n"
      ],
      "text/plain": [
       "<graphviz.files.Source at 0x53cf3b0>"
      ]
     },
     "execution_count": 113,
     "metadata": {},
     "output_type": "execute_result"
    }
   ],
   "source": [
    "import graphviz\n",
    "\n",
    "# export the dot data file into a variable\n",
    "dot_data = tree.export_graphviz(classifier, out_file=None,\n",
    "                                feature_names=wine.feature_names,  \n",
    "                                class_names=wine.target_names,  \n",
    "                                filled=True, rounded=True,  \n",
    "                                special_characters=True) \n",
    "\n",
    "# create the graph\n",
    "graph = graphviz.Source(dot_data) \n",
    "\n",
    "# and display the graph\n",
    "graph"
   ]
  },
  {
   "cell_type": "markdown",
   "metadata": {},
   "source": [
    "#### Impurity"
   ]
  },
  {
   "cell_type": "markdown",
   "metadata": {},
   "source": [
    "Another parameter that can be used to control the tree growth is the decrease in impurity. In the examples above, we have used gini index to measure the impurity. Say we set a limit on this to 0.1. So, any further division would not be allowed if the gini index does not go down by 0.1. This can also be used to greatly limit the tree size."
   ]
  },
  {
   "cell_type": "markdown",
   "metadata": {},
   "source": [
    "<img src=\"./pics/minimum-impurity-decrease.png\"/>"
   ]
  },
  {
   "cell_type": "code",
   "execution_count": 9,
   "metadata": {},
   "outputs": [],
   "source": [
    "from sklearn.model_selection import train_test_split\n",
    "from sklearn import tree\n",
    "\n",
    "test_score     = []\n",
    "train_score = []\n",
    "\n",
    "for i in range(1,100) :\n",
    "    X_train, X_test, y_train, y_test = train_test_split (dataset.data, dataset.target)\n",
    "\n",
    "    classifier = tree.DecisionTreeClassifier(min_impurity_decrease = 0.1)\n",
    "    model      = classifier.fit(X_train, y_train)\n",
    "    \n",
    "    test_score.append(model.score(X_test,y_test))\n",
    "    train_score.append(model.score(X_train,y_train))"
   ]
  },
  {
   "cell_type": "code",
   "execution_count": 11,
   "metadata": {},
   "outputs": [],
   "source": [
    "X_train, X_test, y_train, y_test = train_test_split (dataset.data, dataset.target)\n",
    "\n",
    "classifier = tree.DecisionTreeClassifier(min_impurity_decrease = 0.1)\n",
    "model      = classifier.fit(X_train, y_train)"
   ]
  },
  {
   "cell_type": "code",
   "execution_count": 12,
   "metadata": {},
   "outputs": [
    {
     "data": {
      "image/svg+xml": [
       "<?xml version=\"1.0\" encoding=\"UTF-8\" standalone=\"no\"?>\r\n",
       "<!DOCTYPE svg PUBLIC \"-//W3C//DTD SVG 1.1//EN\"\r\n",
       " \"http://www.w3.org/Graphics/SVG/1.1/DTD/svg11.dtd\">\r\n",
       "<!-- Generated by graphviz version 2.38.0 (20140413.2041)\r\n",
       " -->\r\n",
       "<!-- Title: Tree Pages: 1 -->\r\n",
       "<svg width=\"358pt\" height=\"314pt\"\r\n",
       " viewBox=\"0.00 0.00 358.00 314.00\" xmlns=\"http://www.w3.org/2000/svg\" xmlns:xlink=\"http://www.w3.org/1999/xlink\">\r\n",
       "<g id=\"graph0\" class=\"graph\" transform=\"scale(1 1) rotate(0) translate(4 310)\">\r\n",
       "<title>Tree</title>\r\n",
       "<polygon fill=\"white\" stroke=\"none\" points=\"-4,4 -4,-310 354,-310 354,4 -4,4\"/>\r\n",
       "<!-- 0 -->\r\n",
       "<g id=\"node1\" class=\"node\"><title>0</title>\r\n",
       "<path fill=\"#39e581\" fill-opacity=\"0.011765\" stroke=\"black\" d=\"M207,-306C207,-306 72,-306 72,-306 66,-306 60,-300 60,-294 60,-294 60,-235 60,-235 60,-229 66,-223 72,-223 72,-223 207,-223 207,-223 213,-223 219,-229 219,-235 219,-235 219,-294 219,-294 219,-300 213,-306 207,-306\"/>\r\n",
       "<text text-anchor=\"start\" x=\"68\" y=\"-290.8\" font-family=\"Helvetica,sans-Serif\" font-size=\"14.00\">petal width (cm) ≤ 0.75</text>\r\n",
       "<text text-anchor=\"start\" x=\"102\" y=\"-275.8\" font-family=\"Helvetica,sans-Serif\" font-size=\"14.00\">gini = 0.664</text>\r\n",
       "<text text-anchor=\"start\" x=\"92\" y=\"-260.8\" font-family=\"Helvetica,sans-Serif\" font-size=\"14.00\">samples = 112</text>\r\n",
       "<text text-anchor=\"start\" x=\"79\" y=\"-245.8\" font-family=\"Helvetica,sans-Serif\" font-size=\"14.00\">value = [39, 40, 33]</text>\r\n",
       "<text text-anchor=\"start\" x=\"84\" y=\"-230.8\" font-family=\"Helvetica,sans-Serif\" font-size=\"14.00\">class = versicolor</text>\r\n",
       "</g>\r\n",
       "<!-- 1 -->\r\n",
       "<g id=\"node2\" class=\"node\"><title>1</title>\r\n",
       "<path fill=\"#e58139\" stroke=\"black\" d=\"M109,-179.5C109,-179.5 12,-179.5 12,-179.5 6,-179.5 0,-173.5 0,-167.5 0,-167.5 0,-123.5 0,-123.5 0,-117.5 6,-111.5 12,-111.5 12,-111.5 109,-111.5 109,-111.5 115,-111.5 121,-117.5 121,-123.5 121,-123.5 121,-167.5 121,-167.5 121,-173.5 115,-179.5 109,-179.5\"/>\r\n",
       "<text text-anchor=\"start\" x=\"31.5\" y=\"-164.3\" font-family=\"Helvetica,sans-Serif\" font-size=\"14.00\">gini = 0.0</text>\r\n",
       "<text text-anchor=\"start\" x=\"17\" y=\"-149.3\" font-family=\"Helvetica,sans-Serif\" font-size=\"14.00\">samples = 39</text>\r\n",
       "<text text-anchor=\"start\" x=\"8\" y=\"-134.3\" font-family=\"Helvetica,sans-Serif\" font-size=\"14.00\">value = [39, 0, 0]</text>\r\n",
       "<text text-anchor=\"start\" x=\"14.5\" y=\"-119.3\" font-family=\"Helvetica,sans-Serif\" font-size=\"14.00\">class = setosa</text>\r\n",
       "</g>\r\n",
       "<!-- 0&#45;&gt;1 -->\r\n",
       "<g id=\"edge1\" class=\"edge\"><title>0&#45;&gt;1</title>\r\n",
       "<path fill=\"none\" stroke=\"black\" d=\"M112.091,-222.907C104.492,-211.652 96.2312,-199.418 88.5931,-188.106\"/>\r\n",
       "<polygon fill=\"black\" stroke=\"black\" points=\"91.3914,-185.996 82.8948,-179.667 85.5901,-189.913 91.3914,-185.996\"/>\r\n",
       "<text text-anchor=\"middle\" x=\"78.1364\" y=\"-200.51\" font-family=\"Helvetica,sans-Serif\" font-size=\"14.00\">True</text>\r\n",
       "</g>\r\n",
       "<!-- 2 -->\r\n",
       "<g id=\"node3\" class=\"node\"><title>2</title>\r\n",
       "<path fill=\"#39e581\" fill-opacity=\"0.176471\" stroke=\"black\" d=\"M286,-187C286,-187 151,-187 151,-187 145,-187 139,-181 139,-175 139,-175 139,-116 139,-116 139,-110 145,-104 151,-104 151,-104 286,-104 286,-104 292,-104 298,-110 298,-116 298,-116 298,-175 298,-175 298,-181 292,-187 286,-187\"/>\r\n",
       "<text text-anchor=\"start\" x=\"147\" y=\"-171.8\" font-family=\"Helvetica,sans-Serif\" font-size=\"14.00\">petal width (cm) ≤ 1.75</text>\r\n",
       "<text text-anchor=\"start\" x=\"181\" y=\"-156.8\" font-family=\"Helvetica,sans-Serif\" font-size=\"14.00\">gini = 0.495</text>\r\n",
       "<text text-anchor=\"start\" x=\"175\" y=\"-141.8\" font-family=\"Helvetica,sans-Serif\" font-size=\"14.00\">samples = 73</text>\r\n",
       "<text text-anchor=\"start\" x=\"162\" y=\"-126.8\" font-family=\"Helvetica,sans-Serif\" font-size=\"14.00\">value = [0, 40, 33]</text>\r\n",
       "<text text-anchor=\"start\" x=\"163\" y=\"-111.8\" font-family=\"Helvetica,sans-Serif\" font-size=\"14.00\">class = versicolor</text>\r\n",
       "</g>\r\n",
       "<!-- 0&#45;&gt;2 -->\r\n",
       "<g id=\"edge2\" class=\"edge\"><title>0&#45;&gt;2</title>\r\n",
       "<path fill=\"none\" stroke=\"black\" d=\"M166.909,-222.907C172.914,-214.014 179.331,-204.509 185.529,-195.331\"/>\r\n",
       "<polygon fill=\"black\" stroke=\"black\" points=\"188.444,-197.267 191.14,-187.021 182.643,-193.35 188.444,-197.267\"/>\r\n",
       "<text text-anchor=\"middle\" x=\"195.898\" y=\"-207.864\" font-family=\"Helvetica,sans-Serif\" font-size=\"14.00\">False</text>\r\n",
       "</g>\r\n",
       "<!-- 3 -->\r\n",
       "<g id=\"node4\" class=\"node\"><title>3</title>\r\n",
       "<path fill=\"#39e581\" fill-opacity=\"0.921569\" stroke=\"black\" d=\"M199,-68C199,-68 96,-68 96,-68 90,-68 84,-62 84,-56 84,-56 84,-12 84,-12 84,-6 90,-0 96,-0 96,-0 199,-0 199,-0 205,-0 211,-6 211,-12 211,-12 211,-56 211,-56 211,-62 205,-68 199,-68\"/>\r\n",
       "<text text-anchor=\"start\" x=\"110\" y=\"-52.8\" font-family=\"Helvetica,sans-Serif\" font-size=\"14.00\">gini = 0.133</text>\r\n",
       "<text text-anchor=\"start\" x=\"104\" y=\"-37.8\" font-family=\"Helvetica,sans-Serif\" font-size=\"14.00\">samples = 42</text>\r\n",
       "<text text-anchor=\"start\" x=\"95\" y=\"-22.8\" font-family=\"Helvetica,sans-Serif\" font-size=\"14.00\">value = [0, 39, 3]</text>\r\n",
       "<text text-anchor=\"start\" x=\"92\" y=\"-7.8\" font-family=\"Helvetica,sans-Serif\" font-size=\"14.00\">class = versicolor</text>\r\n",
       "</g>\r\n",
       "<!-- 2&#45;&gt;3 -->\r\n",
       "<g id=\"edge3\" class=\"edge\"><title>2&#45;&gt;3</title>\r\n",
       "<path fill=\"none\" stroke=\"black\" d=\"M192.062,-103.726C186.385,-94.9703 180.376,-85.7032 174.671,-76.9051\"/>\r\n",
       "<polygon fill=\"black\" stroke=\"black\" points=\"177.469,-74.786 169.092,-68.2996 171.595,-78.5943 177.469,-74.786\"/>\r\n",
       "</g>\r\n",
       "<!-- 4 -->\r\n",
       "<g id=\"node5\" class=\"node\"><title>4</title>\r\n",
       "<path fill=\"#8139e5\" fill-opacity=\"0.964706\" stroke=\"black\" d=\"M338,-68C338,-68 241,-68 241,-68 235,-68 229,-62 229,-56 229,-56 229,-12 229,-12 229,-6 235,-0 241,-0 241,-0 338,-0 338,-0 344,-0 350,-6 350,-12 350,-12 350,-56 350,-56 350,-62 344,-68 338,-68\"/>\r\n",
       "<text text-anchor=\"start\" x=\"252\" y=\"-52.8\" font-family=\"Helvetica,sans-Serif\" font-size=\"14.00\">gini = 0.062</text>\r\n",
       "<text text-anchor=\"start\" x=\"246\" y=\"-37.8\" font-family=\"Helvetica,sans-Serif\" font-size=\"14.00\">samples = 31</text>\r\n",
       "<text text-anchor=\"start\" x=\"237\" y=\"-22.8\" font-family=\"Helvetica,sans-Serif\" font-size=\"14.00\">value = [0, 1, 30]</text>\r\n",
       "<text text-anchor=\"start\" x=\"239.5\" y=\"-7.8\" font-family=\"Helvetica,sans-Serif\" font-size=\"14.00\">class = virginica</text>\r\n",
       "</g>\r\n",
       "<!-- 2&#45;&gt;4 -->\r\n",
       "<g id=\"edge4\" class=\"edge\"><title>2&#45;&gt;4</title>\r\n",
       "<path fill=\"none\" stroke=\"black\" d=\"M244.938,-103.726C250.615,-94.9703 256.624,-85.7032 262.329,-76.9051\"/>\r\n",
       "<polygon fill=\"black\" stroke=\"black\" points=\"265.405,-78.5943 267.908,-68.2996 259.531,-74.786 265.405,-78.5943\"/>\r\n",
       "</g>\r\n",
       "</g>\r\n",
       "</svg>\r\n"
      ],
      "text/plain": [
       "<graphviz.files.Source at 0xe757730>"
      ]
     },
     "execution_count": 12,
     "metadata": {},
     "output_type": "execute_result"
    }
   ],
   "source": [
    "import graphviz\n",
    "\n",
    "# export the dot data file into a variable\n",
    "dot_data = tree.export_graphviz(classifier, out_file=None,\n",
    "                                feature_names=dataset.feature_names,  \n",
    "                                class_names=dataset.target_names,  \n",
    "                                filled=True, rounded=True,  \n",
    "                                special_characters=True) \n",
    "\n",
    "# create the graph\n",
    "graph = graphviz.Source(dot_data) \n",
    "\n",
    "# and display the graph\n",
    "graph"
   ]
  },
  {
   "cell_type": "markdown",
   "metadata": {},
   "source": [
    "<img src=\"./pics/decision-tree-impurity-decrease-cutoff.png\"/>"
   ]
  },
  {
   "cell_type": "code",
   "execution_count": 90,
   "metadata": {},
   "outputs": [
    {
     "data": {
      "text/plain": [
       "array([0.91304348, 0.91304348, 0.92920354, 0.94690265, 0.90265487])"
      ]
     },
     "execution_count": 90,
     "metadata": {},
     "output_type": "execute_result"
    }
   ],
   "source": [
    "from sklearn.model_selection import train_test_split\n",
    "from sklearn.model_selection import cross_val_score\n",
    "from sklearn import tree\n",
    "\n",
    "iris = datasets.load_breast_cancer()\n",
    "\n",
    "classifier = tree.DecisionTreeClassifier()\n",
    "scores = cross_val_score(classifier, iris.data, iris.target, cv=5)\n",
    "scores"
   ]
  },
  {
   "cell_type": "code",
   "execution_count": null,
   "metadata": {},
   "outputs": [],
   "source": [
    "classifier = tree.DecisionTreeClassifier(min_impurity_decrease = 0.1)"
   ]
  }
 ],
 "metadata": {
  "kernelspec": {
   "display_name": "Python 3",
   "language": "python",
   "name": "python3"
  },
  "language_info": {
   "codemirror_mode": {
    "name": "ipython",
    "version": 3
   },
   "file_extension": ".py",
   "mimetype": "text/x-python",
   "name": "python",
   "nbconvert_exporter": "python",
   "pygments_lexer": "ipython3",
   "version": "3.7.3"
  }
 },
 "nbformat": 4,
 "nbformat_minor": 2
}
