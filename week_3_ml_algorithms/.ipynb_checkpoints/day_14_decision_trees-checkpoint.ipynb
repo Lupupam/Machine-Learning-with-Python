{
 "cells": [
  {
   "cell_type": "markdown",
   "metadata": {},
   "source": [
    "Notebook is copyright &copy; of <a href=\"https://ajaytech.co\">Ajay Tech</a>"
   ]
  },
  {
   "cell_type": "markdown",
   "metadata": {},
   "source": [
    "# Decision Trees"
   ]
  },
  {
   "cell_type": "markdown",
   "metadata": {},
   "source": [
    "## Contents"
   ]
  },
  {
   "cell_type": "markdown",
   "metadata": {},
   "source": [
    "- What are Decision trees\n",
    "- Implementation\n",
    "- Visualization\n",
    "- Gini Index\n",
    "- Decision Trees for Regression\n",
    "- Overfitting\n",
    "  - Solution\n"
   ]
  },
  {
   "cell_type": "markdown",
   "metadata": {},
   "source": [
    "### What are Decision Trees"
   ]
  },
  {
   "cell_type": "markdown",
   "metadata": {},
   "source": [
    "Let me take you back to the number guessing game that we have played on day 1 of the course. It is a simple game where the computer chooses a random number between 1 and 100 and you have to guess the number. After each guess, the program helps you by telling if your guess is higher or lower than the chosen number. Say the number chosen is 60. Let's visualize this."
   ]
  },
  {
   "cell_type": "markdown",
   "metadata": {},
   "source": [
    "<img src=\"./pics/number-guessing-game-visual.png\"/>"
   ]
  },
  {
   "cell_type": "markdown",
   "metadata": {},
   "source": [
    "Basically, it is a series of decisions based on the clue you get from the program. For lack of a better intelligence, we just predict the middle number on either side ( higher or lower ). We can think of the same process using a decision tree."
   ]
  },
  {
   "cell_type": "markdown",
   "metadata": {},
   "source": [
    "<img src=\"./pics/decision-tree-guessing-game.png\"/>"
   ]
  },
  {
   "cell_type": "markdown",
   "metadata": {},
   "source": [
    "A decision tree is essentially a series of decisions that are based on the data you are working with. For example, if you are guessing a number between 1 and 1000, the decision tree would have been much bigger. In this case, the guesses (cuts in the number line) are exactly in the middle - for lack of a better guessing method. However, a real decision tree makes a much more informed decision. Once again, let me show this with a simple example. "
   ]
  },
  {
   "cell_type": "markdown",
   "metadata": {},
   "source": [
    "Take an apple that is rotten somewhere at the side. "
   ]
  },
  {
   "cell_type": "markdown",
   "metadata": {},
   "source": [
    "<img src=\"./pics/decision-tree-rotten-apple.png\"/>"
   ]
  },
  {
   "cell_type": "markdown",
   "metadata": {},
   "source": [
    "Our goal is to find a series of cuts that maximises the fresh apple portion (and minimizes the rotten portion) with the least possible cuts. How would you do it ?"
   ]
  },
  {
   "cell_type": "markdown",
   "metadata": {},
   "source": [
    "<img src=\"./pics/decision-trees-apple-cuts.png\"/>"
   ]
  },
  {
   "cell_type": "markdown",
   "metadata": {},
   "source": [
    "Something like this - The criteria you would be using to make the cuts is based on the maximum area(volume) that you can carve off that is not rotten. "
   ]
  },
  {
   "cell_type": "markdown",
   "metadata": {},
   "source": [
    "Decision trees also work the same way. For example, let's take the iris dataset. To make things simple, let's just focus on \n",
    "- setosa and versicolor\n",
    "- sepal length and sepal width."
   ]
  },
  {
   "cell_type": "markdown",
   "metadata": {},
   "source": [
    "<img src=\"./pics/iris-setosa-versicolor.png\"/>"
   ]
  },
  {
   "cell_type": "markdown",
   "metadata": {},
   "source": [
    "If you are asked to carve out one species from another using just horizontal and vertical lines, how would you do it ? It's not an easy job to do it efficiently. Probably, we would do it something like this. \n"
   ]
  },
  {
   "cell_type": "markdown",
   "metadata": {},
   "source": [
    "<img src=\"./pics/iris-manual-decision-tree.png\"/>"
   ]
  },
  {
   "cell_type": "markdown",
   "metadata": {},
   "source": [
    "What were we basing our decisions (cut-off points) on ? Visually, we were essentially eye-balling to minimize the mix of species(or maximize the grouping of a single species) in such a way that more of a specific species fell on one side than the other. "
   ]
  },
  {
   "cell_type": "markdown",
   "metadata": {},
   "source": [
    "Decision tree algorithms do just this - except that they use a bit of math to do the same. Scikit learn provides two cost functions for this\n",
    "- Gini Index ( default )\n",
    "- Entropy\n",
    "\n",
    "We will start with the basic implementation and then we will focus on understand Gini Index in a bit more detail."
   ]
  },
  {
   "cell_type": "markdown",
   "metadata": {},
   "source": [
    "### Implementation"
   ]
  },
  {
   "cell_type": "code",
   "execution_count": 1,
   "metadata": {},
   "outputs": [],
   "source": [
    "from sklearn import datasets\n",
    "\n",
    "iris        = datasets.load_iris()\n",
    "iris_sepal_data   = iris.data[0:100,0:2]\n",
    "iris_sepal_target = iris.target[0:100]"
   ]
  },
  {
   "cell_type": "code",
   "execution_count": 2,
   "metadata": {},
   "outputs": [],
   "source": [
    "from sklearn import tree\n",
    "\n",
    "classifier = tree.DecisionTreeClassifier()\n",
    "model      = classifier.fit(iris_sepal_data, iris_sepal_target)"
   ]
  },
  {
   "cell_type": "code",
   "execution_count": 3,
   "metadata": {},
   "outputs": [],
   "source": [
    "y_predict = model.predict(iris_sepal_data)"
   ]
  },
  {
   "cell_type": "code",
   "execution_count": 4,
   "metadata": {},
   "outputs": [
    {
     "name": "stdout",
     "output_type": "stream",
     "text": [
      "confusion matrix = \n",
      " [[50  0]\n",
      " [ 0 50]]\n",
      "accuracy score =  1.0\n"
     ]
    }
   ],
   "source": [
    "from sklearn.metrics import confusion_matrix\n",
    "from sklearn.metrics import accuracy_score\n",
    "\n",
    "print ( \"confusion matrix = \\n\" , confusion_matrix(iris_sepal_target, y_predict) )\n",
    "print ( \"accuracy score = \",accuracy_score(iris_sepal_target,y_predict) )"
   ]
  },
  {
   "cell_type": "markdown",
   "metadata": {},
   "source": [
    "### Visualization"
   ]
  },
  {
   "cell_type": "markdown",
   "metadata": {},
   "source": [
    "One of the biggest advantages of Decision Trees is that the whole process is very intuitive to humans. It is more or less like a white-box ( as opposed to other methods like Neural Nets that are like blackboxes - We just can't make sense of the weights and layers ).  A useful method to understand Decision Trees is to visualize them. To do that, we have to install the graphviz package. Let's do that first."
   ]
  },
  {
   "cell_type": "markdown",
   "metadata": {},
   "source": [
    "Install <a href=\"https://graphviz.gitlab.io/download/\">graphviz package on your Windows or Mac Machine </a> and add it to the path if necessary. Here are the links to download the software.\n",
    "\n",
    "- <a href=\"https://graphviz.gitlab.io/_pages/Download/Download_windows.html\">Graphviz on Windows</a>\n",
    "- <a href=\"https://formulae.brew.sh/formula/graphviz#default\"> Graphviz on Mac using Homebrew </a>"
   ]
  },
  {
   "cell_type": "code",
   "execution_count": 80,
   "metadata": {},
   "outputs": [
    {
     "data": {
      "image/svg+xml": [
       "<?xml version=\"1.0\" encoding=\"UTF-8\" standalone=\"no\"?>\r\n",
       "<!DOCTYPE svg PUBLIC \"-//W3C//DTD SVG 1.1//EN\"\r\n",
       " \"http://www.w3.org/Graphics/SVG/1.1/DTD/svg11.dtd\">\r\n",
       "<!-- Generated by graphviz version 2.38.0 (20140413.2041)\r\n",
       " -->\r\n",
       "<!-- Title: Tree Pages: 1 -->\r\n",
       "<svg width=\"633pt\" height=\"433pt\"\r\n",
       " viewBox=\"0.00 0.00 633.00 433.00\" xmlns=\"http://www.w3.org/2000/svg\" xmlns:xlink=\"http://www.w3.org/1999/xlink\">\r\n",
       "<g id=\"graph0\" class=\"graph\" transform=\"scale(1 1) rotate(0) translate(4 429)\">\r\n",
       "<title>Tree</title>\r\n",
       "<polygon fill=\"white\" stroke=\"none\" points=\"-4,4 -4,-429 629,-429 629,4 -4,4\"/>\r\n",
       "<!-- 0 -->\r\n",
       "<g id=\"node1\" class=\"node\"><title>0</title>\r\n",
       "<path fill=\"#399de5\" fill-opacity=\"0.078431\" stroke=\"black\" d=\"M428.5,-425C428.5,-425 283.5,-425 283.5,-425 277.5,-425 271.5,-419 271.5,-413 271.5,-413 271.5,-354 271.5,-354 271.5,-348 277.5,-342 283.5,-342 283.5,-342 428.5,-342 428.5,-342 434.5,-342 440.5,-348 440.5,-354 440.5,-354 440.5,-413 440.5,-413 440.5,-419 434.5,-425 428.5,-425\"/>\r\n",
       "<text text-anchor=\"start\" x=\"279.5\" y=\"-409.8\" font-family=\"Helvetica,sans-Serif\" font-size=\"14.00\">sepal length (cm) ≤ 5.45</text>\r\n",
       "<text text-anchor=\"start\" x=\"318.5\" y=\"-394.8\" font-family=\"Helvetica,sans-Serif\" font-size=\"14.00\">gini = 0.499</text>\r\n",
       "<text text-anchor=\"start\" x=\"312.5\" y=\"-379.8\" font-family=\"Helvetica,sans-Serif\" font-size=\"14.00\">samples = 75</text>\r\n",
       "<text text-anchor=\"start\" x=\"307.5\" y=\"-364.8\" font-family=\"Helvetica,sans-Serif\" font-size=\"14.00\">value = [36, 39]</text>\r\n",
       "<text text-anchor=\"start\" x=\"300.5\" y=\"-349.8\" font-family=\"Helvetica,sans-Serif\" font-size=\"14.00\">class = versicolor</text>\r\n",
       "</g>\r\n",
       "<!-- 1 -->\r\n",
       "<g id=\"node2\" class=\"node\"><title>1</title>\r\n",
       "<path fill=\"#e58139\" fill-opacity=\"0.913725\" stroke=\"black\" d=\"M333.5,-306C333.5,-306 202.5,-306 202.5,-306 196.5,-306 190.5,-300 190.5,-294 190.5,-294 190.5,-235 190.5,-235 190.5,-229 196.5,-223 202.5,-223 202.5,-223 333.5,-223 333.5,-223 339.5,-223 345.5,-229 345.5,-235 345.5,-235 345.5,-294 345.5,-294 345.5,-300 339.5,-306 333.5,-306\"/>\r\n",
       "<text text-anchor=\"start\" x=\"198.5\" y=\"-290.8\" font-family=\"Helvetica,sans-Serif\" font-size=\"14.00\">sepal width (cm) ≤ 2.8</text>\r\n",
       "<text text-anchor=\"start\" x=\"230.5\" y=\"-275.8\" font-family=\"Helvetica,sans-Serif\" font-size=\"14.00\">gini = 0.149</text>\r\n",
       "<text text-anchor=\"start\" x=\"224.5\" y=\"-260.8\" font-family=\"Helvetica,sans-Serif\" font-size=\"14.00\">samples = 37</text>\r\n",
       "<text text-anchor=\"start\" x=\"223.5\" y=\"-245.8\" font-family=\"Helvetica,sans-Serif\" font-size=\"14.00\">value = [34, 3]</text>\r\n",
       "<text text-anchor=\"start\" x=\"222\" y=\"-230.8\" font-family=\"Helvetica,sans-Serif\" font-size=\"14.00\">class = setosa</text>\r\n",
       "</g>\r\n",
       "<!-- 0&#45;&gt;1 -->\r\n",
       "<g id=\"edge1\" class=\"edge\"><title>0&#45;&gt;1</title>\r\n",
       "<path fill=\"none\" stroke=\"black\" d=\"M325.469,-341.907C318.711,-332.923 311.485,-323.315 304.516,-314.05\"/>\r\n",
       "<polygon fill=\"black\" stroke=\"black\" points=\"307.285,-311.909 298.477,-306.021 301.691,-316.116 307.285,-311.909\"/>\r\n",
       "<text text-anchor=\"middle\" x=\"294.975\" y=\"-327.074\" font-family=\"Helvetica,sans-Serif\" font-size=\"14.00\">True</text>\r\n",
       "</g>\r\n",
       "<!-- 6 -->\r\n",
       "<g id=\"node7\" class=\"node\"><title>6</title>\r\n",
       "<path fill=\"#399de5\" fill-opacity=\"0.945098\" stroke=\"black\" d=\"M514.5,-306C514.5,-306 375.5,-306 375.5,-306 369.5,-306 363.5,-300 363.5,-294 363.5,-294 363.5,-235 363.5,-235 363.5,-229 369.5,-223 375.5,-223 375.5,-223 514.5,-223 514.5,-223 520.5,-223 526.5,-229 526.5,-235 526.5,-235 526.5,-294 526.5,-294 526.5,-300 520.5,-306 514.5,-306\"/>\r\n",
       "<text text-anchor=\"start\" x=\"371.5\" y=\"-290.8\" font-family=\"Helvetica,sans-Serif\" font-size=\"14.00\">sepal width (cm) ≤ 3.45</text>\r\n",
       "<text text-anchor=\"start\" x=\"416\" y=\"-275.8\" font-family=\"Helvetica,sans-Serif\" font-size=\"14.00\">gini = 0.1</text>\r\n",
       "<text text-anchor=\"start\" x=\"401.5\" y=\"-260.8\" font-family=\"Helvetica,sans-Serif\" font-size=\"14.00\">samples = 38</text>\r\n",
       "<text text-anchor=\"start\" x=\"400.5\" y=\"-245.8\" font-family=\"Helvetica,sans-Serif\" font-size=\"14.00\">value = [2, 36]</text>\r\n",
       "<text text-anchor=\"start\" x=\"389.5\" y=\"-230.8\" font-family=\"Helvetica,sans-Serif\" font-size=\"14.00\">class = versicolor</text>\r\n",
       "</g>\r\n",
       "<!-- 0&#45;&gt;6 -->\r\n",
       "<g id=\"edge6\" class=\"edge\"><title>0&#45;&gt;6</title>\r\n",
       "<path fill=\"none\" stroke=\"black\" d=\"M386.878,-341.907C393.712,-332.923 401.021,-323.315 408.069,-314.05\"/>\r\n",
       "<polygon fill=\"black\" stroke=\"black\" points=\"410.908,-316.099 414.176,-306.021 405.336,-311.861 410.908,-316.099\"/>\r\n",
       "<text text-anchor=\"middle\" x=\"417.544\" y=\"-327.093\" font-family=\"Helvetica,sans-Serif\" font-size=\"14.00\">False</text>\r\n",
       "</g>\r\n",
       "<!-- 2 -->\r\n",
       "<g id=\"node3\" class=\"node\"><title>2</title>\r\n",
       "<path fill=\"#399de5\" fill-opacity=\"0.666667\" stroke=\"black\" d=\"M194.5,-187C194.5,-187 49.5,-187 49.5,-187 43.5,-187 37.5,-181 37.5,-175 37.5,-175 37.5,-116 37.5,-116 37.5,-110 43.5,-104 49.5,-104 49.5,-104 194.5,-104 194.5,-104 200.5,-104 206.5,-110 206.5,-116 206.5,-116 206.5,-175 206.5,-175 206.5,-181 200.5,-187 194.5,-187\"/>\r\n",
       "<text text-anchor=\"start\" x=\"45.5\" y=\"-171.8\" font-family=\"Helvetica,sans-Serif\" font-size=\"14.00\">sepal length (cm) ≤ 4.75</text>\r\n",
       "<text text-anchor=\"start\" x=\"84.5\" y=\"-156.8\" font-family=\"Helvetica,sans-Serif\" font-size=\"14.00\">gini = 0.375</text>\r\n",
       "<text text-anchor=\"start\" x=\"82.5\" y=\"-141.8\" font-family=\"Helvetica,sans-Serif\" font-size=\"14.00\">samples = 4</text>\r\n",
       "<text text-anchor=\"start\" x=\"81.5\" y=\"-126.8\" font-family=\"Helvetica,sans-Serif\" font-size=\"14.00\">value = [1, 3]</text>\r\n",
       "<text text-anchor=\"start\" x=\"66.5\" y=\"-111.8\" font-family=\"Helvetica,sans-Serif\" font-size=\"14.00\">class = versicolor</text>\r\n",
       "</g>\r\n",
       "<!-- 1&#45;&gt;2 -->\r\n",
       "<g id=\"edge2\" class=\"edge\"><title>1&#45;&gt;2</title>\r\n",
       "<path fill=\"none\" stroke=\"black\" d=\"M217.346,-222.907C205.455,-213.379 192.689,-203.148 180.487,-193.37\"/>\r\n",
       "<polygon fill=\"black\" stroke=\"black\" points=\"182.557,-190.543 172.564,-187.021 178.179,-196.006 182.557,-190.543\"/>\r\n",
       "</g>\r\n",
       "<!-- 5 -->\r\n",
       "<g id=\"node6\" class=\"node\"><title>5</title>\r\n",
       "<path fill=\"#e58139\" stroke=\"black\" d=\"M321,-179.5C321,-179.5 237,-179.5 237,-179.5 231,-179.5 225,-173.5 225,-167.5 225,-167.5 225,-123.5 225,-123.5 225,-117.5 231,-111.5 237,-111.5 237,-111.5 321,-111.5 321,-111.5 327,-111.5 333,-117.5 333,-123.5 333,-123.5 333,-167.5 333,-167.5 333,-173.5 327,-179.5 321,-179.5\"/>\r\n",
       "<text text-anchor=\"start\" x=\"250\" y=\"-164.3\" font-family=\"Helvetica,sans-Serif\" font-size=\"14.00\">gini = 0.0</text>\r\n",
       "<text text-anchor=\"start\" x=\"235.5\" y=\"-149.3\" font-family=\"Helvetica,sans-Serif\" font-size=\"14.00\">samples = 33</text>\r\n",
       "<text text-anchor=\"start\" x=\"234.5\" y=\"-134.3\" font-family=\"Helvetica,sans-Serif\" font-size=\"14.00\">value = [33, 0]</text>\r\n",
       "<text text-anchor=\"start\" x=\"233\" y=\"-119.3\" font-family=\"Helvetica,sans-Serif\" font-size=\"14.00\">class = setosa</text>\r\n",
       "</g>\r\n",
       "<!-- 1&#45;&gt;5 -->\r\n",
       "<g id=\"edge5\" class=\"edge\"><title>1&#45;&gt;5</title>\r\n",
       "<path fill=\"none\" stroke=\"black\" d=\"M271.816,-222.907C272.823,-212.204 273.912,-200.615 274.931,-189.776\"/>\r\n",
       "<polygon fill=\"black\" stroke=\"black\" points=\"278.43,-189.951 275.882,-179.667 271.461,-189.295 278.43,-189.951\"/>\r\n",
       "</g>\r\n",
       "<!-- 3 -->\r\n",
       "<g id=\"node4\" class=\"node\"><title>3</title>\r\n",
       "<path fill=\"#e58139\" stroke=\"black\" d=\"M96,-68C96,-68 12,-68 12,-68 6,-68 0,-62 0,-56 0,-56 0,-12 0,-12 0,-6 6,-0 12,-0 12,-0 96,-0 96,-0 102,-0 108,-6 108,-12 108,-12 108,-56 108,-56 108,-62 102,-68 96,-68\"/>\r\n",
       "<text text-anchor=\"start\" x=\"25\" y=\"-52.8\" font-family=\"Helvetica,sans-Serif\" font-size=\"14.00\">gini = 0.0</text>\r\n",
       "<text text-anchor=\"start\" x=\"14.5\" y=\"-37.8\" font-family=\"Helvetica,sans-Serif\" font-size=\"14.00\">samples = 1</text>\r\n",
       "<text text-anchor=\"start\" x=\"13.5\" y=\"-22.8\" font-family=\"Helvetica,sans-Serif\" font-size=\"14.00\">value = [1, 0]</text>\r\n",
       "<text text-anchor=\"start\" x=\"8\" y=\"-7.8\" font-family=\"Helvetica,sans-Serif\" font-size=\"14.00\">class = setosa</text>\r\n",
       "</g>\r\n",
       "<!-- 2&#45;&gt;3 -->\r\n",
       "<g id=\"edge3\" class=\"edge\"><title>2&#45;&gt;3</title>\r\n",
       "<path fill=\"none\" stroke=\"black\" d=\"M96.6793,-103.726C91.2418,-94.9703 85.4869,-85.7032 80.0232,-76.9051\"/>\r\n",
       "<polygon fill=\"black\" stroke=\"black\" points=\"82.9281,-74.9484 74.6792,-68.2996 76.9815,-78.6413 82.9281,-74.9484\"/>\r\n",
       "</g>\r\n",
       "<!-- 4 -->\r\n",
       "<g id=\"node5\" class=\"node\"><title>4</title>\r\n",
       "<path fill=\"#399de5\" stroke=\"black\" d=\"M241.5,-68C241.5,-68 138.5,-68 138.5,-68 132.5,-68 126.5,-62 126.5,-56 126.5,-56 126.5,-12 126.5,-12 126.5,-6 132.5,-0 138.5,-0 138.5,-0 241.5,-0 241.5,-0 247.5,-0 253.5,-6 253.5,-12 253.5,-12 253.5,-56 253.5,-56 253.5,-62 247.5,-68 241.5,-68\"/>\r\n",
       "<text text-anchor=\"start\" x=\"161\" y=\"-52.8\" font-family=\"Helvetica,sans-Serif\" font-size=\"14.00\">gini = 0.0</text>\r\n",
       "<text text-anchor=\"start\" x=\"150.5\" y=\"-37.8\" font-family=\"Helvetica,sans-Serif\" font-size=\"14.00\">samples = 3</text>\r\n",
       "<text text-anchor=\"start\" x=\"149.5\" y=\"-22.8\" font-family=\"Helvetica,sans-Serif\" font-size=\"14.00\">value = [0, 3]</text>\r\n",
       "<text text-anchor=\"start\" x=\"134.5\" y=\"-7.8\" font-family=\"Helvetica,sans-Serif\" font-size=\"14.00\">class = versicolor</text>\r\n",
       "</g>\r\n",
       "<!-- 2&#45;&gt;4 -->\r\n",
       "<g id=\"edge4\" class=\"edge\"><title>2&#45;&gt;4</title>\r\n",
       "<path fill=\"none\" stroke=\"black\" d=\"M147.321,-103.726C152.758,-94.9703 158.513,-85.7032 163.977,-76.9051\"/>\r\n",
       "<polygon fill=\"black\" stroke=\"black\" points=\"167.019,-78.6413 169.321,-68.2996 161.072,-74.9484 167.019,-78.6413\"/>\r\n",
       "</g>\r\n",
       "<!-- 7 -->\r\n",
       "<g id=\"node8\" class=\"node\"><title>7</title>\r\n",
       "<path fill=\"#399de5\" stroke=\"black\" d=\"M486.5,-179.5C486.5,-179.5 383.5,-179.5 383.5,-179.5 377.5,-179.5 371.5,-173.5 371.5,-167.5 371.5,-167.5 371.5,-123.5 371.5,-123.5 371.5,-117.5 377.5,-111.5 383.5,-111.5 383.5,-111.5 486.5,-111.5 486.5,-111.5 492.5,-111.5 498.5,-117.5 498.5,-123.5 498.5,-123.5 498.5,-167.5 498.5,-167.5 498.5,-173.5 492.5,-179.5 486.5,-179.5\"/>\r\n",
       "<text text-anchor=\"start\" x=\"406\" y=\"-164.3\" font-family=\"Helvetica,sans-Serif\" font-size=\"14.00\">gini = 0.0</text>\r\n",
       "<text text-anchor=\"start\" x=\"391.5\" y=\"-149.3\" font-family=\"Helvetica,sans-Serif\" font-size=\"14.00\">samples = 36</text>\r\n",
       "<text text-anchor=\"start\" x=\"390.5\" y=\"-134.3\" font-family=\"Helvetica,sans-Serif\" font-size=\"14.00\">value = [0, 36]</text>\r\n",
       "<text text-anchor=\"start\" x=\"379.5\" y=\"-119.3\" font-family=\"Helvetica,sans-Serif\" font-size=\"14.00\">class = versicolor</text>\r\n",
       "</g>\r\n",
       "<!-- 6&#45;&gt;7 -->\r\n",
       "<g id=\"edge7\" class=\"edge\"><title>6&#45;&gt;7</title>\r\n",
       "<path fill=\"none\" stroke=\"black\" d=\"M441.531,-222.907C440.616,-212.204 439.625,-200.615 438.699,-189.776\"/>\r\n",
       "<polygon fill=\"black\" stroke=\"black\" points=\"442.174,-189.333 437.835,-179.667 435.199,-189.929 442.174,-189.333\"/>\r\n",
       "</g>\r\n",
       "<!-- 8 -->\r\n",
       "<g id=\"node9\" class=\"node\"><title>8</title>\r\n",
       "<path fill=\"#e58139\" stroke=\"black\" d=\"M613,-179.5C613,-179.5 529,-179.5 529,-179.5 523,-179.5 517,-173.5 517,-167.5 517,-167.5 517,-123.5 517,-123.5 517,-117.5 523,-111.5 529,-111.5 529,-111.5 613,-111.5 613,-111.5 619,-111.5 625,-117.5 625,-123.5 625,-123.5 625,-167.5 625,-167.5 625,-173.5 619,-179.5 613,-179.5\"/>\r\n",
       "<text text-anchor=\"start\" x=\"542\" y=\"-164.3\" font-family=\"Helvetica,sans-Serif\" font-size=\"14.00\">gini = 0.0</text>\r\n",
       "<text text-anchor=\"start\" x=\"531.5\" y=\"-149.3\" font-family=\"Helvetica,sans-Serif\" font-size=\"14.00\">samples = 2</text>\r\n",
       "<text text-anchor=\"start\" x=\"530.5\" y=\"-134.3\" font-family=\"Helvetica,sans-Serif\" font-size=\"14.00\">value = [2, 0]</text>\r\n",
       "<text text-anchor=\"start\" x=\"525\" y=\"-119.3\" font-family=\"Helvetica,sans-Serif\" font-size=\"14.00\">class = setosa</text>\r\n",
       "</g>\r\n",
       "<!-- 6&#45;&gt;8 -->\r\n",
       "<g id=\"edge8\" class=\"edge\"><title>6&#45;&gt;8</title>\r\n",
       "<path fill=\"none\" stroke=\"black\" d=\"M488.715,-222.907C501.311,-211.211 515.046,-198.457 527.622,-186.78\"/>\r\n",
       "<polygon fill=\"black\" stroke=\"black\" points=\"530.335,-189.036 535.282,-179.667 525.572,-183.907 530.335,-189.036\"/>\r\n",
       "</g>\r\n",
       "</g>\r\n",
       "</svg>\r\n"
      ],
      "text/plain": [
       "<graphviz.files.Source at 0x187d7950>"
      ]
     },
     "execution_count": 80,
     "metadata": {},
     "output_type": "execute_result"
    }
   ],
   "source": [
    "import graphviz\n",
    "\n",
    "# export the dot data file into a variable\n",
    "dot_data = tree.export_graphviz(classifier, out_file=None,\n",
    "                                feature_names=iris.feature_names[0:2],  \n",
    "                                class_names=iris.target_names[0:2],  \n",
    "                                filled=True, rounded=True,  \n",
    "                                special_characters=True) \n",
    "\n",
    "# create the graph\n",
    "graph = graphviz.Source(dot_data) \n",
    "\n",
    "# and display the graph\n",
    "graph"
   ]
  },
  {
   "cell_type": "markdown",
   "metadata": {},
   "source": [
    "There we go - graphviz has created the graph of how the decision tree algorithm has actually solved the problem - step by step. "
   ]
  },
  {
   "cell_type": "markdown",
   "metadata": {},
   "source": [
    "### Gini Index"
   ]
  },
  {
   "cell_type": "markdown",
   "metadata": {},
   "source": [
    "Let's analyze how the Decision Tree algorith has made these decisions. First, let's create a scatter plot of our data."
   ]
  },
  {
   "cell_type": "code",
   "execution_count": 61,
   "metadata": {},
   "outputs": [
    {
     "data": {
      "text/plain": [
       "Text(0, 0.5, 'Sepal Width')"
      ]
     },
     "execution_count": 61,
     "metadata": {},
     "output_type": "execute_result"
    },
    {
     "data": {
      "image/png": "[encoded data removed]",
      "text/plain": [
       "<Figure size 432x288 with 1 Axes>"
      ]
     },
     "metadata": {
      "needs_background": "light"
     },
     "output_type": "display_data"
    }
   ],
   "source": [
    "import matplotlib.pyplot as plt\n",
    "%matplotlib inline\n",
    "\n",
    "plt.scatter(iris_sepal_data[0:50,0],iris_sepal_data[0:50,1], color=\"red\",alpha=0.5,label=\"setosa\")\n",
    "plt.scatter(iris_sepal_data[50:100,0],iris_sepal_data[50:100,1], color=\"green\",alpha=0.5,label=\"versicolor\")\n",
    "plt.legend()\n",
    "plt.xlabel(\"Sepal Length\")\n",
    "plt.ylabel(\"Sepal Width\")\n",
    "# plt.axvline(6.0,color=\"red\",linewidth=5,alpha=0.5)\n",
    "# plt.axhline(2.8,color=\"red\",linewidth=4,alpha=0.5)\n",
    "# plt.axvline(5.35,color=\"red\",linewidth=3,alpha=0.5)\n",
    "# plt.axhline(3.2,color=\"red\",linewidth=2,alpha=0.5)"
   ]
  },
  {
   "cell_type": "markdown",
   "metadata": {},
   "source": [
    "The key parameters used by Decision Tree are either of the following\n",
    "\n",
    "- gini index\n",
    "- entropy\n",
    "\n",
    "By default DecisionTreeClassifier uses the gini index to calculate the cut-offs. Let's focus on the gini index cost function."
   ]
  },
  {
   "cell_type": "markdown",
   "metadata": {},
   "source": [
    "Let's look at the first cut , "
   ]
  },
  {
   "cell_type": "markdown",
   "metadata": {},
   "source": [
    "<pre>\n",
    "sepal length (cm) < = 5.45\n",
    "</pre>"
   ]
  },
  {
   "cell_type": "markdown",
   "metadata": {},
   "source": [
    "Let's do some calculations by hand. It will give us a better understanding of what is going on under the hood."
   ]
  },
  {
   "cell_type": "markdown",
   "metadata": {},
   "source": [
    "Formula to calculate Gini index is"
   ]
  },
  {
   "cell_type": "markdown",
   "metadata": {},
   "source": [
    "# $ gini = 1 - \\sum_{i} p_i^2 $"
   ]
  },
  {
   "cell_type": "markdown",
   "metadata": {},
   "source": [
    "where p<sub>i</sub> is the probability of occurance of the i'th class. In our case, we have just 2 classes.\n",
    "- setosa\n",
    "- versicolor"
   ]
  },
  {
   "cell_type": "markdown",
   "metadata": {},
   "source": [
    "<img src=\"./pics/decision-tree-first-cut.png\"/>"
   ]
  },
  {
   "cell_type": "markdown",
   "metadata": {},
   "source": [
    "The above visual demonstrates how the calculations have been done."
   ]
  },
  {
   "cell_type": "markdown",
   "metadata": {},
   "source": [
    "Initial gini index."
   ]
  },
  {
   "cell_type": "markdown",
   "metadata": {},
   "source": [
    "### $ 1 - \\frac{50}{100}^2 - \\frac{50}{100}^2  = 0.5 $"
   ]
  },
  {
   "cell_type": "markdown",
   "metadata": {},
   "source": [
    "Gini indices after the first cut has been made."
   ]
  },
  {
   "cell_type": "markdown",
   "metadata": {},
   "source": [
    "### $ 1 - \\frac{45}{51}^2 - \\frac{6}{51}^2  = 0.208 $"
   ]
  },
  {
   "cell_type": "markdown",
   "metadata": {},
   "source": [
    "### $ 1 - \\frac{5}{49}^2 - \\frac{44}{49}^2  = 0.183 $"
   ]
  },
  {
   "cell_type": "markdown",
   "metadata": {},
   "source": [
    "so, gini index after the split is\n",
    "<pre>\n",
    "0.208 + 0.183 = 0.391\n",
    "</pre>\n",
    "\n",
    "which is less than the original gini index that we started with - 0.5"
   ]
  },
  {
   "cell_type": "markdown",
   "metadata": {},
   "source": [
    "Now, the question arises, why did the first cut happen at sepal length <= 5.45 ?  Why not at 6.0 ? To understand this, let's actually make a cut at sepal length <= 6.0 and re-calculate the gini indices."
   ]
  },
  {
   "cell_type": "markdown",
   "metadata": {},
   "source": [
    "- **Identify the target counts by class**"
   ]
  },
  {
   "cell_type": "code",
   "execution_count": 52,
   "metadata": {},
   "outputs": [
    {
     "data": {
      "text/plain": [
       "array([0, 0, 0, 0, 0, 0, 0, 0, 0, 0, 0, 0, 0, 0, 0, 0, 0, 0, 0, 0, 0, 0,\n",
       "       0, 0, 0, 0, 0, 0, 0, 0, 0, 0, 0, 0, 0, 0, 0, 0, 0, 0, 0, 0, 0, 0,\n",
       "       0, 0, 0, 0, 0, 0, 1, 1, 1, 1, 1, 1, 1, 1, 1, 1, 1, 1, 1, 1, 1, 1,\n",
       "       1, 1, 1, 1, 1, 1, 1, 1, 1, 1, 1, 1, 1, 1])"
      ]
     },
     "execution_count": 52,
     "metadata": {},
     "output_type": "execute_result"
    }
   ],
   "source": [
    "iris_sepal_target[iris_sepal_data[:,0] <=6.0]"
   ]
  },
  {
   "cell_type": "code",
   "execution_count": 60,
   "metadata": {},
   "outputs": [
    {
     "data": {
      "text/plain": [
       "(array([0, 1]), array([50, 30]))"
      ]
     },
     "execution_count": 60,
     "metadata": {},
     "output_type": "execute_result"
    }
   ],
   "source": [
    "import numpy as np\n",
    "\n",
    "np.unique(iris_sepal_target[iris_sepal_data[:,0] <=6.0], \n",
    "          return_counts = True)"
   ]
  },
  {
   "cell_type": "markdown",
   "metadata": {},
   "source": [
    "- **Calculate the Gini Index**"
   ]
  },
  {
   "cell_type": "markdown",
   "metadata": {},
   "source": [
    "### $ 1 - \\frac{50}{80}^2 - \\frac{30}{80}^2  = 0.468 $"
   ]
  },
  {
   "cell_type": "markdown",
   "metadata": {},
   "source": [
    "<img src=\"./pics/decision-tree-arbitrary-cut.png\"/>"
   ]
  },
  {
   "cell_type": "markdown",
   "metadata": {},
   "source": [
    "The gini index at the new cut-off sepal length <= 6.0 is 0.468. It is not much different from where we initially started (0.5). By now, you should be able to understand the reasons behind the classifier's decision points."
   ]
  },
  {
   "cell_type": "markdown",
   "metadata": {},
   "source": [
    "#### Challenge"
   ]
  },
  {
   "cell_type": "markdown",
   "metadata": {},
   "source": [
    "Try to calculate the gini index by hand(like above) when the sepal width <=2.75"
   ]
  },
  {
   "cell_type": "markdown",
   "metadata": {},
   "source": [
    "Here is a visual of how decision tree algorithm has eventually solved the problem. "
   ]
  },
  {
   "cell_type": "markdown",
   "metadata": {},
   "source": [
    "<img src=\"./pics/decision-tree-solves-iris.png\"/>"
   ]
  },
  {
   "cell_type": "markdown",
   "metadata": {},
   "source": [
    "Now that we understand how decision trees work, let's try and predict some data. Let's first split our data into train/test datasets."
   ]
  },
  {
   "cell_type": "code",
   "execution_count": 75,
   "metadata": {},
   "outputs": [],
   "source": [
    "from sklearn.model_selection import train_test_split\n",
    "\n",
    "X_train, X_test, y_train, y_test = train_test_split (iris_sepal_data, iris_sepal_target)"
   ]
  },
  {
   "cell_type": "code",
   "execution_count": 76,
   "metadata": {},
   "outputs": [],
   "source": [
    "from sklearn import tree\n",
    "\n",
    "classifier = tree.DecisionTreeClassifier()\n",
    "model      = classifier.fit(X_train, y_train)"
   ]
  },
  {
   "cell_type": "code",
   "execution_count": 77,
   "metadata": {},
   "outputs": [],
   "source": [
    "y_predict = model.predict(X_test)"
   ]
  },
  {
   "cell_type": "code",
   "execution_count": 78,
   "metadata": {},
   "outputs": [
    {
     "name": "stdout",
     "output_type": "stream",
     "text": [
      "confusion matrix = \n",
      " [[14  0]\n",
      " [ 1 10]]\n",
      "accuracy score =  0.96\n"
     ]
    }
   ],
   "source": [
    "from sklearn.metrics import confusion_matrix\n",
    "from sklearn.metrics import accuracy_score\n",
    "\n",
    "print ( \"confusion matrix = \\n\" , confusion_matrix(y_test, y_predict) )\n",
    "print ( \"accuracy score = \",accuracy_score(y_test,y_predict) )"
   ]
  },
  {
   "cell_type": "markdown",
   "metadata": {},
   "source": [
    "Thats an accuracy score of 88%. Pretty decent. "
   ]
  },
  {
   "cell_type": "markdown",
   "metadata": {},
   "source": [
    "### Decision Trees for Regression"
   ]
  },
  {
   "cell_type": "markdown",
   "metadata": {},
   "source": [
    "Although decision trees are mostly used for classification problems, you can use them for regression as well."
   ]
  },
  {
   "cell_type": "markdown",
   "metadata": {},
   "source": [
    "Let's try to fit the Boston Housing dataset with decision trees. Just to make things simple, let's just use the LSTAT predictor to predict the target."
   ]
  },
  {
   "cell_type": "code",
   "execution_count": 48,
   "metadata": {},
   "outputs": [],
   "source": [
    "from sklearn import datasets\n",
    "from sklearn.model_selection import train_test_split\n",
    "\n",
    "boston        = datasets.load_boston()\n",
    "#LSTAT is the 12th feature\n",
    "# Use boston.feature_names to list all the features\n",
    "boston_data   = boston.data[:,12] \n",
    "\n",
    "boston_target = boston.target\n",
    "\n",
    "# Split the data into train/test datasets\n",
    "X_train, X_test, y_train, y_test = train_test_split(boston_data, boston_target, test_size=0.2, random_state=0)"
   ]
  },
  {
   "cell_type": "code",
   "execution_count": 49,
   "metadata": {},
   "outputs": [],
   "source": [
    "from sklearn.tree import DecisionTreeRegressor\n",
    "\n",
    "regressor = DecisionTreeRegressor(random_state=0)\n",
    "model     = regressor.fit(X_train.reshape(-1,1),y_train)\n",
    "\n",
    "y_predict = regressor.predict(X_test.reshape(-1,1))"
   ]
  },
  {
   "cell_type": "code",
   "execution_count": 50,
   "metadata": {},
   "outputs": [
    {
     "data": {
      "text/plain": [
       "0.42164272169877925"
      ]
     },
     "execution_count": 50,
     "metadata": {},
     "output_type": "execute_result"
    }
   ],
   "source": [
    "# Use the in-built \"score\" function of the regressor to calculate the R-squared\n",
    "model.score(X_test.reshape(-1,1),y_test)"
   ]
  },
  {
   "cell_type": "markdown",
   "metadata": {},
   "source": [
    "Let's plot the predictions on top of the data to visually see how well the prediction does in comparision to the actual data."
   ]
  },
  {
   "cell_type": "code",
   "execution_count": 51,
   "metadata": {},
   "outputs": [
    {
     "data": {
      "text/plain": [
       "<matplotlib.legend.Legend at 0xec53b90>"
      ]
     },
     "execution_count": 51,
     "metadata": {},
     "output_type": "execute_result"
    },
    {
     "data": {
      "image/png": "[encoded data removed]",
      "text/plain": [
       "<Figure size 432x288 with 1 Axes>"
      ]
     },
     "metadata": {
      "needs_background": "light"
     },
     "output_type": "display_data"
    }
   ],
   "source": [
    "import matplotlib.pyplot as plt\n",
    "%matplotlib inline\n",
    "\n",
    "plt.scatter(X_test,y_test,alpha=0.5, label = \"actual\")\n",
    "plt.scatter(X_test,y_predict,label=\"predicted\")\n",
    "plt.legend()"
   ]
  },
  {
   "cell_type": "markdown",
   "metadata": {},
   "source": [
    "Just for fun, let's compare the **r-square** score of the decision tree regressor against linear regression."
   ]
  },
  {
   "cell_type": "code",
   "execution_count": 53,
   "metadata": {},
   "outputs": [
    {
     "data": {
      "text/plain": [
       "0.43095672846187605"
      ]
     },
     "execution_count": 53,
     "metadata": {},
     "output_type": "execute_result"
    }
   ],
   "source": [
    "from sklearn.linear_model import LinearRegression\n",
    "\n",
    "model   = LinearRegression().fit(X_train.reshape(-1,1),y_train)\n",
    "model.score(X_test.reshape(-1,1),y_test)"
   ]
  },
  {
   "cell_type": "markdown",
   "metadata": {},
   "source": [
    "**R<sup>2</sup> score - Model**\n",
    "- 0.42 - Decision Tree Regressor\n",
    "- 0.43 - Linear Regressor"
   ]
  },
  {
   "cell_type": "markdown",
   "metadata": {},
   "source": [
    "Not too far off - right ?"
   ]
  },
  {
   "cell_type": "markdown",
   "metadata": {},
   "source": [
    "### Overfitting"
   ]
  },
  {
   "cell_type": "markdown",
   "metadata": {},
   "source": [
    "One of the main drawbacks of Decision Trees is _overfitting_. We can very well observe that the model fits the training data 100%, but when it comes to test data, there would be a huge variation. Such a large variation is something that you do NOT observe in other models - say linear regression. Let's try and fit the iris data again (this time with all the 3 species)."
   ]
  },
  {
   "cell_type": "code",
   "execution_count": 24,
   "metadata": {},
   "outputs": [],
   "source": [
    "from sklearn import datasets\n",
    "\n",
    "dataset        = datasets.load_breast_cancer()"
   ]
  },
  {
   "cell_type": "code",
   "execution_count": 27,
   "metadata": {},
   "outputs": [],
   "source": [
    "from sklearn.model_selection import train_test_split\n",
    "from sklearn import tree\n",
    "\n",
    "test_score     = []\n",
    "train_score = []\n",
    "\n",
    "for i in range(1,100) :\n",
    "    X_train, X_test, y_train, y_test = train_test_split (dataset.data, dataset.target)\n",
    "\n",
    "    classifier = tree.DecisionTreeClassifier()\n",
    "    model      = classifier.fit(X_train, y_train)\n",
    "    \n",
    "    test_score.append(model.score(X_test,y_test))\n",
    "    train_score.append(model.score(X_train,y_train))"
   ]
  },
  {
   "cell_type": "code",
   "execution_count": 28,
   "metadata": {},
   "outputs": [
    {
     "data": {
      "text/plain": [
       "<matplotlib.collections.PathCollection at 0x5795f70>"
      ]
     },
     "execution_count": 28,
     "metadata": {},
     "output_type": "execute_result"
    },
    {
     "data": {
      "image/png": "[encoded data removed]",
      "text/plain": [
       "<Figure size 432x288 with 1 Axes>"
      ]
     },
     "metadata": {
      "needs_background": "light"
     },
     "output_type": "display_data"
    }
   ],
   "source": [
    "import matplotlib.pyplot as plt\n",
    "%matplotlib inline\n",
    "\n",
    "plt.scatter(list(range(1,100)), train_score)\n",
    "plt.scatter(list(range(1,100)), test_score)"
   ]
  },
  {
   "cell_type": "markdown",
   "metadata": {},
   "source": [
    "As you can see, the training data is always a 100% fit while the test data varies all over. In this case, the model is not all that complicated - so the variation is not all that huge. However, if the data is huge and there are many borderline cases, the variation could be difficult to explain for the model. Essentially, the model is learning all the noise in the data and so is not able to predict the test data well."
   ]
  },
  {
   "cell_type": "markdown",
   "metadata": {},
   "source": [
    "#### Solution to Overfitting"
   ]
  },
  {
   "cell_type": "markdown",
   "metadata": {},
   "source": [
    "Overfitting is basically a problem where the model tries to fit all of the training data. Since there are many borderline cases, it is not practical to fit all the data points for any ML model. In order to avoid this, we have to prune (cut off some of it's branches) the tree to make it an a better fit for the training data - rather than a 100% fit. There are 2 ways to prune a tree.\n",
    "\n",
    "- **Pre-Pruning** - Prune the decision tree while it is being created.\n",
    "- **Post-Pruning** - Prune the decision tree after the entire tree has been created.\n",
    "\n",
    "Scikit Learn only supports **Pre-Pruning** at the moment. So, we will only focus on that."
   ]
  },
  {
   "cell_type": "code",
   "execution_count": 29,
   "metadata": {},
   "outputs": [
    {
     "data": {
      "image/svg+xml": [
       "<?xml version=\"1.0\" encoding=\"UTF-8\" standalone=\"no\"?>\r\n",
       "<!DOCTYPE svg PUBLIC \"-//W3C//DTD SVG 1.1//EN\"\r\n",
       " \"http://www.w3.org/Graphics/SVG/1.1/DTD/svg11.dtd\">\r\n",
       "<!-- Generated by graphviz version 2.38.0 (20140413.2041)\r\n",
       " -->\r\n",
       "<!-- Title: Tree Pages: 1 -->\r\n",
       "<svg width=\"1790pt\" height=\"1028pt\"\r\n",
       " viewBox=\"0.00 0.00 1790.00 1028.00\" xmlns=\"http://www.w3.org/2000/svg\" xmlns:xlink=\"http://www.w3.org/1999/xlink\">\r\n",
       "<g id=\"graph0\" class=\"graph\" transform=\"scale(1 1) rotate(0) translate(4 1024)\">\r\n",
       "<title>Tree</title>\r\n",
       "<polygon fill=\"white\" stroke=\"none\" points=\"-4,4 -4,-1024 1786,-1024 1786,4 -4,4\"/>\r\n",
       "<!-- 0 -->\r\n",
       "<g id=\"node1\" class=\"node\"><title>0</title>\r\n",
       "<path fill=\"#399de5\" fill-opacity=\"0.403922\" stroke=\"black\" d=\"M1218,-1020C1218,-1020 1067,-1020 1067,-1020 1061,-1020 1055,-1014 1055,-1008 1055,-1008 1055,-949 1055,-949 1055,-943 1061,-937 1067,-937 1067,-937 1218,-937 1218,-937 1224,-937 1230,-943 1230,-949 1230,-949 1230,-1008 1230,-1008 1230,-1014 1224,-1020 1218,-1020\"/>\r\n",
       "<text text-anchor=\"start\" x=\"1063\" y=\"-1004.8\" font-family=\"Helvetica,sans-Serif\" font-size=\"14.00\">worst perimeter ≤ 113.15</text>\r\n",
       "<text text-anchor=\"start\" x=\"1105\" y=\"-989.8\" font-family=\"Helvetica,sans-Serif\" font-size=\"14.00\">gini = 0.468</text>\r\n",
       "<text text-anchor=\"start\" x=\"1095\" y=\"-974.8\" font-family=\"Helvetica,sans-Serif\" font-size=\"14.00\">samples = 426</text>\r\n",
       "<text text-anchor=\"start\" x=\"1085.5\" y=\"-959.8\" font-family=\"Helvetica,sans-Serif\" font-size=\"14.00\">value = [159, 267]</text>\r\n",
       "<text text-anchor=\"start\" x=\"1096.5\" y=\"-944.8\" font-family=\"Helvetica,sans-Serif\" font-size=\"14.00\">class = benign</text>\r\n",
       "</g>\r\n",
       "<!-- 1 -->\r\n",
       "<g id=\"node2\" class=\"node\"><title>1</title>\r\n",
       "<path fill=\"#399de5\" fill-opacity=\"0.901961\" stroke=\"black\" d=\"M970,-901C970,-901 793,-901 793,-901 787,-901 781,-895 781,-889 781,-889 781,-830 781,-830 781,-824 787,-818 793,-818 793,-818 970,-818 970,-818 976,-818 982,-824 982,-830 982,-830 982,-889 982,-889 982,-895 976,-901 970,-901\"/>\r\n",
       "<text text-anchor=\"start\" x=\"789\" y=\"-885.8\" font-family=\"Helvetica,sans-Serif\" font-size=\"14.00\">worst concave points ≤ 0.136</text>\r\n",
       "<text text-anchor=\"start\" x=\"848\" y=\"-870.8\" font-family=\"Helvetica,sans-Serif\" font-size=\"14.00\">gini = 0.16</text>\r\n",
       "<text text-anchor=\"start\" x=\"834\" y=\"-855.8\" font-family=\"Helvetica,sans-Serif\" font-size=\"14.00\">samples = 285</text>\r\n",
       "<text text-anchor=\"start\" x=\"828.5\" y=\"-840.8\" font-family=\"Helvetica,sans-Serif\" font-size=\"14.00\">value = [25, 260]</text>\r\n",
       "<text text-anchor=\"start\" x=\"835.5\" y=\"-825.8\" font-family=\"Helvetica,sans-Serif\" font-size=\"14.00\">class = benign</text>\r\n",
       "</g>\r\n",
       "<!-- 0&#45;&gt;1 -->\r\n",
       "<g id=\"edge1\" class=\"edge\"><title>0&#45;&gt;1</title>\r\n",
       "<path fill=\"none\" stroke=\"black\" d=\"M1054.86,-938.215C1031.23,-927.619 1005.48,-916.077 981.235,-905.209\"/>\r\n",
       "<polygon fill=\"black\" stroke=\"black\" points=\"982.581,-901.977 972.024,-901.08 979.717,-908.364 982.581,-901.977\"/>\r\n",
       "<text text-anchor=\"middle\" x=\"980.924\" y=\"-920.742\" font-family=\"Helvetica,sans-Serif\" font-size=\"14.00\">True</text>\r\n",
       "</g>\r\n",
       "<!-- 26 -->\r\n",
       "<g id=\"node27\" class=\"node\"><title>26</title>\r\n",
       "<path fill=\"#e58139\" fill-opacity=\"0.949020\" stroke=\"black\" d=\"M1405,-901C1405,-901 1254,-901 1254,-901 1248,-901 1242,-895 1242,-889 1242,-889 1242,-830 1242,-830 1242,-824 1248,-818 1254,-818 1254,-818 1405,-818 1405,-818 1411,-818 1417,-824 1417,-830 1417,-830 1417,-889 1417,-889 1417,-895 1411,-901 1405,-901\"/>\r\n",
       "<text text-anchor=\"start\" x=\"1250\" y=\"-885.8\" font-family=\"Helvetica,sans-Serif\" font-size=\"14.00\">worst perimeter ≤ 117.45</text>\r\n",
       "<text text-anchor=\"start\" x=\"1292\" y=\"-870.8\" font-family=\"Helvetica,sans-Serif\" font-size=\"14.00\">gini = 0.094</text>\r\n",
       "<text text-anchor=\"start\" x=\"1282\" y=\"-855.8\" font-family=\"Helvetica,sans-Serif\" font-size=\"14.00\">samples = 141</text>\r\n",
       "<text text-anchor=\"start\" x=\"1281\" y=\"-840.8\" font-family=\"Helvetica,sans-Serif\" font-size=\"14.00\">value = [134, 7]</text>\r\n",
       "<text text-anchor=\"start\" x=\"1275\" y=\"-825.8\" font-family=\"Helvetica,sans-Serif\" font-size=\"14.00\">class = malignant</text>\r\n",
       "</g>\r\n",
       "<!-- 0&#45;&gt;26 -->\r\n",
       "<g id=\"edge26\" class=\"edge\"><title>0&#45;&gt;26</title>\r\n",
       "<path fill=\"none\" stroke=\"black\" d=\"M1207.38,-936.907C1223.04,-927.106 1239.9,-916.563 1255.93,-906.533\"/>\r\n",
       "<polygon fill=\"black\" stroke=\"black\" points=\"1258.11,-909.292 1264.74,-901.021 1254.4,-903.358 1258.11,-909.292\"/>\r\n",
       "<text text-anchor=\"middle\" x=\"1259.13\" y=\"-921.683\" font-family=\"Helvetica,sans-Serif\" font-size=\"14.00\">False</text>\r\n",
       "</g>\r\n",
       "<!-- 2 -->\r\n",
       "<g id=\"node3\" class=\"node\"><title>2</title>\r\n",
       "<path fill=\"#399de5\" fill-opacity=\"0.976471\" stroke=\"black\" d=\"M526.5,-782C526.5,-782 420.5,-782 420.5,-782 414.5,-782 408.5,-776 408.5,-770 408.5,-770 408.5,-711 408.5,-711 408.5,-705 414.5,-699 420.5,-699 420.5,-699 526.5,-699 526.5,-699 532.5,-699 538.5,-705 538.5,-711 538.5,-711 538.5,-770 538.5,-770 538.5,-776 532.5,-782 526.5,-782\"/>\r\n",
       "<text text-anchor=\"start\" x=\"416.5\" y=\"-766.8\" font-family=\"Helvetica,sans-Serif\" font-size=\"14.00\">area error ≤ 45.17</text>\r\n",
       "<text text-anchor=\"start\" x=\"436\" y=\"-751.8\" font-family=\"Helvetica,sans-Serif\" font-size=\"14.00\">gini = 0.046</text>\r\n",
       "<text text-anchor=\"start\" x=\"426\" y=\"-736.8\" font-family=\"Helvetica,sans-Serif\" font-size=\"14.00\">samples = 253</text>\r\n",
       "<text text-anchor=\"start\" x=\"425\" y=\"-721.8\" font-family=\"Helvetica,sans-Serif\" font-size=\"14.00\">value = [6, 247]</text>\r\n",
       "<text text-anchor=\"start\" x=\"427.5\" y=\"-706.8\" font-family=\"Helvetica,sans-Serif\" font-size=\"14.00\">class = benign</text>\r\n",
       "</g>\r\n",
       "<!-- 1&#45;&gt;2 -->\r\n",
       "<g id=\"edge2\" class=\"edge\"><title>1&#45;&gt;2</title>\r\n",
       "<path fill=\"none\" stroke=\"black\" d=\"M780.908,-829.654C708.974,-809.026 613.72,-781.71 548.418,-762.984\"/>\r\n",
       "<polygon fill=\"black\" stroke=\"black\" points=\"549.182,-759.562 538.605,-760.17 547.253,-766.291 549.182,-759.562\"/>\r\n",
       "</g>\r\n",
       "<!-- 17 -->\r\n",
       "<g id=\"node18\" class=\"node\"><title>17</title>\r\n",
       "<path fill=\"#e58139\" fill-opacity=\"0.317647\" stroke=\"black\" d=\"M944,-782C944,-782 819,-782 819,-782 813,-782 807,-776 807,-770 807,-770 807,-711 807,-711 807,-705 813,-699 819,-699 819,-699 944,-699 944,-699 950,-699 956,-705 956,-711 956,-711 956,-770 956,-770 956,-776 950,-782 944,-782\"/>\r\n",
       "<text text-anchor=\"start\" x=\"815\" y=\"-766.8\" font-family=\"Helvetica,sans-Serif\" font-size=\"14.00\">worst texture ≤ 25.67</text>\r\n",
       "<text text-anchor=\"start\" x=\"844\" y=\"-751.8\" font-family=\"Helvetica,sans-Serif\" font-size=\"14.00\">gini = 0.482</text>\r\n",
       "<text text-anchor=\"start\" x=\"838\" y=\"-736.8\" font-family=\"Helvetica,sans-Serif\" font-size=\"14.00\">samples = 32</text>\r\n",
       "<text text-anchor=\"start\" x=\"833\" y=\"-721.8\" font-family=\"Helvetica,sans-Serif\" font-size=\"14.00\">value = [19, 13]</text>\r\n",
       "<text text-anchor=\"start\" x=\"827\" y=\"-706.8\" font-family=\"Helvetica,sans-Serif\" font-size=\"14.00\">class = malignant</text>\r\n",
       "</g>\r\n",
       "<!-- 1&#45;&gt;17 -->\r\n",
       "<g id=\"edge17\" class=\"edge\"><title>1&#45;&gt;17</title>\r\n",
       "<path fill=\"none\" stroke=\"black\" d=\"M881.5,-817.907C881.5,-809.649 881.5,-800.864 881.5,-792.302\"/>\r\n",
       "<polygon fill=\"black\" stroke=\"black\" points=\"885,-792.021 881.5,-782.021 878,-792.021 885,-792.021\"/>\r\n",
       "</g>\r\n",
       "<!-- 3 -->\r\n",
       "<g id=\"node4\" class=\"node\"><title>3</title>\r\n",
       "<path fill=\"#399de5\" fill-opacity=\"0.988235\" stroke=\"black\" d=\"M295,-663C295,-663 162,-663 162,-663 156,-663 150,-657 150,-651 150,-651 150,-592 150,-592 150,-586 156,-580 162,-580 162,-580 295,-580 295,-580 301,-580 307,-586 307,-592 307,-592 307,-651 307,-651 307,-657 301,-663 295,-663\"/>\r\n",
       "<text text-anchor=\"start\" x=\"158\" y=\"-647.8\" font-family=\"Helvetica,sans-Serif\" font-size=\"14.00\">worst texture ≤ 29.225</text>\r\n",
       "<text text-anchor=\"start\" x=\"191\" y=\"-632.8\" font-family=\"Helvetica,sans-Serif\" font-size=\"14.00\">gini = 0.024</text>\r\n",
       "<text text-anchor=\"start\" x=\"181\" y=\"-617.8\" font-family=\"Helvetica,sans-Serif\" font-size=\"14.00\">samples = 247</text>\r\n",
       "<text text-anchor=\"start\" x=\"180\" y=\"-602.8\" font-family=\"Helvetica,sans-Serif\" font-size=\"14.00\">value = [3, 244]</text>\r\n",
       "<text text-anchor=\"start\" x=\"182.5\" y=\"-587.8\" font-family=\"Helvetica,sans-Serif\" font-size=\"14.00\">class = benign</text>\r\n",
       "</g>\r\n",
       "<!-- 2&#45;&gt;3 -->\r\n",
       "<g id=\"edge3\" class=\"edge\"><title>2&#45;&gt;3</title>\r\n",
       "<path fill=\"none\" stroke=\"black\" d=\"M408.488,-708.453C380.352,-695.017 346.984,-679.082 316.668,-664.605\"/>\r\n",
       "<polygon fill=\"black\" stroke=\"black\" points=\"317.899,-661.314 307.367,-660.163 314.882,-667.631 317.899,-661.314\"/>\r\n",
       "</g>\r\n",
       "<!-- 14 -->\r\n",
       "<g id=\"node15\" class=\"node\"><title>14</title>\r\n",
       "<path fill=\"none\" stroke=\"black\" d=\"M555.5,-663C555.5,-663 391.5,-663 391.5,-663 385.5,-663 379.5,-657 379.5,-651 379.5,-651 379.5,-592 379.5,-592 379.5,-586 385.5,-580 391.5,-580 391.5,-580 555.5,-580 555.5,-580 561.5,-580 567.5,-586 567.5,-592 567.5,-592 567.5,-651 567.5,-651 567.5,-657 561.5,-663 555.5,-663\"/>\r\n",
       "<text text-anchor=\"start\" x=\"387.5\" y=\"-647.8\" font-family=\"Helvetica,sans-Serif\" font-size=\"14.00\">compactness error ≤ 0.015</text>\r\n",
       "<text text-anchor=\"start\" x=\"444.5\" y=\"-632.8\" font-family=\"Helvetica,sans-Serif\" font-size=\"14.00\">gini = 0.5</text>\r\n",
       "<text text-anchor=\"start\" x=\"434\" y=\"-617.8\" font-family=\"Helvetica,sans-Serif\" font-size=\"14.00\">samples = 6</text>\r\n",
       "<text text-anchor=\"start\" x=\"433\" y=\"-602.8\" font-family=\"Helvetica,sans-Serif\" font-size=\"14.00\">value = [3, 3]</text>\r\n",
       "<text text-anchor=\"start\" x=\"419\" y=\"-587.8\" font-family=\"Helvetica,sans-Serif\" font-size=\"14.00\">class = malignant</text>\r\n",
       "</g>\r\n",
       "<!-- 2&#45;&gt;14 -->\r\n",
       "<g id=\"edge14\" class=\"edge\"><title>2&#45;&gt;14</title>\r\n",
       "<path fill=\"none\" stroke=\"black\" d=\"M473.5,-698.907C473.5,-690.649 473.5,-681.864 473.5,-673.302\"/>\r\n",
       "<polygon fill=\"black\" stroke=\"black\" points=\"477,-673.021 473.5,-663.021 470,-673.021 477,-673.021\"/>\r\n",
       "</g>\r\n",
       "<!-- 4 -->\r\n",
       "<g id=\"node5\" class=\"node\"><title>4</title>\r\n",
       "<path fill=\"#399de5\" stroke=\"black\" d=\"M115,-536.5C115,-536.5 26,-536.5 26,-536.5 20,-536.5 14,-530.5 14,-524.5 14,-524.5 14,-480.5 14,-480.5 14,-474.5 20,-468.5 26,-468.5 26,-468.5 115,-468.5 115,-468.5 121,-468.5 127,-474.5 127,-480.5 127,-480.5 127,-524.5 127,-524.5 127,-530.5 121,-536.5 115,-536.5\"/>\r\n",
       "<text text-anchor=\"start\" x=\"41.5\" y=\"-521.3\" font-family=\"Helvetica,sans-Serif\" font-size=\"14.00\">gini = 0.0</text>\r\n",
       "<text text-anchor=\"start\" x=\"23\" y=\"-506.3\" font-family=\"Helvetica,sans-Serif\" font-size=\"14.00\">samples = 214</text>\r\n",
       "<text text-anchor=\"start\" x=\"22\" y=\"-491.3\" font-family=\"Helvetica,sans-Serif\" font-size=\"14.00\">value = [0, 214]</text>\r\n",
       "<text text-anchor=\"start\" x=\"24.5\" y=\"-476.3\" font-family=\"Helvetica,sans-Serif\" font-size=\"14.00\">class = benign</text>\r\n",
       "</g>\r\n",
       "<!-- 3&#45;&gt;4 -->\r\n",
       "<g id=\"edge4\" class=\"edge\"><title>3&#45;&gt;4</title>\r\n",
       "<path fill=\"none\" stroke=\"black\" d=\"M173.683,-579.907C157.44,-567.88 139.689,-554.735 123.559,-542.791\"/>\r\n",
       "<polygon fill=\"black\" stroke=\"black\" points=\"125.409,-539.805 115.29,-536.667 121.243,-545.431 125.409,-539.805\"/>\r\n",
       "</g>\r\n",
       "<!-- 5 -->\r\n",
       "<g id=\"node6\" class=\"node\"><title>5</title>\r\n",
       "<path fill=\"#399de5\" fill-opacity=\"0.901961\" stroke=\"black\" d=\"M299.5,-544C299.5,-544 157.5,-544 157.5,-544 151.5,-544 145.5,-538 145.5,-532 145.5,-532 145.5,-473 145.5,-473 145.5,-467 151.5,-461 157.5,-461 157.5,-461 299.5,-461 299.5,-461 305.5,-461 311.5,-467 311.5,-473 311.5,-473 311.5,-532 311.5,-532 311.5,-538 305.5,-544 299.5,-544\"/>\r\n",
       "<text text-anchor=\"start\" x=\"153.5\" y=\"-528.8\" font-family=\"Helvetica,sans-Serif\" font-size=\"14.00\">mean concavity ≤ 0.116</text>\r\n",
       "<text text-anchor=\"start\" x=\"191\" y=\"-513.8\" font-family=\"Helvetica,sans-Serif\" font-size=\"14.00\">gini = 0.165</text>\r\n",
       "<text text-anchor=\"start\" x=\"185\" y=\"-498.8\" font-family=\"Helvetica,sans-Serif\" font-size=\"14.00\">samples = 33</text>\r\n",
       "<text text-anchor=\"start\" x=\"184\" y=\"-483.8\" font-family=\"Helvetica,sans-Serif\" font-size=\"14.00\">value = [3, 30]</text>\r\n",
       "<text text-anchor=\"start\" x=\"182.5\" y=\"-468.8\" font-family=\"Helvetica,sans-Serif\" font-size=\"14.00\">class = benign</text>\r\n",
       "</g>\r\n",
       "<!-- 3&#45;&gt;5 -->\r\n",
       "<g id=\"edge5\" class=\"edge\"><title>3&#45;&gt;5</title>\r\n",
       "<path fill=\"none\" stroke=\"black\" d=\"M228.5,-579.907C228.5,-571.649 228.5,-562.864 228.5,-554.302\"/>\r\n",
       "<polygon fill=\"black\" stroke=\"black\" points=\"232,-554.021 228.5,-544.021 225,-554.021 232,-554.021\"/>\r\n",
       "</g>\r\n",
       "<!-- 6 -->\r\n",
       "<g id=\"node7\" class=\"node\"><title>6</title>\r\n",
       "<path fill=\"#399de5\" fill-opacity=\"0.933333\" stroke=\"black\" d=\"M221.5,-425C221.5,-425 65.5,-425 65.5,-425 59.5,-425 53.5,-419 53.5,-413 53.5,-413 53.5,-354 53.5,-354 53.5,-348 59.5,-342 65.5,-342 65.5,-342 221.5,-342 221.5,-342 227.5,-342 233.5,-348 233.5,-354 233.5,-354 233.5,-413 233.5,-413 233.5,-419 227.5,-425 221.5,-425\"/>\r\n",
       "<text text-anchor=\"start\" x=\"61.5\" y=\"-409.8\" font-family=\"Helvetica,sans-Serif\" font-size=\"14.00\">smoothness error ≤ 0.003</text>\r\n",
       "<text text-anchor=\"start\" x=\"106\" y=\"-394.8\" font-family=\"Helvetica,sans-Serif\" font-size=\"14.00\">gini = 0.117</text>\r\n",
       "<text text-anchor=\"start\" x=\"100\" y=\"-379.8\" font-family=\"Helvetica,sans-Serif\" font-size=\"14.00\">samples = 32</text>\r\n",
       "<text text-anchor=\"start\" x=\"99\" y=\"-364.8\" font-family=\"Helvetica,sans-Serif\" font-size=\"14.00\">value = [2, 30]</text>\r\n",
       "<text text-anchor=\"start\" x=\"97.5\" y=\"-349.8\" font-family=\"Helvetica,sans-Serif\" font-size=\"14.00\">class = benign</text>\r\n",
       "</g>\r\n",
       "<!-- 5&#45;&gt;6 -->\r\n",
       "<g id=\"edge6\" class=\"edge\"><title>5&#45;&gt;6</title>\r\n",
       "<path fill=\"none\" stroke=\"black\" d=\"M199.01,-460.907C192.549,-452.014 185.643,-442.509 178.976,-433.331\"/>\r\n",
       "<polygon fill=\"black\" stroke=\"black\" points=\"181.647,-431.054 172.938,-425.021 175.984,-435.168 181.647,-431.054\"/>\r\n",
       "</g>\r\n",
       "<!-- 13 -->\r\n",
       "<g id=\"node14\" class=\"node\"><title>13</title>\r\n",
       "<path fill=\"#e58139\" stroke=\"black\" d=\"M365,-417.5C365,-417.5 264,-417.5 264,-417.5 258,-417.5 252,-411.5 252,-405.5 252,-405.5 252,-361.5 252,-361.5 252,-355.5 258,-349.5 264,-349.5 264,-349.5 365,-349.5 365,-349.5 371,-349.5 377,-355.5 377,-361.5 377,-361.5 377,-405.5 377,-405.5 377,-411.5 371,-417.5 365,-417.5\"/>\r\n",
       "<text text-anchor=\"start\" x=\"285.5\" y=\"-402.3\" font-family=\"Helvetica,sans-Serif\" font-size=\"14.00\">gini = 0.0</text>\r\n",
       "<text text-anchor=\"start\" x=\"275\" y=\"-387.3\" font-family=\"Helvetica,sans-Serif\" font-size=\"14.00\">samples = 1</text>\r\n",
       "<text text-anchor=\"start\" x=\"274\" y=\"-372.3\" font-family=\"Helvetica,sans-Serif\" font-size=\"14.00\">value = [1, 0]</text>\r\n",
       "<text text-anchor=\"start\" x=\"260\" y=\"-357.3\" font-family=\"Helvetica,sans-Serif\" font-size=\"14.00\">class = malignant</text>\r\n",
       "</g>\r\n",
       "<!-- 5&#45;&gt;13 -->\r\n",
       "<g id=\"edge13\" class=\"edge\"><title>5&#45;&gt;13</title>\r\n",
       "<path fill=\"none\" stroke=\"black\" d=\"M258.337,-460.907C266.691,-449.542 275.779,-437.178 284.162,-425.774\"/>\r\n",
       "<polygon fill=\"black\" stroke=\"black\" points=\"287.018,-427.797 290.121,-417.667 281.378,-423.652 287.018,-427.797\"/>\r\n",
       "</g>\r\n",
       "<!-- 7 -->\r\n",
       "<g id=\"node8\" class=\"node\"><title>7</title>\r\n",
       "<path fill=\"#e58139\" stroke=\"black\" d=\"M113,-298.5C113,-298.5 12,-298.5 12,-298.5 6,-298.5 0,-292.5 0,-286.5 0,-286.5 0,-242.5 0,-242.5 0,-236.5 6,-230.5 12,-230.5 12,-230.5 113,-230.5 113,-230.5 119,-230.5 125,-236.5 125,-242.5 125,-242.5 125,-286.5 125,-286.5 125,-292.5 119,-298.5 113,-298.5\"/>\r\n",
       "<text text-anchor=\"start\" x=\"33.5\" y=\"-283.3\" font-family=\"Helvetica,sans-Serif\" font-size=\"14.00\">gini = 0.0</text>\r\n",
       "<text text-anchor=\"start\" x=\"23\" y=\"-268.3\" font-family=\"Helvetica,sans-Serif\" font-size=\"14.00\">samples = 1</text>\r\n",
       "<text text-anchor=\"start\" x=\"22\" y=\"-253.3\" font-family=\"Helvetica,sans-Serif\" font-size=\"14.00\">value = [1, 0]</text>\r\n",
       "<text text-anchor=\"start\" x=\"8\" y=\"-238.3\" font-family=\"Helvetica,sans-Serif\" font-size=\"14.00\">class = malignant</text>\r\n",
       "</g>\r\n",
       "<!-- 6&#45;&gt;7 -->\r\n",
       "<g id=\"edge7\" class=\"edge\"><title>6&#45;&gt;7</title>\r\n",
       "<path fill=\"none\" stroke=\"black\" d=\"M115.397,-341.907C107.605,-330.652 99.1358,-318.418 91.3043,-307.106\"/>\r\n",
       "<polygon fill=\"black\" stroke=\"black\" points=\"94.0315,-304.897 85.4617,-298.667 88.2762,-308.881 94.0315,-304.897\"/>\r\n",
       "</g>\r\n",
       "<!-- 8 -->\r\n",
       "<g id=\"node9\" class=\"node\"><title>8</title>\r\n",
       "<path fill=\"#399de5\" fill-opacity=\"0.964706\" stroke=\"black\" d=\"M294,-306C294,-306 155,-306 155,-306 149,-306 143,-300 143,-294 143,-294 143,-235 143,-235 143,-229 149,-223 155,-223 155,-223 294,-223 294,-223 300,-223 306,-229 306,-235 306,-235 306,-294 306,-294 306,-300 300,-306 294,-306\"/>\r\n",
       "<text text-anchor=\"start\" x=\"151\" y=\"-290.8\" font-family=\"Helvetica,sans-Serif\" font-size=\"14.00\">perimeter error ≤ 1.473</text>\r\n",
       "<text text-anchor=\"start\" x=\"187\" y=\"-275.8\" font-family=\"Helvetica,sans-Serif\" font-size=\"14.00\">gini = 0.062</text>\r\n",
       "<text text-anchor=\"start\" x=\"181\" y=\"-260.8\" font-family=\"Helvetica,sans-Serif\" font-size=\"14.00\">samples = 31</text>\r\n",
       "<text text-anchor=\"start\" x=\"180\" y=\"-245.8\" font-family=\"Helvetica,sans-Serif\" font-size=\"14.00\">value = [1, 30]</text>\r\n",
       "<text text-anchor=\"start\" x=\"178.5\" y=\"-230.8\" font-family=\"Helvetica,sans-Serif\" font-size=\"14.00\">class = benign</text>\r\n",
       "</g>\r\n",
       "<!-- 6&#45;&gt;8 -->\r\n",
       "<g id=\"edge8\" class=\"edge\"><title>6&#45;&gt;8</title>\r\n",
       "<path fill=\"none\" stroke=\"black\" d=\"M171.603,-341.907C177.76,-333.014 184.34,-323.509 190.694,-314.331\"/>\r\n",
       "<polygon fill=\"black\" stroke=\"black\" points=\"193.633,-316.235 196.447,-306.021 187.877,-312.251 193.633,-316.235\"/>\r\n",
       "</g>\r\n",
       "<!-- 9 -->\r\n",
       "<g id=\"node10\" class=\"node\"><title>9</title>\r\n",
       "<path fill=\"#399de5\" fill-opacity=\"0.800000\" stroke=\"black\" d=\"M220,-187C220,-187 67,-187 67,-187 61,-187 55,-181 55,-175 55,-175 55,-116 55,-116 55,-110 61,-104 67,-104 67,-104 220,-104 220,-104 226,-104 232,-110 232,-116 232,-116 232,-175 232,-175 232,-181 226,-187 220,-187\"/>\r\n",
       "<text text-anchor=\"start\" x=\"63\" y=\"-171.8\" font-family=\"Helvetica,sans-Serif\" font-size=\"14.00\">mean smoothness ≤ 0.09</text>\r\n",
       "<text text-anchor=\"start\" x=\"106\" y=\"-156.8\" font-family=\"Helvetica,sans-Serif\" font-size=\"14.00\">gini = 0.278</text>\r\n",
       "<text text-anchor=\"start\" x=\"104\" y=\"-141.8\" font-family=\"Helvetica,sans-Serif\" font-size=\"14.00\">samples = 6</text>\r\n",
       "<text text-anchor=\"start\" x=\"103\" y=\"-126.8\" font-family=\"Helvetica,sans-Serif\" font-size=\"14.00\">value = [1, 5]</text>\r\n",
       "<text text-anchor=\"start\" x=\"97.5\" y=\"-111.8\" font-family=\"Helvetica,sans-Serif\" font-size=\"14.00\">class = benign</text>\r\n",
       "</g>\r\n",
       "<!-- 8&#45;&gt;9 -->\r\n",
       "<g id=\"edge9\" class=\"edge\"><title>8&#45;&gt;9</title>\r\n",
       "<path fill=\"none\" stroke=\"black\" d=\"M196.397,-222.907C190.24,-214.014 183.66,-204.509 177.306,-195.331\"/>\r\n",
       "<polygon fill=\"black\" stroke=\"black\" points=\"180.123,-193.251 171.553,-187.021 174.367,-197.235 180.123,-193.251\"/>\r\n",
       "</g>\r\n",
       "<!-- 12 -->\r\n",
       "<g id=\"node13\" class=\"node\"><title>12</title>\r\n",
       "<path fill=\"#399de5\" stroke=\"black\" d=\"M346.5,-179.5C346.5,-179.5 262.5,-179.5 262.5,-179.5 256.5,-179.5 250.5,-173.5 250.5,-167.5 250.5,-167.5 250.5,-123.5 250.5,-123.5 250.5,-117.5 256.5,-111.5 262.5,-111.5 262.5,-111.5 346.5,-111.5 346.5,-111.5 352.5,-111.5 358.5,-117.5 358.5,-123.5 358.5,-123.5 358.5,-167.5 358.5,-167.5 358.5,-173.5 352.5,-179.5 346.5,-179.5\"/>\r\n",
       "<text text-anchor=\"start\" x=\"275.5\" y=\"-164.3\" font-family=\"Helvetica,sans-Serif\" font-size=\"14.00\">gini = 0.0</text>\r\n",
       "<text text-anchor=\"start\" x=\"261\" y=\"-149.3\" font-family=\"Helvetica,sans-Serif\" font-size=\"14.00\">samples = 25</text>\r\n",
       "<text text-anchor=\"start\" x=\"260\" y=\"-134.3\" font-family=\"Helvetica,sans-Serif\" font-size=\"14.00\">value = [0, 25]</text>\r\n",
       "<text text-anchor=\"start\" x=\"258.5\" y=\"-119.3\" font-family=\"Helvetica,sans-Serif\" font-size=\"14.00\">class = benign</text>\r\n",
       "</g>\r\n",
       "<!-- 8&#45;&gt;12 -->\r\n",
       "<g id=\"edge12\" class=\"edge\"><title>8&#45;&gt;12</title>\r\n",
       "<path fill=\"none\" stroke=\"black\" d=\"M252.256,-222.907C259.951,-211.652 268.317,-199.418 276.051,-188.106\"/>\r\n",
       "<polygon fill=\"black\" stroke=\"black\" points=\"279.067,-189.897 281.822,-179.667 273.288,-185.946 279.067,-189.897\"/>\r\n",
       "</g>\r\n",
       "<!-- 10 -->\r\n",
       "<g id=\"node11\" class=\"node\"><title>10</title>\r\n",
       "<path fill=\"#399de5\" stroke=\"black\" d=\"M118.5,-68C118.5,-68 34.5,-68 34.5,-68 28.5,-68 22.5,-62 22.5,-56 22.5,-56 22.5,-12 22.5,-12 22.5,-6 28.5,-0 34.5,-0 34.5,-0 118.5,-0 118.5,-0 124.5,-0 130.5,-6 130.5,-12 130.5,-12 130.5,-56 130.5,-56 130.5,-62 124.5,-68 118.5,-68\"/>\r\n",
       "<text text-anchor=\"start\" x=\"47.5\" y=\"-52.8\" font-family=\"Helvetica,sans-Serif\" font-size=\"14.00\">gini = 0.0</text>\r\n",
       "<text text-anchor=\"start\" x=\"37\" y=\"-37.8\" font-family=\"Helvetica,sans-Serif\" font-size=\"14.00\">samples = 5</text>\r\n",
       "<text text-anchor=\"start\" x=\"36\" y=\"-22.8\" font-family=\"Helvetica,sans-Serif\" font-size=\"14.00\">value = [0, 5]</text>\r\n",
       "<text text-anchor=\"start\" x=\"30.5\" y=\"-7.8\" font-family=\"Helvetica,sans-Serif\" font-size=\"14.00\">class = benign</text>\r\n",
       "</g>\r\n",
       "<!-- 9&#45;&gt;10 -->\r\n",
       "<g id=\"edge10\" class=\"edge\"><title>9&#45;&gt;10</title>\r\n",
       "<path fill=\"none\" stroke=\"black\" d=\"M118.552,-103.726C113.194,-94.9703 107.524,-85.7032 102.141,-76.9051\"/>\r\n",
       "<polygon fill=\"black\" stroke=\"black\" points=\"105.08,-75.0028 96.8751,-68.2996 99.1089,-78.6563 105.08,-75.0028\"/>\r\n",
       "</g>\r\n",
       "<!-- 11 -->\r\n",
       "<g id=\"node12\" class=\"node\"><title>11</title>\r\n",
       "<path fill=\"#e58139\" stroke=\"black\" d=\"M262,-68C262,-68 161,-68 161,-68 155,-68 149,-62 149,-56 149,-56 149,-12 149,-12 149,-6 155,-0 161,-0 161,-0 262,-0 262,-0 268,-0 274,-6 274,-12 274,-12 274,-56 274,-56 274,-62 268,-68 262,-68\"/>\r\n",
       "<text text-anchor=\"start\" x=\"182.5\" y=\"-52.8\" font-family=\"Helvetica,sans-Serif\" font-size=\"14.00\">gini = 0.0</text>\r\n",
       "<text text-anchor=\"start\" x=\"172\" y=\"-37.8\" font-family=\"Helvetica,sans-Serif\" font-size=\"14.00\">samples = 1</text>\r\n",
       "<text text-anchor=\"start\" x=\"171\" y=\"-22.8\" font-family=\"Helvetica,sans-Serif\" font-size=\"14.00\">value = [1, 0]</text>\r\n",
       "<text text-anchor=\"start\" x=\"157\" y=\"-7.8\" font-family=\"Helvetica,sans-Serif\" font-size=\"14.00\">class = malignant</text>\r\n",
       "</g>\r\n",
       "<!-- 9&#45;&gt;11 -->\r\n",
       "<g id=\"edge11\" class=\"edge\"><title>9&#45;&gt;11</title>\r\n",
       "<path fill=\"none\" stroke=\"black\" d=\"M168.821,-103.726C174.258,-94.9703 180.013,-85.7032 185.477,-76.9051\"/>\r\n",
       "<polygon fill=\"black\" stroke=\"black\" points=\"188.519,-78.6413 190.821,-68.2996 182.572,-74.9484 188.519,-78.6413\"/>\r\n",
       "</g>\r\n",
       "<!-- 15 -->\r\n",
       "<g id=\"node16\" class=\"node\"><title>15</title>\r\n",
       "<path fill=\"#e58139\" stroke=\"black\" d=\"M443,-536.5C443,-536.5 342,-536.5 342,-536.5 336,-536.5 330,-530.5 330,-524.5 330,-524.5 330,-480.5 330,-480.5 330,-474.5 336,-468.5 342,-468.5 342,-468.5 443,-468.5 443,-468.5 449,-468.5 455,-474.5 455,-480.5 455,-480.5 455,-524.5 455,-524.5 455,-530.5 449,-536.5 443,-536.5\"/>\r\n",
       "<text text-anchor=\"start\" x=\"363.5\" y=\"-521.3\" font-family=\"Helvetica,sans-Serif\" font-size=\"14.00\">gini = 0.0</text>\r\n",
       "<text text-anchor=\"start\" x=\"353\" y=\"-506.3\" font-family=\"Helvetica,sans-Serif\" font-size=\"14.00\">samples = 3</text>\r\n",
       "<text text-anchor=\"start\" x=\"352\" y=\"-491.3\" font-family=\"Helvetica,sans-Serif\" font-size=\"14.00\">value = [3, 0]</text>\r\n",
       "<text text-anchor=\"start\" x=\"338\" y=\"-476.3\" font-family=\"Helvetica,sans-Serif\" font-size=\"14.00\">class = malignant</text>\r\n",
       "</g>\r\n",
       "<!-- 14&#45;&gt;15 -->\r\n",
       "<g id=\"edge15\" class=\"edge\"><title>14&#45;&gt;15</title>\r\n",
       "<path fill=\"none\" stroke=\"black\" d=\"M445.397,-579.907C437.605,-568.652 429.136,-556.418 421.304,-545.106\"/>\r\n",
       "<polygon fill=\"black\" stroke=\"black\" points=\"424.032,-542.897 415.462,-536.667 418.276,-546.881 424.032,-542.897\"/>\r\n",
       "</g>\r\n",
       "<!-- 16 -->\r\n",
       "<g id=\"node17\" class=\"node\"><title>16</title>\r\n",
       "<path fill=\"#399de5\" stroke=\"black\" d=\"M569.5,-536.5C569.5,-536.5 485.5,-536.5 485.5,-536.5 479.5,-536.5 473.5,-530.5 473.5,-524.5 473.5,-524.5 473.5,-480.5 473.5,-480.5 473.5,-474.5 479.5,-468.5 485.5,-468.5 485.5,-468.5 569.5,-468.5 569.5,-468.5 575.5,-468.5 581.5,-474.5 581.5,-480.5 581.5,-480.5 581.5,-524.5 581.5,-524.5 581.5,-530.5 575.5,-536.5 569.5,-536.5\"/>\r\n",
       "<text text-anchor=\"start\" x=\"498.5\" y=\"-521.3\" font-family=\"Helvetica,sans-Serif\" font-size=\"14.00\">gini = 0.0</text>\r\n",
       "<text text-anchor=\"start\" x=\"488\" y=\"-506.3\" font-family=\"Helvetica,sans-Serif\" font-size=\"14.00\">samples = 3</text>\r\n",
       "<text text-anchor=\"start\" x=\"487\" y=\"-491.3\" font-family=\"Helvetica,sans-Serif\" font-size=\"14.00\">value = [0, 3]</text>\r\n",
       "<text text-anchor=\"start\" x=\"481.5\" y=\"-476.3\" font-family=\"Helvetica,sans-Serif\" font-size=\"14.00\">class = benign</text>\r\n",
       "</g>\r\n",
       "<!-- 14&#45;&gt;16 -->\r\n",
       "<g id=\"edge16\" class=\"edge\"><title>14&#45;&gt;16</title>\r\n",
       "<path fill=\"none\" stroke=\"black\" d=\"M492.235,-579.907C497.328,-568.873 502.855,-556.898 507.99,-545.773\"/>\r\n",
       "<polygon fill=\"black\" stroke=\"black\" points=\"511.179,-547.213 512.192,-536.667 504.824,-544.28 511.179,-547.213\"/>\r\n",
       "</g>\r\n",
       "<!-- 18 -->\r\n",
       "<g id=\"node19\" class=\"node\"><title>18</title>\r\n",
       "<path fill=\"#399de5\" fill-opacity=\"0.819608\" stroke=\"black\" d=\"M869,-663C869,-663 692,-663 692,-663 686,-663 680,-657 680,-651 680,-651 680,-592 680,-592 680,-586 686,-580 692,-580 692,-580 869,-580 869,-580 875,-580 881,-586 881,-592 881,-592 881,-651 881,-651 881,-657 875,-663 869,-663\"/>\r\n",
       "<text text-anchor=\"start\" x=\"688\" y=\"-647.8\" font-family=\"Helvetica,sans-Serif\" font-size=\"14.00\">worst concave points ≤ 0.139</text>\r\n",
       "<text text-anchor=\"start\" x=\"747\" y=\"-632.8\" font-family=\"Helvetica,sans-Serif\" font-size=\"14.00\">gini = 0.26</text>\r\n",
       "<text text-anchor=\"start\" x=\"737\" y=\"-617.8\" font-family=\"Helvetica,sans-Serif\" font-size=\"14.00\">samples = 13</text>\r\n",
       "<text text-anchor=\"start\" x=\"736\" y=\"-602.8\" font-family=\"Helvetica,sans-Serif\" font-size=\"14.00\">value = [2, 11]</text>\r\n",
       "<text text-anchor=\"start\" x=\"734.5\" y=\"-587.8\" font-family=\"Helvetica,sans-Serif\" font-size=\"14.00\">class = benign</text>\r\n",
       "</g>\r\n",
       "<!-- 17&#45;&gt;18 -->\r\n",
       "<g id=\"edge18\" class=\"edge\"><title>17&#45;&gt;18</title>\r\n",
       "<path fill=\"none\" stroke=\"black\" d=\"M846.459,-698.907C838.624,-689.832 830.241,-680.121 822.169,-670.769\"/>\r\n",
       "<polygon fill=\"black\" stroke=\"black\" points=\"824.663,-668.303 815.48,-663.021 819.365,-672.878 824.663,-668.303\"/>\r\n",
       "</g>\r\n",
       "<!-- 21 -->\r\n",
       "<g id=\"node22\" class=\"node\"><title>21</title>\r\n",
       "<path fill=\"#e58139\" fill-opacity=\"0.882353\" stroke=\"black\" d=\"M1054,-663C1054,-663 911,-663 911,-663 905,-663 899,-657 899,-651 899,-651 899,-592 899,-592 899,-586 905,-580 911,-580 911,-580 1054,-580 1054,-580 1060,-580 1066,-586 1066,-592 1066,-592 1066,-651 1066,-651 1066,-657 1060,-663 1054,-663\"/>\r\n",
       "<text text-anchor=\"start\" x=\"907\" y=\"-647.8\" font-family=\"Helvetica,sans-Serif\" font-size=\"14.00\">worst symmetry ≤ 0.268</text>\r\n",
       "<text text-anchor=\"start\" x=\"945\" y=\"-632.8\" font-family=\"Helvetica,sans-Serif\" font-size=\"14.00\">gini = 0.188</text>\r\n",
       "<text text-anchor=\"start\" x=\"939\" y=\"-617.8\" font-family=\"Helvetica,sans-Serif\" font-size=\"14.00\">samples = 19</text>\r\n",
       "<text text-anchor=\"start\" x=\"938\" y=\"-602.8\" font-family=\"Helvetica,sans-Serif\" font-size=\"14.00\">value = [17, 2]</text>\r\n",
       "<text text-anchor=\"start\" x=\"928\" y=\"-587.8\" font-family=\"Helvetica,sans-Serif\" font-size=\"14.00\">class = malignant</text>\r\n",
       "</g>\r\n",
       "<!-- 17&#45;&gt;21 -->\r\n",
       "<g id=\"edge21\" class=\"edge\"><title>17&#45;&gt;21</title>\r\n",
       "<path fill=\"none\" stroke=\"black\" d=\"M916.541,-698.907C924.376,-689.832 932.759,-680.121 940.831,-670.769\"/>\r\n",
       "<polygon fill=\"black\" stroke=\"black\" points=\"943.635,-672.878 947.52,-663.021 938.337,-668.303 943.635,-672.878\"/>\r\n",
       "</g>\r\n",
       "<!-- 19 -->\r\n",
       "<g id=\"node20\" class=\"node\"><title>19</title>\r\n",
       "<path fill=\"#e58139\" stroke=\"black\" d=\"M713,-536.5C713,-536.5 612,-536.5 612,-536.5 606,-536.5 600,-530.5 600,-524.5 600,-524.5 600,-480.5 600,-480.5 600,-474.5 606,-468.5 612,-468.5 612,-468.5 713,-468.5 713,-468.5 719,-468.5 725,-474.5 725,-480.5 725,-480.5 725,-524.5 725,-524.5 725,-530.5 719,-536.5 713,-536.5\"/>\r\n",
       "<text text-anchor=\"start\" x=\"633.5\" y=\"-521.3\" font-family=\"Helvetica,sans-Serif\" font-size=\"14.00\">gini = 0.0</text>\r\n",
       "<text text-anchor=\"start\" x=\"623\" y=\"-506.3\" font-family=\"Helvetica,sans-Serif\" font-size=\"14.00\">samples = 2</text>\r\n",
       "<text text-anchor=\"start\" x=\"622\" y=\"-491.3\" font-family=\"Helvetica,sans-Serif\" font-size=\"14.00\">value = [2, 0]</text>\r\n",
       "<text text-anchor=\"start\" x=\"608\" y=\"-476.3\" font-family=\"Helvetica,sans-Serif\" font-size=\"14.00\">class = malignant</text>\r\n",
       "</g>\r\n",
       "<!-- 18&#45;&gt;19 -->\r\n",
       "<g id=\"edge19\" class=\"edge\"><title>18&#45;&gt;19</title>\r\n",
       "<path fill=\"none\" stroke=\"black\" d=\"M739.56,-579.907C727.764,-568.211 714.901,-555.457 703.124,-543.78\"/>\r\n",
       "<polygon fill=\"black\" stroke=\"black\" points=\"705.516,-541.222 695.95,-536.667 700.587,-546.193 705.516,-541.222\"/>\r\n",
       "</g>\r\n",
       "<!-- 20 -->\r\n",
       "<g id=\"node21\" class=\"node\"><title>20</title>\r\n",
       "<path fill=\"#399de5\" stroke=\"black\" d=\"M839.5,-536.5C839.5,-536.5 755.5,-536.5 755.5,-536.5 749.5,-536.5 743.5,-530.5 743.5,-524.5 743.5,-524.5 743.5,-480.5 743.5,-480.5 743.5,-474.5 749.5,-468.5 755.5,-468.5 755.5,-468.5 839.5,-468.5 839.5,-468.5 845.5,-468.5 851.5,-474.5 851.5,-480.5 851.5,-480.5 851.5,-524.5 851.5,-524.5 851.5,-530.5 845.5,-536.5 839.5,-536.5\"/>\r\n",
       "<text text-anchor=\"start\" x=\"768.5\" y=\"-521.3\" font-family=\"Helvetica,sans-Serif\" font-size=\"14.00\">gini = 0.0</text>\r\n",
       "<text text-anchor=\"start\" x=\"754\" y=\"-506.3\" font-family=\"Helvetica,sans-Serif\" font-size=\"14.00\">samples = 11</text>\r\n",
       "<text text-anchor=\"start\" x=\"753\" y=\"-491.3\" font-family=\"Helvetica,sans-Serif\" font-size=\"14.00\">value = [0, 11]</text>\r\n",
       "<text text-anchor=\"start\" x=\"751.5\" y=\"-476.3\" font-family=\"Helvetica,sans-Serif\" font-size=\"14.00\">class = benign</text>\r\n",
       "</g>\r\n",
       "<!-- 18&#45;&gt;20 -->\r\n",
       "<g id=\"edge20\" class=\"edge\"><title>18&#45;&gt;20</title>\r\n",
       "<path fill=\"none\" stroke=\"black\" d=\"M786.398,-579.907C787.953,-569.204 789.637,-557.615 791.212,-546.776\"/>\r\n",
       "<polygon fill=\"black\" stroke=\"black\" points=\"794.707,-547.066 792.681,-536.667 787.779,-546.06 794.707,-547.066\"/>\r\n",
       "</g>\r\n",
       "<!-- 22 -->\r\n",
       "<g id=\"node23\" class=\"node\"><title>22</title>\r\n",
       "<path fill=\"#399de5\" fill-opacity=\"0.498039\" stroke=\"black\" d=\"M1051,-544C1051,-544 882,-544 882,-544 876,-544 870,-538 870,-532 870,-532 870,-473 870,-473 870,-467 876,-461 882,-461 882,-461 1051,-461 1051,-461 1057,-461 1063,-467 1063,-473 1063,-473 1063,-532 1063,-532 1063,-538 1057,-544 1051,-544\"/>\r\n",
       "<text text-anchor=\"start\" x=\"878\" y=\"-528.8\" font-family=\"Helvetica,sans-Serif\" font-size=\"14.00\">mean compactness ≤ 0.107</text>\r\n",
       "<text text-anchor=\"start\" x=\"929\" y=\"-513.8\" font-family=\"Helvetica,sans-Serif\" font-size=\"14.00\">gini = 0.444</text>\r\n",
       "<text text-anchor=\"start\" x=\"927\" y=\"-498.8\" font-family=\"Helvetica,sans-Serif\" font-size=\"14.00\">samples = 3</text>\r\n",
       "<text text-anchor=\"start\" x=\"926\" y=\"-483.8\" font-family=\"Helvetica,sans-Serif\" font-size=\"14.00\">value = [1, 2]</text>\r\n",
       "<text text-anchor=\"start\" x=\"920.5\" y=\"-468.8\" font-family=\"Helvetica,sans-Serif\" font-size=\"14.00\">class = benign</text>\r\n",
       "</g>\r\n",
       "<!-- 21&#45;&gt;22 -->\r\n",
       "<g id=\"edge22\" class=\"edge\"><title>21&#45;&gt;22</title>\r\n",
       "<path fill=\"none\" stroke=\"black\" d=\"M976.949,-579.907C975.807,-571.558 974.592,-562.671 973.409,-554.02\"/>\r\n",
       "<polygon fill=\"black\" stroke=\"black\" points=\"976.864,-553.454 972.041,-544.021 969.929,-554.403 976.864,-553.454\"/>\r\n",
       "</g>\r\n",
       "<!-- 25 -->\r\n",
       "<g id=\"node26\" class=\"node\"><title>25</title>\r\n",
       "<path fill=\"#e58139\" stroke=\"black\" d=\"M1194,-536.5C1194,-536.5 1093,-536.5 1093,-536.5 1087,-536.5 1081,-530.5 1081,-524.5 1081,-524.5 1081,-480.5 1081,-480.5 1081,-474.5 1087,-468.5 1093,-468.5 1093,-468.5 1194,-468.5 1194,-468.5 1200,-468.5 1206,-474.5 1206,-480.5 1206,-480.5 1206,-524.5 1206,-524.5 1206,-530.5 1200,-536.5 1194,-536.5\"/>\r\n",
       "<text text-anchor=\"start\" x=\"1114.5\" y=\"-521.3\" font-family=\"Helvetica,sans-Serif\" font-size=\"14.00\">gini = 0.0</text>\r\n",
       "<text text-anchor=\"start\" x=\"1100\" y=\"-506.3\" font-family=\"Helvetica,sans-Serif\" font-size=\"14.00\">samples = 16</text>\r\n",
       "<text text-anchor=\"start\" x=\"1099\" y=\"-491.3\" font-family=\"Helvetica,sans-Serif\" font-size=\"14.00\">value = [16, 0]</text>\r\n",
       "<text text-anchor=\"start\" x=\"1089\" y=\"-476.3\" font-family=\"Helvetica,sans-Serif\" font-size=\"14.00\">class = malignant</text>\r\n",
       "</g>\r\n",
       "<!-- 21&#45;&gt;25 -->\r\n",
       "<g id=\"edge25\" class=\"edge\"><title>21&#45;&gt;25</title>\r\n",
       "<path fill=\"none\" stroke=\"black\" d=\"M1038.36,-579.907C1054.91,-567.88 1073,-554.735 1089.43,-542.791\"/>\r\n",
       "<polygon fill=\"black\" stroke=\"black\" points=\"1091.83,-545.377 1097.86,-536.667 1087.71,-539.714 1091.83,-545.377\"/>\r\n",
       "</g>\r\n",
       "<!-- 23 -->\r\n",
       "<g id=\"node24\" class=\"node\"><title>23</title>\r\n",
       "<path fill=\"#e58139\" stroke=\"black\" d=\"M949,-417.5C949,-417.5 848,-417.5 848,-417.5 842,-417.5 836,-411.5 836,-405.5 836,-405.5 836,-361.5 836,-361.5 836,-355.5 842,-349.5 848,-349.5 848,-349.5 949,-349.5 949,-349.5 955,-349.5 961,-355.5 961,-361.5 961,-361.5 961,-405.5 961,-405.5 961,-411.5 955,-417.5 949,-417.5\"/>\r\n",
       "<text text-anchor=\"start\" x=\"869.5\" y=\"-402.3\" font-family=\"Helvetica,sans-Serif\" font-size=\"14.00\">gini = 0.0</text>\r\n",
       "<text text-anchor=\"start\" x=\"859\" y=\"-387.3\" font-family=\"Helvetica,sans-Serif\" font-size=\"14.00\">samples = 1</text>\r\n",
       "<text text-anchor=\"start\" x=\"858\" y=\"-372.3\" font-family=\"Helvetica,sans-Serif\" font-size=\"14.00\">value = [1, 0]</text>\r\n",
       "<text text-anchor=\"start\" x=\"844\" y=\"-357.3\" font-family=\"Helvetica,sans-Serif\" font-size=\"14.00\">class = malignant</text>\r\n",
       "</g>\r\n",
       "<!-- 22&#45;&gt;23 -->\r\n",
       "<g id=\"edge23\" class=\"edge\"><title>22&#45;&gt;23</title>\r\n",
       "<path fill=\"none\" stroke=\"black\" d=\"M942.908,-460.907C936.43,-449.763 929.395,-437.658 922.875,-426.439\"/>\r\n",
       "<polygon fill=\"black\" stroke=\"black\" points=\"925.828,-424.554 917.777,-417.667 919.775,-428.072 925.828,-424.554\"/>\r\n",
       "</g>\r\n",
       "<!-- 24 -->\r\n",
       "<g id=\"node25\" class=\"node\"><title>24</title>\r\n",
       "<path fill=\"#399de5\" stroke=\"black\" d=\"M1075.5,-417.5C1075.5,-417.5 991.5,-417.5 991.5,-417.5 985.5,-417.5 979.5,-411.5 979.5,-405.5 979.5,-405.5 979.5,-361.5 979.5,-361.5 979.5,-355.5 985.5,-349.5 991.5,-349.5 991.5,-349.5 1075.5,-349.5 1075.5,-349.5 1081.5,-349.5 1087.5,-355.5 1087.5,-361.5 1087.5,-361.5 1087.5,-405.5 1087.5,-405.5 1087.5,-411.5 1081.5,-417.5 1075.5,-417.5\"/>\r\n",
       "<text text-anchor=\"start\" x=\"1004.5\" y=\"-402.3\" font-family=\"Helvetica,sans-Serif\" font-size=\"14.00\">gini = 0.0</text>\r\n",
       "<text text-anchor=\"start\" x=\"994\" y=\"-387.3\" font-family=\"Helvetica,sans-Serif\" font-size=\"14.00\">samples = 2</text>\r\n",
       "<text text-anchor=\"start\" x=\"993\" y=\"-372.3\" font-family=\"Helvetica,sans-Serif\" font-size=\"14.00\">value = [0, 2]</text>\r\n",
       "<text text-anchor=\"start\" x=\"987.5\" y=\"-357.3\" font-family=\"Helvetica,sans-Serif\" font-size=\"14.00\">class = benign</text>\r\n",
       "</g>\r\n",
       "<!-- 22&#45;&gt;24 -->\r\n",
       "<g id=\"edge24\" class=\"edge\"><title>22&#45;&gt;24</title>\r\n",
       "<path fill=\"none\" stroke=\"black\" d=\"M989.745,-460.907C996.127,-449.763 1003.06,-437.658 1009.48,-426.439\"/>\r\n",
       "<polygon fill=\"black\" stroke=\"black\" points=\"1012.57,-428.084 1014.51,-417.667 1006.5,-424.606 1012.57,-428.084\"/>\r\n",
       "</g>\r\n",
       "<!-- 27 -->\r\n",
       "<g id=\"node28\" class=\"node\"><title>27</title>\r\n",
       "<path fill=\"#e58139\" fill-opacity=\"0.250980\" stroke=\"black\" d=\"M1409.5,-782C1409.5,-782 1249.5,-782 1249.5,-782 1243.5,-782 1237.5,-776 1237.5,-770 1237.5,-770 1237.5,-711 1237.5,-711 1237.5,-705 1243.5,-699 1249.5,-699 1249.5,-699 1409.5,-699 1409.5,-699 1415.5,-699 1421.5,-705 1421.5,-711 1421.5,-711 1421.5,-770 1421.5,-770 1421.5,-776 1415.5,-782 1409.5,-782\"/>\r\n",
       "<text text-anchor=\"start\" x=\"1245.5\" y=\"-766.8\" font-family=\"Helvetica,sans-Serif\" font-size=\"14.00\">worst smoothness ≤ 0.137</text>\r\n",
       "<text text-anchor=\"start\" x=\"1296\" y=\"-751.8\" font-family=\"Helvetica,sans-Serif\" font-size=\"14.00\">gini = 0.49</text>\r\n",
       "<text text-anchor=\"start\" x=\"1286\" y=\"-736.8\" font-family=\"Helvetica,sans-Serif\" font-size=\"14.00\">samples = 14</text>\r\n",
       "<text text-anchor=\"start\" x=\"1289\" y=\"-721.8\" font-family=\"Helvetica,sans-Serif\" font-size=\"14.00\">value = [8, 6]</text>\r\n",
       "<text text-anchor=\"start\" x=\"1275\" y=\"-706.8\" font-family=\"Helvetica,sans-Serif\" font-size=\"14.00\">class = malignant</text>\r\n",
       "</g>\r\n",
       "<!-- 26&#45;&gt;27 -->\r\n",
       "<g id=\"edge27\" class=\"edge\"><title>26&#45;&gt;27</title>\r\n",
       "<path fill=\"none\" stroke=\"black\" d=\"M1329.5,-817.907C1329.5,-809.649 1329.5,-800.864 1329.5,-792.302\"/>\r\n",
       "<polygon fill=\"black\" stroke=\"black\" points=\"1333,-792.021 1329.5,-782.021 1326,-792.021 1333,-792.021\"/>\r\n",
       "</g>\r\n",
       "<!-- 32 -->\r\n",
       "<g id=\"node33\" class=\"node\"><title>32</title>\r\n",
       "<path fill=\"#e58139\" fill-opacity=\"0.992157\" stroke=\"black\" d=\"M1673,-782C1673,-782 1496,-782 1496,-782 1490,-782 1484,-776 1484,-770 1484,-770 1484,-711 1484,-711 1484,-705 1490,-699 1496,-699 1496,-699 1673,-699 1673,-699 1679,-699 1685,-705 1685,-711 1685,-711 1685,-770 1685,-770 1685,-776 1679,-782 1673,-782\"/>\r\n",
       "<text text-anchor=\"start\" x=\"1492\" y=\"-766.8\" font-family=\"Helvetica,sans-Serif\" font-size=\"14.00\">worst concave points ≤ 0.086</text>\r\n",
       "<text text-anchor=\"start\" x=\"1547\" y=\"-751.8\" font-family=\"Helvetica,sans-Serif\" font-size=\"14.00\">gini = 0.016</text>\r\n",
       "<text text-anchor=\"start\" x=\"1537\" y=\"-736.8\" font-family=\"Helvetica,sans-Serif\" font-size=\"14.00\">samples = 127</text>\r\n",
       "<text text-anchor=\"start\" x=\"1536\" y=\"-721.8\" font-family=\"Helvetica,sans-Serif\" font-size=\"14.00\">value = [126, 1]</text>\r\n",
       "<text text-anchor=\"start\" x=\"1530\" y=\"-706.8\" font-family=\"Helvetica,sans-Serif\" font-size=\"14.00\">class = malignant</text>\r\n",
       "</g>\r\n",
       "<!-- 26&#45;&gt;32 -->\r\n",
       "<g id=\"edge32\" class=\"edge\"><title>26&#45;&gt;32</title>\r\n",
       "<path fill=\"none\" stroke=\"black\" d=\"M1417.26,-818.235C1439.67,-807.952 1463.9,-796.834 1486.78,-786.337\"/>\r\n",
       "<polygon fill=\"black\" stroke=\"black\" points=\"1488.52,-789.389 1496.15,-782.037 1485.6,-783.027 1488.52,-789.389\"/>\r\n",
       "</g>\r\n",
       "<!-- 28 -->\r\n",
       "<g id=\"node29\" class=\"node\"><title>28</title>\r\n",
       "<path fill=\"#399de5\" fill-opacity=\"0.666667\" stroke=\"black\" d=\"M1356.5,-663C1356.5,-663 1216.5,-663 1216.5,-663 1210.5,-663 1204.5,-657 1204.5,-651 1204.5,-651 1204.5,-592 1204.5,-592 1204.5,-586 1210.5,-580 1216.5,-580 1216.5,-580 1356.5,-580 1356.5,-580 1362.5,-580 1368.5,-586 1368.5,-592 1368.5,-592 1368.5,-651 1368.5,-651 1368.5,-657 1362.5,-663 1356.5,-663\"/>\r\n",
       "<text text-anchor=\"start\" x=\"1212.5\" y=\"-647.8\" font-family=\"Helvetica,sans-Serif\" font-size=\"14.00\">symmetry error ≤ 0.013</text>\r\n",
       "<text text-anchor=\"start\" x=\"1249\" y=\"-632.8\" font-family=\"Helvetica,sans-Serif\" font-size=\"14.00\">gini = 0.375</text>\r\n",
       "<text text-anchor=\"start\" x=\"1247\" y=\"-617.8\" font-family=\"Helvetica,sans-Serif\" font-size=\"14.00\">samples = 8</text>\r\n",
       "<text text-anchor=\"start\" x=\"1246\" y=\"-602.8\" font-family=\"Helvetica,sans-Serif\" font-size=\"14.00\">value = [2, 6]</text>\r\n",
       "<text text-anchor=\"start\" x=\"1240.5\" y=\"-587.8\" font-family=\"Helvetica,sans-Serif\" font-size=\"14.00\">class = benign</text>\r\n",
       "</g>\r\n",
       "<!-- 27&#45;&gt;28 -->\r\n",
       "<g id=\"edge28\" class=\"edge\"><title>27&#45;&gt;28</title>\r\n",
       "<path fill=\"none\" stroke=\"black\" d=\"M1314.58,-698.907C1311.45,-690.377 1308.1,-681.284 1304.86,-672.456\"/>\r\n",
       "<polygon fill=\"black\" stroke=\"black\" points=\"1308.13,-671.2 1301.39,-663.021 1301.56,-673.614 1308.13,-671.2\"/>\r\n",
       "</g>\r\n",
       "<!-- 31 -->\r\n",
       "<g id=\"node32\" class=\"node\"><title>31</title>\r\n",
       "<path fill=\"#e58139\" stroke=\"black\" d=\"M1500,-655.5C1500,-655.5 1399,-655.5 1399,-655.5 1393,-655.5 1387,-649.5 1387,-643.5 1387,-643.5 1387,-599.5 1387,-599.5 1387,-593.5 1393,-587.5 1399,-587.5 1399,-587.5 1500,-587.5 1500,-587.5 1506,-587.5 1512,-593.5 1512,-599.5 1512,-599.5 1512,-643.5 1512,-643.5 1512,-649.5 1506,-655.5 1500,-655.5\"/>\r\n",
       "<text text-anchor=\"start\" x=\"1420.5\" y=\"-640.3\" font-family=\"Helvetica,sans-Serif\" font-size=\"14.00\">gini = 0.0</text>\r\n",
       "<text text-anchor=\"start\" x=\"1410\" y=\"-625.3\" font-family=\"Helvetica,sans-Serif\" font-size=\"14.00\">samples = 6</text>\r\n",
       "<text text-anchor=\"start\" x=\"1409\" y=\"-610.3\" font-family=\"Helvetica,sans-Serif\" font-size=\"14.00\">value = [6, 0]</text>\r\n",
       "<text text-anchor=\"start\" x=\"1395\" y=\"-595.3\" font-family=\"Helvetica,sans-Serif\" font-size=\"14.00\">class = malignant</text>\r\n",
       "</g>\r\n",
       "<!-- 27&#45;&gt;31 -->\r\n",
       "<g id=\"edge31\" class=\"edge\"><title>27&#45;&gt;31</title>\r\n",
       "<path fill=\"none\" stroke=\"black\" d=\"M1371.13,-698.907C1383.13,-687.211 1396.21,-674.457 1408.19,-662.78\"/>\r\n",
       "<polygon fill=\"black\" stroke=\"black\" points=\"1410.77,-665.154 1415.48,-655.667 1405.88,-660.142 1410.77,-665.154\"/>\r\n",
       "</g>\r\n",
       "<!-- 29 -->\r\n",
       "<g id=\"node30\" class=\"node\"><title>29</title>\r\n",
       "<path fill=\"#e58139\" stroke=\"black\" d=\"M1337,-536.5C1337,-536.5 1236,-536.5 1236,-536.5 1230,-536.5 1224,-530.5 1224,-524.5 1224,-524.5 1224,-480.5 1224,-480.5 1224,-474.5 1230,-468.5 1236,-468.5 1236,-468.5 1337,-468.5 1337,-468.5 1343,-468.5 1349,-474.5 1349,-480.5 1349,-480.5 1349,-524.5 1349,-524.5 1349,-530.5 1343,-536.5 1337,-536.5\"/>\r\n",
       "<text text-anchor=\"start\" x=\"1257.5\" y=\"-521.3\" font-family=\"Helvetica,sans-Serif\" font-size=\"14.00\">gini = 0.0</text>\r\n",
       "<text text-anchor=\"start\" x=\"1247\" y=\"-506.3\" font-family=\"Helvetica,sans-Serif\" font-size=\"14.00\">samples = 2</text>\r\n",
       "<text text-anchor=\"start\" x=\"1246\" y=\"-491.3\" font-family=\"Helvetica,sans-Serif\" font-size=\"14.00\">value = [2, 0]</text>\r\n",
       "<text text-anchor=\"start\" x=\"1232\" y=\"-476.3\" font-family=\"Helvetica,sans-Serif\" font-size=\"14.00\">class = malignant</text>\r\n",
       "</g>\r\n",
       "<!-- 28&#45;&gt;29 -->\r\n",
       "<g id=\"edge29\" class=\"edge\"><title>28&#45;&gt;29</title>\r\n",
       "<path fill=\"none\" stroke=\"black\" d=\"M1286.5,-579.907C1286.5,-569.204 1286.5,-557.615 1286.5,-546.776\"/>\r\n",
       "<polygon fill=\"black\" stroke=\"black\" points=\"1290,-546.667 1286.5,-536.667 1283,-546.667 1290,-546.667\"/>\r\n",
       "</g>\r\n",
       "<!-- 30 -->\r\n",
       "<g id=\"node31\" class=\"node\"><title>30</title>\r\n",
       "<path fill=\"#399de5\" stroke=\"black\" d=\"M1463.5,-536.5C1463.5,-536.5 1379.5,-536.5 1379.5,-536.5 1373.5,-536.5 1367.5,-530.5 1367.5,-524.5 1367.5,-524.5 1367.5,-480.5 1367.5,-480.5 1367.5,-474.5 1373.5,-468.5 1379.5,-468.5 1379.5,-468.5 1463.5,-468.5 1463.5,-468.5 1469.5,-468.5 1475.5,-474.5 1475.5,-480.5 1475.5,-480.5 1475.5,-524.5 1475.5,-524.5 1475.5,-530.5 1469.5,-536.5 1463.5,-536.5\"/>\r\n",
       "<text text-anchor=\"start\" x=\"1392.5\" y=\"-521.3\" font-family=\"Helvetica,sans-Serif\" font-size=\"14.00\">gini = 0.0</text>\r\n",
       "<text text-anchor=\"start\" x=\"1382\" y=\"-506.3\" font-family=\"Helvetica,sans-Serif\" font-size=\"14.00\">samples = 6</text>\r\n",
       "<text text-anchor=\"start\" x=\"1381\" y=\"-491.3\" font-family=\"Helvetica,sans-Serif\" font-size=\"14.00\">value = [0, 6]</text>\r\n",
       "<text text-anchor=\"start\" x=\"1375.5\" y=\"-476.3\" font-family=\"Helvetica,sans-Serif\" font-size=\"14.00\">class = benign</text>\r\n",
       "</g>\r\n",
       "<!-- 28&#45;&gt;30 -->\r\n",
       "<g id=\"edge30\" class=\"edge\"><title>28&#45;&gt;30</title>\r\n",
       "<path fill=\"none\" stroke=\"black\" d=\"M1333.34,-579.907C1346.96,-568.101 1361.83,-555.217 1375.4,-543.45\"/>\r\n",
       "<polygon fill=\"black\" stroke=\"black\" points=\"1377.97,-545.861 1383.23,-536.667 1373.38,-540.571 1377.97,-545.861\"/>\r\n",
       "</g>\r\n",
       "<!-- 33 -->\r\n",
       "<g id=\"node34\" class=\"node\"><title>33</title>\r\n",
       "<path fill=\"#399de5\" stroke=\"black\" d=\"M1626.5,-655.5C1626.5,-655.5 1542.5,-655.5 1542.5,-655.5 1536.5,-655.5 1530.5,-649.5 1530.5,-643.5 1530.5,-643.5 1530.5,-599.5 1530.5,-599.5 1530.5,-593.5 1536.5,-587.5 1542.5,-587.5 1542.5,-587.5 1626.5,-587.5 1626.5,-587.5 1632.5,-587.5 1638.5,-593.5 1638.5,-599.5 1638.5,-599.5 1638.5,-643.5 1638.5,-643.5 1638.5,-649.5 1632.5,-655.5 1626.5,-655.5\"/>\r\n",
       "<text text-anchor=\"start\" x=\"1555.5\" y=\"-640.3\" font-family=\"Helvetica,sans-Serif\" font-size=\"14.00\">gini = 0.0</text>\r\n",
       "<text text-anchor=\"start\" x=\"1545\" y=\"-625.3\" font-family=\"Helvetica,sans-Serif\" font-size=\"14.00\">samples = 1</text>\r\n",
       "<text text-anchor=\"start\" x=\"1544\" y=\"-610.3\" font-family=\"Helvetica,sans-Serif\" font-size=\"14.00\">value = [0, 1]</text>\r\n",
       "<text text-anchor=\"start\" x=\"1538.5\" y=\"-595.3\" font-family=\"Helvetica,sans-Serif\" font-size=\"14.00\">class = benign</text>\r\n",
       "</g>\r\n",
       "<!-- 32&#45;&gt;33 -->\r\n",
       "<g id=\"edge33\" class=\"edge\"><title>32&#45;&gt;33</title>\r\n",
       "<path fill=\"none\" stroke=\"black\" d=\"M1584.5,-698.907C1584.5,-688.204 1584.5,-676.615 1584.5,-665.776\"/>\r\n",
       "<polygon fill=\"black\" stroke=\"black\" points=\"1588,-665.667 1584.5,-655.667 1581,-665.667 1588,-665.667\"/>\r\n",
       "</g>\r\n",
       "<!-- 34 -->\r\n",
       "<g id=\"node35\" class=\"node\"><title>34</title>\r\n",
       "<path fill=\"#e58139\" stroke=\"black\" d=\"M1770,-655.5C1770,-655.5 1669,-655.5 1669,-655.5 1663,-655.5 1657,-649.5 1657,-643.5 1657,-643.5 1657,-599.5 1657,-599.5 1657,-593.5 1663,-587.5 1669,-587.5 1669,-587.5 1770,-587.5 1770,-587.5 1776,-587.5 1782,-593.5 1782,-599.5 1782,-599.5 1782,-643.5 1782,-643.5 1782,-649.5 1776,-655.5 1770,-655.5\"/>\r\n",
       "<text text-anchor=\"start\" x=\"1690.5\" y=\"-640.3\" font-family=\"Helvetica,sans-Serif\" font-size=\"14.00\">gini = 0.0</text>\r\n",
       "<text text-anchor=\"start\" x=\"1672\" y=\"-625.3\" font-family=\"Helvetica,sans-Serif\" font-size=\"14.00\">samples = 126</text>\r\n",
       "<text text-anchor=\"start\" x=\"1671\" y=\"-610.3\" font-family=\"Helvetica,sans-Serif\" font-size=\"14.00\">value = [126, 0]</text>\r\n",
       "<text text-anchor=\"start\" x=\"1665\" y=\"-595.3\" font-family=\"Helvetica,sans-Serif\" font-size=\"14.00\">class = malignant</text>\r\n",
       "</g>\r\n",
       "<!-- 32&#45;&gt;34 -->\r\n",
       "<g id=\"edge34\" class=\"edge\"><title>32&#45;&gt;34</title>\r\n",
       "<path fill=\"none\" stroke=\"black\" d=\"M1631.34,-698.907C1644.96,-687.101 1659.83,-674.217 1673.4,-662.45\"/>\r\n",
       "<polygon fill=\"black\" stroke=\"black\" points=\"1675.97,-664.861 1681.23,-655.667 1671.38,-659.571 1675.97,-664.861\"/>\r\n",
       "</g>\r\n",
       "</g>\r\n",
       "</svg>\r\n"
      ],
      "text/plain": [
       "<graphviz.files.Source at 0x57e1f90>"
      ]
     },
     "execution_count": 29,
     "metadata": {},
     "output_type": "execute_result"
    }
   ],
   "source": [
    "import graphviz\n",
    "\n",
    "# export the dot data file into a variable\n",
    "dot_data = tree.export_graphviz(classifier, out_file=None,\n",
    "                                feature_names=iris.feature_names,  \n",
    "                                class_names=iris.target_names,  \n",
    "                                filled=True, rounded=True,  \n",
    "                                special_characters=True) \n",
    "\n",
    "# create the graph\n",
    "graph = graphviz.Source(dot_data) \n",
    "\n",
    "# and display the graph\n",
    "graph"
   ]
  },
  {
   "cell_type": "markdown",
   "metadata": {},
   "source": [
    "<img src=\"./pics/breast-cancer-decision-tree.png\">"
   ]
  },
  {
   "cell_type": "code",
   "execution_count": 59,
   "metadata": {},
   "outputs": [
    {
     "data": {
      "image/svg+xml": [
       "<?xml version=\"1.0\" encoding=\"UTF-8\" standalone=\"no\"?>\r\n",
       "<!DOCTYPE svg PUBLIC \"-//W3C//DTD SVG 1.1//EN\"\r\n",
       " \"http://www.w3.org/Graphics/SVG/1.1/DTD/svg11.dtd\">\r\n",
       "<!-- Generated by graphviz version 2.38.0 (20140413.2041)\r\n",
       " -->\r\n",
       "<!-- Title: Tree Pages: 1 -->\r\n",
       "<svg width=\"365pt\" height=\"433pt\"\r\n",
       " viewBox=\"0.00 0.00 365.00 433.00\" xmlns=\"http://www.w3.org/2000/svg\" xmlns:xlink=\"http://www.w3.org/1999/xlink\">\r\n",
       "<g id=\"graph0\" class=\"graph\" transform=\"scale(1 1) rotate(0) translate(4 429)\">\r\n",
       "<title>Tree</title>\r\n",
       "<polygon fill=\"white\" stroke=\"none\" points=\"-4,4 -4,-429 361,-429 361,4 -4,4\"/>\r\n",
       "<!-- 0 -->\r\n",
       "<g id=\"node1\" class=\"node\"><title>0</title>\r\n",
       "<path fill=\"#39e581\" fill-opacity=\"0.039216\" stroke=\"black\" d=\"M203,-425C203,-425 76,-425 76,-425 70,-425 64,-419 64,-413 64,-413 64,-354 64,-354 64,-348 70,-342 76,-342 76,-342 203,-342 203,-342 209,-342 215,-348 215,-354 215,-354 215,-413 215,-413 215,-419 209,-425 203,-425\"/>\r\n",
       "<text text-anchor=\"start\" x=\"72\" y=\"-409.8\" font-family=\"Helvetica,sans-Serif\" font-size=\"14.00\">petal width (cm) ≤ 0.8</text>\r\n",
       "<text text-anchor=\"start\" x=\"102\" y=\"-394.8\" font-family=\"Helvetica,sans-Serif\" font-size=\"14.00\">gini = 0.663</text>\r\n",
       "<text text-anchor=\"start\" x=\"96\" y=\"-379.8\" font-family=\"Helvetica,sans-Serif\" font-size=\"14.00\">samples = 38</text>\r\n",
       "<text text-anchor=\"start\" x=\"79\" y=\"-364.8\" font-family=\"Helvetica,sans-Serif\" font-size=\"14.00\">value = [11, 14, 13]</text>\r\n",
       "<text text-anchor=\"start\" x=\"84\" y=\"-349.8\" font-family=\"Helvetica,sans-Serif\" font-size=\"14.00\">class = versicolor</text>\r\n",
       "</g>\r\n",
       "<!-- 1 -->\r\n",
       "<g id=\"node2\" class=\"node\"><title>1</title>\r\n",
       "<path fill=\"#e58139\" stroke=\"black\" d=\"M109,-298.5C109,-298.5 12,-298.5 12,-298.5 6,-298.5 0,-292.5 0,-286.5 0,-286.5 0,-242.5 0,-242.5 0,-236.5 6,-230.5 12,-230.5 12,-230.5 109,-230.5 109,-230.5 115,-230.5 121,-236.5 121,-242.5 121,-242.5 121,-286.5 121,-286.5 121,-292.5 115,-298.5 109,-298.5\"/>\r\n",
       "<text text-anchor=\"start\" x=\"31.5\" y=\"-283.3\" font-family=\"Helvetica,sans-Serif\" font-size=\"14.00\">gini = 0.0</text>\r\n",
       "<text text-anchor=\"start\" x=\"17\" y=\"-268.3\" font-family=\"Helvetica,sans-Serif\" font-size=\"14.00\">samples = 11</text>\r\n",
       "<text text-anchor=\"start\" x=\"8\" y=\"-253.3\" font-family=\"Helvetica,sans-Serif\" font-size=\"14.00\">value = [11, 0, 0]</text>\r\n",
       "<text text-anchor=\"start\" x=\"14.5\" y=\"-238.3\" font-family=\"Helvetica,sans-Serif\" font-size=\"14.00\">class = setosa</text>\r\n",
       "</g>\r\n",
       "<!-- 0&#45;&gt;1 -->\r\n",
       "<g id=\"edge1\" class=\"edge\"><title>0&#45;&gt;1</title>\r\n",
       "<path fill=\"none\" stroke=\"black\" d=\"M112.091,-341.907C104.492,-330.652 96.2312,-318.418 88.5931,-307.106\"/>\r\n",
       "<polygon fill=\"black\" stroke=\"black\" points=\"91.3914,-304.996 82.8948,-298.667 85.5901,-308.913 91.3914,-304.996\"/>\r\n",
       "<text text-anchor=\"middle\" x=\"78.1364\" y=\"-319.51\" font-family=\"Helvetica,sans-Serif\" font-size=\"14.00\">True</text>\r\n",
       "</g>\r\n",
       "<!-- 2 -->\r\n",
       "<g id=\"node3\" class=\"node\"><title>2</title>\r\n",
       "<path fill=\"#39e581\" fill-opacity=\"0.070588\" stroke=\"black\" d=\"M286,-306C286,-306 151,-306 151,-306 145,-306 139,-300 139,-294 139,-294 139,-235 139,-235 139,-229 145,-223 151,-223 151,-223 286,-223 286,-223 292,-223 298,-229 298,-235 298,-235 298,-294 298,-294 298,-300 292,-306 286,-306\"/>\r\n",
       "<text text-anchor=\"start\" x=\"147\" y=\"-290.8\" font-family=\"Helvetica,sans-Serif\" font-size=\"14.00\">petal width (cm) ≤ 1.65</text>\r\n",
       "<text text-anchor=\"start\" x=\"181\" y=\"-275.8\" font-family=\"Helvetica,sans-Serif\" font-size=\"14.00\">gini = 0.499</text>\r\n",
       "<text text-anchor=\"start\" x=\"175\" y=\"-260.8\" font-family=\"Helvetica,sans-Serif\" font-size=\"14.00\">samples = 27</text>\r\n",
       "<text text-anchor=\"start\" x=\"162\" y=\"-245.8\" font-family=\"Helvetica,sans-Serif\" font-size=\"14.00\">value = [0, 14, 13]</text>\r\n",
       "<text text-anchor=\"start\" x=\"163\" y=\"-230.8\" font-family=\"Helvetica,sans-Serif\" font-size=\"14.00\">class = versicolor</text>\r\n",
       "</g>\r\n",
       "<!-- 0&#45;&gt;2 -->\r\n",
       "<g id=\"edge2\" class=\"edge\"><title>0&#45;&gt;2</title>\r\n",
       "<path fill=\"none\" stroke=\"black\" d=\"M166.909,-341.907C172.914,-333.014 179.331,-323.509 185.529,-314.331\"/>\r\n",
       "<polygon fill=\"black\" stroke=\"black\" points=\"188.444,-316.267 191.14,-306.021 182.643,-312.35 188.444,-316.267\"/>\r\n",
       "<text text-anchor=\"middle\" x=\"195.898\" y=\"-326.864\" font-family=\"Helvetica,sans-Serif\" font-size=\"14.00\">False</text>\r\n",
       "</g>\r\n",
       "<!-- 3 -->\r\n",
       "<g id=\"node4\" class=\"node\"><title>3</title>\r\n",
       "<path fill=\"#39e581\" fill-opacity=\"0.929412\" stroke=\"black\" d=\"M206,-187C206,-187 73,-187 73,-187 67,-187 61,-181 61,-175 61,-175 61,-116 61,-116 61,-110 67,-104 73,-104 73,-104 206,-104 206,-104 212,-104 218,-110 218,-116 218,-116 218,-175 218,-175 218,-181 212,-187 206,-187\"/>\r\n",
       "<text text-anchor=\"start\" x=\"69\" y=\"-171.8\" font-family=\"Helvetica,sans-Serif\" font-size=\"14.00\">petal length (cm) ≤ 5.2</text>\r\n",
       "<text text-anchor=\"start\" x=\"102\" y=\"-156.8\" font-family=\"Helvetica,sans-Serif\" font-size=\"14.00\">gini = 0.124</text>\r\n",
       "<text text-anchor=\"start\" x=\"96\" y=\"-141.8\" font-family=\"Helvetica,sans-Serif\" font-size=\"14.00\">samples = 15</text>\r\n",
       "<text text-anchor=\"start\" x=\"87\" y=\"-126.8\" font-family=\"Helvetica,sans-Serif\" font-size=\"14.00\">value = [0, 14, 1]</text>\r\n",
       "<text text-anchor=\"start\" x=\"84\" y=\"-111.8\" font-family=\"Helvetica,sans-Serif\" font-size=\"14.00\">class = versicolor</text>\r\n",
       "</g>\r\n",
       "<!-- 2&#45;&gt;3 -->\r\n",
       "<g id=\"edge3\" class=\"edge\"><title>2&#45;&gt;3</title>\r\n",
       "<path fill=\"none\" stroke=\"black\" d=\"M191.091,-222.907C185.086,-214.014 178.669,-204.509 172.471,-195.331\"/>\r\n",
       "<polygon fill=\"black\" stroke=\"black\" points=\"175.357,-193.35 166.86,-187.021 169.556,-197.267 175.357,-193.35\"/>\r\n",
       "</g>\r\n",
       "<!-- 6 -->\r\n",
       "<g id=\"node7\" class=\"node\"><title>6</title>\r\n",
       "<path fill=\"#8139e5\" stroke=\"black\" d=\"M345,-179.5C345,-179.5 248,-179.5 248,-179.5 242,-179.5 236,-173.5 236,-167.5 236,-167.5 236,-123.5 236,-123.5 236,-117.5 242,-111.5 248,-111.5 248,-111.5 345,-111.5 345,-111.5 351,-111.5 357,-117.5 357,-123.5 357,-123.5 357,-167.5 357,-167.5 357,-173.5 351,-179.5 345,-179.5\"/>\r\n",
       "<text text-anchor=\"start\" x=\"267.5\" y=\"-164.3\" font-family=\"Helvetica,sans-Serif\" font-size=\"14.00\">gini = 0.0</text>\r\n",
       "<text text-anchor=\"start\" x=\"253\" y=\"-149.3\" font-family=\"Helvetica,sans-Serif\" font-size=\"14.00\">samples = 12</text>\r\n",
       "<text text-anchor=\"start\" x=\"244\" y=\"-134.3\" font-family=\"Helvetica,sans-Serif\" font-size=\"14.00\">value = [0, 0, 12]</text>\r\n",
       "<text text-anchor=\"start\" x=\"246.5\" y=\"-119.3\" font-family=\"Helvetica,sans-Serif\" font-size=\"14.00\">class = virginica</text>\r\n",
       "</g>\r\n",
       "<!-- 2&#45;&gt;6 -->\r\n",
       "<g id=\"edge6\" class=\"edge\"><title>2&#45;&gt;6</title>\r\n",
       "<path fill=\"none\" stroke=\"black\" d=\"M245.562,-222.907C253.065,-211.652 261.221,-199.418 268.763,-188.106\"/>\r\n",
       "<polygon fill=\"black\" stroke=\"black\" points=\"271.754,-189.929 274.389,-179.667 265.929,-186.046 271.754,-189.929\"/>\r\n",
       "</g>\r\n",
       "<!-- 4 -->\r\n",
       "<g id=\"node5\" class=\"node\"><title>4</title>\r\n",
       "<path fill=\"#39e581\" stroke=\"black\" d=\"M121,-68C121,-68 18,-68 18,-68 12,-68 6,-62 6,-56 6,-56 6,-12 6,-12 6,-6 12,-0 18,-0 18,-0 121,-0 121,-0 127,-0 133,-6 133,-12 133,-12 133,-56 133,-56 133,-62 127,-68 121,-68\"/>\r\n",
       "<text text-anchor=\"start\" x=\"40.5\" y=\"-52.8\" font-family=\"Helvetica,sans-Serif\" font-size=\"14.00\">gini = 0.0</text>\r\n",
       "<text text-anchor=\"start\" x=\"26\" y=\"-37.8\" font-family=\"Helvetica,sans-Serif\" font-size=\"14.00\">samples = 14</text>\r\n",
       "<text text-anchor=\"start\" x=\"17\" y=\"-22.8\" font-family=\"Helvetica,sans-Serif\" font-size=\"14.00\">value = [0, 14, 0]</text>\r\n",
       "<text text-anchor=\"start\" x=\"14\" y=\"-7.8\" font-family=\"Helvetica,sans-Serif\" font-size=\"14.00\">class = versicolor</text>\r\n",
       "</g>\r\n",
       "<!-- 3&#45;&gt;4 -->\r\n",
       "<g id=\"edge4\" class=\"edge\"><title>3&#45;&gt;4</title>\r\n",
       "<path fill=\"none\" stroke=\"black\" d=\"M113.435,-103.726C107.837,-94.9703 101.913,-85.7032 96.2886,-76.9051\"/>\r\n",
       "<polygon fill=\"black\" stroke=\"black\" points=\"99.1226,-74.8399 90.7874,-68.2996 93.2247,-78.6103 99.1226,-74.8399\"/>\r\n",
       "</g>\r\n",
       "<!-- 5 -->\r\n",
       "<g id=\"node6\" class=\"node\"><title>5</title>\r\n",
       "<path fill=\"#8139e5\" stroke=\"black\" d=\"M255.5,-68C255.5,-68 163.5,-68 163.5,-68 157.5,-68 151.5,-62 151.5,-56 151.5,-56 151.5,-12 151.5,-12 151.5,-6 157.5,-0 163.5,-0 163.5,-0 255.5,-0 255.5,-0 261.5,-0 267.5,-6 267.5,-12 267.5,-12 267.5,-56 267.5,-56 267.5,-62 261.5,-68 255.5,-68\"/>\r\n",
       "<text text-anchor=\"start\" x=\"180.5\" y=\"-52.8\" font-family=\"Helvetica,sans-Serif\" font-size=\"14.00\">gini = 0.0</text>\r\n",
       "<text text-anchor=\"start\" x=\"170\" y=\"-37.8\" font-family=\"Helvetica,sans-Serif\" font-size=\"14.00\">samples = 1</text>\r\n",
       "<text text-anchor=\"start\" x=\"161\" y=\"-22.8\" font-family=\"Helvetica,sans-Serif\" font-size=\"14.00\">value = [0, 0, 1]</text>\r\n",
       "<text text-anchor=\"start\" x=\"159.5\" y=\"-7.8\" font-family=\"Helvetica,sans-Serif\" font-size=\"14.00\">class = virginica</text>\r\n",
       "</g>\r\n",
       "<!-- 3&#45;&gt;5 -->\r\n",
       "<g id=\"edge5\" class=\"edge\"><title>3&#45;&gt;5</title>\r\n",
       "<path fill=\"none\" stroke=\"black\" d=\"M165.565,-103.726C171.163,-94.9703 177.087,-85.7032 182.711,-76.9051\"/>\r\n",
       "<polygon fill=\"black\" stroke=\"black\" points=\"185.775,-78.6103 188.213,-68.2996 179.877,-74.8399 185.775,-78.6103\"/>\r\n",
       "</g>\r\n",
       "</g>\r\n",
       "</svg>\r\n"
      ],
      "text/plain": [
       "<graphviz.files.Source at 0x53b8fd0>"
      ]
     },
     "execution_count": 59,
     "metadata": {},
     "output_type": "execute_result"
    }
   ],
   "source": [
    "model      = classifier.fit(X_test, y_test)\n",
    "\n",
    "import graphviz\n",
    "\n",
    "# export the dot data file into a variable\n",
    "dot_data = tree.export_graphviz(classifier, out_file=None,\n",
    "                                feature_names=iris.feature_names,  \n",
    "                                class_names=iris.target_names,  \n",
    "                                filled=True, rounded=True,  \n",
    "                                special_characters=True) \n",
    "\n",
    "# create the graph\n",
    "graph = graphviz.Source(dot_data) \n",
    "\n",
    "# and display the graph\n",
    "graph"
   ]
  },
  {
   "cell_type": "code",
   "execution_count": 93,
   "metadata": {},
   "outputs": [],
   "source": [
    "wine = datasets.load_breast_cancer()"
   ]
  },
  {
   "cell_type": "code",
   "execution_count": 80,
   "metadata": {},
   "outputs": [
    {
     "data": {
      "text/plain": [
       "array(['mean radius', 'mean texture', 'mean perimeter', 'mean area',\n",
       "       'mean smoothness', 'mean compactness', 'mean concavity',\n",
       "       'mean concave points', 'mean symmetry', 'mean fractal dimension',\n",
       "       'radius error', 'texture error', 'perimeter error', 'area error',\n",
       "       'smoothness error', 'compactness error', 'concavity error',\n",
       "       'concave points error', 'symmetry error',\n",
       "       'fractal dimension error', 'worst radius', 'worst texture',\n",
       "       'worst perimeter', 'worst area', 'worst smoothness',\n",
       "       'worst compactness', 'worst concavity', 'worst concave points',\n",
       "       'worst symmetry', 'worst fractal dimension'], dtype='<U23')"
      ]
     },
     "execution_count": 80,
     "metadata": {},
     "output_type": "execute_result"
    }
   ],
   "source": [
    "wine.feature_names"
   ]
  },
  {
   "cell_type": "code",
   "execution_count": 138,
   "metadata": {},
   "outputs": [],
   "source": [
    "from sklearn.model_selection import train_test_split\n",
    "from sklearn import tree\n",
    "\n",
    "X_train, X_test, y_train, y_test = train_test_split (wine.data, wine.target)\n",
    "\n",
    "training_score = []\n",
    "test_score     = []\n",
    "\n",
    "for i in range(1,20) :\n",
    "    classifier = tree.DecisionTreeClassifier(max_depth=i)\n",
    "    model      = classifier.fit(X_train, y_train)\n",
    "    training_score.append(model.score(X_train,y_train) )\n",
    "    test_score.append(model.score(X_test,y_test) )"
   ]
  },
  {
   "cell_type": "code",
   "execution_count": 135,
   "metadata": {},
   "outputs": [
    {
     "data": {
      "text/plain": [
       "<matplotlib.legend.Legend at 0x12358430>"
      ]
     },
     "execution_count": 135,
     "metadata": {},
     "output_type": "execute_result"
    },
    {
     "data": {
      "image/png": "[encoded data removed]",
      "text/plain": [
       "<Figure size 432x288 with 1 Axes>"
      ]
     },
     "metadata": {
      "needs_background": "light"
     },
     "output_type": "display_data"
    }
   ],
   "source": [
    "import matplotlib.pyplot as plt\n",
    "%matplotlib inline\n",
    "\n",
    "plt.scatter(list(range(1,20)), training_score, label=\"training scores\")\n",
    "plt.scatter(list(range(1,20)), test_score,label=\"test scores\")\n",
    "plt.legend()"
   ]
  },
  {
   "cell_type": "code",
   "execution_count": 151,
   "metadata": {},
   "outputs": [],
   "source": [
    "from sklearn.model_selection import train_test_split\n",
    "from sklearn import tree\n",
    "\n",
    "X_train, X_test, y_train, y_test = train_test_split (wine.data, wine.target)\n",
    "\n",
    "training_score = []\n",
    "test_score     = []\n",
    "\n",
    "for i in range(5,50) :\n",
    "    classifier = tree.DecisionTreeClassifier(min_samples_split=i)\n",
    "    model      = classifier.fit(X_train, y_train)\n",
    "    training_score.append(model.score(X_train,y_train) )\n",
    "    test_score.append(model.score(X_test,y_test) )"
   ]
  },
  {
   "cell_type": "code",
   "execution_count": 152,
   "metadata": {},
   "outputs": [
    {
     "data": {
      "text/plain": [
       "<matplotlib.legend.Legend at 0x12577f90>"
      ]
     },
     "execution_count": 152,
     "metadata": {},
     "output_type": "execute_result"
    },
    {
     "data": {
      "image/png": "[encoded data removed]",
      "text/plain": [
       "<Figure size 432x288 with 1 Axes>"
      ]
     },
     "metadata": {
      "needs_background": "light"
     },
     "output_type": "display_data"
    }
   ],
   "source": [
    "import matplotlib.pyplot as plt\n",
    "%matplotlib inline\n",
    "\n",
    "plt.scatter(list(range(5,50)), training_score, label=\"training scores\")\n",
    "plt.scatter(list(range(5,50)), test_score,label=\"test scores\")\n",
    "plt.legend()"
   ]
  },
  {
   "cell_type": "code",
   "execution_count": 113,
   "metadata": {},
   "outputs": [
    {
     "data": {
      "image/svg+xml": [
       "<?xml version=\"1.0\" encoding=\"UTF-8\" standalone=\"no\"?>\r\n",
       "<!DOCTYPE svg PUBLIC \"-//W3C//DTD SVG 1.1//EN\"\r\n",
       " \"http://www.w3.org/Graphics/SVG/1.1/DTD/svg11.dtd\">\r\n",
       "<!-- Generated by graphviz version 2.38.0 (20140413.2041)\r\n",
       " -->\r\n",
       "<!-- Title: Tree Pages: 1 -->\r\n",
       "<svg width=\"1073pt\" height=\"433pt\"\r\n",
       " viewBox=\"0.00 0.00 1073.00 433.00\" xmlns=\"http://www.w3.org/2000/svg\" xmlns:xlink=\"http://www.w3.org/1999/xlink\">\r\n",
       "<g id=\"graph0\" class=\"graph\" transform=\"scale(1 1) rotate(0) translate(4 429)\">\r\n",
       "<title>Tree</title>\r\n",
       "<polygon fill=\"white\" stroke=\"none\" points=\"-4,4 -4,-429 1069,-429 1069,4 -4,4\"/>\r\n",
       "<!-- 0 -->\r\n",
       "<g id=\"node1\" class=\"node\"><title>0</title>\r\n",
       "<path fill=\"#399de5\" fill-opacity=\"0.392157\" stroke=\"black\" d=\"M602,-425C602,-425 425,-425 425,-425 419,-425 413,-419 413,-413 413,-413 413,-354 413,-354 413,-348 419,-342 425,-342 425,-342 602,-342 602,-342 608,-342 614,-348 614,-354 614,-354 614,-413 614,-413 614,-419 608,-425 602,-425\"/>\r\n",
       "<text text-anchor=\"start\" x=\"421\" y=\"-409.8\" font-family=\"Helvetica,sans-Serif\" font-size=\"14.00\">worst concave points ≤ 0.142</text>\r\n",
       "<text text-anchor=\"start\" x=\"480\" y=\"-394.8\" font-family=\"Helvetica,sans-Serif\" font-size=\"14.00\">gini = 0.47</text>\r\n",
       "<text text-anchor=\"start\" x=\"466\" y=\"-379.8\" font-family=\"Helvetica,sans-Serif\" font-size=\"14.00\">samples = 426</text>\r\n",
       "<text text-anchor=\"start\" x=\"456.5\" y=\"-364.8\" font-family=\"Helvetica,sans-Serif\" font-size=\"14.00\">value = [161, 265]</text>\r\n",
       "<text text-anchor=\"start\" x=\"467.5\" y=\"-349.8\" font-family=\"Helvetica,sans-Serif\" font-size=\"14.00\">class = benign</text>\r\n",
       "</g>\r\n",
       "<!-- 1 -->\r\n",
       "<g id=\"node2\" class=\"node\"><title>1</title>\r\n",
       "<path fill=\"#399de5\" fill-opacity=\"0.901961\" stroke=\"black\" d=\"M485.5,-306C485.5,-306 357.5,-306 357.5,-306 351.5,-306 345.5,-300 345.5,-294 345.5,-294 345.5,-235 345.5,-235 345.5,-229 351.5,-223 357.5,-223 357.5,-223 485.5,-223 485.5,-223 491.5,-223 497.5,-229 497.5,-235 497.5,-235 497.5,-294 497.5,-294 497.5,-300 491.5,-306 485.5,-306\"/>\r\n",
       "<text text-anchor=\"start\" x=\"353.5\" y=\"-290.8\" font-family=\"Helvetica,sans-Serif\" font-size=\"14.00\">worst radius ≤ 16.805</text>\r\n",
       "<text text-anchor=\"start\" x=\"384\" y=\"-275.8\" font-family=\"Helvetica,sans-Serif\" font-size=\"14.00\">gini = 0.161</text>\r\n",
       "<text text-anchor=\"start\" x=\"374\" y=\"-260.8\" font-family=\"Helvetica,sans-Serif\" font-size=\"14.00\">samples = 284</text>\r\n",
       "<text text-anchor=\"start\" x=\"368.5\" y=\"-245.8\" font-family=\"Helvetica,sans-Serif\" font-size=\"14.00\">value = [25, 259]</text>\r\n",
       "<text text-anchor=\"start\" x=\"375.5\" y=\"-230.8\" font-family=\"Helvetica,sans-Serif\" font-size=\"14.00\">class = benign</text>\r\n",
       "</g>\r\n",
       "<!-- 0&#45;&gt;1 -->\r\n",
       "<g id=\"edge1\" class=\"edge\"><title>0&#45;&gt;1</title>\r\n",
       "<path fill=\"none\" stroke=\"black\" d=\"M481.581,-341.907C474.516,-332.923 466.961,-323.315 459.676,-314.05\"/>\r\n",
       "<polygon fill=\"black\" stroke=\"black\" points=\"462.295,-311.718 453.363,-306.021 456.792,-316.045 462.295,-311.718\"/>\r\n",
       "<text text-anchor=\"middle\" x=\"450.393\" y=\"-327.144\" font-family=\"Helvetica,sans-Serif\" font-size=\"14.00\">True</text>\r\n",
       "</g>\r\n",
       "<!-- 8 -->\r\n",
       "<g id=\"node9\" class=\"node\"><title>8</title>\r\n",
       "<path fill=\"#e58139\" fill-opacity=\"0.956863\" stroke=\"black\" d=\"M663.5,-306C663.5,-306 549.5,-306 549.5,-306 543.5,-306 537.5,-300 537.5,-294 537.5,-294 537.5,-235 537.5,-235 537.5,-229 543.5,-223 549.5,-223 549.5,-223 663.5,-223 663.5,-223 669.5,-223 675.5,-229 675.5,-235 675.5,-235 675.5,-294 675.5,-294 675.5,-300 669.5,-306 663.5,-306\"/>\r\n",
       "<text text-anchor=\"start\" x=\"545.5\" y=\"-290.8\" font-family=\"Helvetica,sans-Serif\" font-size=\"14.00\">area error ≤ 18.335</text>\r\n",
       "<text text-anchor=\"start\" x=\"569\" y=\"-275.8\" font-family=\"Helvetica,sans-Serif\" font-size=\"14.00\">gini = 0.081</text>\r\n",
       "<text text-anchor=\"start\" x=\"559\" y=\"-260.8\" font-family=\"Helvetica,sans-Serif\" font-size=\"14.00\">samples = 142</text>\r\n",
       "<text text-anchor=\"start\" x=\"558\" y=\"-245.8\" font-family=\"Helvetica,sans-Serif\" font-size=\"14.00\">value = [136, 6]</text>\r\n",
       "<text text-anchor=\"start\" x=\"552\" y=\"-230.8\" font-family=\"Helvetica,sans-Serif\" font-size=\"14.00\">class = malignant</text>\r\n",
       "</g>\r\n",
       "<!-- 0&#45;&gt;8 -->\r\n",
       "<g id=\"edge8\" class=\"edge\"><title>0&#45;&gt;8</title>\r\n",
       "<path fill=\"none\" stroke=\"black\" d=\"M545.766,-341.907C552.907,-332.923 560.544,-323.315 567.909,-314.05\"/>\r\n",
       "<polygon fill=\"black\" stroke=\"black\" points=\"570.809,-316.027 574.291,-306.021 565.329,-311.671 570.809,-316.027\"/>\r\n",
       "<text text-anchor=\"middle\" x=\"577.13\" y=\"-327.159\" font-family=\"Helvetica,sans-Serif\" font-size=\"14.00\">False</text>\r\n",
       "</g>\r\n",
       "<!-- 2 -->\r\n",
       "<g id=\"node3\" class=\"node\"><title>2</title>\r\n",
       "<path fill=\"#399de5\" fill-opacity=\"0.972549\" stroke=\"black\" d=\"M274,-187C274,-187 97,-187 97,-187 91,-187 85,-181 85,-175 85,-175 85,-116 85,-116 85,-110 91,-104 97,-104 97,-104 274,-104 274,-104 280,-104 286,-110 286,-116 286,-116 286,-175 286,-175 286,-181 280,-187 274,-187\"/>\r\n",
       "<text text-anchor=\"start\" x=\"93\" y=\"-171.8\" font-family=\"Helvetica,sans-Serif\" font-size=\"14.00\">worst concave points ≤ 0.136</text>\r\n",
       "<text text-anchor=\"start\" x=\"148\" y=\"-156.8\" font-family=\"Helvetica,sans-Serif\" font-size=\"14.00\">gini = 0.053</text>\r\n",
       "<text text-anchor=\"start\" x=\"138\" y=\"-141.8\" font-family=\"Helvetica,sans-Serif\" font-size=\"14.00\">samples = 259</text>\r\n",
       "<text text-anchor=\"start\" x=\"137\" y=\"-126.8\" font-family=\"Helvetica,sans-Serif\" font-size=\"14.00\">value = [7, 252]</text>\r\n",
       "<text text-anchor=\"start\" x=\"139.5\" y=\"-111.8\" font-family=\"Helvetica,sans-Serif\" font-size=\"14.00\">class = benign</text>\r\n",
       "</g>\r\n",
       "<!-- 1&#45;&gt;2 -->\r\n",
       "<g id=\"edge2\" class=\"edge\"><title>1&#45;&gt;2</title>\r\n",
       "<path fill=\"none\" stroke=\"black\" d=\"M345.203,-225.675C323.209,-214.771 298.997,-202.767 276.219,-191.475\"/>\r\n",
       "<polygon fill=\"black\" stroke=\"black\" points=\"277.746,-188.326 267.232,-187.02 274.637,-194.597 277.746,-188.326\"/>\r\n",
       "</g>\r\n",
       "<!-- 5 -->\r\n",
       "<g id=\"node6\" class=\"node\"><title>5</title>\r\n",
       "<path fill=\"#e58139\" fill-opacity=\"0.611765\" stroke=\"black\" d=\"M484,-187C484,-187 359,-187 359,-187 353,-187 347,-181 347,-175 347,-175 347,-116 347,-116 347,-110 353,-104 359,-104 359,-104 484,-104 484,-104 490,-104 496,-110 496,-116 496,-116 496,-175 496,-175 496,-181 490,-187 484,-187\"/>\r\n",
       "<text text-anchor=\"start\" x=\"355\" y=\"-171.8\" font-family=\"Helvetica,sans-Serif\" font-size=\"14.00\">worst texture ≤ 21.94</text>\r\n",
       "<text text-anchor=\"start\" x=\"384\" y=\"-156.8\" font-family=\"Helvetica,sans-Serif\" font-size=\"14.00\">gini = 0.403</text>\r\n",
       "<text text-anchor=\"start\" x=\"378\" y=\"-141.8\" font-family=\"Helvetica,sans-Serif\" font-size=\"14.00\">samples = 25</text>\r\n",
       "<text text-anchor=\"start\" x=\"377\" y=\"-126.8\" font-family=\"Helvetica,sans-Serif\" font-size=\"14.00\">value = [18, 7]</text>\r\n",
       "<text text-anchor=\"start\" x=\"367\" y=\"-111.8\" font-family=\"Helvetica,sans-Serif\" font-size=\"14.00\">class = malignant</text>\r\n",
       "</g>\r\n",
       "<!-- 1&#45;&gt;5 -->\r\n",
       "<g id=\"edge5\" class=\"edge\"><title>1&#45;&gt;5</title>\r\n",
       "<path fill=\"none\" stroke=\"black\" d=\"M421.5,-222.907C421.5,-214.649 421.5,-205.864 421.5,-197.302\"/>\r\n",
       "<polygon fill=\"black\" stroke=\"black\" points=\"425,-197.021 421.5,-187.021 418,-197.021 425,-197.021\"/>\r\n",
       "</g>\r\n",
       "<!-- 3 -->\r\n",
       "<g id=\"node4\" class=\"node\"><title>3</title>\r\n",
       "<path fill=\"#399de5\" fill-opacity=\"0.988235\" stroke=\"black\" d=\"M101,-68C101,-68 12,-68 12,-68 6,-68 0,-62 0,-56 0,-56 0,-12 0,-12 0,-6 6,-0 12,-0 12,-0 101,-0 101,-0 107,-0 113,-6 113,-12 113,-12 113,-56 113,-56 113,-62 107,-68 101,-68\"/>\r\n",
       "<text text-anchor=\"start\" x=\"19\" y=\"-52.8\" font-family=\"Helvetica,sans-Serif\" font-size=\"14.00\">gini = 0.024</text>\r\n",
       "<text text-anchor=\"start\" x=\"9\" y=\"-37.8\" font-family=\"Helvetica,sans-Serif\" font-size=\"14.00\">samples = 250</text>\r\n",
       "<text text-anchor=\"start\" x=\"8\" y=\"-22.8\" font-family=\"Helvetica,sans-Serif\" font-size=\"14.00\">value = [3, 247]</text>\r\n",
       "<text text-anchor=\"start\" x=\"10.5\" y=\"-7.8\" font-family=\"Helvetica,sans-Serif\" font-size=\"14.00\">class = benign</text>\r\n",
       "</g>\r\n",
       "<!-- 2&#45;&gt;3 -->\r\n",
       "<g id=\"edge3\" class=\"edge\"><title>2&#45;&gt;3</title>\r\n",
       "<path fill=\"none\" stroke=\"black\" d=\"M137.465,-103.726C126.398,-94.3318 114.637,-84.349 103.61,-74.9883\"/>\r\n",
       "<polygon fill=\"black\" stroke=\"black\" points=\"105.618,-72.1026 95.7297,-68.2996 101.088,-77.4393 105.618,-72.1026\"/>\r\n",
       "</g>\r\n",
       "<!-- 4 -->\r\n",
       "<g id=\"node5\" class=\"node\"><title>4</title>\r\n",
       "<path fill=\"#399de5\" fill-opacity=\"0.200000\" stroke=\"black\" d=\"M227.5,-68C227.5,-68 143.5,-68 143.5,-68 137.5,-68 131.5,-62 131.5,-56 131.5,-56 131.5,-12 131.5,-12 131.5,-6 137.5,-0 143.5,-0 143.5,-0 227.5,-0 227.5,-0 233.5,-0 239.5,-6 239.5,-12 239.5,-12 239.5,-56 239.5,-56 239.5,-62 233.5,-68 227.5,-68\"/>\r\n",
       "<text text-anchor=\"start\" x=\"148\" y=\"-52.8\" font-family=\"Helvetica,sans-Serif\" font-size=\"14.00\">gini = 0.494</text>\r\n",
       "<text text-anchor=\"start\" x=\"146\" y=\"-37.8\" font-family=\"Helvetica,sans-Serif\" font-size=\"14.00\">samples = 9</text>\r\n",
       "<text text-anchor=\"start\" x=\"145\" y=\"-22.8\" font-family=\"Helvetica,sans-Serif\" font-size=\"14.00\">value = [4, 5]</text>\r\n",
       "<text text-anchor=\"start\" x=\"139.5\" y=\"-7.8\" font-family=\"Helvetica,sans-Serif\" font-size=\"14.00\">class = benign</text>\r\n",
       "</g>\r\n",
       "<!-- 2&#45;&gt;4 -->\r\n",
       "<g id=\"edge4\" class=\"edge\"><title>2&#45;&gt;4</title>\r\n",
       "<path fill=\"none\" stroke=\"black\" d=\"M185.5,-103.726C185.5,-95.5175 185.5,-86.8595 185.5,-78.56\"/>\r\n",
       "<polygon fill=\"black\" stroke=\"black\" points=\"189,-78.2996 185.5,-68.2996 182,-78.2996 189,-78.2996\"/>\r\n",
       "</g>\r\n",
       "<!-- 6 -->\r\n",
       "<g id=\"node7\" class=\"node\"><title>6</title>\r\n",
       "<path fill=\"#399de5\" stroke=\"black\" d=\"M353.5,-68C353.5,-68 269.5,-68 269.5,-68 263.5,-68 257.5,-62 257.5,-56 257.5,-56 257.5,-12 257.5,-12 257.5,-6 263.5,-0 269.5,-0 269.5,-0 353.5,-0 353.5,-0 359.5,-0 365.5,-6 365.5,-12 365.5,-12 365.5,-56 365.5,-56 365.5,-62 359.5,-68 353.5,-68\"/>\r\n",
       "<text text-anchor=\"start\" x=\"282.5\" y=\"-52.8\" font-family=\"Helvetica,sans-Serif\" font-size=\"14.00\">gini = 0.0</text>\r\n",
       "<text text-anchor=\"start\" x=\"272\" y=\"-37.8\" font-family=\"Helvetica,sans-Serif\" font-size=\"14.00\">samples = 6</text>\r\n",
       "<text text-anchor=\"start\" x=\"271\" y=\"-22.8\" font-family=\"Helvetica,sans-Serif\" font-size=\"14.00\">value = [0, 6]</text>\r\n",
       "<text text-anchor=\"start\" x=\"265.5\" y=\"-7.8\" font-family=\"Helvetica,sans-Serif\" font-size=\"14.00\">class = benign</text>\r\n",
       "</g>\r\n",
       "<!-- 5&#45;&gt;6 -->\r\n",
       "<g id=\"edge6\" class=\"edge\"><title>5&#45;&gt;6</title>\r\n",
       "<path fill=\"none\" stroke=\"black\" d=\"M380.54,-103.726C371.286,-94.5142 361.464,-84.7364 352.219,-75.5343\"/>\r\n",
       "<polygon fill=\"black\" stroke=\"black\" points=\"354.508,-72.8741 344.952,-68.2996 349.57,-77.8351 354.508,-72.8741\"/>\r\n",
       "</g>\r\n",
       "<!-- 7 -->\r\n",
       "<g id=\"node8\" class=\"node\"><title>7</title>\r\n",
       "<path fill=\"#e58139\" fill-opacity=\"0.945098\" stroke=\"black\" d=\"M497,-68C497,-68 396,-68 396,-68 390,-68 384,-62 384,-56 384,-56 384,-12 384,-12 384,-6 390,-0 396,-0 396,-0 497,-0 497,-0 503,-0 509,-6 509,-12 509,-12 509,-56 509,-56 509,-62 503,-68 497,-68\"/>\r\n",
       "<text text-anchor=\"start\" x=\"417.5\" y=\"-52.8\" font-family=\"Helvetica,sans-Serif\" font-size=\"14.00\">gini = 0.1</text>\r\n",
       "<text text-anchor=\"start\" x=\"403\" y=\"-37.8\" font-family=\"Helvetica,sans-Serif\" font-size=\"14.00\">samples = 19</text>\r\n",
       "<text text-anchor=\"start\" x=\"402\" y=\"-22.8\" font-family=\"Helvetica,sans-Serif\" font-size=\"14.00\">value = [18, 1]</text>\r\n",
       "<text text-anchor=\"start\" x=\"392\" y=\"-7.8\" font-family=\"Helvetica,sans-Serif\" font-size=\"14.00\">class = malignant</text>\r\n",
       "</g>\r\n",
       "<!-- 5&#45;&gt;7 -->\r\n",
       "<g id=\"edge7\" class=\"edge\"><title>5&#45;&gt;7</title>\r\n",
       "<path fill=\"none\" stroke=\"black\" d=\"M430.809,-103.726C432.704,-95.4263 434.704,-86.6671 436.618,-78.2834\"/>\r\n",
       "<polygon fill=\"black\" stroke=\"black\" points=\"440.084,-78.8278 438.897,-68.2996 433.259,-77.2697 440.084,-78.8278\"/>\r\n",
       "</g>\r\n",
       "<!-- 9 -->\r\n",
       "<g id=\"node10\" class=\"node\"><title>9</title>\r\n",
       "<path fill=\"#399de5\" fill-opacity=\"0.400000\" stroke=\"black\" d=\"M669,-187C669,-187 544,-187 544,-187 538,-187 532,-181 532,-175 532,-175 532,-116 532,-116 532,-110 538,-104 544,-104 544,-104 669,-104 669,-104 675,-104 681,-110 681,-116 681,-116 681,-175 681,-175 681,-181 675,-187 669,-187\"/>\r\n",
       "<text text-anchor=\"start\" x=\"540\" y=\"-171.8\" font-family=\"Helvetica,sans-Serif\" font-size=\"14.00\">worst texture ≤ 28.38</text>\r\n",
       "<text text-anchor=\"start\" x=\"569\" y=\"-156.8\" font-family=\"Helvetica,sans-Serif\" font-size=\"14.00\">gini = 0.469</text>\r\n",
       "<text text-anchor=\"start\" x=\"567\" y=\"-141.8\" font-family=\"Helvetica,sans-Serif\" font-size=\"14.00\">samples = 8</text>\r\n",
       "<text text-anchor=\"start\" x=\"566\" y=\"-126.8\" font-family=\"Helvetica,sans-Serif\" font-size=\"14.00\">value = [3, 5]</text>\r\n",
       "<text text-anchor=\"start\" x=\"560.5\" y=\"-111.8\" font-family=\"Helvetica,sans-Serif\" font-size=\"14.00\">class = benign</text>\r\n",
       "</g>\r\n",
       "<!-- 8&#45;&gt;9 -->\r\n",
       "<g id=\"edge9\" class=\"edge\"><title>8&#45;&gt;9</title>\r\n",
       "<path fill=\"none\" stroke=\"black\" d=\"M606.5,-222.907C606.5,-214.649 606.5,-205.864 606.5,-197.302\"/>\r\n",
       "<polygon fill=\"black\" stroke=\"black\" points=\"610,-197.021 606.5,-187.021 603,-197.021 610,-197.021\"/>\r\n",
       "</g>\r\n",
       "<!-- 12 -->\r\n",
       "<g id=\"node13\" class=\"node\"><title>12</title>\r\n",
       "<path fill=\"#e58139\" fill-opacity=\"0.992157\" stroke=\"black\" d=\"M930.5,-187C930.5,-187 788.5,-187 788.5,-187 782.5,-187 776.5,-181 776.5,-175 776.5,-175 776.5,-116 776.5,-116 776.5,-110 782.5,-104 788.5,-104 788.5,-104 930.5,-104 930.5,-104 936.5,-104 942.5,-110 942.5,-116 942.5,-116 942.5,-175 942.5,-175 942.5,-181 936.5,-187 930.5,-187\"/>\r\n",
       "<text text-anchor=\"start\" x=\"784.5\" y=\"-171.8\" font-family=\"Helvetica,sans-Serif\" font-size=\"14.00\">mean concavity ≤ 0.086</text>\r\n",
       "<text text-anchor=\"start\" x=\"822\" y=\"-156.8\" font-family=\"Helvetica,sans-Serif\" font-size=\"14.00\">gini = 0.015</text>\r\n",
       "<text text-anchor=\"start\" x=\"812\" y=\"-141.8\" font-family=\"Helvetica,sans-Serif\" font-size=\"14.00\">samples = 134</text>\r\n",
       "<text text-anchor=\"start\" x=\"811\" y=\"-126.8\" font-family=\"Helvetica,sans-Serif\" font-size=\"14.00\">value = [133, 1]</text>\r\n",
       "<text text-anchor=\"start\" x=\"805\" y=\"-111.8\" font-family=\"Helvetica,sans-Serif\" font-size=\"14.00\">class = malignant</text>\r\n",
       "</g>\r\n",
       "<!-- 8&#45;&gt;12 -->\r\n",
       "<g id=\"edge12\" class=\"edge\"><title>8&#45;&gt;12</title>\r\n",
       "<path fill=\"none\" stroke=\"black\" d=\"M675.633,-231.529C703.742,-218.53 736.646,-203.314 766.788,-189.375\"/>\r\n",
       "<polygon fill=\"black\" stroke=\"black\" points=\"768.438,-192.468 776.045,-185.094 765.499,-186.115 768.438,-192.468\"/>\r\n",
       "</g>\r\n",
       "<!-- 10 -->\r\n",
       "<g id=\"node11\" class=\"node\"><title>10</title>\r\n",
       "<path fill=\"#399de5\" stroke=\"black\" d=\"M623.5,-68C623.5,-68 539.5,-68 539.5,-68 533.5,-68 527.5,-62 527.5,-56 527.5,-56 527.5,-12 527.5,-12 527.5,-6 533.5,-0 539.5,-0 539.5,-0 623.5,-0 623.5,-0 629.5,-0 635.5,-6 635.5,-12 635.5,-12 635.5,-56 635.5,-56 635.5,-62 629.5,-68 623.5,-68\"/>\r\n",
       "<text text-anchor=\"start\" x=\"552.5\" y=\"-52.8\" font-family=\"Helvetica,sans-Serif\" font-size=\"14.00\">gini = 0.0</text>\r\n",
       "<text text-anchor=\"start\" x=\"542\" y=\"-37.8\" font-family=\"Helvetica,sans-Serif\" font-size=\"14.00\">samples = 5</text>\r\n",
       "<text text-anchor=\"start\" x=\"541\" y=\"-22.8\" font-family=\"Helvetica,sans-Serif\" font-size=\"14.00\">value = [0, 5]</text>\r\n",
       "<text text-anchor=\"start\" x=\"535.5\" y=\"-7.8\" font-family=\"Helvetica,sans-Serif\" font-size=\"14.00\">class = benign</text>\r\n",
       "</g>\r\n",
       "<!-- 9&#45;&gt;10 -->\r\n",
       "<g id=\"edge10\" class=\"edge\"><title>9&#45;&gt;10</title>\r\n",
       "<path fill=\"none\" stroke=\"black\" d=\"M597.191,-103.726C595.296,-95.4263 593.296,-86.6671 591.382,-78.2834\"/>\r\n",
       "<polygon fill=\"black\" stroke=\"black\" points=\"594.741,-77.2697 589.103,-68.2996 587.916,-78.8278 594.741,-77.2697\"/>\r\n",
       "</g>\r\n",
       "<!-- 11 -->\r\n",
       "<g id=\"node12\" class=\"node\"><title>11</title>\r\n",
       "<path fill=\"#e58139\" stroke=\"black\" d=\"M767,-68C767,-68 666,-68 666,-68 660,-68 654,-62 654,-56 654,-56 654,-12 654,-12 654,-6 660,-0 666,-0 666,-0 767,-0 767,-0 773,-0 779,-6 779,-12 779,-12 779,-56 779,-56 779,-62 773,-68 767,-68\"/>\r\n",
       "<text text-anchor=\"start\" x=\"687.5\" y=\"-52.8\" font-family=\"Helvetica,sans-Serif\" font-size=\"14.00\">gini = 0.0</text>\r\n",
       "<text text-anchor=\"start\" x=\"677\" y=\"-37.8\" font-family=\"Helvetica,sans-Serif\" font-size=\"14.00\">samples = 3</text>\r\n",
       "<text text-anchor=\"start\" x=\"676\" y=\"-22.8\" font-family=\"Helvetica,sans-Serif\" font-size=\"14.00\">value = [3, 0]</text>\r\n",
       "<text text-anchor=\"start\" x=\"662\" y=\"-7.8\" font-family=\"Helvetica,sans-Serif\" font-size=\"14.00\">class = malignant</text>\r\n",
       "</g>\r\n",
       "<!-- 9&#45;&gt;11 -->\r\n",
       "<g id=\"edge11\" class=\"edge\"><title>9&#45;&gt;11</title>\r\n",
       "<path fill=\"none\" stroke=\"black\" d=\"M647.46,-103.726C656.714,-94.5142 666.536,-84.7364 675.781,-75.5343\"/>\r\n",
       "<polygon fill=\"black\" stroke=\"black\" points=\"678.43,-77.8351 683.048,-68.2996 673.492,-72.8741 678.43,-77.8351\"/>\r\n",
       "</g>\r\n",
       "<!-- 13 -->\r\n",
       "<g id=\"node14\" class=\"node\"><title>13</title>\r\n",
       "<path fill=\"#e58139\" fill-opacity=\"0.666667\" stroke=\"black\" d=\"M910,-68C910,-68 809,-68 809,-68 803,-68 797,-62 797,-56 797,-56 797,-12 797,-12 797,-6 803,-0 809,-0 809,-0 910,-0 910,-0 916,-0 922,-6 922,-12 922,-12 922,-56 922,-56 922,-62 916,-68 910,-68\"/>\r\n",
       "<text text-anchor=\"start\" x=\"822\" y=\"-52.8\" font-family=\"Helvetica,sans-Serif\" font-size=\"14.00\">gini = 0.375</text>\r\n",
       "<text text-anchor=\"start\" x=\"820\" y=\"-37.8\" font-family=\"Helvetica,sans-Serif\" font-size=\"14.00\">samples = 4</text>\r\n",
       "<text text-anchor=\"start\" x=\"819\" y=\"-22.8\" font-family=\"Helvetica,sans-Serif\" font-size=\"14.00\">value = [3, 1]</text>\r\n",
       "<text text-anchor=\"start\" x=\"805\" y=\"-7.8\" font-family=\"Helvetica,sans-Serif\" font-size=\"14.00\">class = malignant</text>\r\n",
       "</g>\r\n",
       "<!-- 12&#45;&gt;13 -->\r\n",
       "<g id=\"edge13\" class=\"edge\"><title>12&#45;&gt;13</title>\r\n",
       "<path fill=\"none\" stroke=\"black\" d=\"M859.5,-103.726C859.5,-95.5175 859.5,-86.8595 859.5,-78.56\"/>\r\n",
       "<polygon fill=\"black\" stroke=\"black\" points=\"863,-78.2996 859.5,-68.2996 856,-78.2996 863,-78.2996\"/>\r\n",
       "</g>\r\n",
       "<!-- 14 -->\r\n",
       "<g id=\"node15\" class=\"node\"><title>14</title>\r\n",
       "<path fill=\"#e58139\" stroke=\"black\" d=\"M1053,-68C1053,-68 952,-68 952,-68 946,-68 940,-62 940,-56 940,-56 940,-12 940,-12 940,-6 946,-0 952,-0 952,-0 1053,-0 1053,-0 1059,-0 1065,-6 1065,-12 1065,-12 1065,-56 1065,-56 1065,-62 1059,-68 1053,-68\"/>\r\n",
       "<text text-anchor=\"start\" x=\"973.5\" y=\"-52.8\" font-family=\"Helvetica,sans-Serif\" font-size=\"14.00\">gini = 0.0</text>\r\n",
       "<text text-anchor=\"start\" x=\"955\" y=\"-37.8\" font-family=\"Helvetica,sans-Serif\" font-size=\"14.00\">samples = 130</text>\r\n",
       "<text text-anchor=\"start\" x=\"954\" y=\"-22.8\" font-family=\"Helvetica,sans-Serif\" font-size=\"14.00\">value = [130, 0]</text>\r\n",
       "<text text-anchor=\"start\" x=\"948\" y=\"-7.8\" font-family=\"Helvetica,sans-Serif\" font-size=\"14.00\">class = malignant</text>\r\n",
       "</g>\r\n",
       "<!-- 12&#45;&gt;14 -->\r\n",
       "<g id=\"edge14\" class=\"edge\"><title>12&#45;&gt;14</title>\r\n",
       "<path fill=\"none\" stroke=\"black\" d=\"M912.748,-103.726C925.255,-94.1494 938.56,-83.9611 950.989,-74.4438\"/>\r\n",
       "<polygon fill=\"black\" stroke=\"black\" points=\"953.201,-77.1582 959.013,-68.2996 948.945,-71.6004 953.201,-77.1582\"/>\r\n",
       "</g>\r\n",
       "</g>\r\n",
       "</svg>\r\n"
      ],
      "text/plain": [
       "<graphviz.files.Source at 0x53cf3b0>"
      ]
     },
     "execution_count": 113,
     "metadata": {},
     "output_type": "execute_result"
    }
   ],
   "source": [
    "import graphviz\n",
    "\n",
    "# export the dot data file into a variable\n",
    "dot_data = tree.export_graphviz(classifier, out_file=None,\n",
    "                                feature_names=wine.feature_names,  \n",
    "                                class_names=wine.target_names,  \n",
    "                                filled=True, rounded=True,  \n",
    "                                special_characters=True) \n",
    "\n",
    "# create the graph\n",
    "graph = graphviz.Source(dot_data) \n",
    "\n",
    "# and display the graph\n",
    "graph"
   ]
  },
  {
   "cell_type": "code",
   "execution_count": 90,
   "metadata": {},
   "outputs": [
    {
     "data": {
      "text/plain": [
       "array([0.91304348, 0.91304348, 0.92920354, 0.94690265, 0.90265487])"
      ]
     },
     "execution_count": 90,
     "metadata": {},
     "output_type": "execute_result"
    }
   ],
   "source": [
    "from sklearn.model_selection import train_test_split\n",
    "from sklearn.model_selection import cross_val_score\n",
    "from sklearn import tree\n",
    "\n",
    "iris = datasets.load_breast_cancer()\n",
    "\n",
    "classifier = tree.DecisionTreeClassifier()\n",
    "scores = cross_val_score(classifier, iris.data, iris.target, cv=5)\n",
    "scores"
   ]
  },
  {
   "cell_type": "code",
   "execution_count": null,
   "metadata": {},
   "outputs": [],
   "source": []
  }
 ],
 "metadata": {
  "kernelspec": {
   "display_name": "Python 3",
   "language": "python",
   "name": "python3"
  },
  "language_info": {
   "codemirror_mode": {
    "name": "ipython",
    "version": 3
   },
   "file_extension": ".py",
   "mimetype": "text/x-python",
   "name": "python",
   "nbconvert_exporter": "python",
   "pygments_lexer": "ipython3",
   "version": "3.7.3"
  }
 },
 "nbformat": 4,
 "nbformat_minor": 2
}
